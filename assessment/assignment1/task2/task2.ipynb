{
  "nbformat": 4,
  "nbformat_minor": 0,
  "metadata": {
    "kernelspec": {
      "name": "python3",
      "display_name": "Python 3"
    },
    "language_info": {
      "codemirror_mode": {
        "name": "ipython",
        "version": 3
      },
      "file_extension": ".py",
      "mimetype": "text/x-python",
      "name": "python",
      "nbconvert_exporter": "python",
      "pygments_lexer": "ipython3",
      "version": "3.8.0"
    },
    "colab": {
      "name": "task2.ipynb",
      "provenance": []
    },
    "accelerator": "GPU"
  },
  "cells": [
    {
      "cell_type": "markdown",
      "metadata": {
        "id": "N2D3H-SwWM3H",
        "colab_type": "text"
      },
      "source": [
        "# Task 2 - LSTM for time series classification"
      ]
    },
    {
      "cell_type": "code",
      "metadata": {
        "id": "NnOFWmBtWM3J",
        "colab_type": "code",
        "colab": {}
      },
      "source": [
        "import numpy as np\n",
        "import pandas as pd\n",
        "import re\n",
        "import os\n",
        "\n",
        "from google.colab import files\n",
        "\n",
        "import matplotlib.pyplot as plt\n",
        "import seaborn as sns\n"
      ],
      "execution_count": 0,
      "outputs": []
    },
    {
      "cell_type": "code",
      "metadata": {
        "id": "cANWqWj6WM3P",
        "colab_type": "code",
        "colab": {}
      },
      "source": [
        "sns.set_style(\"darkgrid\")\n",
        "sns.set(font_scale=1.3)"
      ],
      "execution_count": 0,
      "outputs": []
    },
    {
      "cell_type": "code",
      "metadata": {
        "id": "9Fc2ziIjOcc-",
        "colab_type": "code",
        "colab": {
          "base_uri": "https://localhost:8080/",
          "height": 101
        },
        "outputId": "901e48b5-b787-4b4c-e2d7-14f4a874aa90"
      },
      "source": [
        "# GPU\n",
        "!ln -sf /opt/bin/nvidia-smi /usr/bin/nvidia-smi\n",
        "!pip install gputil\n",
        "!pip install psutil\n",
        "!pip install humanize\n",
        "import psutil\n",
        "import humanize\n",
        "import os\n",
        "import GPUtil as GPU\n",
        "GPUs = GPU.getGPUs()\n",
        "# XXX: only one GPU on Colab and isn’t guaranteed\n",
        "gpu = GPUs[0]\n",
        "def printm():\n",
        " process = psutil.Process(os.getpid())\n",
        " print(\"Gen RAM Free: \" + humanize.naturalsize( psutil.virtual_memory().available ), \" | Proc size: \" + humanize.naturalsize( process.memory_info().rss))\n",
        " print(\"GPU RAM Free: {0:.0f}MB | Used: {1:.0f}MB | Util {2:3.0f}% | Total {3:.0f}MB\".format(gpu.memoryFree, gpu.memoryUsed, gpu.memoryUtil*100, gpu.memoryTotal))\n",
        "printm() "
      ],
      "execution_count": 47,
      "outputs": [
        {
          "output_type": "stream",
          "text": [
            "Requirement already satisfied: gputil in /usr/local/lib/python3.6/dist-packages (1.4.0)\n",
            "Requirement already satisfied: psutil in /usr/local/lib/python3.6/dist-packages (5.4.8)\n",
            "Requirement already satisfied: humanize in /usr/local/lib/python3.6/dist-packages (0.5.1)\n",
            "Gen RAM Free: 12.6 GB  | Proc size: 485.7 MB\n",
            "GPU RAM Free: 16280MB | Used: 0MB | Util   0% | Total 16280MB\n"
          ],
          "name": "stdout"
        }
      ]
    },
    {
      "cell_type": "markdown",
      "metadata": {
        "id": "q8KW2n2yWM3U",
        "colab_type": "text"
      },
      "source": [
        "## Data import & EDA"
      ]
    },
    {
      "cell_type": "code",
      "metadata": {
        "id": "ucgbTG79WvHm",
        "colab_type": "code",
        "colab": {
          "resources": {
            "http://localhost:8080/nbextensions/google.colab/files.js": {
              "data": "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",
              "ok": true,
              "headers": [
                [
                  "content-type",
                  "application/javascript"
                ]
              ],
              "status": 200,
              "status_text": ""
            }
          },
          "base_uri": "https://localhost:8080/",
          "height": 58
        },
        "outputId": "10686511-3362-4a64-d1cc-f3e0bae63e81"
      },
      "source": [
        "files.upload()"
      ],
      "execution_count": 48,
      "outputs": [
        {
          "output_type": "display_data",
          "data": {
            "text/html": [
              "\n",
              "     <input type=\"file\" id=\"files-76b0dfd0-dec2-46b8-8f1a-d900fb99e3f7\" name=\"files[]\" multiple disabled />\n",
              "     <output id=\"result-76b0dfd0-dec2-46b8-8f1a-d900fb99e3f7\">\n",
              "      Upload widget is only available when the cell has been executed in the\n",
              "      current browser session. Please rerun this cell to enable.\n",
              "      </output>\n",
              "      <script src=\"/nbextensions/google.colab/files.js\"></script> "
            ],
            "text/plain": [
              "<IPython.core.display.HTML object>"
            ]
          },
          "metadata": {
            "tags": []
          }
        },
        {
          "output_type": "execute_result",
          "data": {
            "text/plain": [
              "{}"
            ]
          },
          "metadata": {
            "tags": []
          },
          "execution_count": 48
        }
      ]
    },
    {
      "cell_type": "code",
      "metadata": {
        "id": "X59at-mVWM3V",
        "colab_type": "code",
        "colab": {
          "base_uri": "https://localhost:8080/",
          "height": 34
        },
        "outputId": "3fbf0d94-8859-4109-d0c5-c4405f51f48b"
      },
      "source": [
        "FILE_NAME_PREFIX = 'Ambient_Living_'\n",
        "data_file_pattern = FILE_NAME_PREFIX + r'(?P<seq_id>\\d+).csv'\n",
        "data_files = list(filter(lambda s: re.match(data_file_pattern, s) is not None, os.listdir()))\n",
        "N_FILES = len(data_files)\n",
        "N_FILES"
      ],
      "execution_count": 49,
      "outputs": [
        {
          "output_type": "execute_result",
          "data": {
            "text/plain": [
              "15"
            ]
          },
          "metadata": {
            "tags": []
          },
          "execution_count": 49
        }
      ]
    },
    {
      "cell_type": "code",
      "metadata": {
        "id": "Ky8cJhCoHRzE",
        "colab_type": "code",
        "colab": {
          "base_uri": "https://localhost:8080/",
          "height": 34
        },
        "outputId": "e4e08ac4-f5f1-48ae-c16e-251d428f2c88"
      },
      "source": [
        "seq_ids = sorted(int(re.match(data_file_pattern, file_name).group('seq_id')) for file_name in data_files)\n",
        "print(seq_ids)"
      ],
      "execution_count": 50,
      "outputs": [
        {
          "output_type": "stream",
          "text": [
            "[202, 203, 204, 205, 206, 207, 208, 209, 210, 211, 212, 213, 214, 215, 216]\n"
          ],
          "name": "stdout"
        }
      ]
    },
    {
      "cell_type": "code",
      "metadata": {
        "id": "ecCm9migWM3c",
        "colab_type": "code",
        "colab": {}
      },
      "source": [
        "def load_file(file_code, strip=False):\n",
        "    df = pd.read_csv(f'{FILE_NAME_PREFIX}{file_code}.csv')\n",
        "    \n",
        "    if strip:\n",
        "        df.columns = [c.strip() for c in df.columns]\n",
        "    \n",
        "    return df"
      ],
      "execution_count": 0,
      "outputs": []
    },
    {
      "cell_type": "markdown",
      "metadata": {
        "id": "FjAa-HKuWM3f",
        "colab_type": "text"
      },
      "source": [
        "### Data example"
      ]
    },
    {
      "cell_type": "code",
      "metadata": {
        "id": "fW5kqtv4WM3f",
        "colab_type": "code",
        "colab": {
          "base_uri": "https://localhost:8080/",
          "height": 195
        },
        "outputId": "8e405e81-167d-4042-8b3a-f184e5991be2"
      },
      "source": [
        "seq_id = seq_ids[0]\n",
        "data_example = load_file(seq_id)\n",
        "data_example.head()"
      ],
      "execution_count": 52,
      "outputs": [
        {
          "output_type": "execute_result",
          "data": {
            "text/html": [
              "<div>\n",
              "<style scoped>\n",
              "    .dataframe tbody tr th:only-of-type {\n",
              "        vertical-align: middle;\n",
              "    }\n",
              "\n",
              "    .dataframe tbody tr th {\n",
              "        vertical-align: top;\n",
              "    }\n",
              "\n",
              "    .dataframe thead th {\n",
              "        text-align: right;\n",
              "    }\n",
              "</style>\n",
              "<table border=\"1\" class=\"dataframe\">\n",
              "  <thead>\n",
              "    <tr style=\"text-align: right;\">\n",
              "      <th></th>\n",
              "      <th>Sensor 1</th>\n",
              "      <th>Sensor 2</th>\n",
              "      <th>Sensor 3</th>\n",
              "      <th>Sensor 4</th>\n",
              "    </tr>\n",
              "  </thead>\n",
              "  <tbody>\n",
              "    <tr>\n",
              "      <th>0</th>\n",
              "      <td>0.090909</td>\n",
              "      <td>-0.288890</td>\n",
              "      <td>-0.200000</td>\n",
              "      <td>-0.106380</td>\n",
              "    </tr>\n",
              "    <tr>\n",
              "      <th>1</th>\n",
              "      <td>0.090909</td>\n",
              "      <td>-0.155560</td>\n",
              "      <td>-0.200000</td>\n",
              "      <td>0.021277</td>\n",
              "    </tr>\n",
              "    <tr>\n",
              "      <th>2</th>\n",
              "      <td>0.090909</td>\n",
              "      <td>-0.511110</td>\n",
              "      <td>-0.066667</td>\n",
              "      <td>0.021277</td>\n",
              "    </tr>\n",
              "    <tr>\n",
              "      <th>3</th>\n",
              "      <td>0.090909</td>\n",
              "      <td>0.066667</td>\n",
              "      <td>-0.066667</td>\n",
              "      <td>0.021277</td>\n",
              "    </tr>\n",
              "    <tr>\n",
              "      <th>4</th>\n",
              "      <td>-0.181820</td>\n",
              "      <td>-0.022222</td>\n",
              "      <td>0.066667</td>\n",
              "      <td>0.191490</td>\n",
              "    </tr>\n",
              "  </tbody>\n",
              "</table>\n",
              "</div>"
            ],
            "text/plain": [
              "   Sensor 1  Sensor 2  Sensor 3  Sensor 4\n",
              "0  0.090909 -0.288890 -0.200000 -0.106380\n",
              "1  0.090909 -0.155560 -0.200000  0.021277\n",
              "2  0.090909 -0.511110 -0.066667  0.021277\n",
              "3  0.090909  0.066667 -0.066667  0.021277\n",
              "4 -0.181820 -0.022222  0.066667  0.191490"
            ]
          },
          "metadata": {
            "tags": []
          },
          "execution_count": 52
        }
      ]
    },
    {
      "cell_type": "code",
      "metadata": {
        "id": "YJwl2DLUWM3k",
        "colab_type": "code",
        "colab": {
          "base_uri": "https://localhost:8080/",
          "height": 284
        },
        "outputId": "e52b8a8a-07ff-4ab8-8a40-955c1af417a2"
      },
      "source": [
        "data_example.describe()"
      ],
      "execution_count": 53,
      "outputs": [
        {
          "output_type": "execute_result",
          "data": {
            "text/html": [
              "<div>\n",
              "<style scoped>\n",
              "    .dataframe tbody tr th:only-of-type {\n",
              "        vertical-align: middle;\n",
              "    }\n",
              "\n",
              "    .dataframe tbody tr th {\n",
              "        vertical-align: top;\n",
              "    }\n",
              "\n",
              "    .dataframe thead th {\n",
              "        text-align: right;\n",
              "    }\n",
              "</style>\n",
              "<table border=\"1\" class=\"dataframe\">\n",
              "  <thead>\n",
              "    <tr style=\"text-align: right;\">\n",
              "      <th></th>\n",
              "      <th>Sensor 1</th>\n",
              "      <th>Sensor 2</th>\n",
              "      <th>Sensor 3</th>\n",
              "      <th>Sensor 4</th>\n",
              "    </tr>\n",
              "  </thead>\n",
              "  <tbody>\n",
              "    <tr>\n",
              "      <th>count</th>\n",
              "      <td>56.000000</td>\n",
              "      <td>56.000000</td>\n",
              "      <td>56.000000</td>\n",
              "      <td>56.000000</td>\n",
              "    </tr>\n",
              "    <tr>\n",
              "      <th>mean</th>\n",
              "      <td>-0.421267</td>\n",
              "      <td>-0.480953</td>\n",
              "      <td>0.327778</td>\n",
              "      <td>0.231005</td>\n",
              "    </tr>\n",
              "    <tr>\n",
              "      <th>std</th>\n",
              "      <td>0.287413</td>\n",
              "      <td>0.227115</td>\n",
              "      <td>0.393168</td>\n",
              "      <td>0.246509</td>\n",
              "    </tr>\n",
              "    <tr>\n",
              "      <th>min</th>\n",
              "      <td>-0.863640</td>\n",
              "      <td>-1.000000</td>\n",
              "      <td>-0.600000</td>\n",
              "      <td>-0.319150</td>\n",
              "    </tr>\n",
              "    <tr>\n",
              "      <th>25%</th>\n",
              "      <td>-0.693182</td>\n",
              "      <td>-0.600000</td>\n",
              "      <td>0.044445</td>\n",
              "      <td>0.053192</td>\n",
              "    </tr>\n",
              "    <tr>\n",
              "      <th>50%</th>\n",
              "      <td>-0.454550</td>\n",
              "      <td>-0.488890</td>\n",
              "      <td>0.377780</td>\n",
              "      <td>0.191490</td>\n",
              "    </tr>\n",
              "    <tr>\n",
              "      <th>75%</th>\n",
              "      <td>-0.181820</td>\n",
              "      <td>-0.333330</td>\n",
              "      <td>0.733330</td>\n",
              "      <td>0.404260</td>\n",
              "    </tr>\n",
              "    <tr>\n",
              "      <th>max</th>\n",
              "      <td>0.090909</td>\n",
              "      <td>0.066667</td>\n",
              "      <td>0.866670</td>\n",
              "      <td>0.744680</td>\n",
              "    </tr>\n",
              "  </tbody>\n",
              "</table>\n",
              "</div>"
            ],
            "text/plain": [
              "        Sensor 1   Sensor 2   Sensor 3   Sensor 4\n",
              "count  56.000000  56.000000  56.000000  56.000000\n",
              "mean   -0.421267  -0.480953   0.327778   0.231005\n",
              "std     0.287413   0.227115   0.393168   0.246509\n",
              "min    -0.863640  -1.000000  -0.600000  -0.319150\n",
              "25%    -0.693182  -0.600000   0.044445   0.053192\n",
              "50%    -0.454550  -0.488890   0.377780   0.191490\n",
              "75%    -0.181820  -0.333330   0.733330   0.404260\n",
              "max     0.090909   0.066667   0.866670   0.744680"
            ]
          },
          "metadata": {
            "tags": []
          },
          "execution_count": 53
        }
      ]
    },
    {
      "cell_type": "code",
      "metadata": {
        "id": "SZ-t1vXcWM3p",
        "colab_type": "code",
        "colab": {
          "base_uri": "https://localhost:8080/",
          "height": 290
        },
        "outputId": "f53b6d71-b833-44a3-a555-479c13c8cf35"
      },
      "source": [
        "fig, ax = plt.subplots(figsize=(12,4))\n",
        "ax = sns.lineplot(ax=ax, data=data_example, dashes=False)\n",
        "_ = ax.set_title(f\"Sequence #{seq_id}\")"
      ],
      "execution_count": 54,
      "outputs": [
        {
          "output_type": "display_data",
          "data": {
            "image/png": "[encoded data removed]",
            "text/plain": [
              "<Figure size 864x288 with 1 Axes>"
            ]
          },
          "metadata": {
            "tags": []
          }
        }
      ]
    },
    {
      "cell_type": "markdown",
      "metadata": {
        "id": "ul85jiaMWM3v",
        "colab_type": "text"
      },
      "source": [
        "### Targets - class labels"
      ]
    },
    {
      "cell_type": "code",
      "metadata": {
        "id": "S8XoKk2FWM3v",
        "colab_type": "code",
        "colab": {
          "base_uri": "https://localhost:8080/",
          "height": 195
        },
        "outputId": "847b7c04-5803-44e5-9097-34f2ce7ee1c2"
      },
      "source": [
        "# load targets (class labels) for available sequences (only those which have been uploaded)\n",
        "targets = load_file('target', True).iloc[np.array(seq_ids)-1]\n",
        "targets.head()"
      ],
      "execution_count": 55,
      "outputs": [
        {
          "output_type": "execute_result",
          "data": {
            "text/html": [
              "<div>\n",
              "<style scoped>\n",
              "    .dataframe tbody tr th:only-of-type {\n",
              "        vertical-align: middle;\n",
              "    }\n",
              "\n",
              "    .dataframe tbody tr th {\n",
              "        vertical-align: top;\n",
              "    }\n",
              "\n",
              "    .dataframe thead th {\n",
              "        text-align: right;\n",
              "    }\n",
              "</style>\n",
              "<table border=\"1\" class=\"dataframe\">\n",
              "  <thead>\n",
              "    <tr style=\"text-align: right;\">\n",
              "      <th></th>\n",
              "      <th>#sequence_ID</th>\n",
              "      <th>class_label</th>\n",
              "    </tr>\n",
              "  </thead>\n",
              "  <tbody>\n",
              "    <tr>\n",
              "      <th>201</th>\n",
              "      <td>202</td>\n",
              "      <td>1</td>\n",
              "    </tr>\n",
              "    <tr>\n",
              "      <th>202</th>\n",
              "      <td>203</td>\n",
              "      <td>1</td>\n",
              "    </tr>\n",
              "    <tr>\n",
              "      <th>203</th>\n",
              "      <td>204</td>\n",
              "      <td>-1</td>\n",
              "    </tr>\n",
              "    <tr>\n",
              "      <th>204</th>\n",
              "      <td>205</td>\n",
              "      <td>-1</td>\n",
              "    </tr>\n",
              "    <tr>\n",
              "      <th>205</th>\n",
              "      <td>206</td>\n",
              "      <td>-1</td>\n",
              "    </tr>\n",
              "  </tbody>\n",
              "</table>\n",
              "</div>"
            ],
            "text/plain": [
              "     #sequence_ID  class_label\n",
              "201           202            1\n",
              "202           203            1\n",
              "203           204           -1\n",
              "204           205           -1\n",
              "205           206           -1"
            ]
          },
          "metadata": {
            "tags": []
          },
          "execution_count": 55
        }
      ]
    },
    {
      "cell_type": "code",
      "metadata": {
        "id": "bsY_2_yuWM3y",
        "colab_type": "code",
        "colab": {
          "base_uri": "https://localhost:8080/",
          "height": 67
        },
        "outputId": "03054d20-6eb5-4c0e-b6b1-cacbb22f4ce3"
      },
      "source": [
        "targets['class_label'].value_counts()  # number of classes, class labels, number of examples per class"
      ],
      "execution_count": 56,
      "outputs": [
        {
          "output_type": "execute_result",
          "data": {
            "text/plain": [
              "-1    13\n",
              " 1     2\n",
              "Name: class_label, dtype: int64"
            ]
          },
          "metadata": {
            "tags": []
          },
          "execution_count": 56
        }
      ]
    },
    {
      "cell_type": "code",
      "metadata": {
        "id": "p5qQuVv9iWpe",
        "colab_type": "code",
        "colab": {}
      },
      "source": [
        "all_labels = ((targets['class_label'].values + 1)/2).astype(\"int32\")"
      ],
      "execution_count": 0,
      "outputs": []
    },
    {
      "cell_type": "markdown",
      "metadata": {
        "id": "P5nyTnFLWM32",
        "colab_type": "text"
      },
      "source": [
        "### All data files"
      ]
    },
    {
      "cell_type": "code",
      "metadata": {
        "id": "xrc0NMN6WM32",
        "colab_type": "code",
        "colab": {}
      },
      "source": [
        "# load data for the available sequences\n",
        "all_data = [load_file(i) for i in seq_ids]\n"
      ],
      "execution_count": 0,
      "outputs": []
    },
    {
      "cell_type": "code",
      "metadata": {
        "id": "cR3w07zAWM36",
        "colab_type": "code",
        "colab": {
          "base_uri": "https://localhost:8080/",
          "height": 225
        },
        "outputId": "f09d79a5-babb-4994-f48c-5e2e192d8984"
      },
      "source": [
        "descr = targets['class_label'].to_frame()\n",
        "descr.index=targets['#sequence_ID']\n",
        "descr['length'] = [d.shape[0] for d in all_data]\n",
        "descr['n_features'] = [d.shape[1] for d in all_data]\n",
        "descr.head()"
      ],
      "execution_count": 59,
      "outputs": [
        {
          "output_type": "execute_result",
          "data": {
            "text/html": [
              "<div>\n",
              "<style scoped>\n",
              "    .dataframe tbody tr th:only-of-type {\n",
              "        vertical-align: middle;\n",
              "    }\n",
              "\n",
              "    .dataframe tbody tr th {\n",
              "        vertical-align: top;\n",
              "    }\n",
              "\n",
              "    .dataframe thead th {\n",
              "        text-align: right;\n",
              "    }\n",
              "</style>\n",
              "<table border=\"1\" class=\"dataframe\">\n",
              "  <thead>\n",
              "    <tr style=\"text-align: right;\">\n",
              "      <th></th>\n",
              "      <th>class_label</th>\n",
              "      <th>length</th>\n",
              "      <th>n_features</th>\n",
              "    </tr>\n",
              "    <tr>\n",
              "      <th>#sequence_ID</th>\n",
              "      <th></th>\n",
              "      <th></th>\n",
              "      <th></th>\n",
              "    </tr>\n",
              "  </thead>\n",
              "  <tbody>\n",
              "    <tr>\n",
              "      <th>202</th>\n",
              "      <td>1</td>\n",
              "      <td>56</td>\n",
              "      <td>4</td>\n",
              "    </tr>\n",
              "    <tr>\n",
              "      <th>203</th>\n",
              "      <td>1</td>\n",
              "      <td>63</td>\n",
              "      <td>4</td>\n",
              "    </tr>\n",
              "    <tr>\n",
              "      <th>204</th>\n",
              "      <td>-1</td>\n",
              "      <td>51</td>\n",
              "      <td>4</td>\n",
              "    </tr>\n",
              "    <tr>\n",
              "      <th>205</th>\n",
              "      <td>-1</td>\n",
              "      <td>41</td>\n",
              "      <td>4</td>\n",
              "    </tr>\n",
              "    <tr>\n",
              "      <th>206</th>\n",
              "      <td>-1</td>\n",
              "      <td>42</td>\n",
              "      <td>4</td>\n",
              "    </tr>\n",
              "  </tbody>\n",
              "</table>\n",
              "</div>"
            ],
            "text/plain": [
              "              class_label  length  n_features\n",
              "#sequence_ID                                 \n",
              "202                     1      56           4\n",
              "203                     1      63           4\n",
              "204                    -1      51           4\n",
              "205                    -1      41           4\n",
              "206                    -1      42           4"
            ]
          },
          "metadata": {
            "tags": []
          },
          "execution_count": 59
        }
      ]
    },
    {
      "cell_type": "code",
      "metadata": {
        "id": "_MhUsGAoWM3_",
        "colab_type": "code",
        "colab": {
          "base_uri": "https://localhost:8080/",
          "height": 343
        },
        "outputId": "28a70908-84a9-4db1-8b50-e925121999c3"
      },
      "source": [
        "descr[descr.columns[1:]].describe(percentiles=np.arange(0.2, 1, 0.2))"
      ],
      "execution_count": 60,
      "outputs": [
        {
          "output_type": "execute_result",
          "data": {
            "text/html": [
              "<div>\n",
              "<style scoped>\n",
              "    .dataframe tbody tr th:only-of-type {\n",
              "        vertical-align: middle;\n",
              "    }\n",
              "\n",
              "    .dataframe tbody tr th {\n",
              "        vertical-align: top;\n",
              "    }\n",
              "\n",
              "    .dataframe thead th {\n",
              "        text-align: right;\n",
              "    }\n",
              "</style>\n",
              "<table border=\"1\" class=\"dataframe\">\n",
              "  <thead>\n",
              "    <tr style=\"text-align: right;\">\n",
              "      <th></th>\n",
              "      <th>length</th>\n",
              "      <th>n_features</th>\n",
              "    </tr>\n",
              "  </thead>\n",
              "  <tbody>\n",
              "    <tr>\n",
              "      <th>count</th>\n",
              "      <td>15.000000</td>\n",
              "      <td>15.0</td>\n",
              "    </tr>\n",
              "    <tr>\n",
              "      <th>mean</th>\n",
              "      <td>44.600000</td>\n",
              "      <td>4.0</td>\n",
              "    </tr>\n",
              "    <tr>\n",
              "      <th>std</th>\n",
              "      <td>7.038669</td>\n",
              "      <td>0.0</td>\n",
              "    </tr>\n",
              "    <tr>\n",
              "      <th>min</th>\n",
              "      <td>37.000000</td>\n",
              "      <td>4.0</td>\n",
              "    </tr>\n",
              "    <tr>\n",
              "      <th>20%</th>\n",
              "      <td>40.000000</td>\n",
              "      <td>4.0</td>\n",
              "    </tr>\n",
              "    <tr>\n",
              "      <th>40%</th>\n",
              "      <td>41.600000</td>\n",
              "      <td>4.0</td>\n",
              "    </tr>\n",
              "    <tr>\n",
              "      <th>50%</th>\n",
              "      <td>42.000000</td>\n",
              "      <td>4.0</td>\n",
              "    </tr>\n",
              "    <tr>\n",
              "      <th>60%</th>\n",
              "      <td>44.000000</td>\n",
              "      <td>4.0</td>\n",
              "    </tr>\n",
              "    <tr>\n",
              "      <th>80%</th>\n",
              "      <td>46.200000</td>\n",
              "      <td>4.0</td>\n",
              "    </tr>\n",
              "    <tr>\n",
              "      <th>max</th>\n",
              "      <td>63.000000</td>\n",
              "      <td>4.0</td>\n",
              "    </tr>\n",
              "  </tbody>\n",
              "</table>\n",
              "</div>"
            ],
            "text/plain": [
              "          length  n_features\n",
              "count  15.000000        15.0\n",
              "mean   44.600000         4.0\n",
              "std     7.038669         0.0\n",
              "min    37.000000         4.0\n",
              "20%    40.000000         4.0\n",
              "40%    41.600000         4.0\n",
              "50%    42.000000         4.0\n",
              "60%    44.000000         4.0\n",
              "80%    46.200000         4.0\n",
              "max    63.000000         4.0"
            ]
          },
          "metadata": {
            "tags": []
          },
          "execution_count": 60
        }
      ]
    },
    {
      "cell_type": "markdown",
      "metadata": {
        "id": "2ZkhubM7WM4C",
        "colab_type": "text"
      },
      "source": [
        "## Pre-processing\n",
        "### Adjust sequence lengths to the global 80th quantile"
      ]
    },
    {
      "cell_type": "code",
      "metadata": {
        "id": "wMqwQBnlWM4D",
        "colab_type": "code",
        "colab": {
          "base_uri": "https://localhost:8080/",
          "height": 34
        },
        "outputId": "e2af9b2c-d938-4174-b526-d9055ab56df0"
      },
      "source": [
        "q_cut = 0.8  # cut the length at the 80th quantile\n",
        "q_cut_value = int(descr['length'].quantile(q_cut))  # get the length corresponding to the quantile\n",
        "q_cut_value"
      ],
      "execution_count": 61,
      "outputs": [
        {
          "output_type": "execute_result",
          "data": {
            "text/plain": [
              "46"
            ]
          },
          "metadata": {
            "tags": []
          },
          "execution_count": 61
        }
      ]
    },
    {
      "cell_type": "code",
      "metadata": {
        "id": "Pti60163WM4G",
        "colab_type": "code",
        "colab": {
          "base_uri": "https://localhost:8080/",
          "height": 291
        },
        "outputId": "af88795b-af24-4064-c709-7f74ef5133fc"
      },
      "source": [
        "fig, ax = plt.subplots(figsize=(12,4))\n",
        "\n",
        "w = 5\n",
        "ln = descr['length']\n",
        "labels_set = descr['class_label'].unique()\n",
        "lengths_classes = [ln[descr['class_label'] == label] for label in labels_set]\n",
        "\n",
        "hist = ax.hist(lengths_classes,\n",
        "               bins=range(w*(min(ln)//w), max(ln)+w, w),\n",
        "               label=[f'class {label} (total: {len(lengths_classes[i])})' for i, label in enumerate(labels_set)],\n",
        "               stacked=True, rwidth=0.9)\n",
        "\n",
        "ax.axvline(q_cut_value, color='crimson', linestyle='-.', lw=2, label=f'{100*q_cut:.0f}th quantile ({q_cut_value})')\n",
        "\n",
        "ax.legend(fancybox=True, framealpha=0.5)\n",
        "ax.set_xlabel(\"Length [samples]\")\n",
        "ax.set_ylabel(\"Count\")\n",
        "plt.show()"
      ],
      "execution_count": 62,
      "outputs": [
        {
          "output_type": "display_data",
          "data": {
            "image/png": "[encoded data removed]",
            "text/plain": [
              "<Figure size 864x288 with 1 Axes>"
            ]
          },
          "metadata": {
            "tags": []
          }
        }
      ]
    },
    {
      "cell_type": "code",
      "metadata": {
        "id": "vfCzSuJaWM4J",
        "colab_type": "code",
        "colab": {}
      },
      "source": [
        "# prepare array for the pre-processed data (216x54x4)\n",
        "all_data_prep = np.zeros((len(all_data), q_cut_value, all_data[0].shape[1]))\n",
        "\n",
        "# fill the array with data for cropped sequences (the padding to 0 is automatic by non-filling the already zero-filled rows)\n",
        "for i, sequence in enumerate(all_data):\n",
        "    all_data_prep[i, :min(q_cut_value, sequence.shape[0]), :] = sequence.iloc[:q_cut_value, :]"
      ],
      "execution_count": 0,
      "outputs": []
    },
    {
      "cell_type": "code",
      "metadata": {
        "id": "ScLcOGfMWM4L",
        "colab_type": "code",
        "colab": {
          "base_uri": "https://localhost:8080/",
          "height": 290
        },
        "outputId": "85b89a2f-0919-4669-cc0d-292e262eda65"
      },
      "source": [
        "fig, ax = plt.subplots(figsize=(12,4))\n",
        "ax = sns.lineplot(ax=ax, data=all_data_prep[0], dashes=False)\n",
        "_ = ax.set_title(f\"Sequence #{seq_id} (adjusted length)\")\n",
        "_ = ax.legend(data_example.columns)"
      ],
      "execution_count": 64,
      "outputs": [
        {
          "output_type": "display_data",
          "data": {
            "image/png": "[encoded data removed]",
            "text/plain": [
              "<Figure size 864x288 with 1 Axes>"
            ]
          },
          "metadata": {
            "tags": []
          }
        }
      ]
    },
    {
      "cell_type": "markdown",
      "metadata": {
        "id": "zh3lZREGWM4P",
        "colab_type": "text"
      },
      "source": [
        "## LSTM"
      ]
    },
    {
      "cell_type": "code",
      "metadata": {
        "id": "oqsOl67-WM4Q",
        "colab_type": "code",
        "colab": {}
      },
      "source": [
        "from tensorflow.keras.models import Sequential\n",
        "from tensorflow.keras import layers\n",
        "from tensorflow.keras.optimizers import Adam\n",
        "from tensorflow.keras.wrappers.scikit_learn import KerasClassifier\n",
        "\n",
        "from sklearn.model_selection import KFold, cross_val_score\n",
        "from sklearn.metrics import accuracy_score\n"
      ],
      "execution_count": 0,
      "outputs": []
    },
    {
      "cell_type": "code",
      "metadata": {
        "id": "p8kY4kfbWM4S",
        "colab_type": "code",
        "colab": {}
      },
      "source": [
        "# a function defining a model to be evaluated (after wrapping by the Keras)\n",
        "def make_lstm(my_lstm_units, my_lr):\n",
        "    lstm_model = Sequential()\n",
        "    lstm_model.add(layers.LSTM(my_lstm_units, input_shape=all_data_prep.shape[1:]))\n",
        "    lstm_model.add(layers.Dense(1, activation='sigmoid'))\n",
        "    \n",
        "    adam = Adam(lr=my_lr)\n",
        "    lstm_model.compile(loss='binary_crossentropy', optimizer=adam, metrics=['accuracy'])\n",
        "    return lstm_model\n",
        "\n",
        "fit_params = dict(epochs=100, batch_size=N_FILES//6)\n",
        "sk_params = dict(**fit_params, my_lstm_units=256, my_lr=0.001)\n"
      ],
      "execution_count": 0,
      "outputs": []
    },
    {
      "cell_type": "code",
      "metadata": {
        "id": "7I_CcNCKWM4Y",
        "colab_type": "code",
        "colab": {}
      },
      "source": [
        "# define the 10-fold cross-validation split\n",
        "kf = KFold(n_splits=10, shuffle=True, random_state=1)"
      ],
      "execution_count": 0,
      "outputs": []
    },
    {
      "cell_type": "code",
      "metadata": {
        "id": "Pz4M5Twhr7k3",
        "colab_type": "code",
        "colab": {}
      },
      "source": [
        "kc = KerasClassifier(make_lstm, **sk_params)\n"
      ],
      "execution_count": 0,
      "outputs": []
    },
    {
      "cell_type": "code",
      "metadata": {
        "id": "nA80YJOpWM4c",
        "colab_type": "code",
        "colab": {}
      },
      "source": [
        "# define a scoring function for the cross validation\n",
        "def scorer(estimator, X, y):\n",
        "    return accuracy_score((estimator.predict(X) > 0.5).astype(\"int32\"), y) \n"
      ],
      "execution_count": 0,
      "outputs": []
    },
    {
      "cell_type": "code",
      "metadata": {
        "id": "oJ2-twT2WM4e",
        "colab_type": "code",
        "colab": {}
      },
      "source": [
        "# run the cross-validation\n",
        "# scores = cross_val_score(KerasClassifier(make_lstm, **sk_params), X=all_data_prep, y=all_labels, cv=kf, scoring=scorer)\n"
      ],
      "execution_count": 0,
      "outputs": []
    },
    {
      "cell_type": "code",
      "metadata": {
        "id": "J7Uw9IkMWM4g",
        "colab_type": "code",
        "colab": {
          "base_uri": "https://localhost:8080/",
          "height": 34
        },
        "outputId": "a530bc95-f9ec-48b8-cce2-3c57ad6b7944"
      },
      "source": [
        "# scores"
      ],
      "execution_count": 71,
      "outputs": [
        {
          "output_type": "execute_result",
          "data": {
            "text/plain": [
              "array([1., 1., 1., 1., 1., 1., 1., 1., 1., 1.])"
            ]
          },
          "metadata": {
            "tags": []
          },
          "execution_count": 71
        }
      ]
    },
    {
      "cell_type": "markdown",
      "metadata": {
        "id": "b4OXYURDuqXL",
        "colab_type": "text"
      },
      "source": [
        "## Grid search"
      ]
    },
    {
      "cell_type": "code",
      "metadata": {
        "id": "GVH2ONy9gIAB",
        "colab_type": "code",
        "colab": {}
      },
      "source": [
        "from sklearn.model_selection import GridSearchCV"
      ],
      "execution_count": 0,
      "outputs": []
    },
    {
      "cell_type": "code",
      "metadata": {
        "id": "NHIpJ3-xr67j",
        "colab_type": "code",
        "colab": {}
      },
      "source": [
        "param_grid = {'my_lr': [0.001, 0.1], 'batch_size': [N_FILES, N_FILES//6], 'my_lstm_units': [128, 256]}"
      ],
      "execution_count": 0,
      "outputs": []
    },
    {
      "cell_type": "code",
      "metadata": {
        "id": "-_i5u8I6u_nV",
        "colab_type": "code",
        "colab": {
          "base_uri": "https://localhost:8080/",
          "height": 151
        },
        "outputId": "b66bef3b-944c-4ed5-d3b0-51d07a82866c"
      },
      "source": [
        "gcv = GridSearchCV(KerasClassifier(make_lstm, **fit_params), param_grid=param_grid, cv=kf, scoring=scorer)\n",
        "gcv"
      ],
      "execution_count": 156,
      "outputs": [
        {
          "output_type": "execute_result",
          "data": {
            "text/plain": [
              "GridSearchCV(cv=KFold(n_splits=10, random_state=1, shuffle=True),\n",
              "             error_score=nan,\n",
              "             estimator=<tensorflow.python.keras.wrappers.scikit_learn.KerasClassifier object at 0x7f20171b8400>,\n",
              "             iid='deprecated', n_jobs=None,\n",
              "             param_grid={'batch_size': [15, 2], 'my_lr': [0.001, 0.1],\n",
              "                         'my_lstm_units': [128, 256]},\n",
              "             pre_dispatch='2*n_jobs', refit=True, return_train_score=False,\n",
              "             scoring=<function scorer at 0x7f206804d7b8>, verbose=0)"
            ]
          },
          "metadata": {
            "tags": []
          },
          "execution_count": 156
        }
      ]
    },
    {
      "cell_type": "code",
      "metadata": {
        "id": "wMs35LPcq1DC",
        "colab_type": "code",
        "colab": {
          "base_uri": "https://localhost:8080/",
          "height": 1000
        },
        "outputId": "a48254b5-b047-4389-97bb-2360d6dcbe98"
      },
      "source": [
        "gcv.fit(all_data_prep, all_labels)"
      ],
      "execution_count": 157,
      "outputs": [
        {
          "output_type": "stream",
          "text": [
            "Epoch 69/100\n",
            "7/7 [==============================] - 0s 5ms/step - loss: 0.7486 - accuracy: 0.8571\n",
            "Epoch 70/100\n",
            "7/7 [==============================] - 0s 4ms/step - loss: 1.4360 - accuracy: 0.7143\n",
            "Epoch 71/100\n",
            "7/7 [==============================] - 0s 4ms/step - loss: 0.7380 - accuracy: 0.5714\n",
            "Epoch 72/100\n",
            "7/7 [==============================] - 0s 4ms/step - loss: 0.9422 - accuracy: 0.8571\n",
            "Epoch 73/100\n",
            "7/7 [==============================] - 0s 4ms/step - loss: 0.5855 - accuracy: 0.5714\n",
            "Epoch 74/100\n",
            "7/7 [==============================] - 0s 4ms/step - loss: 0.5691 - accuracy: 0.8571\n",
            "Epoch 75/100\n",
            "7/7 [==============================] - 0s 4ms/step - loss: 0.6801 - accuracy: 0.5714\n",
            "Epoch 76/100\n",
            "7/7 [==============================] - 0s 4ms/step - loss: 1.6248 - accuracy: 0.8571\n",
            "Epoch 77/100\n",
            "7/7 [==============================] - 0s 4ms/step - loss: 0.8229 - accuracy: 0.8571\n",
            "Epoch 78/100\n",
            "7/7 [==============================] - 0s 4ms/step - loss: 0.6404 - accuracy: 0.5714\n",
            "Epoch 79/100\n",
            "7/7 [==============================] - 0s 4ms/step - loss: 1.3433 - accuracy: 0.8571\n",
            "Epoch 80/100\n",
            "7/7 [==============================] - 0s 4ms/step - loss: 0.5822 - accuracy: 0.8571\n",
            "Epoch 81/100\n",
            "7/7 [==============================] - 0s 5ms/step - loss: 0.7668 - accuracy: 0.5714\n",
            "Epoch 82/100\n",
            "7/7 [==============================] - 0s 5ms/step - loss: 1.1997 - accuracy: 0.8571\n",
            "Epoch 83/100\n",
            "7/7 [==============================] - 0s 5ms/step - loss: 0.5411 - accuracy: 0.7143\n",
            "Epoch 84/100\n",
            "7/7 [==============================] - 0s 4ms/step - loss: 1.0679 - accuracy: 0.8571\n",
            "Epoch 85/100\n",
            "7/7 [==============================] - 0s 4ms/step - loss: 0.5477 - accuracy: 0.8571\n",
            "Epoch 86/100\n",
            "7/7 [==============================] - 0s 5ms/step - loss: 1.1571 - accuracy: 0.7143\n",
            "Epoch 87/100\n",
            "7/7 [==============================] - 0s 5ms/step - loss: 0.7886 - accuracy: 0.5714\n",
            "Epoch 88/100\n",
            "7/7 [==============================] - 0s 6ms/step - loss: 1.4801 - accuracy: 0.8571\n",
            "Epoch 89/100\n",
            "7/7 [==============================] - 0s 5ms/step - loss: 0.7091 - accuracy: 0.7143\n",
            "Epoch 90/100\n",
            "7/7 [==============================] - 0s 5ms/step - loss: 1.3233 - accuracy: 0.8571\n",
            "Epoch 91/100\n",
            "7/7 [==============================] - 0s 5ms/step - loss: 0.7940 - accuracy: 0.7143\n",
            "Epoch 92/100\n",
            "7/7 [==============================] - 0s 5ms/step - loss: 0.8119 - accuracy: 0.8571\n",
            "Epoch 93/100\n",
            "7/7 [==============================] - 0s 4ms/step - loss: 1.2358 - accuracy: 0.4286\n",
            "Epoch 94/100\n",
            "7/7 [==============================] - 0s 4ms/step - loss: 2.1695 - accuracy: 0.8571\n",
            "Epoch 95/100\n",
            "7/7 [==============================] - 0s 4ms/step - loss: 1.9946 - accuracy: 0.8571\n",
            "Epoch 96/100\n",
            "7/7 [==============================] - 0s 4ms/step - loss: 1.4260 - accuracy: 0.5714\n",
            "Epoch 97/100\n",
            "7/7 [==============================] - 0s 4ms/step - loss: 2.0497 - accuracy: 0.8571\n",
            "Epoch 98/100\n",
            "7/7 [==============================] - 0s 4ms/step - loss: 1.6134 - accuracy: 0.8571\n",
            "Epoch 99/100\n",
            "7/7 [==============================] - 0s 4ms/step - loss: 0.4417 - accuracy: 0.7143\n",
            "Epoch 100/100\n",
            "7/7 [==============================] - 0s 4ms/step - loss: 0.6255 - accuracy: 0.8571\n",
            "Epoch 1/100\n",
            "7/7 [==============================] - 0s 5ms/step - loss: 1.6079 - accuracy: 0.7143\n",
            "Epoch 2/100\n",
            "7/7 [==============================] - 0s 5ms/step - loss: 1.1976 - accuracy: 0.7143\n",
            "Epoch 3/100\n",
            "7/7 [==============================] - 0s 6ms/step - loss: 0.6186 - accuracy: 0.7143\n",
            "Epoch 4/100\n",
            "7/7 [==============================] - 0s 4ms/step - loss: 0.6288 - accuracy: 0.7143\n",
            "Epoch 5/100\n",
            "7/7 [==============================] - 0s 4ms/step - loss: 1.8432 - accuracy: 0.8571\n",
            "Epoch 6/100\n",
            "7/7 [==============================] - 0s 4ms/step - loss: 1.7210 - accuracy: 0.5714\n",
            "Epoch 7/100\n",
            "7/7 [==============================] - 0s 4ms/step - loss: 0.7097 - accuracy: 0.8571\n",
            "Epoch 8/100\n",
            "7/7 [==============================] - 0s 4ms/step - loss: 0.0267 - accuracy: 1.0000\n",
            "Epoch 9/100\n",
            "7/7 [==============================] - 0s 4ms/step - loss: 0.0215 - accuracy: 1.0000\n",
            "Epoch 10/100\n",
            "7/7 [==============================] - 0s 4ms/step - loss: 0.0083 - accuracy: 1.0000\n",
            "Epoch 11/100\n",
            "7/7 [==============================] - 0s 4ms/step - loss: 0.0060 - accuracy: 1.0000\n",
            "Epoch 12/100\n",
            "7/7 [==============================] - 0s 4ms/step - loss: 6.5542e-04 - accuracy: 1.0000\n",
            "Epoch 13/100\n",
            "7/7 [==============================] - 0s 4ms/step - loss: 2.0797e-04 - accuracy: 1.0000\n",
            "Epoch 14/100\n",
            "7/7 [==============================] - 0s 4ms/step - loss: 3.8332e-05 - accuracy: 1.0000\n",
            "Epoch 15/100\n",
            "7/7 [==============================] - 0s 4ms/step - loss: 2.8652e-05 - accuracy: 1.0000\n",
            "Epoch 16/100\n",
            "7/7 [==============================] - 0s 4ms/step - loss: 2.3590e-05 - accuracy: 1.0000\n",
            "Epoch 17/100\n",
            "7/7 [==============================] - 0s 4ms/step - loss: 2.1253e-05 - accuracy: 1.0000\n",
            "Epoch 18/100\n",
            "7/7 [==============================] - 0s 4ms/step - loss: 1.9230e-05 - accuracy: 1.0000\n",
            "Epoch 19/100\n",
            "7/7 [==============================] - 0s 4ms/step - loss: 1.8013e-05 - accuracy: 1.0000\n",
            "Epoch 20/100\n",
            "7/7 [==============================] - 0s 5ms/step - loss: 1.7279e-05 - accuracy: 1.0000\n",
            "Epoch 21/100\n",
            "7/7 [==============================] - 0s 5ms/step - loss: 1.6746e-05 - accuracy: 1.0000\n",
            "Epoch 22/100\n",
            "7/7 [==============================] - 0s 5ms/step - loss: 1.6307e-05 - accuracy: 1.0000\n",
            "Epoch 23/100\n",
            "7/7 [==============================] - 0s 5ms/step - loss: 1.5760e-05 - accuracy: 1.0000\n",
            "Epoch 24/100\n",
            "7/7 [==============================] - 0s 4ms/step - loss: 1.5363e-05 - accuracy: 1.0000\n",
            "Epoch 25/100\n",
            "7/7 [==============================] - 0s 5ms/step - loss: 1.4994e-05 - accuracy: 1.0000\n",
            "Epoch 26/100\n",
            "7/7 [==============================] - 0s 4ms/step - loss: 1.4754e-05 - accuracy: 1.0000\n",
            "Epoch 27/100\n",
            "7/7 [==============================] - 0s 4ms/step - loss: 1.4410e-05 - accuracy: 1.0000\n",
            "Epoch 28/100\n",
            "7/7 [==============================] - 0s 5ms/step - loss: 1.4095e-05 - accuracy: 1.0000\n",
            "Epoch 29/100\n",
            "7/7 [==============================] - 0s 4ms/step - loss: 1.3827e-05 - accuracy: 1.0000\n",
            "Epoch 30/100\n",
            "7/7 [==============================] - 0s 5ms/step - loss: 1.3541e-05 - accuracy: 1.0000\n",
            "Epoch 31/100\n",
            "7/7 [==============================] - 0s 6ms/step - loss: 1.3290e-05 - accuracy: 1.0000\n",
            "Epoch 32/100\n",
            "7/7 [==============================] - 0s 5ms/step - loss: 1.2981e-05 - accuracy: 1.0000\n",
            "Epoch 33/100\n",
            "7/7 [==============================] - 0s 4ms/step - loss: 1.2681e-05 - accuracy: 1.0000\n",
            "Epoch 34/100\n",
            "7/7 [==============================] - 0s 5ms/step - loss: 1.2354e-05 - accuracy: 1.0000\n",
            "Epoch 35/100\n",
            "7/7 [==============================] - 0s 5ms/step - loss: 1.2131e-05 - accuracy: 1.0000\n",
            "Epoch 36/100\n",
            "7/7 [==============================] - 0s 5ms/step - loss: 1.1794e-05 - accuracy: 1.0000\n",
            "Epoch 37/100\n",
            "7/7 [==============================] - 0s 4ms/step - loss: 1.1586e-05 - accuracy: 1.0000\n",
            "Epoch 38/100\n",
            "7/7 [==============================] - 0s 5ms/step - loss: 1.1290e-05 - accuracy: 1.0000\n",
            "Epoch 39/100\n",
            "7/7 [==============================] - 0s 5ms/step - loss: 1.1152e-05 - accuracy: 1.0000\n",
            "Epoch 40/100\n",
            "7/7 [==============================] - 0s 5ms/step - loss: 1.0856e-05 - accuracy: 1.0000\n",
            "Epoch 41/100\n",
            "7/7 [==============================] - 0s 5ms/step - loss: 1.0670e-05 - accuracy: 1.0000\n",
            "Epoch 42/100\n",
            "7/7 [==============================] - 0s 4ms/step - loss: 1.0322e-05 - accuracy: 1.0000\n",
            "Epoch 43/100\n",
            "7/7 [==============================] - 0s 4ms/step - loss: 1.0154e-05 - accuracy: 1.0000\n",
            "Epoch 44/100\n",
            "7/7 [==============================] - 0s 4ms/step - loss: 9.7713e-06 - accuracy: 1.0000\n",
            "Epoch 45/100\n",
            "7/7 [==============================] - 0s 4ms/step - loss: 9.6193e-06 - accuracy: 1.0000\n",
            "Epoch 46/100\n",
            "7/7 [==============================] - 0s 4ms/step - loss: 9.4441e-06 - accuracy: 1.0000\n",
            "Epoch 47/100\n",
            "7/7 [==============================] - 0s 5ms/step - loss: 9.3640e-06 - accuracy: 1.0000\n",
            "Epoch 48/100\n",
            "7/7 [==============================] - 0s 4ms/step - loss: 9.2105e-06 - accuracy: 1.0000\n",
            "Epoch 49/100\n",
            "7/7 [==============================] - 0s 5ms/step - loss: 9.0863e-06 - accuracy: 1.0000\n",
            "Epoch 50/100\n",
            "7/7 [==============================] - 0s 4ms/step - loss: 8.9041e-06 - accuracy: 1.0000\n",
            "Epoch 51/100\n",
            "7/7 [==============================] - 0s 4ms/step - loss: 8.8008e-06 - accuracy: 1.0000\n",
            "Epoch 52/100\n",
            "7/7 [==============================] - 0s 6ms/step - loss: 8.6339e-06 - accuracy: 1.0000\n",
            "Epoch 53/100\n",
            "7/7 [==============================] - 0s 5ms/step - loss: 8.3887e-06 - accuracy: 1.0000\n",
            "Epoch 54/100\n",
            "7/7 [==============================] - 0s 4ms/step - loss: 8.2759e-06 - accuracy: 1.0000\n",
            "Epoch 55/100\n",
            "7/7 [==============================] - 0s 5ms/step - loss: 7.7881e-06 - accuracy: 1.0000\n",
            "Epoch 56/100\n",
            "7/7 [==============================] - 0s 4ms/step - loss: 7.4020e-06 - accuracy: 1.0000\n",
            "Epoch 57/100\n",
            "7/7 [==============================] - 0s 4ms/step - loss: 7.2458e-06 - accuracy: 1.0000\n",
            "Epoch 58/100\n",
            "7/7 [==============================] - 0s 4ms/step - loss: 7.0931e-06 - accuracy: 1.0000\n",
            "Epoch 59/100\n",
            "7/7 [==============================] - 0s 4ms/step - loss: 6.9482e-06 - accuracy: 1.0000\n",
            "Epoch 60/100\n",
            "7/7 [==============================] - 0s 5ms/step - loss: 6.8248e-06 - accuracy: 1.0000\n",
            "Epoch 61/100\n",
            "7/7 [==============================] - 0s 5ms/step - loss: 6.7585e-06 - accuracy: 1.0000\n",
            "Epoch 62/100\n",
            "7/7 [==============================] - 0s 5ms/step - loss: 6.6697e-06 - accuracy: 1.0000\n",
            "Epoch 63/100\n",
            "7/7 [==============================] - 0s 5ms/step - loss: 6.5769e-06 - accuracy: 1.0000\n",
            "Epoch 64/100\n",
            "7/7 [==============================] - 0s 5ms/step - loss: 6.4939e-06 - accuracy: 1.0000\n",
            "Epoch 65/100\n",
            "7/7 [==============================] - 0s 5ms/step - loss: 6.4256e-06 - accuracy: 1.0000\n",
            "Epoch 66/100\n",
            "7/7 [==============================] - 0s 4ms/step - loss: 6.3617e-06 - accuracy: 1.0000\n",
            "Epoch 67/100\n",
            "7/7 [==============================] - 0s 5ms/step - loss: 6.2977e-06 - accuracy: 1.0000\n",
            "Epoch 68/100\n",
            "7/7 [==============================] - 0s 5ms/step - loss: 6.2211e-06 - accuracy: 1.0000\n",
            "Epoch 69/100\n",
            "7/7 [==============================] - 0s 5ms/step - loss: 6.1646e-06 - accuracy: 1.0000\n",
            "Epoch 70/100\n",
            "7/7 [==============================] - 0s 4ms/step - loss: 6.0768e-06 - accuracy: 1.0000\n",
            "Epoch 71/100\n",
            "7/7 [==============================] - 0s 4ms/step - loss: 6.0108e-06 - accuracy: 1.0000\n",
            "Epoch 72/100\n",
            "7/7 [==============================] - 0s 4ms/step - loss: 5.9208e-06 - accuracy: 1.0000\n",
            "Epoch 73/100\n",
            "7/7 [==============================] - 0s 5ms/step - loss: 5.8439e-06 - accuracy: 1.0000\n",
            "Epoch 74/100\n",
            "7/7 [==============================] - 0s 4ms/step - loss: 5.7798e-06 - accuracy: 1.0000\n",
            "Epoch 75/100\n",
            "7/7 [==============================] - 0s 4ms/step - loss: 5.6617e-06 - accuracy: 1.0000\n",
            "Epoch 76/100\n",
            "7/7 [==============================] - 0s 4ms/step - loss: 5.5901e-06 - accuracy: 1.0000\n",
            "Epoch 77/100\n",
            "7/7 [==============================] - 0s 5ms/step - loss: 5.4972e-06 - accuracy: 1.0000\n",
            "Epoch 78/100\n",
            "7/7 [==============================] - 0s 4ms/step - loss: 5.3344e-06 - accuracy: 1.0000\n",
            "Epoch 79/100\n",
            "7/7 [==============================] - 0s 4ms/step - loss: 5.2225e-06 - accuracy: 1.0000\n",
            "Epoch 80/100\n",
            "7/7 [==============================] - 0s 6ms/step - loss: 5.0829e-06 - accuracy: 1.0000\n",
            "Epoch 81/100\n",
            "7/7 [==============================] - 0s 4ms/step - loss: 4.9673e-06 - accuracy: 1.0000\n",
            "Epoch 82/100\n",
            "7/7 [==============================] - 0s 4ms/step - loss: 4.8468e-06 - accuracy: 1.0000\n",
            "Epoch 83/100\n",
            "7/7 [==============================] - 0s 4ms/step - loss: 4.7924e-06 - accuracy: 1.0000\n",
            "Epoch 84/100\n",
            "7/7 [==============================] - 0s 4ms/step - loss: 4.7046e-06 - accuracy: 1.0000\n",
            "Epoch 85/100\n",
            "7/7 [==============================] - 0s 5ms/step - loss: 4.6241e-06 - accuracy: 1.0000\n",
            "Epoch 86/100\n",
            "7/7 [==============================] - 0s 5ms/step - loss: 4.5775e-06 - accuracy: 1.0000\n",
            "Epoch 87/100\n",
            "7/7 [==============================] - 0s 5ms/step - loss: 4.5170e-06 - accuracy: 1.0000\n",
            "Epoch 88/100\n",
            "7/7 [==============================] - 0s 5ms/step - loss: 4.4806e-06 - accuracy: 1.0000\n",
            "Epoch 89/100\n",
            "7/7 [==============================] - 0s 4ms/step - loss: 4.4378e-06 - accuracy: 1.0000\n",
            "Epoch 90/100\n",
            "7/7 [==============================] - 0s 4ms/step - loss: 4.4015e-06 - accuracy: 1.0000\n",
            "Epoch 91/100\n",
            "7/7 [==============================] - 0s 4ms/step - loss: 4.3568e-06 - accuracy: 1.0000\n",
            "Epoch 92/100\n",
            "7/7 [==============================] - 0s 5ms/step - loss: 4.3147e-06 - accuracy: 1.0000\n",
            "Epoch 93/100\n",
            "7/7 [==============================] - 0s 4ms/step - loss: 4.2737e-06 - accuracy: 1.0000\n",
            "Epoch 94/100\n",
            "7/7 [==============================] - 0s 4ms/step - loss: 4.2372e-06 - accuracy: 1.0000\n",
            "Epoch 95/100\n",
            "7/7 [==============================] - 0s 4ms/step - loss: 4.2082e-06 - accuracy: 1.0000\n",
            "Epoch 96/100\n",
            "7/7 [==============================] - 0s 4ms/step - loss: 4.1624e-06 - accuracy: 1.0000\n",
            "Epoch 97/100\n",
            "7/7 [==============================] - 0s 4ms/step - loss: 4.1207e-06 - accuracy: 1.0000\n",
            "Epoch 98/100\n",
            "7/7 [==============================] - 0s 4ms/step - loss: 4.1012e-06 - accuracy: 1.0000\n",
            "Epoch 99/100\n",
            "7/7 [==============================] - 0s 4ms/step - loss: 4.0589e-06 - accuracy: 1.0000\n",
            "Epoch 100/100\n",
            "7/7 [==============================] - 0s 4ms/step - loss: 4.0378e-06 - accuracy: 1.0000\n",
            "Epoch 1/100\n",
            "7/7 [==============================] - 0s 5ms/step - loss: 3.0095 - accuracy: 0.7857\n",
            "Epoch 2/100\n",
            "7/7 [==============================] - 0s 4ms/step - loss: 1.1455 - accuracy: 0.5714\n",
            "Epoch 3/100\n",
            "7/7 [==============================] - 0s 4ms/step - loss: 0.6431 - accuracy: 0.7143\n",
            "Epoch 4/100\n",
            "7/7 [==============================] - 0s 4ms/step - loss: 1.2001 - accuracy: 0.8571\n",
            "Epoch 5/100\n",
            "7/7 [==============================] - 0s 5ms/step - loss: 0.6770 - accuracy: 0.7143\n",
            "Epoch 6/100\n",
            "7/7 [==============================] - 0s 5ms/step - loss: 0.9536 - accuracy: 0.8571\n",
            "Epoch 7/100\n",
            "7/7 [==============================] - 0s 5ms/step - loss: 0.5360 - accuracy: 0.8571\n",
            "Epoch 8/100\n",
            "7/7 [==============================] - 0s 5ms/step - loss: 0.6440 - accuracy: 0.8571\n",
            "Epoch 9/100\n",
            "7/7 [==============================] - 0s 4ms/step - loss: 0.9005 - accuracy: 0.4286\n",
            "Epoch 10/100\n",
            "7/7 [==============================] - 0s 4ms/step - loss: 0.8394 - accuracy: 0.8571\n",
            "Epoch 11/100\n",
            "7/7 [==============================] - 0s 4ms/step - loss: 0.5351 - accuracy: 0.8571\n",
            "Epoch 12/100\n",
            "7/7 [==============================] - 0s 4ms/step - loss: 0.4963 - accuracy: 0.8571\n",
            "Epoch 13/100\n",
            "7/7 [==============================] - 0s 4ms/step - loss: 0.5378 - accuracy: 0.5714\n",
            "Epoch 14/100\n",
            "7/7 [==============================] - 0s 4ms/step - loss: 1.3100 - accuracy: 0.8571\n",
            "Epoch 15/100\n",
            "7/7 [==============================] - 0s 4ms/step - loss: 1.0200 - accuracy: 0.4286\n",
            "Epoch 16/100\n",
            "7/7 [==============================] - 0s 4ms/step - loss: 1.2351 - accuracy: 0.8571\n",
            "Epoch 17/100\n",
            "7/7 [==============================] - 0s 4ms/step - loss: 0.6549 - accuracy: 0.8571\n",
            "Epoch 18/100\n",
            "7/7 [==============================] - 0s 5ms/step - loss: 1.2980 - accuracy: 0.4286\n",
            "Epoch 19/100\n",
            "7/7 [==============================] - 0s 4ms/step - loss: 2.2695 - accuracy: 0.8571\n",
            "Epoch 20/100\n",
            "7/7 [==============================] - 0s 4ms/step - loss: 2.0876 - accuracy: 0.8571\n",
            "Epoch 21/100\n",
            "7/7 [==============================] - 0s 4ms/step - loss: 1.0418 - accuracy: 0.7143\n",
            "Epoch 22/100\n",
            "7/7 [==============================] - 0s 5ms/step - loss: 0.8074 - accuracy: 0.7143\n",
            "Epoch 23/100\n",
            "7/7 [==============================] - 0s 5ms/step - loss: 1.0605 - accuracy: 0.8571\n",
            "Epoch 24/100\n",
            "7/7 [==============================] - 0s 5ms/step - loss: 0.8501 - accuracy: 0.5714\n",
            "Epoch 25/100\n",
            "7/7 [==============================] - 0s 5ms/step - loss: 0.6039 - accuracy: 0.8571\n",
            "Epoch 26/100\n",
            "7/7 [==============================] - 0s 5ms/step - loss: 0.6117 - accuracy: 0.8571\n",
            "Epoch 27/100\n",
            "7/7 [==============================] - 0s 5ms/step - loss: 0.4556 - accuracy: 0.8571\n",
            "Epoch 28/100\n",
            "7/7 [==============================] - 0s 5ms/step - loss: 0.7030 - accuracy: 0.8571\n",
            "Epoch 29/100\n",
            "7/7 [==============================] - 0s 5ms/step - loss: 0.7305 - accuracy: 0.6429\n",
            "Epoch 30/100\n",
            "7/7 [==============================] - 0s 5ms/step - loss: 0.8389 - accuracy: 0.8571\n",
            "Epoch 31/100\n",
            "7/7 [==============================] - 0s 4ms/step - loss: 0.7092 - accuracy: 0.7143\n",
            "Epoch 32/100\n",
            "7/7 [==============================] - 0s 5ms/step - loss: 1.0277 - accuracy: 0.8571\n",
            "Epoch 33/100\n",
            "7/7 [==============================] - 0s 4ms/step - loss: 0.6503 - accuracy: 0.5714\n",
            "Epoch 34/100\n",
            "7/7 [==============================] - 0s 4ms/step - loss: 1.0061 - accuracy: 0.8571\n",
            "Epoch 35/100\n",
            "7/7 [==============================] - 0s 4ms/step - loss: 0.5349 - accuracy: 0.8571\n",
            "Epoch 36/100\n",
            "7/7 [==============================] - 0s 4ms/step - loss: 1.1163 - accuracy: 0.5714\n",
            "Epoch 37/100\n",
            "7/7 [==============================] - 0s 5ms/step - loss: 0.6870 - accuracy: 0.8571\n",
            "Epoch 38/100\n",
            "7/7 [==============================] - 0s 4ms/step - loss: 0.4612 - accuracy: 0.8571\n",
            "Epoch 39/100\n",
            "7/7 [==============================] - 0s 4ms/step - loss: 0.5483 - accuracy: 0.8571\n",
            "Epoch 40/100\n",
            "7/7 [==============================] - 0s 4ms/step - loss: 0.7910 - accuracy: 0.5714\n",
            "Epoch 41/100\n",
            "7/7 [==============================] - 0s 4ms/step - loss: 1.4502 - accuracy: 0.8571\n",
            "Epoch 42/100\n",
            "7/7 [==============================] - 0s 5ms/step - loss: 0.7186 - accuracy: 0.8571\n",
            "Epoch 43/100\n",
            "7/7 [==============================] - 0s 4ms/step - loss: 0.5484 - accuracy: 0.7143\n",
            "Epoch 44/100\n",
            "7/7 [==============================] - 0s 4ms/step - loss: 0.8580 - accuracy: 0.8571\n",
            "Epoch 45/100\n",
            "7/7 [==============================] - 0s 4ms/step - loss: 0.4709 - accuracy: 0.7143\n",
            "Epoch 46/100\n",
            "7/7 [==============================] - 0s 4ms/step - loss: 1.0660 - accuracy: 0.8571\n",
            "Epoch 47/100\n",
            "7/7 [==============================] - 0s 5ms/step - loss: 0.4295 - accuracy: 0.8571\n",
            "Epoch 48/100\n",
            "7/7 [==============================] - 0s 5ms/step - loss: 0.6226 - accuracy: 0.5714\n",
            "Epoch 49/100\n",
            "7/7 [==============================] - 0s 5ms/step - loss: 1.6049 - accuracy: 0.8571\n",
            "Epoch 50/100\n",
            "7/7 [==============================] - 0s 5ms/step - loss: 0.7051 - accuracy: 0.8571\n",
            "Epoch 51/100\n",
            "7/7 [==============================] - 0s 5ms/step - loss: 1.1492 - accuracy: 0.7143\n",
            "Epoch 52/100\n",
            "7/7 [==============================] - 0s 5ms/step - loss: 0.9847 - accuracy: 0.5714\n",
            "Epoch 53/100\n",
            "7/7 [==============================] - 0s 4ms/step - loss: 1.5531 - accuracy: 0.8571\n",
            "Epoch 54/100\n",
            "7/7 [==============================] - 0s 5ms/step - loss: 1.4900 - accuracy: 0.5714\n",
            "Epoch 55/100\n",
            "7/7 [==============================] - 0s 5ms/step - loss: 0.5680 - accuracy: 0.8571\n",
            "Epoch 56/100\n",
            "7/7 [==============================] - 0s 6ms/step - loss: 0.6167 - accuracy: 0.8571\n",
            "Epoch 57/100\n",
            "7/7 [==============================] - 0s 6ms/step - loss: 1.3192 - accuracy: 0.7143\n",
            "Epoch 58/100\n",
            "7/7 [==============================] - 0s 4ms/step - loss: 0.5794 - accuracy: 0.7143\n",
            "Epoch 59/100\n",
            "7/7 [==============================] - 0s 5ms/step - loss: 0.8267 - accuracy: 0.7143\n",
            "Epoch 60/100\n",
            "7/7 [==============================] - 0s 5ms/step - loss: 0.6728 - accuracy: 0.5714\n",
            "Epoch 61/100\n",
            "7/7 [==============================] - 0s 5ms/step - loss: 0.5436 - accuracy: 0.8571\n",
            "Epoch 62/100\n",
            "7/7 [==============================] - 0s 5ms/step - loss: 0.6069 - accuracy: 0.5714\n",
            "Epoch 63/100\n",
            "7/7 [==============================] - 0s 5ms/step - loss: 0.8680 - accuracy: 0.8571\n",
            "Epoch 64/100\n",
            "7/7 [==============================] - 0s 5ms/step - loss: 0.4255 - accuracy: 0.8571\n",
            "Epoch 65/100\n",
            "7/7 [==============================] - 0s 5ms/step - loss: 0.7135 - accuracy: 0.8571\n",
            "Epoch 66/100\n",
            "7/7 [==============================] - 0s 6ms/step - loss: 0.4942 - accuracy: 0.7143\n",
            "Epoch 67/100\n",
            "7/7 [==============================] - 0s 5ms/step - loss: 0.8821 - accuracy: 0.8571\n",
            "Epoch 68/100\n",
            "7/7 [==============================] - 0s 4ms/step - loss: 0.4439 - accuracy: 0.8571\n",
            "Epoch 69/100\n",
            "7/7 [==============================] - 0s 4ms/step - loss: 0.6266 - accuracy: 0.8571\n",
            "Epoch 70/100\n",
            "7/7 [==============================] - 0s 5ms/step - loss: 0.4114 - accuracy: 0.8571\n",
            "Epoch 71/100\n",
            "7/7 [==============================] - 0s 4ms/step - loss: 0.6051 - accuracy: 0.8571\n",
            "Epoch 72/100\n",
            "7/7 [==============================] - 0s 4ms/step - loss: 0.7637 - accuracy: 0.5714\n",
            "Epoch 73/100\n",
            "7/7 [==============================] - 0s 5ms/step - loss: 0.7093 - accuracy: 0.8571\n",
            "Epoch 74/100\n",
            "7/7 [==============================] - 0s 5ms/step - loss: 0.5172 - accuracy: 0.8571\n",
            "Epoch 75/100\n",
            "7/7 [==============================] - 0s 5ms/step - loss: 0.6040 - accuracy: 0.7143\n",
            "Epoch 76/100\n",
            "7/7 [==============================] - 0s 5ms/step - loss: 0.5083 - accuracy: 0.8571\n",
            "Epoch 77/100\n",
            "7/7 [==============================] - 0s 5ms/step - loss: 0.5113 - accuracy: 0.7143\n",
            "Epoch 78/100\n",
            "7/7 [==============================] - 0s 4ms/step - loss: 0.8143 - accuracy: 0.8571\n",
            "Epoch 79/100\n",
            "7/7 [==============================] - 0s 4ms/step - loss: 0.8386 - accuracy: 0.8571\n",
            "Epoch 80/100\n",
            "7/7 [==============================] - 0s 5ms/step - loss: 0.8934 - accuracy: 0.5714\n",
            "Epoch 81/100\n",
            "7/7 [==============================] - 0s 5ms/step - loss: 1.1665 - accuracy: 0.8571\n",
            "Epoch 82/100\n",
            "7/7 [==============================] - 0s 4ms/step - loss: 1.3316 - accuracy: 0.7143\n",
            "Epoch 83/100\n",
            "7/7 [==============================] - 0s 4ms/step - loss: 0.7017 - accuracy: 0.7143\n",
            "Epoch 84/100\n",
            "7/7 [==============================] - 0s 4ms/step - loss: 0.4712 - accuracy: 0.8571\n",
            "Epoch 85/100\n",
            "7/7 [==============================] - 0s 4ms/step - loss: 1.2096 - accuracy: 0.7143\n",
            "Epoch 86/100\n",
            "7/7 [==============================] - 0s 4ms/step - loss: 0.7546 - accuracy: 0.8571\n",
            "Epoch 87/100\n",
            "7/7 [==============================] - 0s 5ms/step - loss: 0.5072 - accuracy: 0.8571\n",
            "Epoch 88/100\n",
            "7/7 [==============================] - 0s 5ms/step - loss: 0.7229 - accuracy: 0.8571\n",
            "Epoch 89/100\n",
            "7/7 [==============================] - 0s 5ms/step - loss: 0.7220 - accuracy: 0.7143\n",
            "Epoch 90/100\n",
            "7/7 [==============================] - 0s 6ms/step - loss: 0.3403 - accuracy: 0.8571\n",
            "Epoch 91/100\n",
            "7/7 [==============================] - 0s 5ms/step - loss: 0.9490 - accuracy: 0.8571\n",
            "Epoch 92/100\n",
            "7/7 [==============================] - 0s 4ms/step - loss: 0.9116 - accuracy: 0.4286\n",
            "Epoch 93/100\n",
            "7/7 [==============================] - 0s 4ms/step - loss: 0.9042 - accuracy: 0.8571\n",
            "Epoch 94/100\n",
            "7/7 [==============================] - 0s 5ms/step - loss: 0.9291 - accuracy: 0.7143\n",
            "Epoch 95/100\n",
            "7/7 [==============================] - 0s 5ms/step - loss: 0.8816 - accuracy: 0.7143\n",
            "Epoch 96/100\n",
            "7/7 [==============================] - 0s 5ms/step - loss: 0.3609 - accuracy: 0.8571\n",
            "Epoch 97/100\n",
            "7/7 [==============================] - 0s 4ms/step - loss: 0.7268 - accuracy: 0.7143\n",
            "Epoch 98/100\n",
            "7/7 [==============================] - 0s 4ms/step - loss: 0.4847 - accuracy: 0.8571\n",
            "Epoch 99/100\n",
            "7/7 [==============================] - 0s 4ms/step - loss: 0.5004 - accuracy: 0.8571\n",
            "Epoch 100/100\n",
            "7/7 [==============================] - 0s 4ms/step - loss: 0.6414 - accuracy: 0.8571\n",
            "Epoch 1/100\n",
            "7/7 [==============================] - 0s 5ms/step - loss: 4.0234 - accuracy: 0.4286\n",
            "Epoch 2/100\n",
            "7/7 [==============================] - 0s 4ms/step - loss: 2.8145 - accuracy: 0.8571\n",
            "Epoch 3/100\n",
            "7/7 [==============================] - 0s 4ms/step - loss: 2.8760 - accuracy: 0.8571\n",
            "Epoch 4/100\n",
            "7/7 [==============================] - 0s 4ms/step - loss: 1.5900 - accuracy: 0.7143\n",
            "Epoch 5/100\n",
            "7/7 [==============================] - 0s 4ms/step - loss: 0.7050 - accuracy: 0.5714\n",
            "Epoch 6/100\n",
            "7/7 [==============================] - 0s 4ms/step - loss: 0.6040 - accuracy: 0.8571\n",
            "Epoch 7/100\n",
            "7/7 [==============================] - 0s 4ms/step - loss: 0.7557 - accuracy: 0.8571\n",
            "Epoch 8/100\n",
            "7/7 [==============================] - 0s 4ms/step - loss: 0.4017 - accuracy: 0.8571\n",
            "Epoch 9/100\n",
            "7/7 [==============================] - 0s 4ms/step - loss: 0.4540 - accuracy: 0.7143\n",
            "Epoch 10/100\n",
            "7/7 [==============================] - 0s 4ms/step - loss: 1.2373 - accuracy: 0.8571\n",
            "Epoch 11/100\n",
            "7/7 [==============================] - 0s 4ms/step - loss: 0.4832 - accuracy: 0.8571\n",
            "Epoch 12/100\n",
            "7/7 [==============================] - 0s 4ms/step - loss: 0.3751 - accuracy: 0.7143\n",
            "Epoch 13/100\n",
            "7/7 [==============================] - 0s 4ms/step - loss: 1.8019 - accuracy: 0.8571\n",
            "Epoch 14/100\n",
            "7/7 [==============================] - 0s 4ms/step - loss: 0.5022 - accuracy: 0.8571\n",
            "Epoch 15/100\n",
            "7/7 [==============================] - 0s 5ms/step - loss: 1.5447 - accuracy: 0.4286\n",
            "Epoch 16/100\n",
            "7/7 [==============================] - 0s 4ms/step - loss: 0.6655 - accuracy: 0.7143\n",
            "Epoch 17/100\n",
            "7/7 [==============================] - 0s 4ms/step - loss: 0.5597 - accuracy: 0.7143\n",
            "Epoch 18/100\n",
            "7/7 [==============================] - 0s 4ms/step - loss: 0.5603 - accuracy: 0.8571\n",
            "Epoch 19/100\n",
            "7/7 [==============================] - 0s 4ms/step - loss: 0.6709 - accuracy: 0.7143\n",
            "Epoch 20/100\n",
            "7/7 [==============================] - 0s 4ms/step - loss: 1.0804 - accuracy: 0.8571\n",
            "Epoch 21/100\n",
            "7/7 [==============================] - 0s 4ms/step - loss: 0.8621 - accuracy: 0.7143\n",
            "Epoch 22/100\n",
            "7/7 [==============================] - 0s 4ms/step - loss: 0.5246 - accuracy: 0.8571\n",
            "Epoch 23/100\n",
            "7/7 [==============================] - 0s 5ms/step - loss: 0.5057 - accuracy: 0.8571\n",
            "Epoch 24/100\n",
            "7/7 [==============================] - 0s 5ms/step - loss: 0.5666 - accuracy: 0.8571\n",
            "Epoch 25/100\n",
            "7/7 [==============================] - 0s 4ms/step - loss: 0.9736 - accuracy: 0.8571\n",
            "Epoch 26/100\n",
            "7/7 [==============================] - 0s 4ms/step - loss: 0.7102 - accuracy: 0.5714\n",
            "Epoch 27/100\n",
            "7/7 [==============================] - 0s 4ms/step - loss: 0.6771 - accuracy: 0.8571\n",
            "Epoch 28/100\n",
            "7/7 [==============================] - 0s 5ms/step - loss: 0.7393 - accuracy: 0.8571\n",
            "Epoch 29/100\n",
            "7/7 [==============================] - 0s 5ms/step - loss: 0.6006 - accuracy: 0.7143\n",
            "Epoch 30/100\n",
            "7/7 [==============================] - 0s 5ms/step - loss: 0.8007 - accuracy: 0.8571\n",
            "Epoch 31/100\n",
            "7/7 [==============================] - 0s 4ms/step - loss: 0.5757 - accuracy: 0.8571\n",
            "Epoch 32/100\n",
            "7/7 [==============================] - 0s 5ms/step - loss: 0.5128 - accuracy: 0.8571\n",
            "Epoch 33/100\n",
            "7/7 [==============================] - 0s 4ms/step - loss: 0.6283 - accuracy: 0.8571\n",
            "Epoch 34/100\n",
            "7/7 [==============================] - 0s 6ms/step - loss: 0.7463 - accuracy: 0.5714\n",
            "Epoch 35/100\n",
            "7/7 [==============================] - 0s 5ms/step - loss: 2.2698 - accuracy: 0.8571\n",
            "Epoch 36/100\n",
            "7/7 [==============================] - 0s 4ms/step - loss: 1.2495 - accuracy: 0.8571\n",
            "Epoch 37/100\n",
            "7/7 [==============================] - 0s 4ms/step - loss: 1.0531 - accuracy: 0.5714\n",
            "Epoch 38/100\n",
            "7/7 [==============================] - 0s 4ms/step - loss: 0.7660 - accuracy: 0.8571\n",
            "Epoch 39/100\n",
            "7/7 [==============================] - 0s 5ms/step - loss: 0.5508 - accuracy: 0.8571\n",
            "Epoch 40/100\n",
            "7/7 [==============================] - 0s 5ms/step - loss: 0.6252 - accuracy: 0.8571\n",
            "Epoch 41/100\n",
            "7/7 [==============================] - 0s 5ms/step - loss: 0.4808 - accuracy: 0.8571\n",
            "Epoch 42/100\n",
            "7/7 [==============================] - 0s 4ms/step - loss: 0.9822 - accuracy: 0.8571\n",
            "Epoch 43/100\n",
            "7/7 [==============================] - 0s 4ms/step - loss: 0.5033 - accuracy: 0.5714\n",
            "Epoch 44/100\n",
            "7/7 [==============================] - 0s 5ms/step - loss: 0.6590 - accuracy: 0.8571\n",
            "Epoch 45/100\n",
            "7/7 [==============================] - 0s 4ms/step - loss: 0.8372 - accuracy: 0.8571\n",
            "Epoch 46/100\n",
            "7/7 [==============================] - 0s 5ms/step - loss: 0.4991 - accuracy: 0.8571\n",
            "Epoch 47/100\n",
            "7/7 [==============================] - 0s 5ms/step - loss: 1.0213 - accuracy: 0.8571\n",
            "Epoch 48/100\n",
            "7/7 [==============================] - 0s 4ms/step - loss: 0.4799 - accuracy: 0.8571\n",
            "Epoch 49/100\n",
            "7/7 [==============================] - 0s 5ms/step - loss: 0.5717 - accuracy: 0.7143\n",
            "Epoch 50/100\n",
            "7/7 [==============================] - 0s 5ms/step - loss: 0.7159 - accuracy: 0.7143\n",
            "Epoch 51/100\n",
            "7/7 [==============================] - 0s 5ms/step - loss: 1.6194 - accuracy: 0.8571\n",
            "Epoch 52/100\n",
            "7/7 [==============================] - 0s 5ms/step - loss: 1.4182 - accuracy: 0.5714\n",
            "Epoch 53/100\n",
            "7/7 [==============================] - 0s 4ms/step - loss: 2.0288 - accuracy: 0.8571\n",
            "Epoch 54/100\n",
            "7/7 [==============================] - 0s 5ms/step - loss: 1.1594 - accuracy: 0.8571\n",
            "Epoch 55/100\n",
            "7/7 [==============================] - 0s 5ms/step - loss: 0.7552 - accuracy: 0.7143\n",
            "Epoch 56/100\n",
            "7/7 [==============================] - 0s 4ms/step - loss: 0.6150 - accuracy: 0.8571\n",
            "Epoch 57/100\n",
            "7/7 [==============================] - 0s 4ms/step - loss: 0.6106 - accuracy: 0.8571\n",
            "Epoch 58/100\n",
            "7/7 [==============================] - 0s 5ms/step - loss: 0.7593 - accuracy: 0.8571\n",
            "Epoch 59/100\n",
            "7/7 [==============================] - 0s 4ms/step - loss: 0.4718 - accuracy: 0.8571\n",
            "Epoch 60/100\n",
            "7/7 [==============================] - 0s 4ms/step - loss: 0.9468 - accuracy: 0.8571\n",
            "Epoch 61/100\n",
            "7/7 [==============================] - 0s 4ms/step - loss: 0.4787 - accuracy: 0.7143\n",
            "Epoch 62/100\n",
            "7/7 [==============================] - 0s 4ms/step - loss: 1.1157 - accuracy: 0.8571\n",
            "Epoch 63/100\n",
            "7/7 [==============================] - 0s 4ms/step - loss: 1.0985 - accuracy: 0.4286\n",
            "Epoch 64/100\n",
            "7/7 [==============================] - 0s 6ms/step - loss: 1.8378 - accuracy: 0.8571\n",
            "Epoch 65/100\n",
            "7/7 [==============================] - 0s 4ms/step - loss: 0.8833 - accuracy: 0.8571\n",
            "Epoch 66/100\n",
            "7/7 [==============================] - 0s 4ms/step - loss: 0.9744 - accuracy: 0.5714\n",
            "Epoch 67/100\n",
            "7/7 [==============================] - 0s 5ms/step - loss: 1.6065 - accuracy: 0.8571\n",
            "Epoch 68/100\n",
            "7/7 [==============================] - 0s 4ms/step - loss: 1.4587 - accuracy: 0.8571\n",
            "Epoch 69/100\n",
            "7/7 [==============================] - 0s 5ms/step - loss: 0.9190 - accuracy: 0.5714\n",
            "Epoch 70/100\n",
            "7/7 [==============================] - 0s 4ms/step - loss: 0.7240 - accuracy: 0.8571\n",
            "Epoch 71/100\n",
            "7/7 [==============================] - 0s 4ms/step - loss: 0.5534 - accuracy: 0.8571\n",
            "Epoch 72/100\n",
            "7/7 [==============================] - 0s 4ms/step - loss: 0.8008 - accuracy: 0.5714\n",
            "Epoch 73/100\n",
            "7/7 [==============================] - 0s 4ms/step - loss: 2.2156 - accuracy: 0.8571\n",
            "Epoch 74/100\n",
            "7/7 [==============================] - 0s 4ms/step - loss: 1.6558 - accuracy: 0.8571\n",
            "Epoch 75/100\n",
            "7/7 [==============================] - 0s 5ms/step - loss: 1.7585 - accuracy: 0.4286\n",
            "Epoch 76/100\n",
            "7/7 [==============================] - 0s 5ms/step - loss: 3.5498 - accuracy: 0.8571\n",
            "Epoch 77/100\n",
            "7/7 [==============================] - 0s 5ms/step - loss: 3.1574 - accuracy: 0.8571\n",
            "Epoch 78/100\n",
            "7/7 [==============================] - 0s 5ms/step - loss: 1.3732 - accuracy: 0.4286\n",
            "Epoch 79/100\n",
            "7/7 [==============================] - 0s 4ms/step - loss: 0.7948 - accuracy: 0.8571\n",
            "Epoch 80/100\n",
            "7/7 [==============================] - 0s 4ms/step - loss: 1.2576 - accuracy: 0.8571\n",
            "Epoch 81/100\n",
            "7/7 [==============================] - 0s 4ms/step - loss: 0.6543 - accuracy: 0.8571\n",
            "Epoch 82/100\n",
            "7/7 [==============================] - 0s 4ms/step - loss: 0.4982 - accuracy: 0.8571\n",
            "Epoch 83/100\n",
            "7/7 [==============================] - 0s 5ms/step - loss: 0.5640 - accuracy: 0.8571\n",
            "Epoch 84/100\n",
            "7/7 [==============================] - 0s 4ms/step - loss: 0.4762 - accuracy: 0.8571\n",
            "Epoch 85/100\n",
            "7/7 [==============================] - 0s 4ms/step - loss: 0.5034 - accuracy: 0.8571\n",
            "Epoch 86/100\n",
            "7/7 [==============================] - 0s 4ms/step - loss: 0.4939 - accuracy: 0.8571\n",
            "Epoch 87/100\n",
            "7/7 [==============================] - 0s 4ms/step - loss: 0.6677 - accuracy: 0.8571\n",
            "Epoch 88/100\n",
            "7/7 [==============================] - 0s 4ms/step - loss: 0.4653 - accuracy: 0.8571\n",
            "Epoch 89/100\n",
            "7/7 [==============================] - 0s 5ms/step - loss: 1.0669 - accuracy: 0.8571\n",
            "Epoch 90/100\n",
            "7/7 [==============================] - 0s 4ms/step - loss: 0.8950 - accuracy: 0.7143\n",
            "Epoch 91/100\n",
            "7/7 [==============================] - 0s 4ms/step - loss: 0.8058 - accuracy: 0.8571\n",
            "Epoch 92/100\n",
            "7/7 [==============================] - 0s 4ms/step - loss: 0.5531 - accuracy: 0.8571\n",
            "Epoch 93/100\n",
            "7/7 [==============================] - 0s 4ms/step - loss: 0.8583 - accuracy: 0.5714\n",
            "Epoch 94/100\n",
            "7/7 [==============================] - 0s 4ms/step - loss: 1.3294 - accuracy: 0.8571\n",
            "Epoch 95/100\n",
            "7/7 [==============================] - 0s 5ms/step - loss: 0.6301 - accuracy: 0.8571\n",
            "Epoch 96/100\n",
            "7/7 [==============================] - 0s 4ms/step - loss: 1.2052 - accuracy: 0.5714\n",
            "Epoch 97/100\n",
            "7/7 [==============================] - 0s 5ms/step - loss: 0.6033 - accuracy: 0.8571\n",
            "Epoch 98/100\n",
            "7/7 [==============================] - 0s 5ms/step - loss: 0.8004 - accuracy: 0.8571\n",
            "Epoch 99/100\n",
            "7/7 [==============================] - 0s 5ms/step - loss: 0.4198 - accuracy: 0.8571\n",
            "Epoch 100/100\n",
            "7/7 [==============================] - 0s 5ms/step - loss: 0.9884 - accuracy: 0.8571\n",
            "Epoch 1/100\n",
            "7/7 [==============================] - 0s 4ms/step - loss: 3.4623 - accuracy: 0.6429\n",
            "Epoch 2/100\n",
            "7/7 [==============================] - 0s 4ms/step - loss: 1.0939 - accuracy: 0.7143\n",
            "Epoch 3/100\n",
            "7/7 [==============================] - 0s 4ms/step - loss: 2.0701 - accuracy: 0.8571\n",
            "Epoch 4/100\n",
            "7/7 [==============================] - 0s 4ms/step - loss: 0.6925 - accuracy: 0.7143\n",
            "Epoch 5/100\n",
            "7/7 [==============================] - 0s 4ms/step - loss: 1.3742 - accuracy: 0.5714\n",
            "Epoch 6/100\n",
            "7/7 [==============================] - 0s 4ms/step - loss: 0.7662 - accuracy: 0.7143\n",
            "Epoch 7/100\n",
            "7/7 [==============================] - 0s 5ms/step - loss: 0.3771 - accuracy: 0.8571\n",
            "Epoch 8/100\n",
            "7/7 [==============================] - 0s 4ms/step - loss: 0.6767 - accuracy: 0.8571\n",
            "Epoch 9/100\n",
            "7/7 [==============================] - 0s 4ms/step - loss: 1.0152 - accuracy: 0.5714\n",
            "Epoch 10/100\n",
            "7/7 [==============================] - 0s 4ms/step - loss: 1.1349 - accuracy: 0.8571\n",
            "Epoch 11/100\n",
            "7/7 [==============================] - 0s 4ms/step - loss: 0.6475 - accuracy: 0.8571\n",
            "Epoch 12/100\n",
            "7/7 [==============================] - 0s 4ms/step - loss: 0.7353 - accuracy: 0.6429\n",
            "Epoch 13/100\n",
            "7/7 [==============================] - 0s 4ms/step - loss: 1.6695 - accuracy: 0.8571\n",
            "Epoch 14/100\n",
            "7/7 [==============================] - 0s 5ms/step - loss: 1.6055 - accuracy: 0.5714\n",
            "Epoch 15/100\n",
            "7/7 [==============================] - 0s 5ms/step - loss: 0.5972 - accuracy: 0.8571\n",
            "Epoch 16/100\n",
            "7/7 [==============================] - 0s 5ms/step - loss: 0.3799 - accuracy: 0.8571\n",
            "Epoch 17/100\n",
            "7/7 [==============================] - 0s 5ms/step - loss: 0.3386 - accuracy: 0.7143\n",
            "Epoch 18/100\n",
            "7/7 [==============================] - 0s 5ms/step - loss: 1.4266 - accuracy: 0.8571\n",
            "Epoch 19/100\n",
            "7/7 [==============================] - 0s 5ms/step - loss: 0.8983 - accuracy: 0.6429\n",
            "Epoch 20/100\n",
            "7/7 [==============================] - 0s 5ms/step - loss: 0.3314 - accuracy: 0.8571\n",
            "Epoch 21/100\n",
            "7/7 [==============================] - 0s 5ms/step - loss: 0.0888 - accuracy: 1.0000\n",
            "Epoch 22/100\n",
            "7/7 [==============================] - 0s 5ms/step - loss: 0.0818 - accuracy: 1.0000\n",
            "Epoch 23/100\n",
            "7/7 [==============================] - 0s 4ms/step - loss: 0.0542 - accuracy: 1.0000\n",
            "Epoch 24/100\n",
            "7/7 [==============================] - 0s 4ms/step - loss: 0.0484 - accuracy: 1.0000\n",
            "Epoch 25/100\n",
            "7/7 [==============================] - 0s 5ms/step - loss: 0.0271 - accuracy: 1.0000\n",
            "Epoch 26/100\n",
            "7/7 [==============================] - 0s 5ms/step - loss: 0.0190 - accuracy: 1.0000\n",
            "Epoch 27/100\n",
            "7/7 [==============================] - 0s 5ms/step - loss: 0.0154 - accuracy: 1.0000\n",
            "Epoch 28/100\n",
            "7/7 [==============================] - 0s 5ms/step - loss: 0.0117 - accuracy: 1.0000\n",
            "Epoch 29/100\n",
            "7/7 [==============================] - 0s 5ms/step - loss: 0.0119 - accuracy: 1.0000\n",
            "Epoch 30/100\n",
            "7/7 [==============================] - 0s 5ms/step - loss: 0.0098 - accuracy: 1.0000\n",
            "Epoch 31/100\n",
            "7/7 [==============================] - 0s 6ms/step - loss: 0.0091 - accuracy: 1.0000\n",
            "Epoch 32/100\n",
            "7/7 [==============================] - 0s 4ms/step - loss: 0.0092 - accuracy: 1.0000\n",
            "Epoch 33/100\n",
            "7/7 [==============================] - 0s 5ms/step - loss: 0.0081 - accuracy: 1.0000\n",
            "Epoch 34/100\n",
            "7/7 [==============================] - 0s 5ms/step - loss: 0.0083 - accuracy: 1.0000\n",
            "Epoch 35/100\n",
            "7/7 [==============================] - 0s 5ms/step - loss: 0.0075 - accuracy: 1.0000\n",
            "Epoch 36/100\n",
            "7/7 [==============================] - 0s 4ms/step - loss: 0.0071 - accuracy: 1.0000\n",
            "Epoch 37/100\n",
            "7/7 [==============================] - 0s 4ms/step - loss: 0.0068 - accuracy: 1.0000\n",
            "Epoch 38/100\n",
            "7/7 [==============================] - 0s 4ms/step - loss: 0.0066 - accuracy: 1.0000\n",
            "Epoch 39/100\n",
            "7/7 [==============================] - 0s 4ms/step - loss: 0.0061 - accuracy: 1.0000\n",
            "Epoch 40/100\n",
            "7/7 [==============================] - 0s 5ms/step - loss: 0.0058 - accuracy: 1.0000\n",
            "Epoch 41/100\n",
            "7/7 [==============================] - 0s 6ms/step - loss: 0.0058 - accuracy: 1.0000\n",
            "Epoch 42/100\n",
            "7/7 [==============================] - 0s 5ms/step - loss: 0.0063 - accuracy: 1.0000\n",
            "Epoch 43/100\n",
            "7/7 [==============================] - 0s 4ms/step - loss: 0.0055 - accuracy: 1.0000\n",
            "Epoch 44/100\n",
            "7/7 [==============================] - 0s 4ms/step - loss: 0.0051 - accuracy: 1.0000\n",
            "Epoch 45/100\n",
            "7/7 [==============================] - 0s 4ms/step - loss: 0.0047 - accuracy: 1.0000\n",
            "Epoch 46/100\n",
            "7/7 [==============================] - 0s 4ms/step - loss: 0.0047 - accuracy: 1.0000\n",
            "Epoch 47/100\n",
            "7/7 [==============================] - 0s 4ms/step - loss: 0.0045 - accuracy: 1.0000\n",
            "Epoch 48/100\n",
            "7/7 [==============================] - 0s 5ms/step - loss: 0.0046 - accuracy: 1.0000\n",
            "Epoch 49/100\n",
            "7/7 [==============================] - 0s 5ms/step - loss: 0.0042 - accuracy: 1.0000\n",
            "Epoch 50/100\n",
            "7/7 [==============================] - 0s 4ms/step - loss: 0.0042 - accuracy: 1.0000\n",
            "Epoch 51/100\n",
            "7/7 [==============================] - 0s 4ms/step - loss: 0.0039 - accuracy: 1.0000\n",
            "Epoch 52/100\n",
            "7/7 [==============================] - 0s 4ms/step - loss: 0.0041 - accuracy: 1.0000\n",
            "Epoch 53/100\n",
            "7/7 [==============================] - 0s 4ms/step - loss: 0.0038 - accuracy: 1.0000\n",
            "Epoch 54/100\n",
            "7/7 [==============================] - 0s 4ms/step - loss: 0.0035 - accuracy: 1.0000\n",
            "Epoch 55/100\n",
            "7/7 [==============================] - 0s 4ms/step - loss: 0.0036 - accuracy: 1.0000\n",
            "Epoch 56/100\n",
            "7/7 [==============================] - 0s 6ms/step - loss: 0.0033 - accuracy: 1.0000\n",
            "Epoch 57/100\n",
            "7/7 [==============================] - 0s 4ms/step - loss: 0.0032 - accuracy: 1.0000\n",
            "Epoch 58/100\n",
            "7/7 [==============================] - 0s 4ms/step - loss: 0.0031 - accuracy: 1.0000\n",
            "Epoch 59/100\n",
            "7/7 [==============================] - 0s 4ms/step - loss: 0.0030 - accuracy: 1.0000\n",
            "Epoch 60/100\n",
            "7/7 [==============================] - 0s 4ms/step - loss: 0.0031 - accuracy: 1.0000\n",
            "Epoch 61/100\n",
            "7/7 [==============================] - 0s 4ms/step - loss: 0.0029 - accuracy: 1.0000\n",
            "Epoch 62/100\n",
            "7/7 [==============================] - 0s 4ms/step - loss: 0.0028 - accuracy: 1.0000\n",
            "Epoch 63/100\n",
            "7/7 [==============================] - 0s 5ms/step - loss: 0.0027 - accuracy: 1.0000\n",
            "Epoch 64/100\n",
            "7/7 [==============================] - 0s 5ms/step - loss: 0.0027 - accuracy: 1.0000\n",
            "Epoch 65/100\n",
            "7/7 [==============================] - 0s 5ms/step - loss: 0.0026 - accuracy: 1.0000\n",
            "Epoch 66/100\n",
            "7/7 [==============================] - 0s 5ms/step - loss: 0.0025 - accuracy: 1.0000\n",
            "Epoch 67/100\n",
            "7/7 [==============================] - 0s 5ms/step - loss: 0.0025 - accuracy: 1.0000\n",
            "Epoch 68/100\n",
            "7/7 [==============================] - 0s 5ms/step - loss: 0.0024 - accuracy: 1.0000\n",
            "Epoch 69/100\n",
            "7/7 [==============================] - 0s 5ms/step - loss: 0.0023 - accuracy: 1.0000\n",
            "Epoch 70/100\n",
            "7/7 [==============================] - 0s 5ms/step - loss: 0.0022 - accuracy: 1.0000\n",
            "Epoch 71/100\n",
            "7/7 [==============================] - 0s 4ms/step - loss: 0.0022 - accuracy: 1.0000\n",
            "Epoch 72/100\n",
            "7/7 [==============================] - 0s 4ms/step - loss: 0.0021 - accuracy: 1.0000\n",
            "Epoch 73/100\n",
            "7/7 [==============================] - 0s 5ms/step - loss: 0.0020 - accuracy: 1.0000\n",
            "Epoch 74/100\n",
            "7/7 [==============================] - 0s 4ms/step - loss: 0.0020 - accuracy: 1.0000\n",
            "Epoch 75/100\n",
            "7/7 [==============================] - 0s 5ms/step - loss: 0.0019 - accuracy: 1.0000\n",
            "Epoch 76/100\n",
            "7/7 [==============================] - 0s 5ms/step - loss: 0.0019 - accuracy: 1.0000\n",
            "Epoch 77/100\n",
            "7/7 [==============================] - 0s 5ms/step - loss: 0.0018 - accuracy: 1.0000\n",
            "Epoch 78/100\n",
            "7/7 [==============================] - 0s 4ms/step - loss: 0.0017 - accuracy: 1.0000\n",
            "Epoch 79/100\n",
            "7/7 [==============================] - 0s 4ms/step - loss: 0.0016 - accuracy: 1.0000\n",
            "Epoch 80/100\n",
            "7/7 [==============================] - 0s 6ms/step - loss: 0.0017 - accuracy: 1.0000\n",
            "Epoch 81/100\n",
            "7/7 [==============================] - 0s 4ms/step - loss: 0.0016 - accuracy: 1.0000\n",
            "Epoch 82/100\n",
            "7/7 [==============================] - 0s 5ms/step - loss: 0.0015 - accuracy: 1.0000\n",
            "Epoch 83/100\n",
            "7/7 [==============================] - 0s 5ms/step - loss: 0.0015 - accuracy: 1.0000\n",
            "Epoch 84/100\n",
            "7/7 [==============================] - 0s 4ms/step - loss: 0.0014 - accuracy: 1.0000\n",
            "Epoch 85/100\n",
            "7/7 [==============================] - 0s 4ms/step - loss: 0.0013 - accuracy: 1.0000\n",
            "Epoch 86/100\n",
            "7/7 [==============================] - 0s 4ms/step - loss: 0.0013 - accuracy: 1.0000\n",
            "Epoch 87/100\n",
            "7/7 [==============================] - 0s 4ms/step - loss: 0.0013 - accuracy: 1.0000\n",
            "Epoch 88/100\n",
            "7/7 [==============================] - 0s 4ms/step - loss: 0.0013 - accuracy: 1.0000\n",
            "Epoch 89/100\n",
            "7/7 [==============================] - 0s 4ms/step - loss: 0.0012 - accuracy: 1.0000\n",
            "Epoch 90/100\n",
            "7/7 [==============================] - 0s 4ms/step - loss: 0.0013 - accuracy: 1.0000\n",
            "Epoch 91/100\n",
            "7/7 [==============================] - 0s 4ms/step - loss: 0.0012 - accuracy: 1.0000\n",
            "Epoch 92/100\n",
            "7/7 [==============================] - 0s 4ms/step - loss: 0.0012 - accuracy: 1.0000\n",
            "Epoch 93/100\n",
            "7/7 [==============================] - 0s 4ms/step - loss: 0.0011 - accuracy: 1.0000\n",
            "Epoch 94/100\n",
            "7/7 [==============================] - 0s 5ms/step - loss: 0.0011 - accuracy: 1.0000\n",
            "Epoch 95/100\n",
            "7/7 [==============================] - 0s 5ms/step - loss: 0.0011 - accuracy: 1.0000\n",
            "Epoch 96/100\n",
            "7/7 [==============================] - 0s 5ms/step - loss: 0.0011 - accuracy: 1.0000\n",
            "Epoch 97/100\n",
            "7/7 [==============================] - 0s 5ms/step - loss: 0.0011 - accuracy: 1.0000\n",
            "Epoch 98/100\n",
            "7/7 [==============================] - 0s 4ms/step - loss: 0.0011 - accuracy: 1.0000\n",
            "Epoch 99/100\n",
            "7/7 [==============================] - 0s 4ms/step - loss: 0.0010 - accuracy: 1.0000\n",
            "Epoch 100/100\n",
            "7/7 [==============================] - 0s 4ms/step - loss: 0.0010 - accuracy: 1.0000\n",
            "Epoch 1/100\n",
            "1/1 [==============================] - 0s 1ms/step - loss: 0.7047 - accuracy: 0.2000\n",
            "Epoch 2/100\n",
            "1/1 [==============================] - 0s 1ms/step - loss: 0.6482 - accuracy: 0.8667\n",
            "Epoch 3/100\n",
            "1/1 [==============================] - 0s 1ms/step - loss: 0.5927 - accuracy: 0.8667\n",
            "Epoch 4/100\n",
            "1/1 [==============================] - 0s 1ms/step - loss: 0.5230 - accuracy: 0.8667\n",
            "Epoch 5/100\n",
            "1/1 [==============================] - 0s 1ms/step - loss: 0.4321 - accuracy: 0.8667\n",
            "Epoch 6/100\n",
            "1/1 [==============================] - 0s 1ms/step - loss: 0.4290 - accuracy: 0.8667\n",
            "Epoch 7/100\n",
            "1/1 [==============================] - 0s 1ms/step - loss: 0.4482 - accuracy: 0.8667\n",
            "Epoch 8/100\n",
            "1/1 [==============================] - 0s 1ms/step - loss: 0.4035 - accuracy: 0.8667\n",
            "Epoch 9/100\n",
            "1/1 [==============================] - 0s 1ms/step - loss: 0.3858 - accuracy: 0.8667\n",
            "Epoch 10/100\n",
            "1/1 [==============================] - 0s 955us/step - loss: 0.3923 - accuracy: 0.8667\n",
            "Epoch 11/100\n",
            "1/1 [==============================] - 0s 1ms/step - loss: 0.3900 - accuracy: 0.8667\n",
            "Epoch 12/100\n",
            "1/1 [==============================] - 0s 1ms/step - loss: 0.3713 - accuracy: 0.8667\n",
            "Epoch 13/100\n",
            "1/1 [==============================] - 0s 925us/step - loss: 0.3457 - accuracy: 0.8667\n",
            "Epoch 14/100\n",
            "1/1 [==============================] - 0s 963us/step - loss: 0.3314 - accuracy: 0.8667\n",
            "Epoch 15/100\n",
            "1/1 [==============================] - 0s 1ms/step - loss: 0.3287 - accuracy: 0.8667\n",
            "Epoch 16/100\n",
            "1/1 [==============================] - 0s 1ms/step - loss: 0.3207 - accuracy: 0.8667\n",
            "Epoch 17/100\n",
            "1/1 [==============================] - 0s 1ms/step - loss: 0.3003 - accuracy: 0.8667\n",
            "Epoch 18/100\n",
            "1/1 [==============================] - 0s 1ms/step - loss: 0.2716 - accuracy: 0.8667\n",
            "Epoch 19/100\n",
            "1/1 [==============================] - 0s 1ms/step - loss: 0.2429 - accuracy: 0.8667\n",
            "Epoch 20/100\n",
            "1/1 [==============================] - 0s 943us/step - loss: 0.2136 - accuracy: 0.8667\n",
            "Epoch 21/100\n",
            "1/1 [==============================] - 0s 2ms/step - loss: 0.1741 - accuracy: 0.8667\n",
            "Epoch 22/100\n",
            "1/1 [==============================] - 0s 2ms/step - loss: 0.1368 - accuracy: 0.8667\n",
            "Epoch 23/100\n",
            "1/1 [==============================] - 0s 2ms/step - loss: 0.1000 - accuracy: 0.9333\n",
            "Epoch 24/100\n",
            "1/1 [==============================] - 0s 1ms/step - loss: 0.0664 - accuracy: 1.0000\n",
            "Epoch 25/100\n",
            "1/1 [==============================] - 0s 1ms/step - loss: 0.0464 - accuracy: 1.0000\n",
            "Epoch 26/100\n",
            "1/1 [==============================] - 0s 6ms/step - loss: 0.0380 - accuracy: 1.0000\n",
            "Epoch 27/100\n",
            "1/1 [==============================] - 0s 2ms/step - loss: 0.0421 - accuracy: 1.0000\n",
            "Epoch 28/100\n",
            "1/1 [==============================] - 0s 2ms/step - loss: 0.0285 - accuracy: 1.0000\n",
            "Epoch 29/100\n",
            "1/1 [==============================] - 0s 2ms/step - loss: 0.0242 - accuracy: 1.0000\n",
            "Epoch 30/100\n",
            "1/1 [==============================] - 0s 2ms/step - loss: 0.0191 - accuracy: 1.0000\n",
            "Epoch 31/100\n",
            "1/1 [==============================] - 0s 1ms/step - loss: 0.0213 - accuracy: 1.0000\n",
            "Epoch 32/100\n",
            "1/1 [==============================] - 0s 975us/step - loss: 0.0214 - accuracy: 1.0000\n",
            "Epoch 33/100\n",
            "1/1 [==============================] - 0s 3ms/step - loss: 0.0132 - accuracy: 1.0000\n",
            "Epoch 34/100\n",
            "1/1 [==============================] - 0s 2ms/step - loss: 0.0163 - accuracy: 1.0000\n",
            "Epoch 35/100\n",
            "1/1 [==============================] - 0s 1ms/step - loss: 0.0179 - accuracy: 1.0000\n",
            "Epoch 36/100\n",
            "1/1 [==============================] - 0s 999us/step - loss: 0.0161 - accuracy: 1.0000\n",
            "Epoch 37/100\n",
            "1/1 [==============================] - 0s 2ms/step - loss: 0.0115 - accuracy: 1.0000\n",
            "Epoch 38/100\n",
            "1/1 [==============================] - 0s 1ms/step - loss: 0.0062 - accuracy: 1.0000\n",
            "Epoch 39/100\n",
            "1/1 [==============================] - 0s 1ms/step - loss: 0.0025 - accuracy: 1.0000\n",
            "Epoch 40/100\n",
            "1/1 [==============================] - 0s 2ms/step - loss: 0.0019 - accuracy: 1.0000\n",
            "Epoch 41/100\n",
            "1/1 [==============================] - 0s 2ms/step - loss: 0.0030 - accuracy: 1.0000\n",
            "Epoch 42/100\n",
            "1/1 [==============================] - 0s 2ms/step - loss: 0.0035 - accuracy: 1.0000\n",
            "Epoch 43/100\n",
            "1/1 [==============================] - 0s 890us/step - loss: 0.0026 - accuracy: 1.0000\n",
            "Epoch 44/100\n",
            "1/1 [==============================] - 0s 2ms/step - loss: 0.0016 - accuracy: 1.0000\n",
            "Epoch 45/100\n",
            "1/1 [==============================] - 0s 1ms/step - loss: 0.0010 - accuracy: 1.0000\n",
            "Epoch 46/100\n",
            "1/1 [==============================] - 0s 1ms/step - loss: 7.1829e-04 - accuracy: 1.0000\n",
            "Epoch 47/100\n",
            "1/1 [==============================] - 0s 1ms/step - loss: 5.4085e-04 - accuracy: 1.0000\n",
            "Epoch 48/100\n",
            "1/1 [==============================] - 0s 2ms/step - loss: 4.3295e-04 - accuracy: 1.0000\n",
            "Epoch 49/100\n",
            "1/1 [==============================] - 0s 2ms/step - loss: 3.6400e-04 - accuracy: 1.0000\n",
            "Epoch 50/100\n",
            "1/1 [==============================] - 0s 2ms/step - loss: 3.1792e-04 - accuracy: 1.0000\n",
            "Epoch 51/100\n",
            "1/1 [==============================] - 0s 2ms/step - loss: 2.8600e-04 - accuracy: 1.0000\n",
            "Epoch 52/100\n",
            "1/1 [==============================] - 0s 9ms/step - loss: 2.6532e-04 - accuracy: 1.0000\n",
            "Epoch 53/100\n",
            "1/1 [==============================] - 0s 2ms/step - loss: 4.6505e-04 - accuracy: 1.0000\n",
            "Epoch 54/100\n",
            "1/1 [==============================] - 0s 1ms/step - loss: 2.4989e-04 - accuracy: 1.0000\n",
            "Epoch 55/100\n",
            "1/1 [==============================] - 0s 2ms/step - loss: 2.2617e-04 - accuracy: 1.0000\n",
            "Epoch 56/100\n",
            "1/1 [==============================] - 0s 2ms/step - loss: 2.1494e-04 - accuracy: 1.0000\n",
            "Epoch 57/100\n",
            "1/1 [==============================] - 0s 986us/step - loss: 2.0621e-04 - accuracy: 1.0000\n",
            "Epoch 58/100\n",
            "1/1 [==============================] - 0s 1ms/step - loss: 1.9873e-04 - accuracy: 1.0000\n",
            "Epoch 59/100\n",
            "1/1 [==============================] - 0s 1ms/step - loss: 1.9209e-04 - accuracy: 1.0000\n",
            "Epoch 60/100\n",
            "1/1 [==============================] - 0s 1ms/step - loss: 1.8611e-04 - accuracy: 1.0000\n",
            "Epoch 61/100\n",
            "1/1 [==============================] - 0s 1ms/step - loss: 1.8067e-04 - accuracy: 1.0000\n",
            "Epoch 62/100\n",
            "1/1 [==============================] - 0s 2ms/step - loss: 1.7567e-04 - accuracy: 1.0000\n",
            "Epoch 63/100\n",
            "1/1 [==============================] - 0s 2ms/step - loss: 1.7104e-04 - accuracy: 1.0000\n",
            "Epoch 64/100\n",
            "1/1 [==============================] - 0s 3ms/step - loss: 1.6675e-04 - accuracy: 1.0000\n",
            "Epoch 65/100\n",
            "1/1 [==============================] - 0s 2ms/step - loss: 1.6273e-04 - accuracy: 1.0000\n",
            "Epoch 66/100\n",
            "1/1 [==============================] - 0s 2ms/step - loss: 1.5897e-04 - accuracy: 1.0000\n",
            "Epoch 67/100\n",
            "1/1 [==============================] - 0s 1ms/step - loss: 1.5543e-04 - accuracy: 1.0000\n",
            "Epoch 68/100\n",
            "1/1 [==============================] - 0s 4ms/step - loss: 1.5208e-04 - accuracy: 1.0000\n",
            "Epoch 69/100\n",
            "1/1 [==============================] - 0s 3ms/step - loss: 1.4891e-04 - accuracy: 1.0000\n",
            "Epoch 70/100\n",
            "1/1 [==============================] - 0s 2ms/step - loss: 1.4590e-04 - accuracy: 1.0000\n",
            "Epoch 71/100\n",
            "1/1 [==============================] - 0s 2ms/step - loss: 1.4303e-04 - accuracy: 1.0000\n",
            "Epoch 72/100\n",
            "1/1 [==============================] - 0s 3ms/step - loss: 1.4029e-04 - accuracy: 1.0000\n",
            "Epoch 73/100\n",
            "1/1 [==============================] - 0s 971us/step - loss: 1.3768e-04 - accuracy: 1.0000\n",
            "Epoch 74/100\n",
            "1/1 [==============================] - 0s 2ms/step - loss: 1.3517e-04 - accuracy: 1.0000\n",
            "Epoch 75/100\n",
            "1/1 [==============================] - 0s 3ms/step - loss: 1.3277e-04 - accuracy: 1.0000\n",
            "Epoch 76/100\n",
            "1/1 [==============================] - 0s 2ms/step - loss: 1.3047e-04 - accuracy: 1.0000\n",
            "Epoch 77/100\n",
            "1/1 [==============================] - 0s 1ms/step - loss: 1.2825e-04 - accuracy: 1.0000\n",
            "Epoch 78/100\n",
            "1/1 [==============================] - 0s 1ms/step - loss: 1.2612e-04 - accuracy: 1.0000\n",
            "Epoch 79/100\n",
            "1/1 [==============================] - 0s 964us/step - loss: 1.2407e-04 - accuracy: 1.0000\n",
            "Epoch 80/100\n",
            "1/1 [==============================] - 0s 1ms/step - loss: 1.2209e-04 - accuracy: 1.0000\n",
            "Epoch 81/100\n",
            "1/1 [==============================] - 0s 1ms/step - loss: 1.2018e-04 - accuracy: 1.0000\n",
            "Epoch 82/100\n",
            "1/1 [==============================] - 0s 1ms/step - loss: 1.1834e-04 - accuracy: 1.0000\n",
            "Epoch 83/100\n",
            "1/1 [==============================] - 0s 2ms/step - loss: 1.1656e-04 - accuracy: 1.0000\n",
            "Epoch 84/100\n",
            "1/1 [==============================] - 0s 3ms/step - loss: 1.1484e-04 - accuracy: 1.0000\n",
            "Epoch 85/100\n",
            "1/1 [==============================] - 0s 3ms/step - loss: 1.1317e-04 - accuracy: 1.0000\n",
            "Epoch 86/100\n",
            "1/1 [==============================] - 0s 2ms/step - loss: 1.1156e-04 - accuracy: 1.0000\n",
            "Epoch 87/100\n",
            "1/1 [==============================] - 0s 2ms/step - loss: 1.1001e-04 - accuracy: 1.0000\n",
            "Epoch 88/100\n",
            "1/1 [==============================] - 0s 2ms/step - loss: 1.0849e-04 - accuracy: 1.0000\n",
            "Epoch 89/100\n",
            "1/1 [==============================] - 0s 2ms/step - loss: 1.0703e-04 - accuracy: 1.0000\n",
            "Epoch 90/100\n",
            "1/1 [==============================] - 0s 1ms/step - loss: 1.0561e-04 - accuracy: 1.0000\n",
            "Epoch 91/100\n",
            "1/1 [==============================] - 0s 2ms/step - loss: 1.0423e-04 - accuracy: 1.0000\n",
            "Epoch 92/100\n",
            "1/1 [==============================] - 0s 1ms/step - loss: 1.0289e-04 - accuracy: 1.0000\n",
            "Epoch 93/100\n",
            "1/1 [==============================] - 0s 1ms/step - loss: 1.0159e-04 - accuracy: 1.0000\n",
            "Epoch 94/100\n",
            "1/1 [==============================] - 0s 1ms/step - loss: 1.0033e-04 - accuracy: 1.0000\n",
            "Epoch 95/100\n",
            "1/1 [==============================] - 0s 2ms/step - loss: 9.9098e-05 - accuracy: 1.0000\n",
            "Epoch 96/100\n",
            "1/1 [==============================] - 0s 2ms/step - loss: 9.7901e-05 - accuracy: 1.0000\n",
            "Epoch 97/100\n",
            "1/1 [==============================] - 0s 1ms/step - loss: 9.6737e-05 - accuracy: 1.0000\n",
            "Epoch 98/100\n",
            "1/1 [==============================] - 0s 4ms/step - loss: 9.5603e-05 - accuracy: 1.0000\n",
            "Epoch 99/100\n",
            "1/1 [==============================] - 0s 1ms/step - loss: 9.4498e-05 - accuracy: 1.0000\n",
            "Epoch 100/100\n",
            "1/1 [==============================] - 0s 1ms/step - loss: 9.3421e-05 - accuracy: 1.0000\n"
          ],
          "name": "stdout"
        },
        {
          "output_type": "execute_result",
          "data": {
            "text/plain": [
              "GridSearchCV(cv=KFold(n_splits=10, random_state=1, shuffle=True),\n",
              "             error_score=nan,\n",
              "             estimator=<tensorflow.python.keras.wrappers.scikit_learn.KerasClassifier object at 0x7f20171b8400>,\n",
              "             iid='deprecated', n_jobs=None,\n",
              "             param_grid={'batch_size': [15, 2], 'my_lr': [0.001, 0.1],\n",
              "                         'my_lstm_units': [128, 256]},\n",
              "             pre_dispatch='2*n_jobs', refit=True, return_train_score=False,\n",
              "             scoring=<function scorer at 0x7f206804d7b8>, verbose=0)"
            ]
          },
          "metadata": {
            "tags": []
          },
          "execution_count": 157
        }
      ]
    },
    {
      "cell_type": "code",
      "metadata": {
        "id": "lkE-3TQasY57",
        "colab_type": "code",
        "colab": {
          "base_uri": "https://localhost:8080/",
          "height": 34
        },
        "outputId": "a1d3553b-eb48-41fd-bb7f-f6f10a7c781b"
      },
      "source": [
        "gcv.best_params_"
      ],
      "execution_count": 158,
      "outputs": [
        {
          "output_type": "execute_result",
          "data": {
            "text/plain": [
              "{'batch_size': 15, 'my_lr': 0.001, 'my_lstm_units': 256}"
            ]
          },
          "metadata": {
            "tags": []
          },
          "execution_count": 158
        }
      ]
    },
    {
      "cell_type": "code",
      "metadata": {
        "id": "Y273-RibtFnq",
        "colab_type": "code",
        "colab": {
          "base_uri": "https://localhost:8080/",
          "height": 34
        },
        "outputId": "e37dbe8d-dc0d-42c4-9c5b-c84af869104e"
      },
      "source": [
        "gcv.best_score_"
      ],
      "execution_count": 159,
      "outputs": [
        {
          "output_type": "execute_result",
          "data": {
            "text/plain": [
              "1.0"
            ]
          },
          "metadata": {
            "tags": []
          },
          "execution_count": 159
        }
      ]
    },
    {
      "cell_type": "code",
      "metadata": {
        "id": "Y4ltaOmZtIGl",
        "colab_type": "code",
        "colab": {
          "base_uri": "https://localhost:8080/",
          "height": 706
        },
        "outputId": "60104e92-add6-4263-fd22-140961931e1b"
      },
      "source": [
        "gcv.cv_results_"
      ],
      "execution_count": 160,
      "outputs": [
        {
          "output_type": "execute_result",
          "data": {
            "text/plain": [
              "{'mean_fit_time': array([3.98709185, 3.97860601, 3.88172297, 3.85898218, 6.63197458,\n",
              "        6.6452323 , 6.46778839, 6.59929974]),\n",
              " 'mean_score_time': array([0.42921324, 0.43060691, 0.49881136, 0.41829624, 0.41032112,\n",
              "        0.40023963, 0.40671263, 0.40404751]),\n",
              " 'mean_test_score': array([0.9 , 1.  , 0.95, 0.9 , 1.  , 0.9 , 1.  , 0.95]),\n",
              " 'param_batch_size': masked_array(data=[15, 15, 15, 15, 2, 2, 2, 2],\n",
              "              mask=[False, False, False, False, False, False, False, False],\n",
              "        fill_value='?',\n",
              "             dtype=object),\n",
              " 'param_my_lr': masked_array(data=[0.001, 0.001, 0.1, 0.1, 0.001, 0.001, 0.1, 0.1],\n",
              "              mask=[False, False, False, False, False, False, False, False],\n",
              "        fill_value='?',\n",
              "             dtype=object),\n",
              " 'param_my_lstm_units': masked_array(data=[128, 256, 128, 256, 128, 256, 128, 256],\n",
              "              mask=[False, False, False, False, False, False, False, False],\n",
              "        fill_value='?',\n",
              "             dtype=object),\n",
              " 'params': [{'batch_size': 15, 'my_lr': 0.001, 'my_lstm_units': 128},\n",
              "  {'batch_size': 15, 'my_lr': 0.001, 'my_lstm_units': 256},\n",
              "  {'batch_size': 15, 'my_lr': 0.1, 'my_lstm_units': 128},\n",
              "  {'batch_size': 15, 'my_lr': 0.1, 'my_lstm_units': 256},\n",
              "  {'batch_size': 2, 'my_lr': 0.001, 'my_lstm_units': 128},\n",
              "  {'batch_size': 2, 'my_lr': 0.001, 'my_lstm_units': 256},\n",
              "  {'batch_size': 2, 'my_lr': 0.1, 'my_lstm_units': 128},\n",
              "  {'batch_size': 2, 'my_lr': 0.1, 'my_lstm_units': 256}],\n",
              " 'rank_test_score': array([6, 1, 4, 6, 1, 6, 1, 4], dtype=int32),\n",
              " 'split0_test_score': array([1., 1., 1., 1., 1., 1., 1., 1.]),\n",
              " 'split1_test_score': array([0.5, 1. , 1. , 1. , 1. , 0.5, 1. , 1. ]),\n",
              " 'split2_test_score': array([1., 1., 1., 1., 1., 1., 1., 1.]),\n",
              " 'split3_test_score': array([0.5, 1. , 0.5, 0.5, 1. , 0.5, 1. , 0.5]),\n",
              " 'split4_test_score': array([1. , 1. , 1. , 0.5, 1. , 1. , 1. , 1. ]),\n",
              " 'split5_test_score': array([1., 1., 1., 1., 1., 1., 1., 1.]),\n",
              " 'split6_test_score': array([1., 1., 1., 1., 1., 1., 1., 1.]),\n",
              " 'split7_test_score': array([1., 1., 1., 1., 1., 1., 1., 1.]),\n",
              " 'split8_test_score': array([1., 1., 1., 1., 1., 1., 1., 1.]),\n",
              " 'split9_test_score': array([1., 1., 1., 1., 1., 1., 1., 1.]),\n",
              " 'std_fit_time': array([0.2667482 , 0.23468361, 0.25895366, 0.30969672, 0.60457964,\n",
              "        0.45032117, 0.60820557, 0.57136653]),\n",
              " 'std_score_time': array([0.01517917, 0.01145643, 0.25484049, 0.01993213, 0.01714598,\n",
              "        0.01524989, 0.01151328, 0.01394202]),\n",
              " 'std_test_score': array([0.2 , 0.  , 0.15, 0.2 , 0.  , 0.2 , 0.  , 0.15])}"
            ]
          },
          "metadata": {
            "tags": []
          },
          "execution_count": 160
        }
      ]
    },
    {
      "cell_type": "code",
      "metadata": {
        "id": "-BU5hoV8tSyi",
        "colab_type": "code",
        "colab": {
          "base_uri": "https://localhost:8080/",
          "height": 34
        },
        "outputId": "ae02b09f-d7b7-4224-acc7-abe050b39109"
      },
      "source": [
        "gcv.cv_results_['mean_test_score']"
      ],
      "execution_count": 161,
      "outputs": [
        {
          "output_type": "execute_result",
          "data": {
            "text/plain": [
              "array([0.9 , 1.  , 0.95, 0.9 , 1.  , 0.9 , 1.  , 0.95])"
            ]
          },
          "metadata": {
            "tags": []
          },
          "execution_count": 161
        }
      ]
    },
    {
      "cell_type": "code",
      "metadata": {
        "id": "41LkN5YOv9ao",
        "colab_type": "code",
        "colab": {}
      },
      "source": [
        "cvr = gcv.cv_results_"
      ],
      "execution_count": 0,
      "outputs": []
    },
    {
      "cell_type": "code",
      "metadata": {
        "id": "NkWIpb9Xv3Oy",
        "colab_type": "code",
        "colab": {}
      },
      "source": [
        "codes = ['my_lr', 'batch_size', 'my_lstm_units']\n"
      ],
      "execution_count": 0,
      "outputs": []
    },
    {
      "cell_type": "code",
      "metadata": {
        "id": "NSauazB8uKOE",
        "colab_type": "code",
        "colab": {
          "base_uri": "https://localhost:8080/",
          "height": 388
        },
        "outputId": "62b1aa72-fed4-458a-eb4d-125b32495fd6"
      },
      "source": [
        "from mpl_toolkits.mplot3d import Axes3D\n",
        "\n",
        "fig = plt.figure(figsize=(12,6))\n",
        "ax = fig.add_subplot(111, projection='3d')\n",
        "\n",
        "p = ax.scatter(*tuple(cvr[f'param_{code}'].data.astype(float) for code in codes),\n",
        "               c=cvr['mean_test_score'], marker='o', s=50, cmap='viridis', edgecolor='k')\n",
        "fig.colorbar(p, ax=ax)\n",
        "\n",
        "ax.set_xlabel(codes[0])\n",
        "ax.set_ylabel(codes[1])\n",
        "ax.set_zlabel(codes[2])"
      ],
      "execution_count": 173,
      "outputs": [
        {
          "output_type": "execute_result",
          "data": {
            "text/plain": [
              "Text(0.5, 0, 'my_lstm_units')"
            ]
          },
          "metadata": {
            "tags": []
          },
          "execution_count": 173
        },
        {
          "output_type": "display_data",
          "data": {
            "image/png": "[encoded data removed]",
            "text/plain": [
              "<Figure size 864x432 with 2 Axes>"
            ]
          },
          "metadata": {
            "tags": []
          }
        }
      ]
    },
    {
      "cell_type": "code",
      "metadata": {
        "id": "Kcyb73Mf0K6F",
        "colab_type": "code",
        "colab": {}
      },
      "source": [
        ""
      ],
      "execution_count": 0,
      "outputs": []
    }
  ]
}