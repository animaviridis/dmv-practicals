{
  "nbformat": 4,
  "nbformat_minor": 0,
  "metadata": {
    "kernelspec": {
      "name": "python3",
      "display_name": "Python 3"
    },
    "language_info": {
      "codemirror_mode": {
        "name": "ipython",
        "version": 3
      },
      "file_extension": ".py",
      "mimetype": "text/x-python",
      "name": "python",
      "nbconvert_exporter": "python",
      "pygments_lexer": "ipython3",
      "version": "3.8.0"
    },
    "colab": {
      "name": "task2.ipynb",
      "provenance": []
    },
    "accelerator": "GPU"
  },
  "cells": [
    {
      "cell_type": "markdown",
      "metadata": {
        "id": "N2D3H-SwWM3H",
        "colab_type": "text"
      },
      "source": [
        "\n",
        "# Task 2 - LSTM for time series classification"
      ]
    },
    {
      "cell_type": "code",
      "metadata": {
        "id": "NnOFWmBtWM3J",
        "colab_type": "code",
        "colab": {}
      },
      "source": [
        "import numpy as np\n",
        "np.random.seed(1234)\n",
        "\n",
        "from tensorflow.random import set_seed\n",
        "set_seed(4321)\n",
        "\n",
        "import pandas as pd\n",
        "import re\n",
        "import os\n",
        "import pickle\n",
        "\n",
        "import matplotlib.pyplot as plt\n",
        "import seaborn as sns\n"
      ],
      "execution_count": 0,
      "outputs": []
    },
    {
      "cell_type": "code",
      "metadata": {
        "id": "cANWqWj6WM3P",
        "colab_type": "code",
        "colab": {}
      },
      "source": [
        "sns.set_style(\"darkgrid\")\n",
        "sns.set(font_scale=1.3)"
      ],
      "execution_count": 0,
      "outputs": []
    },
    {
      "cell_type": "markdown",
      "metadata": {
        "id": "q8KW2n2yWM3U",
        "colab_type": "text"
      },
      "source": [
        "## Data import & EDA"
      ]
    },
    {
      "cell_type": "code",
      "metadata": {
        "id": "NwLAx64TaWhr",
        "colab_type": "code",
        "colab": {}
      },
      "source": [
        "# import files stored on Google drive\n",
        "from google.colab import drive\n",
        "drive.mount('/content/gdrive')\n",
        "\n",
        "# OR upload files\n",
        "# files.upload()\n",
        "\n",
        "# OR use local data -> edit DATA_DIR"
      ],
      "execution_count": 0,
      "outputs": []
    },
    {
      "cell_type": "code",
      "metadata": {
        "id": "X59at-mVWM3V",
        "colab_type": "code",
        "colab": {}
      },
      "source": [
        "# setup paths to data (and outputs)\n",
        "ROOT_DIR = 'gdrive/My Drive/Colab Notebooks/Colab data/DMV_1_2'\n",
        "DATA_DIR = f'{ROOT_DIR}/input'\n",
        "OUTPUT_DIR = f'/content/{ROOT_DIR}/output'\n",
        "\n",
        "# specify file name pattern\n",
        "FILE_NAME_PREFIX = 'Ambient_Living_'\n",
        "data_file_pattern = FILE_NAME_PREFIX + r'(?P<seq_id>\\d+).csv'\n",
        "\n",
        "# retrieve matching file names\n",
        "data_files = list(filter(lambda s: re.match(data_file_pattern, s) is not None, os.listdir(DATA_DIR)))\n",
        "N_FILES = len(data_files)\n",
        "N_FILES"
      ],
      "execution_count": 0,
      "outputs": []
    },
    {
      "cell_type": "code",
      "metadata": {
        "id": "Ky8cJhCoHRzE",
        "colab_type": "code",
        "colab": {}
      },
      "source": [
        "seq_ids = sorted(int(re.match(data_file_pattern, file_name).group('seq_id')) for file_name in data_files)\n",
        "print(seq_ids)"
      ],
      "execution_count": 0,
      "outputs": []
    },
    {
      "cell_type": "code",
      "metadata": {
        "id": "ecCm9migWM3c",
        "colab_type": "code",
        "colab": {}
      },
      "source": [
        "def load_file(file_code, strip=False):\n",
        "    df = pd.read_csv(f'{DATA_DIR}/{FILE_NAME_PREFIX}{file_code}.csv')\n",
        "    \n",
        "    if strip:\n",
        "        df.columns = [c.strip() for c in df.columns]\n",
        "    \n",
        "    return df"
      ],
      "execution_count": 0,
      "outputs": []
    },
    {
      "cell_type": "markdown",
      "metadata": {
        "id": "FjAa-HKuWM3f",
        "colab_type": "text"
      },
      "source": [
        "### Data example"
      ]
    },
    {
      "cell_type": "code",
      "metadata": {
        "id": "fW5kqtv4WM3f",
        "colab_type": "code",
        "colab": {}
      },
      "source": [
        "seq_id = seq_ids[0]\n",
        "data_example = load_file(seq_id)\n",
        "data_example.head()"
      ],
      "execution_count": 0,
      "outputs": []
    },
    {
      "cell_type": "code",
      "metadata": {
        "id": "YJwl2DLUWM3k",
        "colab_type": "code",
        "colab": {}
      },
      "source": [
        "data_example.describe()"
      ],
      "execution_count": 0,
      "outputs": []
    },
    {
      "cell_type": "code",
      "metadata": {
        "id": "SZ-t1vXcWM3p",
        "colab_type": "code",
        "colab": {}
      },
      "source": [
        "fig, ax = plt.subplots(figsize=(12,4))\n",
        "ax = sns.lineplot(ax=ax, data=data_example, dashes=False)\n",
        "_ = ax.set_title(f\"Sequence #{seq_id}\")"
      ],
      "execution_count": 0,
      "outputs": []
    },
    {
      "cell_type": "markdown",
      "metadata": {
        "id": "ul85jiaMWM3v",
        "colab_type": "text"
      },
      "source": [
        "### Targets - class labels"
      ]
    },
    {
      "cell_type": "code",
      "metadata": {
        "id": "S8XoKk2FWM3v",
        "colab_type": "code",
        "colab": {}
      },
      "source": [
        "# load targets (class labels) for available sequences (only those which have been uploaded)\n",
        "targets = load_file('target', True).iloc[np.array(seq_ids)-1]\n",
        "targets.head()"
      ],
      "execution_count": 0,
      "outputs": []
    },
    {
      "cell_type": "code",
      "metadata": {
        "id": "bsY_2_yuWM3y",
        "colab_type": "code",
        "colab": {}
      },
      "source": [
        "targets['class_label'].value_counts()  # number of classes, class labels, number of examples per class"
      ],
      "execution_count": 0,
      "outputs": []
    },
    {
      "cell_type": "code",
      "metadata": {
        "id": "p5qQuVv9iWpe",
        "colab_type": "code",
        "colab": {}
      },
      "source": [
        "all_labels = ((targets['class_label'].values + 1)/2).astype(\"int32\")"
      ],
      "execution_count": 0,
      "outputs": []
    },
    {
      "cell_type": "markdown",
      "metadata": {
        "id": "P5nyTnFLWM32",
        "colab_type": "text"
      },
      "source": [
        "### All data files"
      ]
    },
    {
      "cell_type": "code",
      "metadata": {
        "id": "xrc0NMN6WM32",
        "colab_type": "code",
        "colab": {}
      },
      "source": [
        "# load data for the available sequences\n",
        "all_data = [load_file(i) for i in seq_ids]\n"
      ],
      "execution_count": 0,
      "outputs": []
    },
    {
      "cell_type": "code",
      "metadata": {
        "id": "cR3w07zAWM36",
        "colab_type": "code",
        "colab": {}
      },
      "source": [
        "descr = targets['class_label'].to_frame()\n",
        "descr.index=targets['#sequence_ID']\n",
        "descr['length'] = [d.shape[0] for d in all_data]\n",
        "descr['n_features'] = [d.shape[1] for d in all_data]\n",
        "descr.head()"
      ],
      "execution_count": 0,
      "outputs": []
    },
    {
      "cell_type": "code",
      "metadata": {
        "id": "_MhUsGAoWM3_",
        "colab_type": "code",
        "colab": {}
      },
      "source": [
        "descr[descr.columns[1:]].describe(percentiles=np.arange(0.2, 1, 0.2))"
      ],
      "execution_count": 0,
      "outputs": []
    },
    {
      "cell_type": "markdown",
      "metadata": {
        "id": "2ZkhubM7WM4C",
        "colab_type": "text"
      },
      "source": [
        "## Pre-processing\n",
        "### Adjust sequence lengths to the global 80th quantile"
      ]
    },
    {
      "cell_type": "code",
      "metadata": {
        "id": "wMqwQBnlWM4D",
        "colab_type": "code",
        "colab": {}
      },
      "source": [
        "q_cut = 0.8  # cut the length at the 80th quantile\n",
        "q_cut_value = int(descr['length'].quantile(q_cut))  # get the length corresponding to the quantile\n",
        "q_cut_value"
      ],
      "execution_count": 0,
      "outputs": []
    },
    {
      "cell_type": "code",
      "metadata": {
        "id": "Pti60163WM4G",
        "colab_type": "code",
        "colab": {}
      },
      "source": [
        "fig, ax = plt.subplots(figsize=(12,4))\n",
        "\n",
        "w = 5\n",
        "ln = descr['length']\n",
        "labels_set = descr['class_label'].unique()\n",
        "lengths_classes = [ln[descr['class_label'] == label] for label in labels_set]\n",
        "\n",
        "hist = ax.hist(lengths_classes,\n",
        "               bins=range(w*(min(ln)//w), max(ln)+w, w),\n",
        "               label=[f'class {label} (total: {len(lengths_classes[i])})' for i, label in enumerate(labels_set)],\n",
        "               stacked=True, rwidth=0.9)\n",
        "\n",
        "ax.axvline(q_cut_value, color='crimson', linestyle='-.', lw=2, label=f'{100*q_cut:.0f}th quantile ({q_cut_value})')\n",
        "\n",
        "ax.legend(fancybox=True, framealpha=0.5)\n",
        "ax.set_xlabel(\"Length [samples]\")\n",
        "ax.set_ylabel(\"Count\")\n",
        "plt.show()"
      ],
      "execution_count": 0,
      "outputs": []
    },
    {
      "cell_type": "code",
      "metadata": {
        "id": "vfCzSuJaWM4J",
        "colab_type": "code",
        "colab": {}
      },
      "source": [
        "# prepare array for the pre-processed data (216x54x4)\n",
        "all_data_prep = np.zeros((len(all_data), q_cut_value, all_data[0].shape[1]))\n",
        "\n",
        "# fill the array with data for cropped sequences (the padding to 0 is automatic by non-filling the already zero-filled rows)\n",
        "for i, sequence in enumerate(all_data):\n",
        "    all_data_prep[i, :min(q_cut_value, sequence.shape[0]), :] = sequence.iloc[:q_cut_value, :]"
      ],
      "execution_count": 0,
      "outputs": []
    },
    {
      "cell_type": "code",
      "metadata": {
        "id": "ScLcOGfMWM4L",
        "colab_type": "code",
        "colab": {}
      },
      "source": [
        "fig, ax = plt.subplots(figsize=(12,4))\n",
        "ax = sns.lineplot(ax=ax, data=all_data_prep[0], dashes=False)\n",
        "_ = ax.set_title(f\"Sequence #{seq_id} (adjusted length)\")\n",
        "_ = ax.legend(data_example.columns)"
      ],
      "execution_count": 0,
      "outputs": []
    },
    {
      "cell_type": "markdown",
      "metadata": {
        "id": "_D1tE3kLhU54",
        "colab_type": "text"
      },
      "source": [
        "## Train-test split\n",
        "Split the data to training and test sets (in 80-20 proportion). Use a stratified split to preserve the proportion of class labels and fix random state for reproducibility.\n",
        "\n",
        "The (global) training set will further be split 10 times to (particular) train and validation sets during 10-fold cross-validated grid search.\n",
        "\n",
        "The test set (holdout set) will be used to evaluate some of the cross-validated models."
      ]
    },
    {
      "cell_type": "code",
      "metadata": {
        "id": "fCOLXJebiQdn",
        "colab_type": "code",
        "colab": {}
      },
      "source": [
        "from sklearn.model_selection import train_test_split"
      ],
      "execution_count": 0,
      "outputs": []
    },
    {
      "cell_type": "code",
      "metadata": {
        "id": "fG4-7EO0hUWM",
        "colab_type": "code",
        "colab": {}
      },
      "source": [
        "data_train, data_test, labels_train, labels_test = train_test_split(all_data_prep, all_labels, test_size=0.2,\n",
        "                                                                    random_state=0, shuffle=True, stratify=all_labels)\n"
      ],
      "execution_count": 0,
      "outputs": []
    },
    {
      "cell_type": "code",
      "metadata": {
        "id": "vhkMGx7si720",
        "colab_type": "code",
        "colab": {}
      },
      "source": [
        "print(data_train.shape, data_test.shape, labels_train.shape, labels_test.shape)"
      ],
      "execution_count": 0,
      "outputs": []
    },
    {
      "cell_type": "markdown",
      "metadata": {
        "id": "zh3lZREGWM4P",
        "colab_type": "text"
      },
      "source": [
        "## LSTM"
      ]
    },
    {
      "cell_type": "code",
      "metadata": {
        "id": "oqsOl67-WM4Q",
        "colab_type": "code",
        "colab": {}
      },
      "source": [
        "from tensorflow.keras.models import Sequential\n",
        "from tensorflow.keras import layers\n",
        "from tensorflow.keras.optimizers import Adam\n",
        "\n",
        "from sklearn.metrics import accuracy_score\n"
      ],
      "execution_count": 0,
      "outputs": []
    },
    {
      "cell_type": "code",
      "metadata": {
        "id": "p8kY4kfbWM4S",
        "colab_type": "code",
        "colab": {}
      },
      "source": [
        "# a function defining a model to be evaluated (after wrapping by the Keras)\n",
        "def make_lstm(my_lstm_units, my_lr, **kwargs):\n",
        "    lstm_model = Sequential()\n",
        "    lstm_model.add(layers.LSTM(my_lstm_units, input_shape=all_data_prep.shape[1:]))\n",
        "    lstm_model.add(layers.Dense(1, activation='sigmoid'))\n",
        "    \n",
        "    adam = Adam(lr=my_lr)\n",
        "    lstm_model.compile(loss='binary_crossentropy', optimizer=adam, metrics=['accuracy'])\n",
        "    return lstm_model\n",
        "\n",
        "fit_params = dict(epochs=100, verbose=0)  # same for all models\n"
      ],
      "execution_count": 0,
      "outputs": []
    },
    {
      "cell_type": "code",
      "metadata": {
        "id": "nA80YJOpWM4c",
        "colab_type": "code",
        "colab": {}
      },
      "source": [
        "# define a scoring function for the cross validation - class prediction accuracy\n",
        "def scorer(estimator, X, y):\n",
        "    return accuracy_score((estimator.predict(X) > 0.5).astype(\"int32\"), y) \n"
      ],
      "execution_count": 0,
      "outputs": []
    },
    {
      "cell_type": "markdown",
      "metadata": {
        "id": "b4OXYURDuqXL",
        "colab_type": "text"
      },
      "source": [
        "## Grid search"
      ]
    },
    {
      "cell_type": "code",
      "metadata": {
        "id": "GVH2ONy9gIAB",
        "colab_type": "code",
        "colab": {}
      },
      "source": [
        "from tensorflow.keras.wrappers.scikit_learn import KerasClassifier\n",
        "from sklearn.model_selection import GridSearchCV, KFold"
      ],
      "execution_count": 0,
      "outputs": []
    },
    {
      "cell_type": "code",
      "metadata": {
        "id": "NHIpJ3-xr67j",
        "colab_type": "code",
        "colab": {
          "base_uri": "https://localhost:8080/",
          "height": 34
        },
        "outputId": "25fd0439-b7b9-4e78-a81a-00ce2df57c6b"
      },
      "source": [
        "def batch(k, min_batch=16):\n",
        "    return min_batch * ((N_FILES // (k*min_batch)) or 1)\n",
        "\n",
        "batch_sizes = [N_FILES, batch(3), batch(10)]\n",
        "batch_sizes"
      ],
      "execution_count": 5,
      "outputs": [
        {
          "output_type": "execute_result",
          "data": {
            "text/plain": [
              "[216, 64, 16]"
            ]
          },
          "metadata": {
            "tags": []
          },
          "execution_count": 5
        }
      ]
    },
    {
      "cell_type": "code",
      "metadata": {
        "id": "WQBMwBUX1uEu",
        "colab_type": "code",
        "colab": {}
      },
      "source": [
        "# define a parameter grid for the search\n",
        "param_grid = {'my_lr': [0.0001, 0.001, 0.01],\n",
        "              'batch_size': batch_sizes,\n",
        "              'my_lstm_units': [64, 128, 256]}"
      ],
      "execution_count": 0,
      "outputs": []
    },
    {
      "cell_type": "code",
      "metadata": {
        "id": "-_i5u8I6u_nV",
        "colab_type": "code",
        "colab": {}
      },
      "source": [
        "# define grid search with 10-fold cross-validation\n",
        "gcv = GridSearchCV(KerasClassifier(make_lstm, **fit_params), param_grid=param_grid,\n",
        "                   cv=KFold(n_splits=10, shuffle=True, random_state=1),\n",
        "                   scoring=scorer, n_jobs=-1)\n",
        "gcv"
      ],
      "execution_count": 0,
      "outputs": []
    },
    {
      "cell_type": "code",
      "metadata": {
        "id": "wMs35LPcq1DC",
        "colab_type": "code",
        "colab": {}
      },
      "source": [
        "gcv.fit(data_train, labels_train)"
      ],
      "execution_count": 0,
      "outputs": []
    },
    {
      "cell_type": "code",
      "metadata": {
        "id": "buBMCJNoYOqy",
        "colab_type": "code",
        "colab": {}
      },
      "source": [
        "gcv_results = pd.DataFrame(gcv.cv_results_['params'])\n",
        "codes = gcv_results.columns\n",
        "\n",
        "gcv_results['mean_fit_time'] = gcv.cv_results_['mean_fit_time']\n",
        "gcv_results['mean_test_score'] = gcv.cv_results_['mean_test_score']\n",
        "gcv_results.sort_values('mean_test_score', ascending=False, inplace=True)\n",
        "gcv_results.reset_index(inplace=True)\n",
        "\n",
        "gcv_results\n"
      ],
      "execution_count": 0,
      "outputs": []
    },
    {
      "cell_type": "code",
      "metadata": {
        "id": "hHPykNuMo2ug",
        "colab_type": "code",
        "colab": {}
      },
      "source": [
        "gcv_results.to_pickle(f'{OUTPUT_DIR}/gcv_results.pkl')"
      ],
      "execution_count": 0,
      "outputs": []
    },
    {
      "cell_type": "code",
      "metadata": {
        "id": "fmFxHgPooI2I",
        "colab_type": "code",
        "colab": {}
      },
      "source": [
        "fig, axes = plt.subplots(3, 1, figsize=(10,8), sharex='all', sharey='all')\n",
        "for i, ax in enumerate(axes):\n",
        "    col = gcv_results.columns[i+1]\n",
        "    vals = gcv_results[col]\n",
        "    hist = ax.hist(tuple(gcv_results['mean_test_score'].iloc[np.where(vals==i)] for i in set(vals)),\n",
        "                   bins=10, label=set(vals), stacked=True, rwidth=0.9)\n",
        "    ax.legend(title=col, loc=2)\n",
        "    ax.set_ylabel('count')\n",
        "axes[-1].set_xlabel('mean_test_score')"
      ],
      "execution_count": 0,
      "outputs": []
    },
    {
      "cell_type": "code",
      "metadata": {
        "id": "Kcyb73Mf0K6F",
        "colab_type": "code",
        "colab": {}
      },
      "source": [
        "fig, axes = plt.subplots(3, 1, sharex='all', figsize=(12, 10))\n",
        "for i, ax in enumerate(axes):\n",
        "    sns.scatterplot(data=gcv_results, x='mean_test_score', y=codes[i], ax=ax, hue='mean_test_score',\n",
        "                    palette='hot', legend=None, edgecolor='k', s=100)\n",
        "  \n",
        "axes[1].set_yscale('log')"
      ],
      "execution_count": 0,
      "outputs": []
    },
    {
      "cell_type": "code",
      "metadata": {
        "id": "NSauazB8uKOE",
        "colab_type": "code",
        "colab": {}
      },
      "source": [
        "from mpl_toolkits.mplot3d import Axes3D\n",
        "\n",
        "\n",
        "with sns.plotting_context('paper', font_scale=1.3):\n",
        "    sns.set_style('whitegrid')\n",
        "\n",
        "    fig = plt.figure(figsize=(12,6), facecolor=(1, 1, 1))\n",
        "\n",
        "    ax = fig.add_subplot(111, projection='3d')\n",
        "\n",
        "\n",
        "    mts = gcv_results['mean_test_score']\n",
        "\n",
        "    p = ax.scatter(*tuple(gcv_results[code] for code in codes),\n",
        "                  c=mts, marker='o', cmap='hot', edgecolor='k',\n",
        "                  s=300*(mts-0.95*mts.min()))\n",
        "    \n",
        "    cbar = fig.colorbar(p)\n",
        "    cbar.set_label('mean test score', rotation=90)\n",
        "\n",
        "\n",
        "    ax.set_xlabel(codes[0])\n",
        "    ax.set_ylabel(codes[1])\n",
        "    ax.set_zlabel(codes[2])\n",
        "\n",
        "sns.set_style('darkgrid')\n"
      ],
      "execution_count": 0,
      "outputs": []
    },
    {
      "cell_type": "markdown",
      "metadata": {
        "id": "gHp9ZkQijtrE",
        "colab_type": "text"
      },
      "source": [
        "## Validation on the test set"
      ]
    },
    {
      "cell_type": "code",
      "metadata": {
        "id": "f7FOzuUtj0g8",
        "colab_type": "code",
        "colab": {}
      },
      "source": [
        "def evaluate_model(model_id):\n",
        "\n",
        "    model_params = dict(gcv_results.loc[model_id, codes])\n",
        "\n",
        "    for p in ['my_lstm_units', 'batch_size']:\n",
        "      model_params[p] = int(model_params[p])\n",
        "\n",
        "    fit_params['batch_size'] = model_params['batch_size']\n",
        "\n",
        "    model = make_lstm(**model_params)\n",
        "    model.fit(data_train, labels_train, **fit_params, validation_data=(data_test, labels_test))\n",
        "\n",
        "    fig, ax = plt.subplots(figsize=(10,4))\n",
        "    sns.lineplot(data=pd.DataFrame(model.history.history), dashes=False)\n",
        "    ax.set_title(f\"Model {model_id}: {model_params} -> test acc.: {scorer(model, data_test, labels_test):.2f}\")\n",
        "    ax.set_xlabel(\"Epoch\")\n",
        "    return model\n"
      ],
      "execution_count": 0,
      "outputs": []
    },
    {
      "cell_type": "code",
      "metadata": {
        "id": "_xa___Hnk-pA",
        "colab_type": "code",
        "colab": {}
      },
      "source": [
        "for i in range(5):\n",
        "    evaluate_model(i)"
      ],
      "execution_count": 0,
      "outputs": []
    },
    {
      "cell_type": "code",
      "metadata": {
        "id": "Jq2Qkl5msLIR",
        "colab_type": "code",
        "colab": {}
      },
      "source": [
        ""
      ],
      "execution_count": 0,
      "outputs": []
    }
  ]
}