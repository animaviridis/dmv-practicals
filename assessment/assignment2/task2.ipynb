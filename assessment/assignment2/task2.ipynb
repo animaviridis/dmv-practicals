{
  "nbformat": 4,
  "nbformat_minor": 0,
  "metadata": {
    "kernelspec": {
      "display_name": "Python 3",
      "language": "python",
      "name": "python3"
    },
    "language_info": {
      "codemirror_mode": {
        "name": "ipython",
        "version": 2
      },
      "file_extension": ".py",
      "mimetype": "text/x-python",
      "name": "python",
      "nbconvert_exporter": "python",
      "pygments_lexer": "ipython2",
      "version": "2.7.6"
    },
    "colab": {
      "name": "task2.ipynb",
      "provenance": []
    }
  },
  "cells": [
    {
      "cell_type": "markdown",
      "metadata": {
        "id": "A9sGXwS5v_l3",
        "colab_type": "text"
      },
      "source": [
        "# Assignment 2, Task 2 - Nuclear reactors data classification"
      ]
    },
    {
      "cell_type": "code",
      "metadata": {
        "id": "ftie49KPxosl",
        "colab_type": "code",
        "outputId": "ce8498e5-b7a1-4132-9402-2f79061aece2",
        "colab": {
          "base_uri": "https://localhost:8080/",
          "height": 70
        }
      },
      "source": [
        "import numpy as np\n",
        "import pandas as pd\n",
        "import matplotlib.pyplot as plt\n",
        "import seaborn as sns"
      ],
      "execution_count": 0,
      "outputs": [
        {
          "output_type": "stream",
          "text": [
            "/usr/local/lib/python3.6/dist-packages/statsmodels/tools/_testing.py:19: FutureWarning: pandas.util.testing is deprecated. Use the functions in the public API at pandas.testing instead.\n",
            "  import pandas.util.testing as tm\n"
          ],
          "name": "stderr"
        }
      ]
    },
    {
      "cell_type": "code",
      "metadata": {
        "id": "eU3jqlpSxrcp",
        "colab_type": "code",
        "colab": {}
      },
      "source": [
        "sns.set_style(\"darkgrid\")\n",
        "sns.set(font_scale=1.3)"
      ],
      "execution_count": 0,
      "outputs": []
    },
    {
      "cell_type": "markdown",
      "metadata": {
        "id": "iA_miMvT0XBj",
        "colab_type": "text"
      },
      "source": [
        "## Setup Spark environment\n",
        "Note: the code in this section has been adapted from DM&V Practical 4."
      ]
    },
    {
      "cell_type": "code",
      "metadata": {
        "id": "JU6mFq2M0k1n",
        "colab_type": "code",
        "colab": {}
      },
      "source": [
        "# install dependencies\n",
        "!apt-get install -y openjdk-8-jdk-headless -qq > /dev/null\n",
        "!wget -q https://www-us.apache.org/dist/spark/spark-2.4.5/spark-2.4.5-bin-hadoop2.7.tgz\n",
        "!tar xf spark-2.4.5-bin-hadoop2.7.tgz\n",
        "!pip install -q findspark"
      ],
      "execution_count": 0,
      "outputs": []
    },
    {
      "cell_type": "code",
      "metadata": {
        "id": "yLEKE-q1NeUB",
        "colab_type": "code",
        "colab": {}
      },
      "source": [
        "# set environmental variables\n",
        "import os\n",
        "os.environ[\"JAVA_HOME\"] = \"/usr/lib/jvm/java-8-openjdk-amd64\"\n",
        "os.environ[\"SPARK_HOME\"] = \"/content/spark-2.4.5-bin-hadoop2.7\""
      ],
      "execution_count": 0,
      "outputs": []
    },
    {
      "cell_type": "code",
      "metadata": {
        "id": "OQ7iV_o71DoH",
        "colab_type": "code",
        "colab": {}
      },
      "source": [
        "# start a local Spark session\n",
        "\n",
        "import findspark\n",
        "findspark.init()\n",
        "\n",
        "from pyspark.sql import SparkSession\n",
        "spark = SparkSession.builder.master(\"local[*]\").appName(\"NuclearReactorsClassification\").getOrCreate()"
      ],
      "execution_count": 0,
      "outputs": []
    },
    {
      "cell_type": "markdown",
      "metadata": {
        "id": "iij3gq1axuvg",
        "colab_type": "text"
      },
      "source": [
        "## Load data"
      ]
    },
    {
      "cell_type": "code",
      "metadata": {
        "id": "1ecXiiyevzK1",
        "colab_type": "code",
        "colab": {}
      },
      "source": [
        "# upload file\n",
        "from google.colab import files\n",
        "files.upload()"
      ],
      "execution_count": 0,
      "outputs": []
    },
    {
      "cell_type": "code",
      "metadata": {
        "id": "rfvv3tUD1bmB",
        "colab_type": "code",
        "outputId": "560614fe-2db7-4bf9-be8e-fd099874cd11",
        "colab": {
          "base_uri": "https://localhost:8080/",
          "height": 232
        }
      },
      "source": [
        "# load the data file using pandas - better for generating descriptions of the data\n",
        "df = pd.read_csv('data.csv')\n",
        "df.head()"
      ],
      "execution_count": 0,
      "outputs": [
        {
          "output_type": "execute_result",
          "data": {
            "text/html": [
              "<div>\n",
              "<style scoped>\n",
              "    .dataframe tbody tr th:only-of-type {\n",
              "        vertical-align: middle;\n",
              "    }\n",
              "\n",
              "    .dataframe tbody tr th {\n",
              "        vertical-align: top;\n",
              "    }\n",
              "\n",
              "    .dataframe thead th {\n",
              "        text-align: right;\n",
              "    }\n",
              "</style>\n",
              "<table border=\"1\" class=\"dataframe\">\n",
              "  <thead>\n",
              "    <tr style=\"text-align: right;\">\n",
              "      <th></th>\n",
              "      <th>Status</th>\n",
              "      <th>Power_range_sensor_1</th>\n",
              "      <th>Power_range_sensor_2</th>\n",
              "      <th>Power_range_sensor_3</th>\n",
              "      <th>Power_range_sensor_4</th>\n",
              "      <th>Pressure _sensor_1</th>\n",
              "      <th>Pressure _sensor_2</th>\n",
              "      <th>Pressure _sensor_3</th>\n",
              "      <th>Pressure _sensor_4</th>\n",
              "      <th>Vibration_sensor_1</th>\n",
              "      <th>Vibration_sensor_2</th>\n",
              "      <th>Vibration_sensor_3</th>\n",
              "      <th>Vibration_sensor_4</th>\n",
              "    </tr>\n",
              "  </thead>\n",
              "  <tbody>\n",
              "    <tr>\n",
              "      <th>0</th>\n",
              "      <td>Normal</td>\n",
              "      <td>4.5044</td>\n",
              "      <td>0.7443</td>\n",
              "      <td>6.3400</td>\n",
              "      <td>1.9052</td>\n",
              "      <td>29.5315</td>\n",
              "      <td>0.8647</td>\n",
              "      <td>2.2044</td>\n",
              "      <td>6.0480</td>\n",
              "      <td>14.4659</td>\n",
              "      <td>21.6480</td>\n",
              "      <td>15.3429</td>\n",
              "      <td>1.2186</td>\n",
              "    </tr>\n",
              "    <tr>\n",
              "      <th>1</th>\n",
              "      <td>Normal</td>\n",
              "      <td>4.4284</td>\n",
              "      <td>0.9073</td>\n",
              "      <td>5.6433</td>\n",
              "      <td>1.6232</td>\n",
              "      <td>27.5032</td>\n",
              "      <td>1.4704</td>\n",
              "      <td>1.9929</td>\n",
              "      <td>5.9856</td>\n",
              "      <td>20.8356</td>\n",
              "      <td>0.0646</td>\n",
              "      <td>14.8813</td>\n",
              "      <td>7.3483</td>\n",
              "    </tr>\n",
              "    <tr>\n",
              "      <th>2</th>\n",
              "      <td>Normal</td>\n",
              "      <td>4.5291</td>\n",
              "      <td>1.0199</td>\n",
              "      <td>6.1130</td>\n",
              "      <td>1.0565</td>\n",
              "      <td>26.4271</td>\n",
              "      <td>1.9247</td>\n",
              "      <td>1.9420</td>\n",
              "      <td>6.7162</td>\n",
              "      <td>5.3358</td>\n",
              "      <td>11.0779</td>\n",
              "      <td>25.0914</td>\n",
              "      <td>9.2408</td>\n",
              "    </tr>\n",
              "    <tr>\n",
              "      <th>3</th>\n",
              "      <td>Normal</td>\n",
              "      <td>5.1727</td>\n",
              "      <td>1.0007</td>\n",
              "      <td>7.8589</td>\n",
              "      <td>0.2765</td>\n",
              "      <td>25.1576</td>\n",
              "      <td>2.6090</td>\n",
              "      <td>2.9234</td>\n",
              "      <td>6.7485</td>\n",
              "      <td>1.9017</td>\n",
              "      <td>1.8463</td>\n",
              "      <td>28.6640</td>\n",
              "      <td>4.0157</td>\n",
              "    </tr>\n",
              "    <tr>\n",
              "      <th>4</th>\n",
              "      <td>Normal</td>\n",
              "      <td>5.2258</td>\n",
              "      <td>0.6125</td>\n",
              "      <td>7.9504</td>\n",
              "      <td>0.1547</td>\n",
              "      <td>24.0765</td>\n",
              "      <td>3.2113</td>\n",
              "      <td>4.4563</td>\n",
              "      <td>5.8411</td>\n",
              "      <td>0.5077</td>\n",
              "      <td>9.3700</td>\n",
              "      <td>34.8122</td>\n",
              "      <td>13.4966</td>\n",
              "    </tr>\n",
              "  </tbody>\n",
              "</table>\n",
              "</div>"
            ],
            "text/plain": [
              "   Status  Power_range_sensor_1  ...  Vibration_sensor_3  Vibration_sensor_4\n",
              "0  Normal                4.5044  ...             15.3429              1.2186\n",
              "1  Normal                4.4284  ...             14.8813              7.3483\n",
              "2  Normal                4.5291  ...             25.0914              9.2408\n",
              "3  Normal                5.1727  ...             28.6640              4.0157\n",
              "4  Normal                5.2258  ...             34.8122             13.4966\n",
              "\n",
              "[5 rows x 13 columns]"
            ]
          },
          "metadata": {
            "tags": []
          },
          "execution_count": 7
        }
      ]
    },
    {
      "cell_type": "code",
      "metadata": {
        "id": "u318gcWIy0M6",
        "colab_type": "code",
        "outputId": "929dc3c6-d81c-4001-baa7-cb41b3bf28c9",
        "colab": {
          "base_uri": "https://localhost:8080/",
          "height": 218
        }
      },
      "source": [
        "# extract list of the 12 feature names\n",
        "feature_names = list(df.columns[1:])\n",
        "feature_names"
      ],
      "execution_count": 0,
      "outputs": [
        {
          "output_type": "execute_result",
          "data": {
            "text/plain": [
              "['Power_range_sensor_1',\n",
              " 'Power_range_sensor_2',\n",
              " 'Power_range_sensor_3 ',\n",
              " 'Power_range_sensor_4',\n",
              " 'Pressure _sensor_1',\n",
              " 'Pressure _sensor_2',\n",
              " 'Pressure _sensor_3',\n",
              " 'Pressure _sensor_4',\n",
              " 'Vibration_sensor_1',\n",
              " 'Vibration_sensor_2',\n",
              " 'Vibration_sensor_3',\n",
              " 'Vibration_sensor_4']"
            ]
          },
          "metadata": {
            "tags": []
          },
          "execution_count": 8
        }
      ]
    },
    {
      "cell_type": "code",
      "metadata": {
        "id": "YnM27DnSYaRS",
        "colab_type": "code",
        "outputId": "fcb3a5de-0ebb-43d0-d1f2-f5bf8eda17b9",
        "colab": {
          "base_uri": "https://localhost:8080/",
          "height": 284
        }
      },
      "source": [
        "# feature statistics - part 1\n",
        "df[feature_names[:6]].describe().round(3)"
      ],
      "execution_count": 0,
      "outputs": [
        {
          "output_type": "execute_result",
          "data": {
            "text/html": [
              "<div>\n",
              "<style scoped>\n",
              "    .dataframe tbody tr th:only-of-type {\n",
              "        vertical-align: middle;\n",
              "    }\n",
              "\n",
              "    .dataframe tbody tr th {\n",
              "        vertical-align: top;\n",
              "    }\n",
              "\n",
              "    .dataframe thead th {\n",
              "        text-align: right;\n",
              "    }\n",
              "</style>\n",
              "<table border=\"1\" class=\"dataframe\">\n",
              "  <thead>\n",
              "    <tr style=\"text-align: right;\">\n",
              "      <th></th>\n",
              "      <th>Power_range_sensor_1</th>\n",
              "      <th>Power_range_sensor_2</th>\n",
              "      <th>Power_range_sensor_3</th>\n",
              "      <th>Power_range_sensor_4</th>\n",
              "      <th>Pressure _sensor_1</th>\n",
              "      <th>Pressure _sensor_2</th>\n",
              "    </tr>\n",
              "  </thead>\n",
              "  <tbody>\n",
              "    <tr>\n",
              "      <th>count</th>\n",
              "      <td>996.000</td>\n",
              "      <td>996.000</td>\n",
              "      <td>996.000</td>\n",
              "      <td>996.000</td>\n",
              "      <td>996.000</td>\n",
              "      <td>996.000</td>\n",
              "    </tr>\n",
              "    <tr>\n",
              "      <th>mean</th>\n",
              "      <td>5.000</td>\n",
              "      <td>6.379</td>\n",
              "      <td>9.228</td>\n",
              "      <td>7.355</td>\n",
              "      <td>14.199</td>\n",
              "      <td>3.078</td>\n",
              "    </tr>\n",
              "    <tr>\n",
              "      <th>std</th>\n",
              "      <td>2.765</td>\n",
              "      <td>2.313</td>\n",
              "      <td>2.532</td>\n",
              "      <td>4.355</td>\n",
              "      <td>11.680</td>\n",
              "      <td>2.126</td>\n",
              "    </tr>\n",
              "    <tr>\n",
              "      <th>min</th>\n",
              "      <td>0.008</td>\n",
              "      <td>0.040</td>\n",
              "      <td>2.584</td>\n",
              "      <td>0.062</td>\n",
              "      <td>0.025</td>\n",
              "      <td>0.008</td>\n",
              "    </tr>\n",
              "    <tr>\n",
              "      <th>25%</th>\n",
              "      <td>2.892</td>\n",
              "      <td>4.932</td>\n",
              "      <td>7.511</td>\n",
              "      <td>3.438</td>\n",
              "      <td>5.015</td>\n",
              "      <td>1.416</td>\n",
              "    </tr>\n",
              "    <tr>\n",
              "      <th>50%</th>\n",
              "      <td>4.881</td>\n",
              "      <td>6.470</td>\n",
              "      <td>9.348</td>\n",
              "      <td>7.072</td>\n",
              "      <td>11.717</td>\n",
              "      <td>2.672</td>\n",
              "    </tr>\n",
              "    <tr>\n",
              "      <th>75%</th>\n",
              "      <td>6.795</td>\n",
              "      <td>8.105</td>\n",
              "      <td>11.047</td>\n",
              "      <td>10.917</td>\n",
              "      <td>20.280</td>\n",
              "      <td>4.502</td>\n",
              "    </tr>\n",
              "    <tr>\n",
              "      <th>max</th>\n",
              "      <td>12.130</td>\n",
              "      <td>11.928</td>\n",
              "      <td>15.760</td>\n",
              "      <td>17.236</td>\n",
              "      <td>67.979</td>\n",
              "      <td>10.243</td>\n",
              "    </tr>\n",
              "  </tbody>\n",
              "</table>\n",
              "</div>"
            ],
            "text/plain": [
              "       Power_range_sensor_1  ...  Pressure _sensor_2\n",
              "count               996.000  ...             996.000\n",
              "mean                  5.000  ...               3.078\n",
              "std                   2.765  ...               2.126\n",
              "min                   0.008  ...               0.008\n",
              "25%                   2.892  ...               1.416\n",
              "50%                   4.881  ...               2.672\n",
              "75%                   6.795  ...               4.502\n",
              "max                  12.130  ...              10.243\n",
              "\n",
              "[8 rows x 6 columns]"
            ]
          },
          "metadata": {
            "tags": []
          },
          "execution_count": 9
        }
      ]
    },
    {
      "cell_type": "code",
      "metadata": {
        "id": "VtAU3JYlbjMy",
        "colab_type": "code",
        "outputId": "56b98c27-0a7d-4835-ab43-b2b9a09318fe",
        "colab": {
          "base_uri": "https://localhost:8080/",
          "height": 284
        }
      },
      "source": [
        "# feature statistics - part 2\n",
        "df[feature_names[6:]].describe().round(3)"
      ],
      "execution_count": 0,
      "outputs": [
        {
          "output_type": "execute_result",
          "data": {
            "text/html": [
              "<div>\n",
              "<style scoped>\n",
              "    .dataframe tbody tr th:only-of-type {\n",
              "        vertical-align: middle;\n",
              "    }\n",
              "\n",
              "    .dataframe tbody tr th {\n",
              "        vertical-align: top;\n",
              "    }\n",
              "\n",
              "    .dataframe thead th {\n",
              "        text-align: right;\n",
              "    }\n",
              "</style>\n",
              "<table border=\"1\" class=\"dataframe\">\n",
              "  <thead>\n",
              "    <tr style=\"text-align: right;\">\n",
              "      <th></th>\n",
              "      <th>Pressure _sensor_3</th>\n",
              "      <th>Pressure _sensor_4</th>\n",
              "      <th>Vibration_sensor_1</th>\n",
              "      <th>Vibration_sensor_2</th>\n",
              "      <th>Vibration_sensor_3</th>\n",
              "      <th>Vibration_sensor_4</th>\n",
              "    </tr>\n",
              "  </thead>\n",
              "  <tbody>\n",
              "    <tr>\n",
              "      <th>count</th>\n",
              "      <td>996.000</td>\n",
              "      <td>996.000</td>\n",
              "      <td>996.000</td>\n",
              "      <td>996.000</td>\n",
              "      <td>996.000</td>\n",
              "      <td>996.000</td>\n",
              "    </tr>\n",
              "    <tr>\n",
              "      <th>mean</th>\n",
              "      <td>5.749</td>\n",
              "      <td>4.997</td>\n",
              "      <td>8.165</td>\n",
              "      <td>10.002</td>\n",
              "      <td>15.188</td>\n",
              "      <td>9.934</td>\n",
              "    </tr>\n",
              "    <tr>\n",
              "      <th>std</th>\n",
              "      <td>2.526</td>\n",
              "      <td>4.165</td>\n",
              "      <td>6.173</td>\n",
              "      <td>7.336</td>\n",
              "      <td>12.160</td>\n",
              "      <td>7.282</td>\n",
              "    </tr>\n",
              "    <tr>\n",
              "      <th>min</th>\n",
              "      <td>0.001</td>\n",
              "      <td>0.006</td>\n",
              "      <td>0.000</td>\n",
              "      <td>0.018</td>\n",
              "      <td>0.065</td>\n",
              "      <td>0.009</td>\n",
              "    </tr>\n",
              "    <tr>\n",
              "      <th>25%</th>\n",
              "      <td>4.023</td>\n",
              "      <td>1.582</td>\n",
              "      <td>3.190</td>\n",
              "      <td>4.004</td>\n",
              "      <td>5.509</td>\n",
              "      <td>3.843</td>\n",
              "    </tr>\n",
              "    <tr>\n",
              "      <th>50%</th>\n",
              "      <td>5.741</td>\n",
              "      <td>3.859</td>\n",
              "      <td>6.753</td>\n",
              "      <td>8.793</td>\n",
              "      <td>12.186</td>\n",
              "      <td>8.853</td>\n",
              "    </tr>\n",
              "    <tr>\n",
              "      <th>75%</th>\n",
              "      <td>7.504</td>\n",
              "      <td>7.600</td>\n",
              "      <td>11.253</td>\n",
              "      <td>14.684</td>\n",
              "      <td>21.835</td>\n",
              "      <td>14.357</td>\n",
              "    </tr>\n",
              "    <tr>\n",
              "      <th>max</th>\n",
              "      <td>12.648</td>\n",
              "      <td>16.556</td>\n",
              "      <td>36.186</td>\n",
              "      <td>34.868</td>\n",
              "      <td>53.238</td>\n",
              "      <td>43.231</td>\n",
              "    </tr>\n",
              "  </tbody>\n",
              "</table>\n",
              "</div>"
            ],
            "text/plain": [
              "       Pressure _sensor_3  ...  Vibration_sensor_4\n",
              "count             996.000  ...             996.000\n",
              "mean                5.749  ...               9.934\n",
              "std                 2.526  ...               7.282\n",
              "min                 0.001  ...               0.009\n",
              "25%                 4.023  ...               3.843\n",
              "50%                 5.741  ...               8.853\n",
              "75%                 7.504  ...              14.357\n",
              "max                12.648  ...              43.231\n",
              "\n",
              "[8 rows x 6 columns]"
            ]
          },
          "metadata": {
            "tags": []
          },
          "execution_count": 10
        }
      ]
    },
    {
      "cell_type": "code",
      "metadata": {
        "id": "u_ArQ1HNbERv",
        "colab_type": "code",
        "outputId": "5235004f-5105-42f7-a9b2-9804dff57302",
        "colab": {
          "base_uri": "https://localhost:8080/",
          "height": 252
        }
      },
      "source": [
        "# check for missing values\n",
        "df.isna().sum()"
      ],
      "execution_count": 0,
      "outputs": [
        {
          "output_type": "execute_result",
          "data": {
            "text/plain": [
              "Status                   0\n",
              "Power_range_sensor_1     0\n",
              "Power_range_sensor_2     0\n",
              "Power_range_sensor_3     0\n",
              "Power_range_sensor_4     0\n",
              "Pressure _sensor_1       0\n",
              "Pressure _sensor_2       0\n",
              "Pressure _sensor_3       0\n",
              "Pressure _sensor_4       0\n",
              "Vibration_sensor_1       0\n",
              "Vibration_sensor_2       0\n",
              "Vibration_sensor_3       0\n",
              "Vibration_sensor_4       0\n",
              "dtype: int64"
            ]
          },
          "metadata": {
            "tags": []
          },
          "execution_count": 11
        }
      ]
    },
    {
      "cell_type": "code",
      "metadata": {
        "id": "1O6LFAHMbRlR",
        "colab_type": "code",
        "outputId": "5f158438-d17b-4242-8dd4-315b28f9020d",
        "colab": {
          "base_uri": "https://localhost:8080/",
          "height": 67
        }
      },
      "source": [
        "# get class names and number of examples per class\n",
        "df['Status'].value_counts()"
      ],
      "execution_count": 0,
      "outputs": [
        {
          "output_type": "execute_result",
          "data": {
            "text/plain": [
              "Normal      498\n",
              "Abnormal    498\n",
              "Name: Status, dtype: int64"
            ]
          },
          "metadata": {
            "tags": []
          },
          "execution_count": 12
        }
      ]
    },
    {
      "cell_type": "markdown",
      "metadata": {
        "id": "5jJowGgNcoJE",
        "colab_type": "text"
      },
      "source": [
        "## Data visualisation"
      ]
    },
    {
      "cell_type": "code",
      "metadata": {
        "id": "iFahSyaucnFl",
        "colab_type": "code",
        "outputId": "36d15ec5-bbce-46bd-ead4-620e0008283c",
        "colab": {
          "base_uri": "https://localhost:8080/",
          "height": 308
        }
      },
      "source": [
        "# box plot\n",
        "sns.boxplot(data=df, x='Status', y='Vibration_sensor_1', palette='bright')"
      ],
      "execution_count": 0,
      "outputs": [
        {
          "output_type": "execute_result",
          "data": {
            "text/plain": [
              "<matplotlib.axes._subplots.AxesSubplot at 0x7fb19ca69c18>"
            ]
          },
          "metadata": {
            "tags": []
          },
          "execution_count": 13
        },
        {
          "output_type": "display_data",
          "data": {
            "image/png": "[encoded data removed]",
            "text/plain": [
              "<Figure size 432x288 with 1 Axes>"
            ]
          },
          "metadata": {
            "tags": []
          }
        }
      ]
    },
    {
      "cell_type": "code",
      "metadata": {
        "id": "jIqRm_1NHIrx",
        "colab_type": "code",
        "outputId": "d1184d18-5d22-4fc9-b021-156336c1f020",
        "colab": {
          "base_uri": "https://localhost:8080/",
          "height": 292
        }
      },
      "source": [
        "# density plot\n",
        "\n",
        "plot_var = 'Vibration_sensor_2'\n",
        "fig, axes = plt.subplots(1, 2, figsize=(12,4), sharex='all')\n",
        "\n",
        "class_labels = df['Status'].unique()\n",
        "hist_data = [df[plot_var][df['Status']==class_label] for class_label in class_labels]\n",
        "\n",
        "axes[0].hist(hist_data, label=class_labels)\n",
        "axes[0].legend()\n",
        "axes[0].set_ylabel('Count')\n",
        "\n",
        "for i, class_label in enumerate(class_labels):\n",
        "    sns.kdeplot(hist_data[i], ax=axes[1], label=class_label, shade=True)\n",
        "axes[1].set_ylabel('Probability density')\n",
        "\n",
        "for ax in axes:\n",
        "  ax.set_xlabel(plot_var)\n",
        "\n",
        "fig.subplots_adjust(wspace=0.3)"
      ],
      "execution_count": 0,
      "outputs": [
        {
          "output_type": "display_data",
          "data": {
            "image/png": "[encoded data removed]",
            "text/plain": [
              "<Figure size 864x288 with 2 Axes>"
            ]
          },
          "metadata": {
            "tags": []
          }
        }
      ]
    },
    {
      "cell_type": "markdown",
      "metadata": {
        "id": "4CL9JAFScqnU",
        "colab_type": "text"
      },
      "source": [
        "## Data preparation"
      ]
    },
    {
      "cell_type": "code",
      "metadata": {
        "id": "Nf_LuHaQz8Kp",
        "colab_type": "code",
        "colab": {}
      },
      "source": [
        "from pyspark.ml.feature import VectorAssembler"
      ],
      "execution_count": 0,
      "outputs": []
    },
    {
      "cell_type": "code",
      "metadata": {
        "id": "N_qLV2OJbvKz",
        "colab_type": "code",
        "outputId": "cfcfb3ac-c09c-4883-d16d-3a80bb755a18",
        "colab": {
          "base_uri": "https://localhost:8080/",
          "height": 306
        }
      },
      "source": [
        "# switch to spark\n",
        "data = spark.createDataFrame(df)\n",
        "data.show(10)"
      ],
      "execution_count": 0,
      "outputs": [
        {
          "output_type": "stream",
          "text": [
            "+------+--------------------+--------------------+---------------------+--------------------+------------------+------------------+------------------+------------------+------------------+------------------+------------------+------------------+\n",
            "|Status|Power_range_sensor_1|Power_range_sensor_2|Power_range_sensor_3 |Power_range_sensor_4|Pressure _sensor_1|Pressure _sensor_2|Pressure _sensor_3|Pressure _sensor_4|Vibration_sensor_1|Vibration_sensor_2|Vibration_sensor_3|Vibration_sensor_4|\n",
            "+------+--------------------+--------------------+---------------------+--------------------+------------------+------------------+------------------+------------------+------------------+------------------+------------------+------------------+\n",
            "|Normal|              4.5044|              0.7443|                 6.34|              1.9052|           29.5315|            0.8647|            2.2044| 6.047999999999999|           14.4659|21.648000000000003|           15.3429|            1.2186|\n",
            "|Normal|              4.4284|              0.9073|               5.6433|              1.6232|           27.5032|            1.4704|            1.9929|            5.9856|           20.8356|            0.0646|           14.8813|            7.3483|\n",
            "|Normal|              4.5291|              1.0199|   6.1129999999999995|              1.0565|           26.4271|            1.9247|             1.942|            6.7162|            5.3358|           11.0779|           25.0914|            9.2408|\n",
            "|Normal|              5.1727|              1.0007|               7.8589|              0.2765|           25.1576|             2.609|            2.9234|            6.7485|            1.9017|            1.8463|            28.664|            4.0157|\n",
            "|Normal|              5.2258|              0.6125|               7.9504|              0.1547|           24.0765|            3.2113|            4.4563|            5.8411|            0.5077|              9.37|           34.8122|           13.4966|\n",
            "|Normal|              4.8834|              0.5786|               5.6021|              0.5942|           21.0365|            2.6275|            4.3996|            5.3487|            3.6465|            9.3793|           36.2431|            11.124|\n",
            "|Normal|              5.7422|              0.8862|               5.1013|              0.9402|           15.5171|              2.92|            2.7061|            5.0366|            9.1854|            9.1116|           27.3162|            2.8526|\n",
            "|Normal|              6.5076|              0.5438|                7.153|              0.6711|           11.1481|            4.2967|            3.5731|            4.6123|           14.7705|            8.0038|           24.9714|            2.1417|\n",
            "|Normal|               5.625|              0.0403|               7.7087|              0.3214|            8.7975|            2.3293|             4.788| 5.202999999999999|            4.3388|            2.4187|           20.9187|            2.1233|\n",
            "|Normal|              4.9942|              0.4092|               6.2604|              0.6931|             6.189|            0.1537|            2.4934|            5.6573|            9.8132|           13.3581|           23.5036|            0.7478|\n",
            "+------+--------------------+--------------------+---------------------+--------------------+------------------+------------------+------------------+------------------+------------------+------------------+------------------+------------------+\n",
            "only showing top 10 rows\n",
            "\n"
          ],
          "name": "stdout"
        }
      ]
    },
    {
      "cell_type": "code",
      "metadata": {
        "id": "L1AGApJ8ZRCq",
        "colab_type": "code",
        "colab": {}
      },
      "source": [
        "# transform 'Status' to numerical class labels, store them in 'label' column\n",
        "# Normal -> 0, Abnormal -> 1 - fault occurrence as a positive class\n",
        "data_prep = data.withColumn('label', (data.Status=='Abnormal').astype(\"float\"))"
      ],
      "execution_count": 0,
      "outputs": []
    },
    {
      "cell_type": "code",
      "metadata": {
        "id": "85yk3IinQtus",
        "colab_type": "code",
        "outputId": "b688c1fa-ba4a-4f7c-f48f-b5fb6fe9bba4",
        "colab": {
          "base_uri": "https://localhost:8080/",
          "height": 302
        }
      },
      "source": [
        "# combine features for classification, store them in 'features' column\n",
        "# adapted from: https://medium.com/@rmache/big-data-with-spark-in-google-colab-7c046e24b3\n",
        "data_prep = VectorAssembler(inputCols=feature_names, outputCol=\"features\").transform(data_prep)\n",
        "data_prep.printSchema()"
      ],
      "execution_count": 0,
      "outputs": [
        {
          "output_type": "stream",
          "text": [
            "root\n",
            " |-- Status: string (nullable = true)\n",
            " |-- Power_range_sensor_1: double (nullable = true)\n",
            " |-- Power_range_sensor_2: double (nullable = true)\n",
            " |-- Power_range_sensor_3 : double (nullable = true)\n",
            " |-- Power_range_sensor_4: double (nullable = true)\n",
            " |-- Pressure _sensor_1: double (nullable = true)\n",
            " |-- Pressure _sensor_2: double (nullable = true)\n",
            " |-- Pressure _sensor_3: double (nullable = true)\n",
            " |-- Pressure _sensor_4: double (nullable = true)\n",
            " |-- Vibration_sensor_1: double (nullable = true)\n",
            " |-- Vibration_sensor_2: double (nullable = true)\n",
            " |-- Vibration_sensor_3: double (nullable = true)\n",
            " |-- Vibration_sensor_4: double (nullable = true)\n",
            " |-- label: float (nullable = true)\n",
            " |-- features: vector (nullable = true)\n",
            "\n"
          ],
          "name": "stdout"
        }
      ]
    },
    {
      "cell_type": "code",
      "metadata": {
        "id": "T1oWE0rPb3cJ",
        "colab_type": "code",
        "outputId": "e0f0e9fd-02e2-4454-b0b7-4634fa00e047",
        "colab": {
          "base_uri": "https://localhost:8080/",
          "height": 50
        }
      },
      "source": [
        "# split data to train and test sets\n",
        "data_train, data_test = data_prep.randomSplit([0.75, 0.25])\n",
        "\n",
        "for n, d in (('Train', data_train), ('Test', data_test)):\n",
        "    print(f\"{n} size: {d.count()} ({100*(d.count()/data_prep.count()):.1f}%)\")"
      ],
      "execution_count": 0,
      "outputs": [
        {
          "output_type": "stream",
          "text": [
            "Train size: 745 (74.8%)\n",
            "Test size: 251 (25.2%)\n"
          ],
          "name": "stdout"
        }
      ]
    },
    {
      "cell_type": "markdown",
      "metadata": {
        "id": "zDR5U6IgTl1o",
        "colab_type": "text"
      },
      "source": [
        "## Data classification\n",
        "### Model definition and fitting"
      ]
    },
    {
      "cell_type": "code",
      "metadata": {
        "id": "Ge9c0VlFTqJn",
        "colab_type": "code",
        "colab": {}
      },
      "source": [
        "from pyspark.ml.classification import LogisticRegression, GBTClassifier"
      ],
      "execution_count": 0,
      "outputs": []
    },
    {
      "cell_type": "code",
      "metadata": {
        "id": "-n8KNRB7BTWJ",
        "colab_type": "code",
        "colab": {}
      },
      "source": [
        "# define and train classifier models; test on the test set\n",
        "\n",
        "lr_model = LogisticRegression().fit(data_train).evaluate(data_test)"
      ],
      "execution_count": 0,
      "outputs": []
    },
    {
      "cell_type": "code",
      "metadata": {
        "id": "tB_BSoGdBXQE",
        "colab_type": "code",
        "colab": {}
      },
      "source": [
        "gbt_model = GBTClassifier().fit(data_train).transform(data_test)"
      ],
      "execution_count": 0,
      "outputs": []
    },
    {
      "cell_type": "code",
      "metadata": {
        "id": "-vzKVRQzBYg1",
        "colab_type": "code",
        "colab": {}
      },
      "source": [
        "models = {'Logistic Regression': lr_model.predictions,\n",
        "          'Gradient Boosted Tree': gbt_model}"
      ],
      "execution_count": 0,
      "outputs": []
    },
    {
      "cell_type": "markdown",
      "metadata": {
        "id": "GMnIxbXtHRKy",
        "colab_type": "text"
      },
      "source": [
        "### Model evaluation"
      ]
    },
    {
      "cell_type": "code",
      "metadata": {
        "id": "qlB_QBpd_pgg",
        "colab_type": "code",
        "colab": {}
      },
      "source": [
        "from pyspark.mllib.evaluation import BinaryClassificationMetrics, MulticlassMetrics\n",
        "from sklearn.metrics import roc_curve"
      ],
      "execution_count": 0,
      "outputs": []
    },
    {
      "cell_type": "code",
      "metadata": {
        "id": "jy_1FWINUq-H",
        "colab_type": "code",
        "colab": {}
      },
      "source": [
        "# create binary metrics and multiclass metrics for both models\n",
        "# (ROC AUC is available from binary metrics, accuracy and other scores from multiclass)\n",
        "\n",
        "bin_metrics, multi_metrics = {}, {}\n",
        "for model_name, model in models.items():\n",
        "\n",
        "    # extract predictions and labels\n",
        "    # based on: https://stackoverflow.com/a/58405759/13230295\n",
        "    preds = model.select(['prediction', 'label']).rdd.map(tuple)\n",
        "\n",
        "    # define metrics\n",
        "    multi_metrics[model_name] = MulticlassMetrics(preds)\n",
        "    bin_metrics[model_name] = BinaryClassificationMetrics(preds)\n"
      ],
      "execution_count": 0,
      "outputs": []
    },
    {
      "cell_type": "code",
      "metadata": {
        "id": "013TBtmLGjwd",
        "colab_type": "code",
        "outputId": "53c1a38a-7f08-4059-d185-985115e02af6",
        "colab": {
          "base_uri": "https://localhost:8080/",
          "height": 106
        }
      },
      "source": [
        "# summary and comparison of performance scores of both models\n",
        "\n",
        "pd.DataFrame([{'Accuracy': multi_metrics[m].accuracy,\n",
        "               'Precision': multi_metrics[m].precision(),\n",
        "               'Recall': multi_metrics[m].recall(),\n",
        "               'ROC AUC': bin_metrics[m].areaUnderROC,\n",
        "               'F1 score': multi_metrics[m].weightedFMeasure()} for m in models.keys()],\n",
        "             index=multi_metrics.keys()).round(3)"
      ],
      "execution_count": 0,
      "outputs": [
        {
          "output_type": "execute_result",
          "data": {
            "text/html": [
              "<div>\n",
              "<style scoped>\n",
              "    .dataframe tbody tr th:only-of-type {\n",
              "        vertical-align: middle;\n",
              "    }\n",
              "\n",
              "    .dataframe tbody tr th {\n",
              "        vertical-align: top;\n",
              "    }\n",
              "\n",
              "    .dataframe thead th {\n",
              "        text-align: right;\n",
              "    }\n",
              "</style>\n",
              "<table border=\"1\" class=\"dataframe\">\n",
              "  <thead>\n",
              "    <tr style=\"text-align: right;\">\n",
              "      <th></th>\n",
              "      <th>Accuracy</th>\n",
              "      <th>Precision</th>\n",
              "      <th>Recall</th>\n",
              "      <th>ROC AUC</th>\n",
              "      <th>F1 score</th>\n",
              "    </tr>\n",
              "  </thead>\n",
              "  <tbody>\n",
              "    <tr>\n",
              "      <th>Logistic Regression</th>\n",
              "      <td>0.717</td>\n",
              "      <td>0.717</td>\n",
              "      <td>0.717</td>\n",
              "      <td>0.719</td>\n",
              "      <td>0.718</td>\n",
              "    </tr>\n",
              "    <tr>\n",
              "      <th>Gradient Boosted Tree</th>\n",
              "      <td>0.892</td>\n",
              "      <td>0.892</td>\n",
              "      <td>0.892</td>\n",
              "      <td>0.890</td>\n",
              "      <td>0.892</td>\n",
              "    </tr>\n",
              "  </tbody>\n",
              "</table>\n",
              "</div>"
            ],
            "text/plain": [
              "                       Accuracy  Precision  Recall  ROC AUC  F1 score\n",
              "Logistic Regression       0.717      0.717   0.717    0.719     0.718\n",
              "Gradient Boosted Tree     0.892      0.892   0.892    0.890     0.892"
            ]
          },
          "metadata": {
            "tags": []
          },
          "execution_count": 26
        }
      ]
    },
    {
      "cell_type": "code",
      "metadata": {
        "id": "s159KfWaHVQP",
        "colab_type": "code",
        "colab": {}
      },
      "source": [
        "# construct confusion  matrices\n",
        "\n",
        "# row and column labels of the confusion matrices\n",
        "indices = [f'{pa} {pn}' for pa in ['Actual', 'Predicted'] for pn in ['Positive', 'Negative']]\n",
        "\n",
        "def conf_matrix(model_name):\n",
        "    return pd.DataFrame(multi_metrics[model_name].confusionMatrix().toArray(),\n",
        "                        index=indices[:2], columns=indices[2:])"
      ],
      "execution_count": 0,
      "outputs": []
    },
    {
      "cell_type": "code",
      "metadata": {
        "id": "jsP51hdeIGoo",
        "colab_type": "code",
        "outputId": "2d91bc14-1063-4474-c89c-94d00b65ae6b",
        "colab": {
          "base_uri": "https://localhost:8080/",
          "height": 106
        }
      },
      "source": [
        "conf_matrix('Logistic Regression')"
      ],
      "execution_count": 0,
      "outputs": [
        {
          "output_type": "execute_result",
          "data": {
            "text/html": [
              "<div>\n",
              "<style scoped>\n",
              "    .dataframe tbody tr th:only-of-type {\n",
              "        vertical-align: middle;\n",
              "    }\n",
              "\n",
              "    .dataframe tbody tr th {\n",
              "        vertical-align: top;\n",
              "    }\n",
              "\n",
              "    .dataframe thead th {\n",
              "        text-align: right;\n",
              "    }\n",
              "</style>\n",
              "<table border=\"1\" class=\"dataframe\">\n",
              "  <thead>\n",
              "    <tr style=\"text-align: right;\">\n",
              "      <th></th>\n",
              "      <th>Predicted Positive</th>\n",
              "      <th>Predicted Negative</th>\n",
              "    </tr>\n",
              "  </thead>\n",
              "  <tbody>\n",
              "    <tr>\n",
              "      <th>Actual Positive</th>\n",
              "      <td>85.0</td>\n",
              "      <td>30.0</td>\n",
              "    </tr>\n",
              "    <tr>\n",
              "      <th>Actual Negative</th>\n",
              "      <td>41.0</td>\n",
              "      <td>95.0</td>\n",
              "    </tr>\n",
              "  </tbody>\n",
              "</table>\n",
              "</div>"
            ],
            "text/plain": [
              "                 Predicted Positive  Predicted Negative\n",
              "Actual Positive                85.0                30.0\n",
              "Actual Negative                41.0                95.0"
            ]
          },
          "metadata": {
            "tags": []
          },
          "execution_count": 28
        }
      ]
    },
    {
      "cell_type": "code",
      "metadata": {
        "id": "lnC4CS0oIPiI",
        "colab_type": "code",
        "outputId": "317d6cbf-cd66-434f-91c5-a5b283270914",
        "colab": {
          "base_uri": "https://localhost:8080/",
          "height": 106
        }
      },
      "source": [
        "conf_matrix('Gradient Boosted Tree')"
      ],
      "execution_count": 0,
      "outputs": [
        {
          "output_type": "execute_result",
          "data": {
            "text/html": [
              "<div>\n",
              "<style scoped>\n",
              "    .dataframe tbody tr th:only-of-type {\n",
              "        vertical-align: middle;\n",
              "    }\n",
              "\n",
              "    .dataframe tbody tr th {\n",
              "        vertical-align: top;\n",
              "    }\n",
              "\n",
              "    .dataframe thead th {\n",
              "        text-align: right;\n",
              "    }\n",
              "</style>\n",
              "<table border=\"1\" class=\"dataframe\">\n",
              "  <thead>\n",
              "    <tr style=\"text-align: right;\">\n",
              "      <th></th>\n",
              "      <th>Predicted Positive</th>\n",
              "      <th>Predicted Negative</th>\n",
              "    </tr>\n",
              "  </thead>\n",
              "  <tbody>\n",
              "    <tr>\n",
              "      <th>Actual Positive</th>\n",
              "      <td>99.0</td>\n",
              "      <td>16.0</td>\n",
              "    </tr>\n",
              "    <tr>\n",
              "      <th>Actual Negative</th>\n",
              "      <td>11.0</td>\n",
              "      <td>125.0</td>\n",
              "    </tr>\n",
              "  </tbody>\n",
              "</table>\n",
              "</div>"
            ],
            "text/plain": [
              "                 Predicted Positive  Predicted Negative\n",
              "Actual Positive                99.0                16.0\n",
              "Actual Negative                11.0               125.0"
            ]
          },
          "metadata": {
            "tags": []
          },
          "execution_count": 29
        }
      ]
    },
    {
      "cell_type": "code",
      "metadata": {
        "id": "6Tb_kuB_fIE9",
        "colab_type": "code",
        "outputId": "fe830a86-bc6a-4e88-88fa-6f4615038132",
        "colab": {
          "base_uri": "https://localhost:8080/",
          "height": 454
        }
      },
      "source": [
        "# ROC curves for both models\n",
        "# using probabilities for the positive class (second value in the 'probability' column)\n",
        "\n",
        "fig, ax = plt.subplots(figsize=(7, 7))\n",
        "ax.set_aspect('equal')\n",
        "ax.plot([0, 1], [0, 1], 'k:')\n",
        "\n",
        "colors = ['slateblue', 'lawngreen']\n",
        "\n",
        "def get_col(model, column):\n",
        "    return np.squeeze(model.select(column).collect())\n",
        "\n",
        "for i, (model_name, m) in enumerate(models.items()):\n",
        "    fpr, tpr, _ = roc_curve(y_true=get_col(m, 'label'),\n",
        "                            y_score=get_col(m, 'probability').T[1])\n",
        "\n",
        "    ax.plot(fpr, tpr, color=colors[i],\n",
        "            label=f\"{model_name}\\n(ROC AUC: {bin_metrics[model_name].areaUnderROC:.2f})\")\n",
        "    ax.fill_between(fpr, tpr, color=colors[i], alpha=0.2, zorder=1)\n",
        "\n",
        "ax.set_xlabel('FPR')\n",
        "ax.set_ylabel('TPR')\n",
        "_ = ax.legend(fancybox=True, framealpha=0.5)"
      ],
      "execution_count": 0,
      "outputs": [
        {
          "output_type": "display_data",
          "data": {
            "image/png": "[encoded data removed]",
            "text/plain": [
              "<Figure size 504x504 with 1 Axes>"
            ]
          },
          "metadata": {
            "tags": []
          }
        }
      ]
    },
    {
      "cell_type": "code",
      "metadata": {
        "id": "bUv_qab_fKaE",
        "colab_type": "code",
        "colab": {}
      },
      "source": [
        ""
      ],
      "execution_count": 0,
      "outputs": []
    }
  ]
}