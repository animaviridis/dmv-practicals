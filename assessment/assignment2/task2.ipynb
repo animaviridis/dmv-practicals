{
  "nbformat": 4,
  "nbformat_minor": 0,
  "metadata": {
    "kernelspec": {
      "display_name": "Python 3",
      "language": "python",
      "name": "python3"
    },
    "language_info": {
      "codemirror_mode": {
        "name": "ipython",
        "version": 2
      },
      "file_extension": ".py",
      "mimetype": "text/x-python",
      "name": "python",
      "nbconvert_exporter": "python",
      "pygments_lexer": "ipython2",
      "version": "2.7.6"
    },
    "colab": {
      "name": "task2.ipynb",
      "provenance": []
    }
  },
  "cells": [
    {
      "cell_type": "markdown",
      "metadata": {
        "id": "A9sGXwS5v_l3",
        "colab_type": "text"
      },
      "source": [
        "# Assignment 2, Task 2 - Nuclear reactors data classification"
      ]
    },
    {
      "cell_type": "code",
      "metadata": {
        "id": "ftie49KPxosl",
        "colab_type": "code",
        "colab": {
          "base_uri": "https://localhost:8080/",
          "height": 70
        },
        "outputId": "4f7abc21-374d-4e3e-e6ec-c70f247d6408"
      },
      "source": [
        "import numpy as np\n",
        "import pandas as pd\n",
        "import matplotlib.pyplot as plt\n",
        "import seaborn as sns\n"
      ],
      "execution_count": 1,
      "outputs": [
        {
          "output_type": "stream",
          "text": [
            "/usr/local/lib/python3.6/dist-packages/statsmodels/tools/_testing.py:19: FutureWarning: pandas.util.testing is deprecated. Use the functions in the public API at pandas.testing instead.\n",
            "  import pandas.util.testing as tm\n"
          ],
          "name": "stderr"
        }
      ]
    },
    {
      "cell_type": "code",
      "metadata": {
        "id": "eU3jqlpSxrcp",
        "colab_type": "code",
        "colab": {}
      },
      "source": [
        "sns.set_style(\"darkgrid\")\n",
        "sns.set(font_scale=1.3)"
      ],
      "execution_count": 0,
      "outputs": []
    },
    {
      "cell_type": "markdown",
      "metadata": {
        "id": "iA_miMvT0XBj",
        "colab_type": "text"
      },
      "source": [
        "## Setup Spark environment\n",
        "Note: the code in this section has been adapted from DM&V Practical 4."
      ]
    },
    {
      "cell_type": "code",
      "metadata": {
        "id": "xQi6nGry0WRG",
        "colab_type": "code",
        "colab": {}
      },
      "source": [
        "import os"
      ],
      "execution_count": 0,
      "outputs": []
    },
    {
      "cell_type": "code",
      "metadata": {
        "id": "yLEKE-q1NeUB",
        "colab_type": "code",
        "colab": {}
      },
      "source": [
        "# set environmental variables\n",
        "os.environ[\"JAVA_HOME\"] = \"/usr/lib/jvm/java-8-openjdk-amd64\"\n",
        "os.environ[\"SPARK_HOME\"] = \"/content/spark-2.4.5-bin-hadoop2.7\""
      ],
      "execution_count": 0,
      "outputs": []
    },
    {
      "cell_type": "code",
      "metadata": {
        "id": "JU6mFq2M0k1n",
        "colab_type": "code",
        "colab": {
          "base_uri": "https://localhost:8080/",
          "height": 67
        },
        "outputId": "702e6399-464a-42a6-b8bf-f0c508fc97ff"
      },
      "source": [
        "# install java\n",
        "!apt-get install -y openjdk-8-jdk-headless -qq > /dev/null      #install openjdk\n",
        "!java -version       #check java version"
      ],
      "execution_count": 5,
      "outputs": [
        {
          "output_type": "stream",
          "text": [
            "openjdk version \"11.0.6\" 2020-01-14\n",
            "OpenJDK Runtime Environment (build 11.0.6+10-post-Ubuntu-1ubuntu118.04.1)\n",
            "OpenJDK 64-Bit Server VM (build 11.0.6+10-post-Ubuntu-1ubuntu118.04.1, mixed mode, sharing)\n"
          ],
          "name": "stdout"
        }
      ]
    },
    {
      "cell_type": "code",
      "metadata": {
        "id": "G1Ax2Dk_0qZG",
        "colab_type": "code",
        "colab": {}
      },
      "source": [
        "!wget -q https://www-us.apache.org/dist/spark/spark-2.4.5/spark-2.4.5-bin-hadoop2.7.tgz\n",
        "!tar xf spark-2.4.5-bin-hadoop2.7.tgz\n",
        "!pip install -q findspark"
      ],
      "execution_count": 0,
      "outputs": []
    },
    {
      "cell_type": "code",
      "metadata": {
        "id": "Lra_EG4t09xS",
        "colab_type": "code",
        "colab": {}
      },
      "source": [
        "import findspark\n",
        "findspark.init()"
      ],
      "execution_count": 0,
      "outputs": []
    },
    {
      "cell_type": "code",
      "metadata": {
        "id": "OQ7iV_o71DoH",
        "colab_type": "code",
        "colab": {}
      },
      "source": [
        "from pyspark.sql import SparkSession\n",
        "spark = SparkSession.builder.master(\"local[*]\").appName(\"Learning_Spark\").getOrCreate()"
      ],
      "execution_count": 0,
      "outputs": []
    },
    {
      "cell_type": "markdown",
      "metadata": {
        "id": "iij3gq1axuvg",
        "colab_type": "text"
      },
      "source": [
        "## Load data"
      ]
    },
    {
      "cell_type": "markdown",
      "metadata": {
        "id": "gwZzXK4D1Jq5",
        "colab_type": "text"
      },
      "source": [
        ""
      ]
    },
    {
      "cell_type": "code",
      "metadata": {
        "id": "1ecXiiyevzK1",
        "colab_type": "code",
        "colab": {
          "resources": {
            "http://localhost:8080/nbextensions/google.colab/files.js": {
              "data": "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",
              "ok": true,
              "headers": [
                [
                  "content-type",
                  "application/javascript"
                ]
              ],
              "status": 200,
              "status_text": ""
            }
          },
          "base_uri": "https://localhost:8080/",
          "height": 58
        },
        "outputId": "27e5e8f0-8fe7-4014-8b5a-343058405251"
      },
      "source": [
        "# upload file\n",
        "from google.colab import files\n",
        "files.upload()"
      ],
      "execution_count": 9,
      "outputs": [
        {
          "output_type": "display_data",
          "data": {
            "text/html": [
              "\n",
              "     <input type=\"file\" id=\"files-b940c679-6dc0-4a2d-b31c-edef6fb0591f\" name=\"files[]\" multiple disabled />\n",
              "     <output id=\"result-b940c679-6dc0-4a2d-b31c-edef6fb0591f\">\n",
              "      Upload widget is only available when the cell has been executed in the\n",
              "      current browser session. Please rerun this cell to enable.\n",
              "      </output>\n",
              "      <script src=\"/nbextensions/google.colab/files.js\"></script> "
            ],
            "text/plain": [
              "<IPython.core.display.HTML object>"
            ]
          },
          "metadata": {
            "tags": []
          }
        },
        {
          "output_type": "execute_result",
          "data": {
            "text/plain": [
              "{}"
            ]
          },
          "metadata": {
            "tags": []
          },
          "execution_count": 9
        }
      ]
    },
    {
      "cell_type": "code",
      "metadata": {
        "id": "rfvv3tUD1bmB",
        "colab_type": "code",
        "colab": {
          "base_uri": "https://localhost:8080/",
          "height": 232
        },
        "outputId": "2232aea9-cb89-4934-f75f-5c2184956459"
      },
      "source": [
        "# load the data file using pandas - better for generating descriptions of the data\n",
        "df = pd.read_csv('data.csv')\n",
        "df.head()"
      ],
      "execution_count": 10,
      "outputs": [
        {
          "output_type": "execute_result",
          "data": {
            "text/html": [
              "<div>\n",
              "<style scoped>\n",
              "    .dataframe tbody tr th:only-of-type {\n",
              "        vertical-align: middle;\n",
              "    }\n",
              "\n",
              "    .dataframe tbody tr th {\n",
              "        vertical-align: top;\n",
              "    }\n",
              "\n",
              "    .dataframe thead th {\n",
              "        text-align: right;\n",
              "    }\n",
              "</style>\n",
              "<table border=\"1\" class=\"dataframe\">\n",
              "  <thead>\n",
              "    <tr style=\"text-align: right;\">\n",
              "      <th></th>\n",
              "      <th>Status</th>\n",
              "      <th>Power_range_sensor_1</th>\n",
              "      <th>Power_range_sensor_2</th>\n",
              "      <th>Power_range_sensor_3</th>\n",
              "      <th>Power_range_sensor_4</th>\n",
              "      <th>Pressure _sensor_1</th>\n",
              "      <th>Pressure _sensor_2</th>\n",
              "      <th>Pressure _sensor_3</th>\n",
              "      <th>Pressure _sensor_4</th>\n",
              "      <th>Vibration_sensor_1</th>\n",
              "      <th>Vibration_sensor_2</th>\n",
              "      <th>Vibration_sensor_3</th>\n",
              "      <th>Vibration_sensor_4</th>\n",
              "    </tr>\n",
              "  </thead>\n",
              "  <tbody>\n",
              "    <tr>\n",
              "      <th>0</th>\n",
              "      <td>Normal</td>\n",
              "      <td>4.5044</td>\n",
              "      <td>0.7443</td>\n",
              "      <td>6.3400</td>\n",
              "      <td>1.9052</td>\n",
              "      <td>29.5315</td>\n",
              "      <td>0.8647</td>\n",
              "      <td>2.2044</td>\n",
              "      <td>6.0480</td>\n",
              "      <td>14.4659</td>\n",
              "      <td>21.6480</td>\n",
              "      <td>15.3429</td>\n",
              "      <td>1.2186</td>\n",
              "    </tr>\n",
              "    <tr>\n",
              "      <th>1</th>\n",
              "      <td>Normal</td>\n",
              "      <td>4.4284</td>\n",
              "      <td>0.9073</td>\n",
              "      <td>5.6433</td>\n",
              "      <td>1.6232</td>\n",
              "      <td>27.5032</td>\n",
              "      <td>1.4704</td>\n",
              "      <td>1.9929</td>\n",
              "      <td>5.9856</td>\n",
              "      <td>20.8356</td>\n",
              "      <td>0.0646</td>\n",
              "      <td>14.8813</td>\n",
              "      <td>7.3483</td>\n",
              "    </tr>\n",
              "    <tr>\n",
              "      <th>2</th>\n",
              "      <td>Normal</td>\n",
              "      <td>4.5291</td>\n",
              "      <td>1.0199</td>\n",
              "      <td>6.1130</td>\n",
              "      <td>1.0565</td>\n",
              "      <td>26.4271</td>\n",
              "      <td>1.9247</td>\n",
              "      <td>1.9420</td>\n",
              "      <td>6.7162</td>\n",
              "      <td>5.3358</td>\n",
              "      <td>11.0779</td>\n",
              "      <td>25.0914</td>\n",
              "      <td>9.2408</td>\n",
              "    </tr>\n",
              "    <tr>\n",
              "      <th>3</th>\n",
              "      <td>Normal</td>\n",
              "      <td>5.1727</td>\n",
              "      <td>1.0007</td>\n",
              "      <td>7.8589</td>\n",
              "      <td>0.2765</td>\n",
              "      <td>25.1576</td>\n",
              "      <td>2.6090</td>\n",
              "      <td>2.9234</td>\n",
              "      <td>6.7485</td>\n",
              "      <td>1.9017</td>\n",
              "      <td>1.8463</td>\n",
              "      <td>28.6640</td>\n",
              "      <td>4.0157</td>\n",
              "    </tr>\n",
              "    <tr>\n",
              "      <th>4</th>\n",
              "      <td>Normal</td>\n",
              "      <td>5.2258</td>\n",
              "      <td>0.6125</td>\n",
              "      <td>7.9504</td>\n",
              "      <td>0.1547</td>\n",
              "      <td>24.0765</td>\n",
              "      <td>3.2113</td>\n",
              "      <td>4.4563</td>\n",
              "      <td>5.8411</td>\n",
              "      <td>0.5077</td>\n",
              "      <td>9.3700</td>\n",
              "      <td>34.8122</td>\n",
              "      <td>13.4966</td>\n",
              "    </tr>\n",
              "  </tbody>\n",
              "</table>\n",
              "</div>"
            ],
            "text/plain": [
              "   Status  Power_range_sensor_1  ...  Vibration_sensor_3  Vibration_sensor_4\n",
              "0  Normal                4.5044  ...             15.3429              1.2186\n",
              "1  Normal                4.4284  ...             14.8813              7.3483\n",
              "2  Normal                4.5291  ...             25.0914              9.2408\n",
              "3  Normal                5.1727  ...             28.6640              4.0157\n",
              "4  Normal                5.2258  ...             34.8122             13.4966\n",
              "\n",
              "[5 rows x 13 columns]"
            ]
          },
          "metadata": {
            "tags": []
          },
          "execution_count": 10
        }
      ]
    },
    {
      "cell_type": "code",
      "metadata": {
        "id": "u318gcWIy0M6",
        "colab_type": "code",
        "colab": {
          "base_uri": "https://localhost:8080/",
          "height": 218
        },
        "outputId": "e2e4aff8-ba44-4246-b0db-b88e598da51c"
      },
      "source": [
        "# extract list of the 12 feature names\n",
        "feature_names = list(df.columns[1:])\n",
        "feature_names"
      ],
      "execution_count": 11,
      "outputs": [
        {
          "output_type": "execute_result",
          "data": {
            "text/plain": [
              "['Power_range_sensor_1',\n",
              " 'Power_range_sensor_2',\n",
              " 'Power_range_sensor_3 ',\n",
              " 'Power_range_sensor_4',\n",
              " 'Pressure _sensor_1',\n",
              " 'Pressure _sensor_2',\n",
              " 'Pressure _sensor_3',\n",
              " 'Pressure _sensor_4',\n",
              " 'Vibration_sensor_1',\n",
              " 'Vibration_sensor_2',\n",
              " 'Vibration_sensor_3',\n",
              " 'Vibration_sensor_4']"
            ]
          },
          "metadata": {
            "tags": []
          },
          "execution_count": 11
        }
      ]
    },
    {
      "cell_type": "code",
      "metadata": {
        "id": "YnM27DnSYaRS",
        "colab_type": "code",
        "colab": {
          "base_uri": "https://localhost:8080/",
          "height": 284
        },
        "outputId": "40f56c52-1f63-4dd9-c145-ce55a45447e0"
      },
      "source": [
        "# feature statistics - part 1\n",
        "df[feature_names[:6]].describe().round(3)"
      ],
      "execution_count": 12,
      "outputs": [
        {
          "output_type": "execute_result",
          "data": {
            "text/html": [
              "<div>\n",
              "<style scoped>\n",
              "    .dataframe tbody tr th:only-of-type {\n",
              "        vertical-align: middle;\n",
              "    }\n",
              "\n",
              "    .dataframe tbody tr th {\n",
              "        vertical-align: top;\n",
              "    }\n",
              "\n",
              "    .dataframe thead th {\n",
              "        text-align: right;\n",
              "    }\n",
              "</style>\n",
              "<table border=\"1\" class=\"dataframe\">\n",
              "  <thead>\n",
              "    <tr style=\"text-align: right;\">\n",
              "      <th></th>\n",
              "      <th>Power_range_sensor_1</th>\n",
              "      <th>Power_range_sensor_2</th>\n",
              "      <th>Power_range_sensor_3</th>\n",
              "      <th>Power_range_sensor_4</th>\n",
              "      <th>Pressure _sensor_1</th>\n",
              "      <th>Pressure _sensor_2</th>\n",
              "    </tr>\n",
              "  </thead>\n",
              "  <tbody>\n",
              "    <tr>\n",
              "      <th>count</th>\n",
              "      <td>996.000</td>\n",
              "      <td>996.000</td>\n",
              "      <td>996.000</td>\n",
              "      <td>996.000</td>\n",
              "      <td>996.000</td>\n",
              "      <td>996.000</td>\n",
              "    </tr>\n",
              "    <tr>\n",
              "      <th>mean</th>\n",
              "      <td>5.000</td>\n",
              "      <td>6.379</td>\n",
              "      <td>9.228</td>\n",
              "      <td>7.355</td>\n",
              "      <td>14.199</td>\n",
              "      <td>3.078</td>\n",
              "    </tr>\n",
              "    <tr>\n",
              "      <th>std</th>\n",
              "      <td>2.765</td>\n",
              "      <td>2.313</td>\n",
              "      <td>2.532</td>\n",
              "      <td>4.355</td>\n",
              "      <td>11.680</td>\n",
              "      <td>2.126</td>\n",
              "    </tr>\n",
              "    <tr>\n",
              "      <th>min</th>\n",
              "      <td>0.008</td>\n",
              "      <td>0.040</td>\n",
              "      <td>2.584</td>\n",
              "      <td>0.062</td>\n",
              "      <td>0.025</td>\n",
              "      <td>0.008</td>\n",
              "    </tr>\n",
              "    <tr>\n",
              "      <th>25%</th>\n",
              "      <td>2.892</td>\n",
              "      <td>4.932</td>\n",
              "      <td>7.511</td>\n",
              "      <td>3.438</td>\n",
              "      <td>5.015</td>\n",
              "      <td>1.416</td>\n",
              "    </tr>\n",
              "    <tr>\n",
              "      <th>50%</th>\n",
              "      <td>4.881</td>\n",
              "      <td>6.470</td>\n",
              "      <td>9.348</td>\n",
              "      <td>7.072</td>\n",
              "      <td>11.717</td>\n",
              "      <td>2.672</td>\n",
              "    </tr>\n",
              "    <tr>\n",
              "      <th>75%</th>\n",
              "      <td>6.795</td>\n",
              "      <td>8.105</td>\n",
              "      <td>11.047</td>\n",
              "      <td>10.917</td>\n",
              "      <td>20.280</td>\n",
              "      <td>4.502</td>\n",
              "    </tr>\n",
              "    <tr>\n",
              "      <th>max</th>\n",
              "      <td>12.130</td>\n",
              "      <td>11.928</td>\n",
              "      <td>15.760</td>\n",
              "      <td>17.236</td>\n",
              "      <td>67.979</td>\n",
              "      <td>10.243</td>\n",
              "    </tr>\n",
              "  </tbody>\n",
              "</table>\n",
              "</div>"
            ],
            "text/plain": [
              "       Power_range_sensor_1  ...  Pressure _sensor_2\n",
              "count               996.000  ...             996.000\n",
              "mean                  5.000  ...               3.078\n",
              "std                   2.765  ...               2.126\n",
              "min                   0.008  ...               0.008\n",
              "25%                   2.892  ...               1.416\n",
              "50%                   4.881  ...               2.672\n",
              "75%                   6.795  ...               4.502\n",
              "max                  12.130  ...              10.243\n",
              "\n",
              "[8 rows x 6 columns]"
            ]
          },
          "metadata": {
            "tags": []
          },
          "execution_count": 12
        }
      ]
    },
    {
      "cell_type": "code",
      "metadata": {
        "id": "VtAU3JYlbjMy",
        "colab_type": "code",
        "colab": {
          "base_uri": "https://localhost:8080/",
          "height": 284
        },
        "outputId": "e3edca83-df83-4663-b81a-da417e8e1360"
      },
      "source": [
        "# feature statistics - part 2\n",
        "df[feature_names[6:]].describe().round(3)"
      ],
      "execution_count": 13,
      "outputs": [
        {
          "output_type": "execute_result",
          "data": {
            "text/html": [
              "<div>\n",
              "<style scoped>\n",
              "    .dataframe tbody tr th:only-of-type {\n",
              "        vertical-align: middle;\n",
              "    }\n",
              "\n",
              "    .dataframe tbody tr th {\n",
              "        vertical-align: top;\n",
              "    }\n",
              "\n",
              "    .dataframe thead th {\n",
              "        text-align: right;\n",
              "    }\n",
              "</style>\n",
              "<table border=\"1\" class=\"dataframe\">\n",
              "  <thead>\n",
              "    <tr style=\"text-align: right;\">\n",
              "      <th></th>\n",
              "      <th>Pressure _sensor_3</th>\n",
              "      <th>Pressure _sensor_4</th>\n",
              "      <th>Vibration_sensor_1</th>\n",
              "      <th>Vibration_sensor_2</th>\n",
              "      <th>Vibration_sensor_3</th>\n",
              "      <th>Vibration_sensor_4</th>\n",
              "    </tr>\n",
              "  </thead>\n",
              "  <tbody>\n",
              "    <tr>\n",
              "      <th>count</th>\n",
              "      <td>996.000</td>\n",
              "      <td>996.000</td>\n",
              "      <td>996.000</td>\n",
              "      <td>996.000</td>\n",
              "      <td>996.000</td>\n",
              "      <td>996.000</td>\n",
              "    </tr>\n",
              "    <tr>\n",
              "      <th>mean</th>\n",
              "      <td>5.749</td>\n",
              "      <td>4.997</td>\n",
              "      <td>8.165</td>\n",
              "      <td>10.002</td>\n",
              "      <td>15.188</td>\n",
              "      <td>9.934</td>\n",
              "    </tr>\n",
              "    <tr>\n",
              "      <th>std</th>\n",
              "      <td>2.526</td>\n",
              "      <td>4.165</td>\n",
              "      <td>6.173</td>\n",
              "      <td>7.336</td>\n",
              "      <td>12.160</td>\n",
              "      <td>7.282</td>\n",
              "    </tr>\n",
              "    <tr>\n",
              "      <th>min</th>\n",
              "      <td>0.001</td>\n",
              "      <td>0.006</td>\n",
              "      <td>0.000</td>\n",
              "      <td>0.018</td>\n",
              "      <td>0.065</td>\n",
              "      <td>0.009</td>\n",
              "    </tr>\n",
              "    <tr>\n",
              "      <th>25%</th>\n",
              "      <td>4.023</td>\n",
              "      <td>1.582</td>\n",
              "      <td>3.190</td>\n",
              "      <td>4.004</td>\n",
              "      <td>5.509</td>\n",
              "      <td>3.843</td>\n",
              "    </tr>\n",
              "    <tr>\n",
              "      <th>50%</th>\n",
              "      <td>5.741</td>\n",
              "      <td>3.859</td>\n",
              "      <td>6.753</td>\n",
              "      <td>8.793</td>\n",
              "      <td>12.186</td>\n",
              "      <td>8.853</td>\n",
              "    </tr>\n",
              "    <tr>\n",
              "      <th>75%</th>\n",
              "      <td>7.504</td>\n",
              "      <td>7.600</td>\n",
              "      <td>11.253</td>\n",
              "      <td>14.684</td>\n",
              "      <td>21.835</td>\n",
              "      <td>14.357</td>\n",
              "    </tr>\n",
              "    <tr>\n",
              "      <th>max</th>\n",
              "      <td>12.648</td>\n",
              "      <td>16.556</td>\n",
              "      <td>36.186</td>\n",
              "      <td>34.868</td>\n",
              "      <td>53.238</td>\n",
              "      <td>43.231</td>\n",
              "    </tr>\n",
              "  </tbody>\n",
              "</table>\n",
              "</div>"
            ],
            "text/plain": [
              "       Pressure _sensor_3  ...  Vibration_sensor_4\n",
              "count             996.000  ...             996.000\n",
              "mean                5.749  ...               9.934\n",
              "std                 2.526  ...               7.282\n",
              "min                 0.001  ...               0.009\n",
              "25%                 4.023  ...               3.843\n",
              "50%                 5.741  ...               8.853\n",
              "75%                 7.504  ...              14.357\n",
              "max                12.648  ...              43.231\n",
              "\n",
              "[8 rows x 6 columns]"
            ]
          },
          "metadata": {
            "tags": []
          },
          "execution_count": 13
        }
      ]
    },
    {
      "cell_type": "code",
      "metadata": {
        "id": "u_ArQ1HNbERv",
        "colab_type": "code",
        "colab": {
          "base_uri": "https://localhost:8080/",
          "height": 252
        },
        "outputId": "1a956c75-5e73-4f7b-8dd1-d64f99894b21"
      },
      "source": [
        "# check for missing values\n",
        "df.isna().sum()"
      ],
      "execution_count": 14,
      "outputs": [
        {
          "output_type": "execute_result",
          "data": {
            "text/plain": [
              "Status                   0\n",
              "Power_range_sensor_1     0\n",
              "Power_range_sensor_2     0\n",
              "Power_range_sensor_3     0\n",
              "Power_range_sensor_4     0\n",
              "Pressure _sensor_1       0\n",
              "Pressure _sensor_2       0\n",
              "Pressure _sensor_3       0\n",
              "Pressure _sensor_4       0\n",
              "Vibration_sensor_1       0\n",
              "Vibration_sensor_2       0\n",
              "Vibration_sensor_3       0\n",
              "Vibration_sensor_4       0\n",
              "dtype: int64"
            ]
          },
          "metadata": {
            "tags": []
          },
          "execution_count": 14
        }
      ]
    },
    {
      "cell_type": "code",
      "metadata": {
        "id": "1O6LFAHMbRlR",
        "colab_type": "code",
        "colab": {
          "base_uri": "https://localhost:8080/",
          "height": 67
        },
        "outputId": "79bf1b14-8e8a-4199-eeba-7d2fc22b0554"
      },
      "source": [
        "# get class names and number of examples per class\n",
        "df['Status'].value_counts()"
      ],
      "execution_count": 15,
      "outputs": [
        {
          "output_type": "execute_result",
          "data": {
            "text/plain": [
              "Abnormal    498\n",
              "Normal      498\n",
              "Name: Status, dtype: int64"
            ]
          },
          "metadata": {
            "tags": []
          },
          "execution_count": 15
        }
      ]
    },
    {
      "cell_type": "markdown",
      "metadata": {
        "id": "5jJowGgNcoJE",
        "colab_type": "text"
      },
      "source": [
        "## Data visualisation"
      ]
    },
    {
      "cell_type": "code",
      "metadata": {
        "id": "iFahSyaucnFl",
        "colab_type": "code",
        "colab": {
          "base_uri": "https://localhost:8080/",
          "height": 308
        },
        "outputId": "a5e73a2e-91a0-4040-c842-a25410f8b1c2"
      },
      "source": [
        "# box plot\n",
        "sns.boxplot(data=df, x='Status', y='Vibration_sensor_1', palette='bright')"
      ],
      "execution_count": 16,
      "outputs": [
        {
          "output_type": "execute_result",
          "data": {
            "text/plain": [
              "<matplotlib.axes._subplots.AxesSubplot at 0x7f6d8f1b77b8>"
            ]
          },
          "metadata": {
            "tags": []
          },
          "execution_count": 16
        },
        {
          "output_type": "display_data",
          "data": {
            "image/png": "[encoded data removed]",
            "text/plain": [
              "<Figure size 432x288 with 1 Axes>"
            ]
          },
          "metadata": {
            "tags": []
          }
        }
      ]
    },
    {
      "cell_type": "code",
      "metadata": {
        "id": "jIqRm_1NHIrx",
        "colab_type": "code",
        "colab": {
          "base_uri": "https://localhost:8080/",
          "height": 292
        },
        "outputId": "85d54454-9778-41b9-eb08-c9c2d96f8ecb"
      },
      "source": [
        "# density plot\n",
        "\n",
        "plot_var = 'Vibration_sensor_2'\n",
        "fig, axes = plt.subplots(1, 2, figsize=(12,4), sharex='all')\n",
        "\n",
        "class_labels = df['Status'].unique()\n",
        "hist_data = [df[plot_var][df['Status']==class_label] for class_label in class_labels]\n",
        "\n",
        "axes[0].hist(hist_data, label=class_labels)\n",
        "axes[0].legend()\n",
        "axes[0].set_ylabel('Count')\n",
        "\n",
        "for i, class_label in enumerate(class_labels):\n",
        "    sns.kdeplot(hist_data[i], ax=axes[1], label=class_label, shade=True)\n",
        "axes[1].set_ylabel('Probability density')\n",
        "\n",
        "for ax in axes:\n",
        "  ax.set_xlabel(plot_var)\n",
        "\n",
        "fig.subplots_adjust(wspace=0.3)"
      ],
      "execution_count": 17,
      "outputs": [
        {
          "output_type": "display_data",
          "data": {
            "image/png": "[encoded data removed]",
            "text/plain": [
              "<Figure size 864x288 with 2 Axes>"
            ]
          },
          "metadata": {
            "tags": []
          }
        }
      ]
    },
    {
      "cell_type": "markdown",
      "metadata": {
        "id": "4CL9JAFScqnU",
        "colab_type": "text"
      },
      "source": [
        "## Data preparation"
      ]
    },
    {
      "cell_type": "code",
      "metadata": {
        "id": "Nf_LuHaQz8Kp",
        "colab_type": "code",
        "colab": {}
      },
      "source": [
        "from pyspark.ml.feature import VectorAssembler"
      ],
      "execution_count": 0,
      "outputs": []
    },
    {
      "cell_type": "code",
      "metadata": {
        "id": "N_qLV2OJbvKz",
        "colab_type": "code",
        "colab": {
          "base_uri": "https://localhost:8080/",
          "height": 306
        },
        "outputId": "d9ab11de-3c87-4009-a6ad-63e1d46373d8"
      },
      "source": [
        "# switch to spark\n",
        "data = spark.createDataFrame(df)\n",
        "data.show(10)"
      ],
      "execution_count": 19,
      "outputs": [
        {
          "output_type": "stream",
          "text": [
            "+------+--------------------+--------------------+---------------------+--------------------+------------------+------------------+------------------+------------------+------------------+------------------+------------------+------------------+\n",
            "|Status|Power_range_sensor_1|Power_range_sensor_2|Power_range_sensor_3 |Power_range_sensor_4|Pressure _sensor_1|Pressure _sensor_2|Pressure _sensor_3|Pressure _sensor_4|Vibration_sensor_1|Vibration_sensor_2|Vibration_sensor_3|Vibration_sensor_4|\n",
            "+------+--------------------+--------------------+---------------------+--------------------+------------------+------------------+------------------+------------------+------------------+------------------+------------------+------------------+\n",
            "|Normal|              4.5044|              0.7443|                 6.34|              1.9052|           29.5315|            0.8647|            2.2044| 6.047999999999999|           14.4659|21.648000000000003|           15.3429|            1.2186|\n",
            "|Normal|              4.4284|              0.9073|               5.6433|              1.6232|           27.5032|            1.4704|            1.9929|            5.9856|           20.8356|            0.0646|           14.8813|            7.3483|\n",
            "|Normal|              4.5291|              1.0199|   6.1129999999999995|              1.0565|           26.4271|            1.9247|             1.942|            6.7162|            5.3358|           11.0779|           25.0914|            9.2408|\n",
            "|Normal|              5.1727|              1.0007|               7.8589|              0.2765|           25.1576|             2.609|            2.9234|            6.7485|            1.9017|            1.8463|            28.664|            4.0157|\n",
            "|Normal|              5.2258|              0.6125|               7.9504|              0.1547|           24.0765|            3.2113|            4.4563|            5.8411|            0.5077|              9.37|           34.8122|           13.4966|\n",
            "|Normal|              4.8834|              0.5786|               5.6021|              0.5942|           21.0365|            2.6275|            4.3996|            5.3487|            3.6465|            9.3793|           36.2431|            11.124|\n",
            "|Normal|              5.7422|              0.8862|               5.1013|              0.9402|           15.5171|              2.92|            2.7061|            5.0366|            9.1854|            9.1116|           27.3162|            2.8526|\n",
            "|Normal|              6.5076|              0.5438|                7.153|              0.6711|           11.1481|            4.2967|            3.5731|            4.6123|           14.7705|            8.0038|           24.9714|            2.1417|\n",
            "|Normal|               5.625|              0.0403|               7.7087|              0.3214|            8.7975|            2.3293|             4.788| 5.202999999999999|            4.3388|            2.4187|           20.9187|            2.1233|\n",
            "|Normal|              4.9942|              0.4092|               6.2604|              0.6931|             6.189|            0.1537|            2.4934|            5.6573|            9.8132|           13.3581|           23.5036|            0.7478|\n",
            "+------+--------------------+--------------------+---------------------+--------------------+------------------+------------------+------------------+------------------+------------------+------------------+------------------+------------------+\n",
            "only showing top 10 rows\n",
            "\n"
          ],
          "name": "stdout"
        }
      ]
    },
    {
      "cell_type": "code",
      "metadata": {
        "id": "L1AGApJ8ZRCq",
        "colab_type": "code",
        "colab": {}
      },
      "source": [
        "# transform 'Status' to numerical class labels, store them in 'label' column\n",
        "# Normal -> 0, Abnormal -> 1 - fault occurrence as a positive class\n",
        "data_prep = data.withColumn('label', (data.Status=='Abnormal').astype(\"float\"))"
      ],
      "execution_count": 0,
      "outputs": []
    },
    {
      "cell_type": "code",
      "metadata": {
        "id": "85yk3IinQtus",
        "colab_type": "code",
        "colab": {
          "base_uri": "https://localhost:8080/",
          "height": 302
        },
        "outputId": "4b243272-2a0a-481b-8283-d81d4eb43d16"
      },
      "source": [
        "# combine features for classification, store them in 'features' column\n",
        "data_prep = VectorAssembler(inputCols=feature_names, outputCol=\"features\").transform(data_prep)\n",
        "data_prep.printSchema()"
      ],
      "execution_count": 21,
      "outputs": [
        {
          "output_type": "stream",
          "text": [
            "root\n",
            " |-- Status: string (nullable = true)\n",
            " |-- Power_range_sensor_1: double (nullable = true)\n",
            " |-- Power_range_sensor_2: double (nullable = true)\n",
            " |-- Power_range_sensor_3 : double (nullable = true)\n",
            " |-- Power_range_sensor_4: double (nullable = true)\n",
            " |-- Pressure _sensor_1: double (nullable = true)\n",
            " |-- Pressure _sensor_2: double (nullable = true)\n",
            " |-- Pressure _sensor_3: double (nullable = true)\n",
            " |-- Pressure _sensor_4: double (nullable = true)\n",
            " |-- Vibration_sensor_1: double (nullable = true)\n",
            " |-- Vibration_sensor_2: double (nullable = true)\n",
            " |-- Vibration_sensor_3: double (nullable = true)\n",
            " |-- Vibration_sensor_4: double (nullable = true)\n",
            " |-- label: float (nullable = true)\n",
            " |-- features: vector (nullable = true)\n",
            "\n"
          ],
          "name": "stdout"
        }
      ]
    },
    {
      "cell_type": "code",
      "metadata": {
        "id": "T1oWE0rPb3cJ",
        "colab_type": "code",
        "colab": {
          "base_uri": "https://localhost:8080/",
          "height": 50
        },
        "outputId": "e0b40b08-28c2-4590-cdf2-31fcc10176d0"
      },
      "source": [
        "# split data to train and test sets\n",
        "data_train, data_test = data_prep.randomSplit([0.75, 0.25])\n",
        "\n",
        "for n, d in (('Train', data_train), ('Test', data_test)):\n",
        "    print(f\"{n} size: {d.count()} ({100*(d.count()/data_prep.count()):.1f}%)\")"
      ],
      "execution_count": 22,
      "outputs": [
        {
          "output_type": "stream",
          "text": [
            "Train size: 761 (76.4%)\n",
            "Test size: 235 (23.6%)\n"
          ],
          "name": "stdout"
        }
      ]
    },
    {
      "cell_type": "markdown",
      "metadata": {
        "id": "zDR5U6IgTl1o",
        "colab_type": "text"
      },
      "source": [
        "## Data classification\n",
        "### Model definition and fitting"
      ]
    },
    {
      "cell_type": "code",
      "metadata": {
        "id": "Ge9c0VlFTqJn",
        "colab_type": "code",
        "colab": {}
      },
      "source": [
        "from pyspark.ml.classification import LogisticRegression, GBTClassifier"
      ],
      "execution_count": 0,
      "outputs": []
    },
    {
      "cell_type": "code",
      "metadata": {
        "id": "-n8KNRB7BTWJ",
        "colab_type": "code",
        "colab": {}
      },
      "source": [
        "# define and train classifier models; test on the test set\n",
        "lr_model = LogisticRegression().fit(data_train).evaluate(data_test)\n",
        "gbt_model = GBTClassifier().fit(data_train).transform(data_test)\n",
        "\n",
        "models = {'Logistic Regression': lr_model.predictions,\n",
        "          'Gradient Boosted Tree': gbt_model}"
      ],
      "execution_count": 0,
      "outputs": []
    },
    {
      "cell_type": "markdown",
      "metadata": {
        "id": "GMnIxbXtHRKy",
        "colab_type": "text"
      },
      "source": [
        "### Model evaluation"
      ]
    },
    {
      "cell_type": "code",
      "metadata": {
        "id": "qlB_QBpd_pgg",
        "colab_type": "code",
        "colab": {}
      },
      "source": [
        "from pyspark.mllib.evaluation import BinaryClassificationMetrics, MulticlassMetrics\n",
        "from sklearn.metrics import roc_curve"
      ],
      "execution_count": 0,
      "outputs": []
    },
    {
      "cell_type": "code",
      "metadata": {
        "id": "jy_1FWINUq-H",
        "colab_type": "code",
        "colab": {}
      },
      "source": [
        "# create binary metrics and multiclass metrics for both models\n",
        "# (ROC AUC is available from binary metrics, accuracy and other scores from multiclass)\n",
        "\n",
        "bin_metrics, multi_metrics = {}, {}\n",
        "\n",
        "for model_name, model in models.items():\n",
        "    preds = model.select(['label', 'prediction']).rdd.map(tuple)\n",
        "    multi_metrics[model_name] = MulticlassMetrics(preds)\n",
        "    bin_metrics[model_name] = BinaryClassificationMetrics(preds)\n"
      ],
      "execution_count": 0,
      "outputs": []
    },
    {
      "cell_type": "code",
      "metadata": {
        "id": "013TBtmLGjwd",
        "colab_type": "code",
        "colab": {
          "base_uri": "https://localhost:8080/",
          "height": 106
        },
        "outputId": "d2df8468-9800-419a-b6b5-ead439c0f8fb"
      },
      "source": [
        "# summary and comparison of performance scores of both models\n",
        "\n",
        "pd.DataFrame([{'Accuracy': multi_metrics[m].accuracy,\n",
        "               'Precision': multi_metrics[m].precision(),\n",
        "               'Recall': multi_metrics[m].recall(),\n",
        "               'ROC AUC': bin_metrics[m].areaUnderROC,\n",
        "               'F1 score': multi_metrics[m].weightedFMeasure()} for m in models.keys()],\n",
        "             index=multi_metrics.keys()).round(3)"
      ],
      "execution_count": 28,
      "outputs": [
        {
          "output_type": "execute_result",
          "data": {
            "text/html": [
              "<div>\n",
              "<style scoped>\n",
              "    .dataframe tbody tr th:only-of-type {\n",
              "        vertical-align: middle;\n",
              "    }\n",
              "\n",
              "    .dataframe tbody tr th {\n",
              "        vertical-align: top;\n",
              "    }\n",
              "\n",
              "    .dataframe thead th {\n",
              "        text-align: right;\n",
              "    }\n",
              "</style>\n",
              "<table border=\"1\" class=\"dataframe\">\n",
              "  <thead>\n",
              "    <tr style=\"text-align: right;\">\n",
              "      <th></th>\n",
              "      <th>Accuracy</th>\n",
              "      <th>Precision</th>\n",
              "      <th>Recall</th>\n",
              "      <th>ROC AUC</th>\n",
              "      <th>F1 score</th>\n",
              "    </tr>\n",
              "  </thead>\n",
              "  <tbody>\n",
              "    <tr>\n",
              "      <th>Logistic Regression</th>\n",
              "      <td>0.732</td>\n",
              "      <td>0.732</td>\n",
              "      <td>0.732</td>\n",
              "      <td>0.731</td>\n",
              "      <td>0.731</td>\n",
              "    </tr>\n",
              "    <tr>\n",
              "      <th>Gradient Boosted Tree</th>\n",
              "      <td>0.911</td>\n",
              "      <td>0.911</td>\n",
              "      <td>0.911</td>\n",
              "      <td>0.911</td>\n",
              "      <td>0.910</td>\n",
              "    </tr>\n",
              "  </tbody>\n",
              "</table>\n",
              "</div>"
            ],
            "text/plain": [
              "                       Accuracy  Precision  Recall  ROC AUC  F1 score\n",
              "Logistic Regression       0.732      0.732   0.732    0.731     0.731\n",
              "Gradient Boosted Tree     0.911      0.911   0.911    0.911     0.910"
            ]
          },
          "metadata": {
            "tags": []
          },
          "execution_count": 28
        }
      ]
    },
    {
      "cell_type": "code",
      "metadata": {
        "id": "s159KfWaHVQP",
        "colab_type": "code",
        "colab": {}
      },
      "source": [
        "# construct confusion  matrices\n",
        "\n",
        "indices = [f'{pa} {pn}' for pa in ['Actual', 'Predicted'] for pn in ['Positive', 'Negative']]\n",
        "\n",
        "def conf_matrix(model_name):\n",
        "    return pd.DataFrame(multi_metrics[model_name].confusionMatrix().toArray(), index=indices[:2], columns=indices[2:])"
      ],
      "execution_count": 0,
      "outputs": []
    },
    {
      "cell_type": "code",
      "metadata": {
        "id": "jsP51hdeIGoo",
        "colab_type": "code",
        "colab": {
          "base_uri": "https://localhost:8080/",
          "height": 106
        },
        "outputId": "76aaad00-e45c-4244-d366-bc743eb4b93d"
      },
      "source": [
        "conf_matrix('Logistic Regression')"
      ],
      "execution_count": 30,
      "outputs": [
        {
          "output_type": "execute_result",
          "data": {
            "text/html": [
              "<div>\n",
              "<style scoped>\n",
              "    .dataframe tbody tr th:only-of-type {\n",
              "        vertical-align: middle;\n",
              "    }\n",
              "\n",
              "    .dataframe tbody tr th {\n",
              "        vertical-align: top;\n",
              "    }\n",
              "\n",
              "    .dataframe thead th {\n",
              "        text-align: right;\n",
              "    }\n",
              "</style>\n",
              "<table border=\"1\" class=\"dataframe\">\n",
              "  <thead>\n",
              "    <tr style=\"text-align: right;\">\n",
              "      <th></th>\n",
              "      <th>Predicted Positive</th>\n",
              "      <th>Predicted Negative</th>\n",
              "    </tr>\n",
              "  </thead>\n",
              "  <tbody>\n",
              "    <tr>\n",
              "      <th>Actual Positive</th>\n",
              "      <td>92.0</td>\n",
              "      <td>27.0</td>\n",
              "    </tr>\n",
              "    <tr>\n",
              "      <th>Actual Negative</th>\n",
              "      <td>36.0</td>\n",
              "      <td>80.0</td>\n",
              "    </tr>\n",
              "  </tbody>\n",
              "</table>\n",
              "</div>"
            ],
            "text/plain": [
              "                 Predicted Positive  Predicted Negative\n",
              "Actual Positive                92.0                27.0\n",
              "Actual Negative                36.0                80.0"
            ]
          },
          "metadata": {
            "tags": []
          },
          "execution_count": 30
        }
      ]
    },
    {
      "cell_type": "code",
      "metadata": {
        "id": "lnC4CS0oIPiI",
        "colab_type": "code",
        "colab": {
          "base_uri": "https://localhost:8080/",
          "height": 106
        },
        "outputId": "85cd9493-f922-419f-9704-10af5710efac"
      },
      "source": [
        "conf_matrix('Gradient Boosted Tree')"
      ],
      "execution_count": 31,
      "outputs": [
        {
          "output_type": "execute_result",
          "data": {
            "text/html": [
              "<div>\n",
              "<style scoped>\n",
              "    .dataframe tbody tr th:only-of-type {\n",
              "        vertical-align: middle;\n",
              "    }\n",
              "\n",
              "    .dataframe tbody tr th {\n",
              "        vertical-align: top;\n",
              "    }\n",
              "\n",
              "    .dataframe thead th {\n",
              "        text-align: right;\n",
              "    }\n",
              "</style>\n",
              "<table border=\"1\" class=\"dataframe\">\n",
              "  <thead>\n",
              "    <tr style=\"text-align: right;\">\n",
              "      <th></th>\n",
              "      <th>Predicted Positive</th>\n",
              "      <th>Predicted Negative</th>\n",
              "    </tr>\n",
              "  </thead>\n",
              "  <tbody>\n",
              "    <tr>\n",
              "      <th>Actual Positive</th>\n",
              "      <td>112.0</td>\n",
              "      <td>5.0</td>\n",
              "    </tr>\n",
              "    <tr>\n",
              "      <th>Actual Negative</th>\n",
              "      <td>16.0</td>\n",
              "      <td>102.0</td>\n",
              "    </tr>\n",
              "  </tbody>\n",
              "</table>\n",
              "</div>"
            ],
            "text/plain": [
              "                 Predicted Positive  Predicted Negative\n",
              "Actual Positive               112.0                 5.0\n",
              "Actual Negative                16.0               102.0"
            ]
          },
          "metadata": {
            "tags": []
          },
          "execution_count": 31
        }
      ]
    },
    {
      "cell_type": "code",
      "metadata": {
        "id": "6Tb_kuB_fIE9",
        "colab_type": "code",
        "colab": {
          "base_uri": "https://localhost:8080/",
          "height": 454
        },
        "outputId": "7f0c2f1d-4df1-4e72-c9d6-67c1d979ff89"
      },
      "source": [
        "# ROC curves for both models\n",
        "# using probabilities for the positive class\n",
        "\n",
        "fig, ax = plt.subplots(figsize=(7, 7))\n",
        "ax.set_aspect('equal')\n",
        "ax.plot([0, 1], [0, 1], 'k:')\n",
        "\n",
        "colors = ['slateblue', 'lawngreen']\n",
        "\n",
        "for i, (model_name, m) in enumerate(models.items()):\n",
        "    fpr, tpr, _ = roc_curve(y_true=np.squeeze(m.select('label').collect()),\n",
        "                            y_score=np.squeeze(m.select('probability').collect()).T[1])\n",
        "\n",
        "    ax.plot(fpr, tpr, color=colors[i],\n",
        "            label=f\"{model_name}\\n(ROC AUC: {bin_metrics[model_name].areaUnderROC:.2f})\")\n",
        "    ax.fill_between(fpr, tpr, color=colors[i], alpha=0.2, zorder=1)\n",
        "\n",
        "ax.set_xlabel('FPR')\n",
        "ax.set_ylabel('TPR')\n",
        "_ = ax.legend(fancybox=True, framealpha=0.5)"
      ],
      "execution_count": 32,
      "outputs": [
        {
          "output_type": "display_data",
          "data": {
            "image/png": "[encoded data removed]",
            "text/plain": [
              "<Figure size 504x504 with 1 Axes>"
            ]
          },
          "metadata": {
            "tags": []
          }
        }
      ]
    },
    {
      "cell_type": "code",
      "metadata": {
        "id": "bUv_qab_fKaE",
        "colab_type": "code",
        "colab": {}
      },
      "source": [
        ""
      ],
      "execution_count": 0,
      "outputs": []
    }
  ]
}