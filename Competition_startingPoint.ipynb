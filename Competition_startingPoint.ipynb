{
  "nbformat": 4,
  "nbformat_minor": 0,
  "metadata": {
    "accelerator": "GPU",
    "colab": {
      "name": "Competition_startingPoint.ipynb",
      "provenance": [],
      "collapsed_sections": [],
      "toc_visible": true,
      "include_colab_link": true
    },
    "kernelspec": {
      "display_name": "Python 3",
      "language": "python",
      "name": "python3"
    },
    "language_info": {
      "codemirror_mode": {
        "name": "ipython",
        "version": 3
      },
      "file_extension": ".py",
      "mimetype": "text/x-python",
      "name": "python",
      "nbconvert_exporter": "python",
      "pygments_lexer": "ipython3",
      "version": "3.7.4"
    }
  },
  "cells": [
    {
      "cell_type": "markdown",
      "metadata": {
        "id": "view-in-github",
        "colab_type": "text"
      },
      "source": [
        "<a href=\"https://colab.research.google.com/github/animaviridis/dmv-practicals/blob/master/Competition_startingPoint.ipynb\" target=\"_parent\"><img src=\"https://colab.research.google.com/assets/colab-badge.svg\" alt=\"Open In Colab\"/></a>"
      ]
    },
    {
      "cell_type": "markdown",
      "metadata": {
        "colab_type": "text",
        "id": "sewCJ5bvlT3o"
      },
      "source": [
        "Data Mining and Visualisation 2019-2020\n",
        "Practical 6 - Time Series Classification & Competition"
      ]
    },
    {
      "cell_type": "code",
      "metadata": {
        "colab_type": "code",
        "id": "Gp61L87LgfKU",
        "outputId": "7f2da310-7579-4169-ca40-2c05dbf84531",
        "colab": {
          "base_uri": "https://localhost:8080/",
          "height": 34
        }
      },
      "source": [
        "import pandas as pd\n",
        "from sklearn import preprocessing\n",
        "from sklearn.model_selection import train_test_split\n",
        "#from sklearn import metrics\n",
        "from sklearn.metrics import confusion_matrix\n",
        "import matplotlib.pyplot as plt\n",
        "from sklearn.preprocessing import MinMaxScaler\n",
        "from keras.models import Sequential\n",
        "from keras.layers import Dense\n",
        "from numpy import mean\n",
        "import numpy as np\n",
        "from keras.wrappers.scikit_learn import KerasClassifier\n",
        "from sklearn.model_selection import StratifiedKFold\n",
        "from sklearn.model_selection import cross_val_score\n",
        "from keras.layers import Dropout, LeakyReLU, Conv2D, MaxPooling2D, Conv1D, MaxPooling1D, Flatten, GlobalAveragePooling1D, GlobalMaxPooling1D, BatchNormalization\n",
        "from keras.callbacks import ModelCheckpoint, ReduceLROnPlateau, EarlyStopping, LearningRateScheduler\n",
        "import math\n",
        "from keras.optimizers import  Adam, SGD, RMSprop\n",
        "from keras.regularizers import l1\n",
        "from keras import backend as K\n",
        "from keras.utils import multi_gpu_model\n",
        "from keras import backend as K\n",
        "import io\n",
        "from google.colab import files\n",
        "K.tensorflow_backend._get_available_gpus()"
      ],
      "execution_count": 4,
      "outputs": [
        {
          "output_type": "execute_result",
          "data": {
            "text/plain": [
              "['/job:localhost/replica:0/task:0/device:GPU:0']"
            ]
          },
          "metadata": {
            "tags": []
          },
          "execution_count": 4
        }
      ]
    },
    {
      "cell_type": "code",
      "metadata": {
        "colab_type": "code",
        "id": "2sZ5qzRmg3u6",
        "colab": {
          "resources": {
            "http://localhost:8080/nbextensions/google.colab/files.js": {
              "data": "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",
              "ok": true,
              "headers": [
                [
                  "content-type",
                  "application/javascript"
                ]
              ],
              "status": 200,
              "status_text": ""
            }
          },
          "base_uri": "https://localhost:8080/",
          "height": 74
        },
        "outputId": "87881fde-b4f4-468b-bdda-7678bc7f6410"
      },
      "source": [
        "path = '/content'\n",
        "# df = pd.read_csv('all_data_35predicitors_197k_rain_395k_nonrain.txt')\n",
        "df = pd.read_csv(io.StringIO(files.upload()['all_data_35predicitors_197k_rain_395k_nonrain.txt'].decode('utf-8')))\n"
      ],
      "execution_count": 5,
      "outputs": [
        {
          "output_type": "display_data",
          "data": {
            "text/html": [
              "\n",
              "     <input type=\"file\" id=\"files-571e9af8-706c-44f5-bddb-2948398ce554\" name=\"files[]\" multiple disabled />\n",
              "     <output id=\"result-571e9af8-706c-44f5-bddb-2948398ce554\">\n",
              "      Upload widget is only available when the cell has been executed in the\n",
              "      current browser session. Please rerun this cell to enable.\n",
              "      </output>\n",
              "      <script src=\"/nbextensions/google.colab/files.js\"></script> "
            ],
            "text/plain": [
              "<IPython.core.display.HTML object>"
            ]
          },
          "metadata": {
            "tags": []
          }
        },
        {
          "output_type": "stream",
          "text": [
            "Saving all_data_35predicitors_197k_rain_395k_nonrain.txt to all_data_35predicitors_197k_rain_395k_nonrain.txt\n"
          ],
          "name": "stdout"
        }
      ]
    },
    {
      "cell_type": "code",
      "metadata": {
        "id": "A3CP8Scvn89k",
        "colab_type": "code",
        "colab": {
          "base_uri": "https://localhost:8080/",
          "height": 34
        },
        "outputId": "67d00bbb-0f63-4006-cac7-821dda2f78e4"
      },
      "source": [
        "# Check that no nans or missing data\n",
        "df.isnull().sum().sum()\n"
      ],
      "execution_count": 9,
      "outputs": [
        {
          "output_type": "execute_result",
          "data": {
            "text/plain": [
              "0"
            ]
          },
          "metadata": {
            "tags": []
          },
          "execution_count": 9
        }
      ]
    },
    {
      "cell_type": "code",
      "metadata": {
        "id": "Sf99gOReoBXd",
        "colab_type": "code",
        "colab": {}
      },
      "source": [
        "# Change rain or no rain into True or False\n",
        "df.PRECIP = df.PRECIP.astype(bool)\n",
        "\n",
        "# Define preprocessor to change string to number labels\n",
        "le = preprocessing.LabelEncoder()\n",
        "\n",
        "# Change true/false to 1 or 0\n",
        "df.PRECIP = le.fit_transform(df.PRECIP)"
      ],
      "execution_count": 0,
      "outputs": []
    },
    {
      "cell_type": "code",
      "metadata": {
        "colab_type": "code",
        "id": "wqO85BFHpqBE",
        "outputId": "19934bf0-a206-48f0-c8c6-9060df22fb32",
        "colab": {
          "base_uri": "https://localhost:8080/",
          "height": 218
        }
      },
      "source": [
        "df.PRECIP"
      ],
      "execution_count": 14,
      "outputs": [
        {
          "output_type": "execute_result",
          "data": {
            "text/plain": [
              "0         1\n",
              "1         1\n",
              "2         1\n",
              "3         1\n",
              "4         1\n",
              "         ..\n",
              "593869    0\n",
              "593870    0\n",
              "593871    0\n",
              "593872    0\n",
              "593873    0\n",
              "Name: PRECIP, Length: 593874, dtype: int64"
            ]
          },
          "metadata": {
            "tags": []
          },
          "execution_count": 14
        }
      ]
    },
    {
      "cell_type": "code",
      "metadata": {
        "id": "CGQFZk3qoVg6",
        "colab_type": "code",
        "colab": {
          "base_uri": "https://localhost:8080/",
          "height": 34
        },
        "outputId": "f4e0455c-487b-49b3-9b30-a05ae0e1bed9"
      },
      "source": [
        "# See how many 1s and 0s there are in the data\n",
        "label_distribution = {val: (df.PRECIP==val).sum() for val in set(df.PRECIP)}\n",
        "label_distribution"
      ],
      "execution_count": 10,
      "outputs": [
        {
          "output_type": "execute_result",
          "data": {
            "text/plain": [
              "{0: 395916, 1: 197958}"
            ]
          },
          "metadata": {
            "tags": []
          },
          "execution_count": 10
        }
      ]
    },
    {
      "cell_type": "code",
      "metadata": {
        "id": "IIO4yM_aooO0",
        "colab_type": "code",
        "colab": {
          "base_uri": "https://localhost:8080/",
          "height": 34
        },
        "outputId": "8d35add1-c0f0-4416-97f7-0d4e95288a96"
      },
      "source": [
        "# percentages\n",
        "{val: np.around(100*num/df.shape[0], 2) for val, num in label_distribution.items()}"
      ],
      "execution_count": 11,
      "outputs": [
        {
          "output_type": "execute_result",
          "data": {
            "text/plain": [
              "{0: 66.67, 1: 33.33}"
            ]
          },
          "metadata": {
            "tags": []
          },
          "execution_count": 11
        }
      ]
    },
    {
      "cell_type": "code",
      "metadata": {
        "colab_type": "code",
        "id": "0-07iHz2gpcG",
        "outputId": "93e65d2e-aa0c-4d6c-c94d-205c28360e63",
        "colab": {
          "base_uri": "https://localhost:8080/",
          "height": 139
        }
      },
      "source": [
        "# Create datetime for reference and then remove from dataframe\n",
        "datetime = df.DATE_TIME\n",
        "df = df.drop(['DATE_TIME'], axis = 1)\n",
        "\n",
        "#Remove site-id\n",
        "df=df.drop(['SITE_ID'], axis = 1)\n",
        "\n",
        "#Prepare data\n",
        "X = df.drop('PRECIP', axis=1) #Predictors\n",
        "y = df.PRECIP #Labels\n",
        "\n",
        "#Normalize predictors\n",
        "scaler = MinMaxScaler(feature_range=(0, 1))\n",
        "X = scaler.fit_transform(X)\n",
        "\n",
        "#Define test and train set\n",
        "X_train, X_test, y_train, y_test = train_test_split(X, y, test_size=0.20, random_state=1,shuffle=True)\n",
        "y_test.value_counts()#Check roughly equal amounts of rain or no rain in the test data\n",
        "\n",
        "\n",
        "#datax = X_train.reshape(4410,1,52,1)\n",
        "#datay = y_train.reshape()\n",
        "X_train = np.reshape(X_train,(X_train.shape[0],X_train.shape[1],1))\n",
        "X_test = np.reshape(X_test,(X_test.shape[0],X_test.shape[1],1))\n",
        "y_train = np.array(y_train).reshape(X_train.shape[0],1)\n",
        "\n",
        "\n",
        "#input_shape=len(df.columns)-1\n",
        "K.clear_session()"
      ],
      "execution_count": 0,
      "outputs": [
        {
          "output_type": "stream",
          "text": [
            "WARNING:tensorflow:From /usr/local/lib/python3.6/dist-packages/keras/backend/tensorflow_backend.py:107: The name tf.reset_default_graph is deprecated. Please use tf.compat.v1.reset_default_graph instead.\n",
            "\n",
            "WARNING:tensorflow:From /usr/local/lib/python3.6/dist-packages/keras/backend/tensorflow_backend.py:111: The name tf.placeholder_with_default is deprecated. Please use tf.compat.v1.placeholder_with_default instead.\n",
            "\n",
            "WARNING:tensorflow:From /usr/local/lib/python3.6/dist-packages/keras/backend/tensorflow_backend.py:66: The name tf.get_default_graph is deprecated. Please use tf.compat.v1.get_default_graph instead.\n",
            "\n"
          ],
          "name": "stdout"
        }
      ]
    },
    {
      "cell_type": "code",
      "metadata": {
        "colab_type": "code",
        "id": "5MKRQRsNp6yM",
        "outputId": "a9ea03ce-b549-48b9-ad08-2a7500719d6d",
        "colab": {
          "base_uri": "https://localhost:8080/",
          "height": 34
        }
      },
      "source": [
        "y[300000]"
      ],
      "execution_count": 0,
      "outputs": [
        {
          "output_type": "execute_result",
          "data": {
            "text/plain": [
              "0"
            ]
          },
          "metadata": {
            "tags": []
          },
          "execution_count": 70
        }
      ]
    },
    {
      "cell_type": "code",
      "metadata": {
        "colab_type": "code",
        "id": "ZKIp2MMGZfVD",
        "outputId": "9eb2d549-50ed-4986-b1ec-1eee95413842",
        "colab": {
          "base_uri": "https://localhost:8080/",
          "height": 1000
        }
      },
      "source": [
        "model = Sequential()\n",
        "\n",
        "model.add(Conv1D(filters=32, padding='same', kernel_initializer='glorot_normal',input_shape=(X_train.shape[1],1), kernel_size=5))#filters= 16\n",
        "model.add(LeakyReLU(alpha=0.3))\n",
        "model.add(BatchNormalization(momentum=0.99, epsilon=0.001,scale=False))\n",
        "#model.add(MaxPooling1D())\n",
        "model.add(Conv1D(filters=64,  padding='same',kernel_initializer='glorot_normal', kernel_size=5))#filters = 32\n",
        "model.add(LeakyReLU(alpha=0.3))\n",
        "model.add(BatchNormalization(momentum=0.99, epsilon=0.001,scale=False))\n",
        "model.add(MaxPooling1D())\n",
        "model.add(Conv1D(filters=128,  padding='same',kernel_initializer='glorot_normal', kernel_size=5))\n",
        "model.add(LeakyReLU(alpha=0.3))\n",
        "model.add(BatchNormalization(momentum=0.99, epsilon=0.001, scale=False))\n",
        "model.add(Dropout(0.4))\n",
        "#model.add(Conv1D(filters=128, kernel_size=5,activation='relu'))\n",
        "#model.add(BatchNormalization(momentum=0.99, epsilon=0.001, scale=False))\n",
        "#model.add(Dropout(0.4))\n",
        "model.add(Conv1D(filters=196,  padding='same',kernel_initializer='glorot_normal', kernel_size=5))\n",
        "model.add(LeakyReLU(alpha=0.3))\n",
        "model.add(BatchNormalization(momentum=0.99, epsilon=0.001, scale=False))\n",
        "model.add(Dropout(0.4))\n",
        "model.add(MaxPooling1D())\n",
        "model.add(Conv1D(filters=196, padding='same',kernel_initializer='glorot_normal', kernel_size=5))\n",
        "model.add(LeakyReLU(alpha=0.3))\n",
        "model.add(BatchNormalization(momentum=0.99, epsilon=0.001,  scale=False))\n",
        "model.add(Conv1D(filters=196, padding='same',kernel_initializer='glorot_normal', kernel_size=5))\n",
        "model.add(LeakyReLU(alpha=0.3))\n",
        "model.add(BatchNormalization(momentum=0.99, epsilon=0.001,  scale=False))\n",
        "model.add(Dropout(0.4))\n",
        "model.add(Conv1D(filters=196, padding='same',kernel_initializer='glorot_normal', kernel_size=5))\n",
        "model.add(LeakyReLU(alpha=0.3))\n",
        "model.add(BatchNormalization(momentum=0.99, epsilon=0.001, scale=False))\n",
        "model.add(Dropout(0.4))\n",
        "model.add(MaxPooling1D())\n",
        "\n",
        "model.add(Conv1D(filters=256, padding='same',kernel_initializer='glorot_normal', kernel_size=5))\n",
        "model.add(LeakyReLU(alpha=0.3))\n",
        "model.add(BatchNormalization(momentum=0.99, epsilon=0.001, scale=False))\n",
        "model.add(Dropout(0.4))\n",
        "model.add(Conv1D(filters=256, padding='same',kernel_initializer='glorot_normal', kernel_size=5))\n",
        "model.add(LeakyReLU(alpha=0.3))\n",
        "model.add(BatchNormalization(momentum=0.99, epsilon=0.001, scale=False))\n",
        "model.add(Conv1D(filters=256, padding='same',kernel_initializer='glorot_normal', kernel_size=5))\n",
        "model.add(LeakyReLU(alpha=0.3))\n",
        "model.add(BatchNormalization(momentum=0.99, epsilon=0.001, scale=False))\n",
        "#model.add(Dropout(0.4))\n",
        "#model.add(Conv1D(filters=196, kernel_size=5, activation='relu'))\n",
        "#model.add(BatchNormalization(momentum=0.99, epsilon=0.001, scale=False))\n",
        "#model.add(Dropout(0.4))\n",
        "model.add(Flatten())\n",
        "\n",
        "#model.add(GlobalAveragePooling1D())\n",
        "#model.add(GlobalMaxPooling1D())\n",
        "\n",
        "model.add(Dense(1024, kernel_initializer='glorot_normal'))\n",
        "model.add(LeakyReLU(alpha=0.3))\n",
        "model.add(Dropout(0.3))\n",
        "model.add(Dense(512, kernel_initializer='glorot_normal'))\n",
        "model.add(LeakyReLU(alpha=0.3))\n",
        "model.add(Dropout(0.3))\n",
        ")\n",
        "model.add(Dense(1, kernel_initializer='glorot_normal', activation='sigmoid'))\n",
        "\n",
        "#Set optimizer\n",
        "sgd = SGD(lr=0.001, momentum=0.9, decay=0.1, nesterov=True)\n",
        "#adam = Adam(lr=0.001, beta_1=0.9, beta_2=0.99)\n",
        "#rmsprop = RMSprop(lr=0.001, rho=0.9, epsilon=None, decay=0.0)\n",
        "#Compile\n",
        "model.compile(loss='binary_crossentropy', optimizer=sgd, metrics=['accuracy'])\n",
        "\n",
        "\n",
        "#'''Define callbacks'''\n",
        "\n",
        "#reduce_lr = ReduceLROnPlateau(monitor='val_loss', factor=0.2,\n",
        "                             # patience=1, min_lr=0.001)\n",
        "#Do exponential reduction of lr, start at 0.5\n",
        "#\n",
        "#earlyStop=EarlyStopping(monitor='acc', min_delta=0.01, patience=50, verbose=1,\n",
        "                               #mode='auto', baseline=None, restore_best_weights=True)\n",
        "##Learning rate exponential\n",
        "#def exp_decay(epoch):\n",
        "  # initial_lrate = 0.5\n",
        "   #k = 0.1\n",
        "  # lrate = initial_lrate * math.exp(-k*epoch)\n",
        "  # return lrate\n",
        "#lrate = LearningRateScheduler(exp_decay)\n",
        "\n",
        "\n",
        "#callbacks_list = [earlyStop] # callbacks=callbacks_list\n",
        "filepath=\"weights-improvement-{epoch:02d}-{val_acc:.2f}.hdf5\"\n",
        "#Fit model\n",
        "checkpoint = ModelCheckpoint(filepath, save_best_only=True,  save_weights_only=False, verbose=1, mode='min', period=1)\n",
        "callbacks_list = [checkpoint]\n",
        "mod=model.fit(X_train, y_train, validation_split=0.20, epochs=50, batch_size=512,verbose=1, callbacks=callbacks_list)\n",
        "\n",
        " #Make predictions\n",
        "y_pred=model.predict(X_test)\n",
        "\n",
        "#Convert predictions to usable series with correct index\n",
        "y_pred=[float(round(x[0])) for x in y_pred]#round probabilites\n",
        "y_pred=pd.Series(y_pred)#Change to series\n",
        "new_index=y_pred.index.values #Take index from known test data\n",
        "y_test.index=new_index #Apply new index to predictions\n",
        "accuracy = mean(y_pred == y_test)\n",
        "print(\"Prediction Accuracy: %.2f%%\" % (accuracy*100))\n",
        "\n",
        "\n",
        "'''Check and plot history'''\n",
        "print(mod.history.keys())\n",
        "\n",
        "\n",
        "plt.plot(mod.history['acc'])\n",
        "plt.plot(mod.history['val_acc'])\n",
        "plt.title('model accuracy')\n",
        "plt.ylabel('accuracy')\n",
        "plt.xlabel('epoch')\n",
        "plt.legend(['train', 'test'], loc='upper left')\n",
        "plt.show()\n",
        "\n",
        "\n",
        "# summarize history for loss\n",
        "plt.plot(mod.history['loss'])\n",
        "plt.plot(mod.history['val_loss'])\n",
        "plt.title('model loss')\n",
        "plt.ylabel('loss')\n",
        "plt.xlabel('epoch')\n",
        "plt.legend(['train', 'test'], loc='upper left')\n",
        "plt.show()\n",
        "\n",
        "\n",
        "\n",
        "#'''Evaluating across all data with k fold'''\n",
        "#seed=9\n",
        "#estimator = KerasClassifier(build_fn=model, epochs=10, batch_size=5, verbose=0)\n",
        "#kfold = StratifiedKFold(n_splits=10, shuffle=True, random_state=seed)\n",
        "#results = cross_val_score(estimator, X, y, cv=kfold)\n",
        "#print(\"Results: %.2f%% (%.2f%%)\" % (results.mean()*100, results.std()*100))\n",
        "\n",
        "\n",
        "'''Plot confusion matrix'''\n",
        "cm=confusion_matrix(y_test, y_pred)\n",
        "plt.clf()\n",
        "plt.imshow(cm, interpolation='nearest', cmap=plt.cm.Wistia)\n",
        "classNames = ['0','1'] #Check class names\n",
        "plt.title('Rain or non-rain Confusion Matrix - Test Data')\n",
        "plt.ylabel('True label')\n",
        "plt.xlabel('Predicted label')\n",
        "tick_marks = np.arange(len(classNames))\n",
        "plt.xticks(tick_marks, classNames, rotation=45)\n",
        "plt.yticks(tick_marks, classNames)\n",
        "s = [['TN','FP'], ['FN', 'TP']]\n",
        "for i in range(2):\n",
        "    for j in range(2):\n",
        "        plt.text(j,i, str(s[i][j])+\" = \"+str(cm[i][j]))\n",
        "xmin, xmax = plt.xlim()\n",
        "ymin, ymax = plt.ylim()\n",
        "plt.annotate(' Accuracy = {}'.format(accuracy), size=9,\n",
        "             xy=(xmin,ymax), xytext=(10, -35), textcoords='offset points')\n",
        "plt.show()\n"
      ],
      "execution_count": 0,
      "outputs": [
        {
          "output_type": "stream",
          "text": [
            "Train on 380079 samples, validate on 95020 samples\n",
            "Epoch 1/50\n",
            "380079/380079 [==============================] - 30s 79us/step - loss: 0.6975 - acc: 0.6311 - val_loss: 0.5872 - val_acc: 0.6675\n",
            "\n",
            "Epoch 00001: val_loss improved from inf to 0.58723, saving model to weights-improvement-01-0.67.hdf5\n",
            "Epoch 2/50\n",
            "380079/380079 [==============================] - 27s 72us/step - loss: 0.6755 - acc: 0.6422 - val_loss: 0.5787 - val_acc: 0.6679\n",
            "\n",
            "Epoch 00002: val_loss improved from 0.58723 to 0.57869, saving model to weights-improvement-02-0.67.hdf5\n",
            "Epoch 3/50\n",
            "380079/380079 [==============================] - 27s 71us/step - loss: 0.6683 - acc: 0.6468 - val_loss: 0.5739 - val_acc: 0.6688\n",
            "\n",
            "Epoch 00003: val_loss improved from 0.57869 to 0.57389, saving model to weights-improvement-03-0.67.hdf5\n",
            "Epoch 4/50\n",
            "380079/380079 [==============================] - 27s 71us/step - loss: 0.6673 - acc: 0.6477 - val_loss: 0.5699 - val_acc: 0.6700\n",
            "\n",
            "Epoch 00004: val_loss improved from 0.57389 to 0.56990, saving model to weights-improvement-04-0.67.hdf5\n",
            "Epoch 5/50\n",
            "380079/380079 [==============================] - 27s 71us/step - loss: 0.6626 - acc: 0.6500 - val_loss: 0.5670 - val_acc: 0.6713\n",
            "\n",
            "Epoch 00005: val_loss improved from 0.56990 to 0.56695, saving model to weights-improvement-05-0.67.hdf5\n",
            "Epoch 6/50\n",
            "380079/380079 [==============================] - 27s 71us/step - loss: 0.6604 - acc: 0.6513 - val_loss: 0.5645 - val_acc: 0.6729\n",
            "\n",
            "Epoch 00006: val_loss improved from 0.56695 to 0.56449, saving model to weights-improvement-06-0.67.hdf5\n",
            "Epoch 7/50\n",
            "380079/380079 [==============================] - 27s 71us/step - loss: 0.6588 - acc: 0.6521 - val_loss: 0.5632 - val_acc: 0.6744\n",
            "\n",
            "Epoch 00007: val_loss improved from 0.56449 to 0.56320, saving model to weights-improvement-07-0.67.hdf5\n",
            "Epoch 8/50\n",
            "380079/380079 [==============================] - 27s 71us/step - loss: 0.6574 - acc: 0.6537 - val_loss: 0.5614 - val_acc: 0.6755\n",
            "\n",
            "Epoch 00008: val_loss improved from 0.56320 to 0.56144, saving model to weights-improvement-08-0.68.hdf5\n",
            "Epoch 9/50\n",
            "380079/380079 [==============================] - 27s 71us/step - loss: 0.6556 - acc: 0.6546 - val_loss: 0.5600 - val_acc: 0.6767\n",
            "\n",
            "Epoch 00009: val_loss improved from 0.56144 to 0.55997, saving model to weights-improvement-09-0.68.hdf5\n",
            "Epoch 10/50\n",
            "380079/380079 [==============================] - 27s 71us/step - loss: 0.6539 - acc: 0.6562 - val_loss: 0.5591 - val_acc: 0.6777\n",
            "\n",
            "Epoch 00010: val_loss improved from 0.55997 to 0.55910, saving model to weights-improvement-10-0.68.hdf5\n",
            "Epoch 11/50\n",
            "380079/380079 [==============================] - 27s 71us/step - loss: 0.6531 - acc: 0.6571 - val_loss: 0.5577 - val_acc: 0.6789\n",
            "\n",
            "Epoch 00011: val_loss improved from 0.55910 to 0.55774, saving model to weights-improvement-11-0.68.hdf5\n",
            "Epoch 12/50\n",
            "380079/380079 [==============================] - 27s 71us/step - loss: 0.6506 - acc: 0.6585 - val_loss: 0.5571 - val_acc: 0.6796\n",
            "\n",
            "Epoch 00012: val_loss improved from 0.55774 to 0.55705, saving model to weights-improvement-12-0.68.hdf5\n",
            "Epoch 13/50\n",
            "380079/380079 [==============================] - 27s 71us/step - loss: 0.6516 - acc: 0.6575 - val_loss: 0.5556 - val_acc: 0.6806\n",
            "\n",
            "Epoch 00013: val_loss improved from 0.55705 to 0.55559, saving model to weights-improvement-13-0.68.hdf5\n",
            "Epoch 14/50\n",
            "380079/380079 [==============================] - 27s 70us/step - loss: 0.6516 - acc: 0.6573 - val_loss: 0.5546 - val_acc: 0.6814\n",
            "\n",
            "Epoch 00014: val_loss improved from 0.55559 to 0.55460, saving model to weights-improvement-14-0.68.hdf5\n",
            "Epoch 15/50\n",
            "380079/380079 [==============================] - 27s 71us/step - loss: 0.6484 - acc: 0.6593 - val_loss: 0.5541 - val_acc: 0.6823\n",
            "\n",
            "Epoch 00015: val_loss improved from 0.55460 to 0.55406, saving model to weights-improvement-15-0.68.hdf5\n",
            "Epoch 16/50\n",
            "380079/380079 [==============================] - 27s 70us/step - loss: 0.6480 - acc: 0.6598 - val_loss: 0.5529 - val_acc: 0.6837\n",
            "\n",
            "Epoch 00016: val_loss improved from 0.55406 to 0.55294, saving model to weights-improvement-16-0.68.hdf5\n",
            "Epoch 17/50\n",
            "380079/380079 [==============================] - 27s 71us/step - loss: 0.6482 - acc: 0.6597 - val_loss: 0.5532 - val_acc: 0.6838\n",
            "\n",
            "Epoch 00017: val_loss did not improve from 0.55294\n",
            "Epoch 18/50\n",
            "380079/380079 [==============================] - 27s 71us/step - loss: 0.6478 - acc: 0.6599 - val_loss: 0.5523 - val_acc: 0.6848\n",
            "\n",
            "Epoch 00018: val_loss improved from 0.55294 to 0.55226, saving model to weights-improvement-18-0.68.hdf5\n",
            "Epoch 19/50\n",
            "380079/380079 [==============================] - 27s 71us/step - loss: 0.6486 - acc: 0.6596 - val_loss: 0.5515 - val_acc: 0.6856\n",
            "\n",
            "Epoch 00019: val_loss improved from 0.55226 to 0.55150, saving model to weights-improvement-19-0.69.hdf5\n",
            "Epoch 20/50\n",
            "380079/380079 [==============================] - 27s 70us/step - loss: 0.6463 - acc: 0.6613 - val_loss: 0.5513 - val_acc: 0.6860\n",
            "\n",
            "Epoch 00020: val_loss improved from 0.55150 to 0.55128, saving model to weights-improvement-20-0.69.hdf5\n",
            "Epoch 21/50\n",
            "380079/380079 [==============================] - 27s 71us/step - loss: 0.6453 - acc: 0.6608 - val_loss: 0.5507 - val_acc: 0.6870\n",
            "\n",
            "Epoch 00021: val_loss improved from 0.55128 to 0.55067, saving model to weights-improvement-21-0.69.hdf5\n",
            "Epoch 22/50\n",
            "380079/380079 [==============================] - 27s 72us/step - loss: 0.6446 - acc: 0.6615 - val_loss: 0.5497 - val_acc: 0.6878\n",
            "\n",
            "Epoch 00022: val_loss improved from 0.55067 to 0.54966, saving model to weights-improvement-22-0.69.hdf5\n",
            "Epoch 23/50\n",
            "380079/380079 [==============================] - 27s 72us/step - loss: 0.6445 - acc: 0.6619 - val_loss: 0.5491 - val_acc: 0.6884\n",
            "\n",
            "Epoch 00023: val_loss improved from 0.54966 to 0.54908, saving model to weights-improvement-23-0.69.hdf5\n",
            "Epoch 24/50\n",
            "380079/380079 [==============================] - 28s 73us/step - loss: 0.6437 - acc: 0.6612 - val_loss: 0.5490 - val_acc: 0.6886\n",
            "\n",
            "Epoch 00024: val_loss improved from 0.54908 to 0.54899, saving model to weights-improvement-24-0.69.hdf5\n",
            "Epoch 25/50\n",
            "380079/380079 [==============================] - 27s 71us/step - loss: 0.6443 - acc: 0.6626 - val_loss: 0.5487 - val_acc: 0.6891\n",
            "\n",
            "Epoch 00025: val_loss improved from 0.54899 to 0.54868, saving model to weights-improvement-25-0.69.hdf5\n",
            "Epoch 26/50\n",
            "380079/380079 [==============================] - 27s 71us/step - loss: 0.6437 - acc: 0.6626 - val_loss: 0.5475 - val_acc: 0.6903\n",
            "\n",
            "Epoch 00026: val_loss improved from 0.54868 to 0.54749, saving model to weights-improvement-26-0.69.hdf5\n",
            "Epoch 27/50\n",
            "380079/380079 [==============================] - 27s 72us/step - loss: 0.6429 - acc: 0.6637 - val_loss: 0.5478 - val_acc: 0.6903\n",
            "\n",
            "Epoch 00027: val_loss did not improve from 0.54749\n",
            "Epoch 28/50\n",
            "380079/380079 [==============================] - 27s 71us/step - loss: 0.6414 - acc: 0.6647 - val_loss: 0.5467 - val_acc: 0.6910\n",
            "\n",
            "Epoch 00028: val_loss improved from 0.54749 to 0.54673, saving model to weights-improvement-28-0.69.hdf5\n",
            "Epoch 29/50\n",
            "380079/380079 [==============================] - 27s 71us/step - loss: 0.6413 - acc: 0.6651 - val_loss: 0.5464 - val_acc: 0.6914\n",
            "\n",
            "Epoch 00029: val_loss improved from 0.54673 to 0.54643, saving model to weights-improvement-29-0.69.hdf5\n",
            "Epoch 30/50\n",
            "380079/380079 [==============================] - 27s 71us/step - loss: 0.6411 - acc: 0.6636 - val_loss: 0.5467 - val_acc: 0.6914\n",
            "\n",
            "Epoch 00030: val_loss did not improve from 0.54643\n",
            "Epoch 31/50\n",
            "380079/380079 [==============================] - 27s 71us/step - loss: 0.6413 - acc: 0.6644 - val_loss: 0.5462 - val_acc: 0.6919\n",
            "\n",
            "Epoch 00031: val_loss improved from 0.54643 to 0.54616, saving model to weights-improvement-31-0.69.hdf5\n",
            "Epoch 32/50\n",
            "380079/380079 [==============================] - 27s 70us/step - loss: 0.6393 - acc: 0.6654 - val_loss: 0.5456 - val_acc: 0.6923\n",
            "\n",
            "Epoch 00032: val_loss improved from 0.54616 to 0.54556, saving model to weights-improvement-32-0.69.hdf5\n",
            "Epoch 33/50\n",
            "380079/380079 [==============================] - 27s 70us/step - loss: 0.6411 - acc: 0.6641 - val_loss: 0.5454 - val_acc: 0.6925\n",
            "\n",
            "Epoch 00033: val_loss improved from 0.54556 to 0.54538, saving model to weights-improvement-33-0.69.hdf5\n",
            "Epoch 34/50\n",
            "380079/380079 [==============================] - 26s 70us/step - loss: 0.6399 - acc: 0.6655 - val_loss: 0.5447 - val_acc: 0.6934\n",
            "\n",
            "Epoch 00034: val_loss improved from 0.54538 to 0.54474, saving model to weights-improvement-34-0.69.hdf5\n",
            "Epoch 35/50\n",
            "380079/380079 [==============================] - 27s 70us/step - loss: 0.6400 - acc: 0.6645 - val_loss: 0.5443 - val_acc: 0.6938\n",
            "\n",
            "Epoch 00035: val_loss improved from 0.54474 to 0.54431, saving model to weights-improvement-35-0.69.hdf5\n",
            "Epoch 36/50\n",
            "380079/380079 [==============================] - 27s 70us/step - loss: 0.6404 - acc: 0.6645 - val_loss: 0.5440 - val_acc: 0.6942\n",
            "\n",
            "Epoch 00036: val_loss improved from 0.54431 to 0.54405, saving model to weights-improvement-36-0.69.hdf5\n",
            "Epoch 37/50\n",
            "380079/380079 [==============================] - 26s 70us/step - loss: 0.6396 - acc: 0.6651 - val_loss: 0.5443 - val_acc: 0.6940\n",
            "\n",
            "Epoch 00037: val_loss did not improve from 0.54405\n",
            "Epoch 38/50\n",
            "380079/380079 [==============================] - 26s 70us/step - loss: 0.6391 - acc: 0.6657 - val_loss: 0.5435 - val_acc: 0.6950\n",
            "\n",
            "Epoch 00038: val_loss improved from 0.54405 to 0.54348, saving model to weights-improvement-38-0.69.hdf5\n",
            "Epoch 39/50\n",
            "380079/380079 [==============================] - 26s 69us/step - loss: 0.6395 - acc: 0.6659 - val_loss: 0.5434 - val_acc: 0.6951\n",
            "\n",
            "Epoch 00039: val_loss improved from 0.54348 to 0.54343, saving model to weights-improvement-39-0.70.hdf5\n",
            "Epoch 40/50\n",
            "380079/380079 [==============================] - 26s 70us/step - loss: 0.6390 - acc: 0.6657 - val_loss: 0.5430 - val_acc: 0.6956\n",
            "\n",
            "Epoch 00040: val_loss improved from 0.54343 to 0.54297, saving model to weights-improvement-40-0.70.hdf5\n",
            "Epoch 41/50\n",
            "380079/380079 [==============================] - 26s 69us/step - loss: 0.6369 - acc: 0.6666 - val_loss: 0.5431 - val_acc: 0.6955\n",
            "\n",
            "Epoch 00041: val_loss did not improve from 0.54297\n",
            "Epoch 42/50\n",
            "380079/380079 [==============================] - 27s 70us/step - loss: 0.6384 - acc: 0.6658 - val_loss: 0.5428 - val_acc: 0.6959\n",
            "\n",
            "Epoch 00042: val_loss improved from 0.54297 to 0.54283, saving model to weights-improvement-42-0.70.hdf5\n",
            "Epoch 43/50\n",
            "380079/380079 [==============================] - 26s 69us/step - loss: 0.6367 - acc: 0.6679 - val_loss: 0.5430 - val_acc: 0.6959\n",
            "\n",
            "Epoch 00043: val_loss did not improve from 0.54283\n",
            "Epoch 44/50\n",
            "380079/380079 [==============================] - 27s 70us/step - loss: 0.6372 - acc: 0.6672 - val_loss: 0.5422 - val_acc: 0.6966\n",
            "\n",
            "Epoch 00044: val_loss improved from 0.54283 to 0.54222, saving model to weights-improvement-44-0.70.hdf5\n",
            "Epoch 45/50\n",
            "380079/380079 [==============================] - 26s 70us/step - loss: 0.6371 - acc: 0.6667 - val_loss: 0.5421 - val_acc: 0.6968\n",
            "\n",
            "Epoch 00045: val_loss improved from 0.54222 to 0.54211, saving model to weights-improvement-45-0.70.hdf5\n",
            "Epoch 46/50\n",
            "380079/380079 [==============================] - 26s 70us/step - loss: 0.6361 - acc: 0.6678 - val_loss: 0.5414 - val_acc: 0.6974\n",
            "\n",
            "Epoch 00046: val_loss improved from 0.54211 to 0.54142, saving model to weights-improvement-46-0.70.hdf5\n",
            "Epoch 47/50\n",
            "380079/380079 [==============================] - 27s 70us/step - loss: 0.6375 - acc: 0.6671 - val_loss: 0.5419 - val_acc: 0.6972\n",
            "\n",
            "Epoch 00047: val_loss did not improve from 0.54142\n",
            "Epoch 48/50\n",
            "380079/380079 [==============================] - 26s 69us/step - loss: 0.6371 - acc: 0.6665 - val_loss: 0.5415 - val_acc: 0.6976\n",
            "\n",
            "Epoch 00048: val_loss did not improve from 0.54142\n",
            "Epoch 49/50\n",
            "380079/380079 [==============================] - 26s 69us/step - loss: 0.6362 - acc: 0.6679 - val_loss: 0.5412 - val_acc: 0.6980\n",
            "\n",
            "Epoch 00049: val_loss improved from 0.54142 to 0.54120, saving model to weights-improvement-49-0.70.hdf5\n",
            "Epoch 50/50\n",
            "380079/380079 [==============================] - 26s 69us/step - loss: 0.6355 - acc: 0.6682 - val_loss: 0.5413 - val_acc: 0.6980\n",
            "\n",
            "Epoch 00050: val_loss did not improve from 0.54120\n",
            "Prediction Accuracy: 70.03%\n",
            "dict_keys(['val_loss', 'val_acc', 'loss', 'acc'])\n"
          ],
          "name": "stdout"
        },
        {
          "output_type": "display_data",
          "data": {
            "image/png": "[encoded data removed]",
            "text/plain": [
              "<Figure size 432x288 with 1 Axes>"
            ]
          },
          "metadata": {
            "tags": []
          }
        },
        {
          "output_type": "display_data",
          "data": {
            "image/png": "[encoded data removed]",
            "text/plain": [
              "<Figure size 432x288 with 1 Axes>"
            ]
          },
          "metadata": {
            "tags": []
          }
        },
        {
          "output_type": "display_data",
          "data": {
            "image/png": "[encoded data removed]",
            "text/plain": [
              "<Figure size 432x288 with 1 Axes>"
            ]
          },
          "metadata": {
            "tags": []
          }
        }
      ]
    },
    {
      "cell_type": "code",
      "metadata": {
        "colab_type": "code",
        "id": "R7BDfXHqwRzq",
        "outputId": "9572677d-2260-4cd7-f9ee-a9368affc0c4",
        "colab": {
          "base_uri": "https://localhost:8080/",
          "height": 221
        }
      },
      "source": [
        "y_pred"
      ],
      "execution_count": 0,
      "outputs": [
        {
          "output_type": "execute_result",
          "data": {
            "text/plain": [
              "0        0.0\n",
              "1        0.0\n",
              "2        0.0\n",
              "3        0.0\n",
              "4        0.0\n",
              "        ... \n",
              "89077    0.0\n",
              "89078    0.0\n",
              "89079    0.0\n",
              "89080    0.0\n",
              "89081    1.0\n",
              "Length: 89082, dtype: float64"
            ]
          },
          "metadata": {
            "tags": []
          },
          "execution_count": 69
        }
      ]
    },
    {
      "cell_type": "code",
      "metadata": {
        "colab_type": "code",
        "id": "U6QCI4Fiwhcv",
        "outputId": "ba00bd4a-b9c0-4649-f98e-39f049f8f3b6",
        "colab": {
          "base_uri": "https://localhost:8080/",
          "height": 221
        }
      },
      "source": [
        "y_test"
      ],
      "execution_count": 0,
      "outputs": [
        {
          "output_type": "execute_result",
          "data": {
            "text/plain": [
              "0        0\n",
              "1        0\n",
              "2        0\n",
              "3        0\n",
              "4        0\n",
              "        ..\n",
              "89077    0\n",
              "89078    0\n",
              "89079    0\n",
              "89080    0\n",
              "89081    0\n",
              "Name: PRECIP, Length: 89082, dtype: int64"
            ]
          },
          "metadata": {
            "tags": []
          },
          "execution_count": 71
        }
      ]
    },
    {
      "cell_type": "code",
      "metadata": {
        "id": "XP0xh8Z0gJp_",
        "colab_type": "code",
        "colab": {
          "base_uri": "https://localhost:8080/",
          "height": 162
        },
        "outputId": "34781597-60e9-4e6d-f62a-8dcecd7f96bb"
      },
      "source": [
        "sum(abs(y_pred - y_test))"
      ],
      "execution_count": 4,
      "outputs": [
        {
          "output_type": "error",
          "ename": "NameError",
          "evalue": "ignored",
          "traceback": [
            "\u001b[0;31m---------------------------------------------------------------------------\u001b[0m",
            "\u001b[0;31mNameError\u001b[0m                                 Traceback (most recent call last)",
            "\u001b[0;32m<ipython-input-4-ffed4b596813>\u001b[0m in \u001b[0;36m<module>\u001b[0;34m()\u001b[0m\n\u001b[0;32m----> 1\u001b[0;31m \u001b[0msum\u001b[0m\u001b[0;34m(\u001b[0m\u001b[0mabs\u001b[0m\u001b[0;34m(\u001b[0m\u001b[0my_pred\u001b[0m \u001b[0;34m-\u001b[0m \u001b[0my_test\u001b[0m\u001b[0;34m)\u001b[0m\u001b[0;34m)\u001b[0m\u001b[0;34m\u001b[0m\u001b[0;34m\u001b[0m\u001b[0m\n\u001b[0m",
            "\u001b[0;31mNameError\u001b[0m: name 'y_pred' is not defined"
          ]
        }
      ]
    },
    {
      "cell_type": "code",
      "metadata": {
        "colab_type": "code",
        "id": "wucpzyU-hwje",
        "outputId": "70f4aa01-b986-4ccd-ea42-43664794cecb",
        "colab": {
          "base_uri": "https://localhost:8080/",
          "height": 255
        }
      },
      "source": [
        "!ln -sf /opt/bin/nvidia-smi /usr/bin/nvidia-smi\n",
        "!pip install gputil\n",
        "!pip install psutil\n",
        "!pip install humanize\n",
        "import psutil\n",
        "import humanize\n",
        "import os\n",
        "import GPUtil as GPU\n",
        "GPUs = GPU.getGPUs()\n",
        "# XXX: only one GPU on Colab and isn’t guaranteed\n",
        "gpu = GPUs[0]\n",
        "def printm():\n",
        " process = psutil.Process(os.getpid())\n",
        " print(\"Gen RAM Free: \" + humanize.naturalsize( psutil.virtual_memory().available ), \" | Proc size: \" + humanize.naturalsize( process.memory_info().rss))\n",
        " print(\"GPU RAM Free: {0:.0f}MB | Used: {1:.0f}MB | Util {2:3.0f}% | Total {3:.0f}MB\".format(gpu.memoryFree, gpu.memoryUsed, gpu.memoryUtil*100, gpu.memoryTotal))\n",
        "printm() "
      ],
      "execution_count": 1,
      "outputs": [
        {
          "output_type": "stream",
          "text": [
            "Collecting gputil\n",
            "  Downloading https://files.pythonhosted.org/packages/ed/0e/5c61eedde9f6c87713e89d794f01e378cfd9565847d4576fa627d758c554/GPUtil-1.4.0.tar.gz\n",
            "Building wheels for collected packages: gputil\n",
            "  Building wheel for gputil (setup.py) ... \u001b[?25l\u001b[?25hdone\n",
            "  Created wheel for gputil: filename=GPUtil-1.4.0-cp36-none-any.whl size=7413 sha256=ddce206c3272d423b8b1c1e10d947af0ef3c93a4e6a827940e7d9736785088b8\n",
            "  Stored in directory: /root/.cache/pip/wheels/3d/77/07/80562de4bb0786e5ea186911a2c831fdd0018bda69beab71fd\n",
            "Successfully built gputil\n",
            "Installing collected packages: gputil\n",
            "Successfully installed gputil-1.4.0\n",
            "Requirement already satisfied: psutil in /usr/local/lib/python3.6/dist-packages (5.4.8)\n",
            "Requirement already satisfied: humanize in /usr/local/lib/python3.6/dist-packages (0.5.1)\n",
            "Gen RAM Free: 12.8 GB  | Proc size: 157.2 MB\n",
            "GPU RAM Free: 16280MB | Used: 0MB | Util   0% | Total 16280MB\n"
          ],
          "name": "stdout"
        }
      ]
    },
    {
      "cell_type": "code",
      "metadata": {
        "id": "nKuy7kCwe4g0",
        "colab_type": "code",
        "colab": {
          "base_uri": "https://localhost:8080/",
          "height": 34
        },
        "outputId": "d38b1e9a-cd88-43d8-d7b8-10ec48a74648"
      },
      "source": [
        "gpu"
      ],
      "execution_count": 2,
      "outputs": [
        {
          "output_type": "execute_result",
          "data": {
            "text/plain": [
              "<GPUtil.GPUtil.GPU at 0x7f23e56ea710>"
            ]
          },
          "metadata": {
            "tags": []
          },
          "execution_count": 2
        }
      ]
    }
  ]
}