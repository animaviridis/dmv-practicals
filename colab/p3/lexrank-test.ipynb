{
 "cells": [
  {
   "cell_type": "markdown",
   "metadata": {},
   "source": [
    "Data Mining and Visualisation 2019-2020 <br>\n",
    "Practical 3.1 - Summarisation with Lexrank <br>\n",
    "Teaching Assistant Muhammad Usman <br>"
   ]
  },
  {
   "cell_type": "code",
   "execution_count": 1,
   "metadata": {
    "colab": {
     "base_uri": "https://localhost:8080/",
     "height": 428
    },
    "colab_type": "code",
    "id": "GyvMQIUstyI9",
    "outputId": "a8845cc1-0be4-487d-b4fa-ea8a5cb684da"
   },
   "outputs": [
    {
     "name": "stdout",
     "output_type": "stream",
     "text": [
      "Collecting lexrank\n",
      "\u001b[?25l  Downloading https://files.pythonhosted.org/packages/e1/25/f139d8526e014b6bf6021305492cd7ccffbfa10999802fce4813808b04e4/lexrank-0.1.0-py3-none-any.whl (69kB)\n",
      "\r",
      "\u001b[K     |████▊                           | 10kB 19.5MB/s eta 0:00:01\r",
      "\u001b[K     |█████████▍                      | 20kB 1.7MB/s eta 0:00:01\r",
      "\u001b[K     |██████████████                  | 30kB 2.5MB/s eta 0:00:01\r",
      "\u001b[K     |██████████████████▊             | 40kB 1.6MB/s eta 0:00:01\r",
      "\u001b[K     |███████████████████████▌        | 51kB 2.0MB/s eta 0:00:01\r",
      "\u001b[K     |████████████████████████████▏   | 61kB 2.4MB/s eta 0:00:01\r",
      "\u001b[K     |████████████████████████████████| 71kB 2.3MB/s \n",
      "\u001b[?25hRequirement already satisfied: pyrsistent>=0.14.0 in /usr/local/lib/python3.6/dist-packages (from lexrank) (0.15.7)\n",
      "Collecting urlextract>=0.7\n",
      "  Downloading https://files.pythonhosted.org/packages/06/db/23b47f32d990dea1d9852ace16d551a0003bdfc8be33094cfd208757466e/urlextract-0.14.0-py3-none-any.whl\n",
      "Requirement already satisfied: numpy>=1.13.3 in /usr/local/lib/python3.6/dist-packages (from lexrank) (1.17.5)\n",
      "Collecting path.py>=10.5\n",
      "  Downloading https://files.pythonhosted.org/packages/a5/0d/4caee829b04e3113b7069fa52063bce5c78e374e05850aa893549e917a1a/path.py-12.4.0-py3-none-any.whl\n",
      "Requirement already satisfied: scipy>=0.19.0 in /usr/local/lib/python3.6/dist-packages (from lexrank) (1.4.1)\n",
      "Requirement already satisfied: regex>=2017.11.9 in /usr/local/lib/python3.6/dist-packages (from lexrank) (2019.12.20)\n",
      "Requirement already satisfied: six in /usr/local/lib/python3.6/dist-packages (from pyrsistent>=0.14.0->lexrank) (1.12.0)\n",
      "Requirement already satisfied: idna in /usr/local/lib/python3.6/dist-packages (from urlextract>=0.7->lexrank) (2.8)\n",
      "Collecting appdirs\n",
      "  Downloading https://files.pythonhosted.org/packages/56/eb/810e700ed1349edde4cbdc1b2a21e28cdf115f9faf263f6bbf8447c1abf3/appdirs-1.4.3-py2.py3-none-any.whl\n",
      "Collecting uritools\n",
      "  Downloading https://files.pythonhosted.org/packages/eb/1a/5995c0a000ef116111b9af9303349ba97ec2446d2c9a79d2df028a3e3b19/uritools-3.0.0-py3-none-any.whl\n",
      "Collecting path<13.2\n",
      "  Downloading https://files.pythonhosted.org/packages/4d/24/5827e075036b5bb6b538f71bf39574d4a8024c5df51206cb9d6739e24d94/path-13.1.0-py3-none-any.whl\n",
      "Requirement already satisfied: importlib-metadata>=0.5; python_version < \"3.8\" in /usr/local/lib/python3.6/dist-packages (from path<13.2->path.py>=10.5->lexrank) (1.5.0)\n",
      "Requirement already satisfied: zipp>=0.5 in /usr/local/lib/python3.6/dist-packages (from importlib-metadata>=0.5; python_version < \"3.8\"->path<13.2->path.py>=10.5->lexrank) (3.1.0)\n",
      "Installing collected packages: appdirs, uritools, urlextract, path, path.py, lexrank\n",
      "Successfully installed appdirs-1.4.3 lexrank-0.1.0 path-13.1.0 path.py-12.4.0 uritools-3.0.0 urlextract-0.14.0\n"
     ]
    }
   ],
   "source": [
    "pip install lexrank"
   ]
  },
  {
   "cell_type": "code",
   "execution_count": 0,
   "metadata": {
    "colab": {},
    "colab_type": "code",
    "id": "UNLVU5CJuXZH"
   },
   "outputs": [],
   "source": [
    "from lexrank.algorithms.summarizer import LexRank \n",
    "from lexrank.mappings.stopwords import STOPWORDS\n",
    "from path import Path\n",
    "\n",
    "documents = []\n",
    "documents_dir = Path('./')\n",
    "\n",
    "for file_path in documents_dir.files('*.txt'):\n",
    "    with file_path.open(mode='rt', encoding='utf-8') as fp:\n",
    "        documents.append(fp.readlines())\n",
    "\n",
    "lxr = LexRank(documents, stopwords=STOPWORDS['en'])\n",
    "\n"
   ]
  },
  {
   "cell_type": "code",
   "execution_count": 10,
   "metadata": {
    "colab": {
     "base_uri": "https://localhost:8080/",
     "height": 122
    },
    "colab_type": "code",
    "id": "FoQvAcf_vmq_",
    "outputId": "03d1fef3-faa8-48a6-c214-a15d0b15c7b7"
   },
   "outputs": [
    {
     "name": "stdout",
     "output_type": "stream",
     "text": [
      "[\"Yinka Ebo, the charity's health information manager, said: 'The challenge now is to ensure that genetic testing services can cope with the increased demand and that women and GPs have access to the information they need.'\", \"Breast Cancer Now said that GPs are referring women appropriately, rather than simply sending on the 'worried well'\"]\n",
      "[\"Yinka Ebo, the charity's health information manager, said: 'The challenge now is to ensure that genetic testing services can cope with the increased demand and that women and GPs have access to the information they need.'\"]\n",
      "[0.99462655 0.96543508 0.8942482  0.88571218 0.90639784 1.10102639\n",
      " 0.90358583 1.05774201 1.09501114 0.91096903 0.97074026 0.96321941\n",
      " 1.06658706 1.13132344 1.15337558]\n"
     ]
    }
   ],
   "source": [
    "sentences = [\n",
    "    \"Angelina Jolie's openness about breast cancer has inspired growing numbers of British women to have the same lifesaving operation.\",\n",
    "\n",
    "\"The Tomb Raider star made headlines around the world when, in May 2013, she announced she had both breasts removed to prevent her developing cancer.\",\n",
    "\n",
    "\"She took the radical action after discovering she carried faulty DNA that gave her an 87 per cent chance of developing breast cancer - eight times the chance for an average woman.\",\n",
    "\n",
    "\"With the flawed BRCA1 gene also greatly increasing her the odds of ovarian cancer, she had a second round of major surgery in which her ovaries and Fallopian tubes removed.\",\n",
    "\n",
    "\"Her frankness about the surgery is believed to have raised awareness of the procedures and removed some of the fear that surrounds them.\",\n",
    "\n",
    "\"Referrals for genetic counselling and testing more than doubled after she spoke out and, as a result, more women are choosing to have both breasts removed to prevent the disease and potentially save their lives.\",\n",
    "\n",
    "\"Figures from a leading clinic in Manchester show 83 double mastectomies were carried out in the 18 months from January 2014 - almost treble the figure for the previous year and a half.\",\n",
    "\n",
    "\"Many of these women carried the same gene as Miss Jolie, the journal Breast Cancer Research reports.\",\n",
    "\n",
    "\"Doctors at the Genesis Breast Cancer Prevention Centre say the rise is likely due to the 'Angelina effect'.\",\n",
    "\n",
    "\"Singer Kylie Minogue's breast cancer diagnosis and reality TV star Jade Goody's battle with cervical cancer both led to increased awareness.\",\n",
    "\n",
    "\"But the 'Angelina effect' is thought to be bigger and longer-lasting.\",\n",
    "\n",
    "\"The Manchester researchers said that her 'glamorous image' and marriage to Brad Pitt may have lessened patients' fears about the surgery and its effect on their sexuality.\",\n",
    "\n",
    "\"Lester Barr, chairman of Genesis Breast Cancer Prevention, said: 'Scheduling a preventative double mastectomy is not an easy decision to make, but it's encouraging to know that many of these women will have drawn comfort from by the fact that such a high-profile star had undergone the surgery.\",\n",
    "\n",
    "\"Breast Cancer Now said that GPs are referring women appropriately, rather than simply sending on the 'worried well'\",\n",
    "\n",
    "\"Yinka Ebo, the charity's health information manager, said: 'The challenge now is to ensure that genetic testing services can cope with the increased demand and that women and GPs have access to the information they need.'\",\n",
    "    ]\n",
    "\n",
    "# get summary with classical LexRank algorithm\n",
    "summary = lxr.get_summary(sentences, summary_size=2, threshold=.1)\n",
    "print(summary)\n",
    "\n",
    "\n",
    "# get summary with continuous LexRank\n",
    "summary_cont = lxr.get_summary(sentences, threshold=None)\n",
    "print(summary_cont)\n",
    "\n",
    "\n",
    "\n",
    "# get LexRank scores for sentences\n",
    "# 'fast_power_method' speeds up the calculation, but requires more RAM\n",
    "scores_cont = lxr.rank_sentences(\n",
    "    sentences,\n",
    "    threshold=None,\n",
    "    fast_power_method=False,\n",
    ")\n",
    "print(scores_cont)\n",
    "\n"
   ]
  }
 ],
 "metadata": {
  "colab": {
   "name": "practical3.1.ipynb",
   "provenance": []
  },
  "kernelspec": {
   "display_name": "Python 3",
   "language": "python",
   "name": "python3"
  },
  "language_info": {
   "codemirror_mode": {
    "name": "ipython",
    "version": 3
   },
   "file_extension": ".py",
   "mimetype": "text/x-python",
   "name": "python",
   "nbconvert_exporter": "python",
   "pygments_lexer": "ipython3",
   "version": "3.7.3"
  }
 },
 "nbformat": 4,
 "nbformat_minor": 1
}
