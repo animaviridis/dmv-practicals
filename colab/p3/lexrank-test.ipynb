{
 "cells": [
  {
   "cell_type": "markdown",
   "metadata": {},
   "source": [
    "Data Mining and Visualisation 2019-2020 <br>\n",
    "Practical 3.1 - Summarisation with Lexrank <br>\n",
    "Teaching Assistant Muhammad Usman <br>"
   ]
  },
  {
   "cell_type": "code",
   "execution_count": null,
   "metadata": {
    "colab": {
     "base_uri": "https://localhost:8080/",
     "height": 428
    },
    "colab_type": "code",
    "id": "GyvMQIUstyI9",
    "outputId": "a8845cc1-0be4-487d-b4fa-ea8a5cb684da"
   },
   "outputs": [],
   "source": []
  },
  {
   "cell_type": "code",
   "execution_count": 7,
   "metadata": {
    "colab": {},
    "colab_type": "code",
    "id": "UNLVU5CJuXZH"
   },
   "outputs": [],
   "source": [
    "from lexrank.algorithms.summarizer import LexRank \n",
    "from lexrank.mappings.stopwords import STOPWORDS\n",
    "from path import Path\n",
    "\n",
    "documents = []\n",
    "documents_dir = Path('./')\n",
    "\n",
    "for file_path in documents_dir.files('*.txt'):\n",
    "    with file_path.open(mode='rt', encoding='utf-8') as fp:\n",
    "        documents.append(fp.readlines())\n",
    "\n",
    "lxr = LexRank(documents, stopwords=STOPWORDS['en'])\n",
    "\n"
   ]
  },
  {
   "cell_type": "code",
   "execution_count": 14,
   "metadata": {
    "colab": {
     "base_uri": "https://localhost:8080/",
     "height": 122
    },
    "colab_type": "code",
    "id": "FoQvAcf_vmq_",
    "outputId": "03d1fef3-faa8-48a6-c214-a15d0b15c7b7"
   },
   "outputs": [
    {
     "data": {
      "text/plain": [
       "['The number of women having both breasts removed to prevent cancer has almost trebled since Angelina Jolie had the operation.',\n",
       " 'The star went public in May 2013 about her double mastectomy after finding a gene mutation linked to the disease.',\n",
       " 'Now experts at a leading breast cancer prevention clinic in Manchester say they have seen the number of preventative ops almost treble since then, a phenomenon dubbed the \"Angelina effect\".',\n",
       " 'Medics at the Genesis Prevention Centre Family History clinic reveal in a letter published today in journal Breast Cancer Research that the number of preventative double mastectomies performed after consultation at the clinic has almost trebled.',\n",
       " 'Between January 2014 and June 2015, 83 procedures were performed. This compared to 29 between January 2011 and June 2012.',\n",
       " \"Although data was not collected on women's motivation for undergoing surgery, experts believe the increase may be attributable to the heightened awareness of the procedure since Ms Jolie went public.\",\n",
       " 'The actress underwent a preventative double mastectomy after losing her mum to breast cancer.',\n",
       " 'She subsequently discovered she carried a mutation in the BRCA1 gene, which raises the risk of developing breast cancer and ovarian cancer.',\n",
       " 'The number of preventative double mastectomies performed on women with BRCA1/2 mutations at the Manchester clinic rose from 17 in the 18-month period between January 2011 and June 2012, to 31 in the 18 months between January 2014 and June 2015.',\n",
       " 'The number of procedures performed in high-risk women without BRCA1/2 mutations rose from 12 to 52 over the same period.',\n",
       " \"Having previously identified an upsurge in referrals to breast cancer clinics immediately after the A-lister's announcement, the researchers point out that it takes between nine and 12 months from initial inquiries to surgery taking place, which is why they hypothesise that they only started to observe increasing numbers of procedures in early 2014.\",\n",
       " 'The researchers also noted a sustained increase in the number of new referrals to their clinic through 2014, rising from 201 between January to June 2012, to 388 for the equivalent period in 2014 with a total of 754 referrals in 2014.',\n",
       " 'Women attending the clinic still mention the effects of Angelina Jolie on their attendance, according to doctors.',\n",
       " 'Gareth Evans, professor of clinical genetics at Genesis, said: \"We\\'ve seen a clear increase in the number of women undergoing preventative double mastectomies, starting around nine months after Angelina Jolie\\'s announcement about her own surgery.',\n",
       " '\"While we haven\\'t analysed women\\'s motivations for undergoing this type of surgery, the correlation suggests that if the increased uptake of double mastectomies can be attributed to \\'the Angelina effect\\', the effect has been prolonged and has resulted in both increased referrals to our clinic, and increased rates of preventative surgery.\"',\n",
       " 'Samia al Qadhi, chief executive of charity Breast Cancer Care, described the surge in cases as \"fascinating\".',\n",
       " 'She added: \"We know other regional genetic clinics across the country have also had more referrals.',\n",
       " '\"Angelina\\'s courage in sharing her experiences has highlighted this incredibly important issue of family history and breast cancer.',\n",
       " '\"The percentage of women ringing our helpline to ask questions about family history and breast cancer increased five-fold after she made her announcement.',\n",
       " '\"This means that many more women with a strong family history have been encouraged to find support and are taking action.',\n",
       " '\"About 5% of all breast cancers are caused by faulty breast cancer genes; the two most commonly linked to hereditary breast cancer are BRCA1 and BRCA2.',\n",
       " '\"Discovering you have inherited a faulty BRCA gene can be extremely distressing.',\n",
       " '\"It\\'s imperative that anyone affected is able to make an informed decision about risk-reducing surgery and other options available to them.\"',\n",
       " 'Yinka Ebo, Health Information Manager at Breast Cancer Now, added: \"This research suggests not only that the \\'Angelina Jolie effect\\' has been long-lasting but also that women are being referred to family history clinics and genetic centres appropriately, which is really encouraging to see.\"']"
      ]
     },
     "execution_count": 14,
     "metadata": {},
     "output_type": "execute_result"
    }
   ],
   "source": [
    "with open(\"docs/doc1-2.txt\", 'r') as f:\n",
    "    sentences = [line.strip('\\n') for line in f if len(line)>1]\n",
    "\n",
    "\n",
    "sentences\n"
   ]
  },
  {
   "cell_type": "code",
   "execution_count": 15,
   "metadata": {},
   "outputs": [
    {
     "name": "stdout",
     "output_type": "stream",
     "text": [
      "['Medics at the Genesis Prevention Centre Family History clinic reveal in a letter published today in journal Breast Cancer Research that the number of preventative double mastectomies performed after consultation at the clinic has almost trebled.', 'Now experts at a leading breast cancer prevention clinic in Manchester say they have seen the number of preventative ops almost treble since then, a phenomenon dubbed the \"Angelina effect\".']\n"
     ]
    }
   ],
   "source": [
    "# get summary with classical LexRank algorithm\n",
    "summary = lxr.get_summary(sentences, summary_size=2, threshold=.1)\n",
    "print(summary)\n"
   ]
  },
  {
   "cell_type": "code",
   "execution_count": 16,
   "metadata": {},
   "outputs": [
    {
     "name": "stdout",
     "output_type": "stream",
     "text": [
      "['Medics at the Genesis Prevention Centre Family History clinic reveal in a letter published today in journal Breast Cancer Research that the number of preventative double mastectomies performed after consultation at the clinic has almost trebled.']\n"
     ]
    }
   ],
   "source": [
    "# get summary with continuous LexRank\n",
    "summary_cont = lxr.get_summary(sentences, threshold=None)\n",
    "print(summary_cont)"
   ]
  },
  {
   "cell_type": "code",
   "execution_count": 12,
   "metadata": {},
   "outputs": [
    {
     "name": "stdout",
     "output_type": "stream",
     "text": [
      "[1.28296318 1.05049105 1.06681244 0.96883503 0.70241131 0.81306653\n",
      " 0.55773112 1.40002288 1.28713165 1.19718366 0.68826888 0.66341384\n",
      " 1.22791086 1.36713602 0.72662156]\n"
     ]
    }
   ],
   "source": [
    "# get LexRank scores for sentences\n",
    "# 'fast_power_method' speeds up the calculation, but requires more RAM\n",
    "scores_cont = lxr.rank_sentences(\n",
    "    sentences,\n",
    "    threshold=None,\n",
    "    fast_power_method=False,\n",
    ")\n",
    "print(scores_cont)\n"
   ]
  },
  {
   "cell_type": "code",
   "execution_count": null,
   "metadata": {},
   "outputs": [],
   "source": []
  }
 ],
 "metadata": {
  "colab": {
   "name": "practical3.1.ipynb",
   "provenance": []
  },
  "kernelspec": {
   "display_name": "Python 3",
   "language": "python",
   "name": "python3"
  },
  "language_info": {
   "codemirror_mode": {
    "name": "ipython",
    "version": 3
   },
   "file_extension": ".py",
   "mimetype": "text/x-python",
   "name": "python",
   "nbconvert_exporter": "python",
   "pygments_lexer": "ipython3",
   "version": "3.8.0"
  }
 },
 "nbformat": 4,
 "nbformat_minor": 1
}
