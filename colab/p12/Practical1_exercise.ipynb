{
  "nbformat": 4,
  "nbformat_minor": 0,
  "metadata": {
    "colab": {
      "name": "Practical1.ipynb",
      "provenance": []
    },
    "kernelspec": {
      "name": "python3",
      "display_name": "Python 3"
    }
  },
  "cells": [
    {
      "cell_type": "markdown",
      "metadata": {
        "id": "lExl_1IPSQrZ",
        "colab_type": "text"
      },
      "source": [
        "Data Mining and Visualisation 2019 - 2020 <br>\n",
        "Practical 1 - Data Processes and Exploratory Data Analysis <br>\n",
        "Teaching Assistant: Muhammad Usman <br>\n"
      ]
    },
    {
      "cell_type": "markdown",
      "metadata": {
        "id": "Gh3F0VQhS2Nr",
        "colab_type": "text"
      },
      "source": [
        "In this exercise you are asked to use a dataset provided and generate a number of plots and descriptive statistics using prebuilt functions and numpy.<br> \n",
        "**Step 1:** You need to upload and import the dataset \"Dataset.csv\" - you may use the file.upload command of google.colab and pandas library to read the file <br>\n",
        "**Step 2:** For each of the features included in this dataset please provide the following information: number of instances, mean, std, min, 25%, 50%, 75% and max values. This can be achieved via one command but do that also with numpy directly. Please also check for any missing values present.<br>\n",
        "**Step 3:** Using the seaborn library and matplotlib generate two plots, one  plot showing two box plots one for each of the two classes for the feature PressureA. The second plot should be a density plot using sns.kdeplot, using the feature Tortuosity this time.<br>\n",
        "**Step 4:** Using seaborn library create a scatterplot using all data available. By default, this function will create a grid of Axes such that each numeric variable in data will by shared in the y-axis across a single row and in the x-axis across a single column. The diagonal Axes are treated differently, drawing a plot to show the univariate distribution of the data for the variable in that column.<br>"
      ]
    }
  ]
}