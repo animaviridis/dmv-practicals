{
 "cells": [
  {
   "cell_type": "markdown",
   "metadata": {},
   "source": [
    "Data Mining and Visualisation 2019-2020 <br>\n",
    "Practical 2 - K-means Clustering <br>\n",
    "Teaching Assistant Muhammad Usman <br>"
   ]
  },
  {
   "cell_type": "markdown",
   "metadata": {},
   "source": [
    "# INTRODUCTION <br>\n",
    "\n",
    "In this exercise, you are expected to write a Python code to implement the k-means algorithm. You can write you own code to implement the algorithm detailed in the lecture; you can also use existing software packages to implement the algorithm.\n",
    "\n",
    "# Hint <br>\n",
    "\n",
    "Useful for Assessment 1"
   ]
  },
  {
   "cell_type": "markdown",
   "metadata": {},
   "source": [
    "1) Download the file kmeans.csv from blackboard. There are two attributes in the data.<br>\n",
    "2) Show the scatter plots of the data; you will see that there are three clusters.<br>\n",
    "3) Write a Python code to implement the k-means algorithm on the data. You can use the Python\n",
    "module sklearn to import the k-means algorithm, for example, `from sklearn.cluster import\n",
    "KMeans’.<br>\n",
    "4) Try to write a Python code to implement the k-means algorithm introduced in the Lecture.\n",
    "This is also needed for the assessment.<br>\n",
    "5) Visualise the scatter plot clusters with different colours and their centroids.<br>\n",
    "6) Optimal number of clusters: The number of clusters has to be provided before applying \n",
    "k-means algorithm to the data. However, we do not know the optimal number of clusters corresponding to this data. To find the optimal number of clusters, we can optimise the aggregate distance over all the data. Therefore, to find the optimal number, your task is to do the following: a) vary the number of clusters K from 1 to 10, and apply k-means to the data for each K; b) calculate the aggregate distance for each K; c) visualise the aggregate distance against K; d) select the optimal K where `mountain’ ends and `rubbles’ begins.<br>\n",
    "\n",
    "Some code has been provided already.\n",
    "Solution will be uploaded as well."
   ]
  },
  {
   "cell_type": "code",
   "execution_count": null,
   "metadata": {},
   "outputs": [],
   "source": [
    "import numpy as np\n",
    "import pandas as pd\n",
    "import matplotlib.pyplot as plt\n",
    "from sklearn.cluster import KMeans\n",
    "\n",
    "def get_data():\n",
    "# complete - load the data\n",
    "# complete - shuffle data rows\n",
    "    return data\n",
    "data = get_data()\n",
    "\n",
    "#plt.scatter(data[:,0],data[:,1])\n",
    "def kmeans_clustering(data, K):\n",
    "# complete - define the model\n",
    "\n",
    "# complete - fit the model to data\n",
    "    model.fit\n",
    "    centroid=\n",
    "    labels=\n",
    "    \n",
    "    distance = model.inertia_\n",
    "    cluster_set = {}\n",
    "    for i,x in enumerate(data):\n",
    "        xlabel = labels[i]\n",
    "        if xlabel not in cluster_set.keys():\n",
    "            cluster_set[xlabel] = np.reshape(x,(1,len(x)))\n",
    "        else:\n",
    "            cluster_set[xlabel] = np.append(cluster_set[xlabel],np.reshape(x,(1,len(x))), axis=0)\n",
    "    return centroid, distance, cluster_set\n",
    "K= # complete number of clusters\n",
    "centroid, distance, clusters_set = kmeans_clustering(data, K)\n",
    "plt.figure(1)\n",
    "colors = {0:'k',1:'b',2:'g'}\n",
    "center_color = ['r']\n",
    "for key in clusters_set.keys():\n",
    "    cluster = clusters_set[key]\n",
    "    plt.scatter(cluster[:,0],cluster[:,1],alpha=0.5)#,cmap=matplotlib.colors.ListedColormap(colors[plt.scatter(centroid[key][0],centroid[key][1],alpha=1)#,cmap=matplotlib.colors.ListedColormap(# choose the number of clusters\n",
    "\n",
    "def agg_distance(data):\n",
    "    all_distance = []\n",
    "    for k in range(1,10):\n",
    "        vector = []\n",
    "        vector.append(k)\n",
    "        centroid, distance, clusters_set = # complete#\n",
    "        vector.append(distance)\n",
    "        all_distance.append(np.array(vector))\n",
    "    return np.array(all_distance)\n",
    "                                            \n",
    "all_distance = agg_distance(data)\n",
    "plt.figure()\n",
    "plt.plot(# complete for distances)\n",
    "plt.xlabel('number of clusters')\n",
    "plt.ylabel('aggregate distance')"
   ]
  }
 ],
 "metadata": {
  "kernelspec": {
   "display_name": "Python 3",
   "language": "python",
   "name": "python3"
  },
  "language_info": {
   "codemirror_mode": {
    "name": "ipython",
    "version": 3
   },
   "file_extension": ".py",
   "mimetype": "text/x-python",
   "name": "python",
   "nbconvert_exporter": "python",
   "pygments_lexer": "ipython3",
   "version": "3.7.4"
  }
 },
 "nbformat": 4,
 "nbformat_minor": 2
}
