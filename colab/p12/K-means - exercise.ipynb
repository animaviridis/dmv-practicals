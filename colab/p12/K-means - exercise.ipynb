{
  "nbformat": 4,
  "nbformat_minor": 0,
  "metadata": {
    "kernelspec": {
      "display_name": "Python 3",
      "language": "python",
      "name": "python3"
    },
    "language_info": {
      "codemirror_mode": {
        "name": "ipython",
        "version": 3
      },
      "file_extension": ".py",
      "mimetype": "text/x-python",
      "name": "python",
      "nbconvert_exporter": "python",
      "pygments_lexer": "ipython3",
      "version": "3.7.4"
    },
    "colab": {
      "name": "K-means - exercise.ipynb",
      "provenance": []
    }
  },
  "cells": [
    {
      "cell_type": "markdown",
      "metadata": {
        "id": "wpDkd7IMYH3o",
        "colab_type": "text"
      },
      "source": [
        "Data Mining and Visualisation 2019-2020 <br>\n",
        "Practical 2 - K-means Clustering <br>\n",
        "Teaching Assistant Muhammad Usman <br>"
      ]
    },
    {
      "cell_type": "markdown",
      "metadata": {
        "id": "9rLx1Uu8YH3p",
        "colab_type": "text"
      },
      "source": [
        "# INTRODUCTION <br>\n",
        "\n",
        "In this exercise, you are expected to write a Python code to implement the k-means algorithm. You can write you own code to implement the algorithm detailed in the lecture; you can also use existing software packages to implement the algorithm.\n",
        "\n",
        "# Hint <br>\n",
        "\n",
        "Useful for Assessment 1"
      ]
    },
    {
      "cell_type": "markdown",
      "metadata": {
        "id": "pxj5m6CTYH3q",
        "colab_type": "text"
      },
      "source": [
        "1) Download the file kmeans.csv from blackboard. There are two attributes in the data.\n",
        "\n",
        "2) Show the scatter plots of the data; you will see that there are three clusters.\n",
        "\n",
        "3) Write a Python code to implement the k-means algorithm on the data. You can use the Python\n",
        "module sklearn to import the k-means algorithm, for example, `from sklearn.cluster import\n",
        "KMeans’.\n",
        "\n",
        "4) Try to write a Python code to implement the k-means algorithm introduced in the Lecture.\n",
        "This is also needed for the assessment.\n",
        "\n",
        "5) Visualise the scatter plot clusters with different colours and their centroids.\n",
        "\n",
        "6) Optimal number of clusters: The number of clusters has to be provided before applying k-means algorithm to the data. However, we do not know the optimal number of clusters corresponding to this data. To find the optimal number of clusters, we can optimise the aggregate distance over all the data. Therefore, to find the optimal number, your task is to do the following:\n",
        "\n",
        "  a) vary the number of clusters K from 1 to 10, and apply k-means to the data for each K;\n",
        "\n",
        "  b) calculate the aggregate distance for each K;\n",
        "\n",
        "  c) visualise the aggregate distance against K;\n",
        "\n",
        "  d) select the optimal K where _mountain_ ends and _rubbles_ begins.\n",
        "\n",
        "Some code has been provided already.\n",
        "Solution will be uploaded as well."
      ]
    },
    {
      "cell_type": "code",
      "metadata": {
        "id": "kBC92m_fYH3q",
        "colab_type": "code",
        "colab": {}
      },
      "source": [
        "import numpy as np\n",
        "import pandas as pd\n",
        "import matplotlib.pyplot as plt\n",
        "from sklearn.cluster import KMeans\n"
      ],
      "execution_count": 0,
      "outputs": []
    },
    {
      "cell_type": "code",
      "metadata": {
        "id": "kH6Mx4ogtlEJ",
        "colab_type": "code",
        "colab": {}
      },
      "source": [
        "def get_data():\n",
        "# complete - load the data\n",
        "# complete - shuffle data rows\n",
        "    return data\n"
      ],
      "execution_count": 0,
      "outputs": []
    },
    {
      "cell_type": "code",
      "metadata": {
        "id": "z40oT4ojtpHy",
        "colab_type": "code",
        "colab": {}
      },
      "source": [
        "data = get_data()\n",
        "\n",
        "#plt.scatter(data[:,0],data[:,1])\n"
      ],
      "execution_count": 0,
      "outputs": []
    },
    {
      "cell_type": "code",
      "metadata": {
        "id": "hsFKm5wYtskz",
        "colab_type": "code",
        "colab": {}
      },
      "source": [
        "def kmeans_clustering(data, K):\n",
        "# complete - define the model\n",
        "\n",
        "# complete - fit the model to data\n",
        "    model.fit\n",
        "    centroid=\n",
        "    labels=\n",
        "    \n",
        "    distance = model.inertia_\n",
        "    cluster_set = {}\n",
        "    for i,x in enumerate(data):\n",
        "        xlabel = labels[i]\n",
        "        if xlabel not in cluster_set.keys():\n",
        "            cluster_set[xlabel] = np.reshape(x,(1,len(x)))\n",
        "        else:\n",
        "            cluster_set[xlabel] = np.append(cluster_set[xlabel],np.reshape(x,(1,len(x))), axis=0)\n",
        "    return centroid, distance, cluster_set\n"
      ],
      "execution_count": 0,
      "outputs": []
    },
    {
      "cell_type": "code",
      "metadata": {
        "id": "WZlJlvRAtwNa",
        "colab_type": "code",
        "colab": {}
      },
      "source": [
        "K= # complete number of clusters\n",
        "centroid, distance, clusters_set = kmeans_clustering(data, K)\n"
      ],
      "execution_count": 0,
      "outputs": []
    },
    {
      "cell_type": "code",
      "metadata": {
        "id": "tCz0mr85t0uD",
        "colab_type": "code",
        "colab": {}
      },
      "source": [
        "plt.figure(1)\n",
        "colors = {0:'k',1:'b',2:'g'}\n",
        "center_color = ['r']\n",
        "for key in clusters_set.keys():\n",
        "    cluster = clusters_set[key]\n",
        "    plt.scatter(cluster[:,0],cluster[:,1],alpha=0.5)#,cmap=matplotlib.colors.ListedColormap(colors[plt.scatter(centroid[key][0],centroid[key][1],alpha=1)#,cmap=matplotlib.colors.ListedColormap(# choose the number of clusters\n",
        "\n",
        "def agg_distance(data):\n",
        "    all_distance = []\n",
        "    for k in range(1,10):\n",
        "        vector = []\n",
        "        vector.append(k)\n",
        "        centroid, distance, clusters_set = # complete#\n",
        "        vector.append(distance)\n",
        "        all_distance.append(np.array(vector))\n",
        "    return np.array(all_distance)\n",
        "                                            \n",
        "all_distance = agg_distance(data)\n",
        "plt.figure()\n",
        "plt.plot(# complete for distances)\n",
        "plt.xlabel('number of clusters')\n",
        "plt.ylabel('aggregate distance')"
      ],
      "execution_count": 0,
      "outputs": []
    }
  ]
}