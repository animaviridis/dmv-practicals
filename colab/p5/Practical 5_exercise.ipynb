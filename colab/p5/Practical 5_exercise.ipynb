{
 "cells": [
  {
   "cell_type": "markdown",
   "metadata": {
    "colab_type": "text",
    "id": "tHnOfjCJWcik"
   },
   "source": [
    "Data Mining and Visualisation 2019-2020 <br>\n",
    "Practical 5 - Time-Series Analysis and Processing - focus on Time-Series Classification<br>\n",
    "Teaching Assistant Muhammad Usman <br>"
   ]
  },
  {
   "cell_type": "markdown",
   "metadata": {
    "colab_type": "text",
    "id": "49b77NelWvTL"
   },
   "source": [
    "This practical requires you to use time series classification approaches to classify multivariate sensor data based on whether the telecommunications network is actually up and running or not. -1 is the negative class denoting downtime and 1 is for optimal network condition. <br>\n",
    "Use this notebook with CoLab. <br>\n",
    "You may enable GPU capabilities <br>\n",
    "\n",
    "You need to undergo a number of steps to fill the gaps below."
   ]
  },
  {
   "cell_type": "code",
   "execution_count": 2,
   "metadata": {
    "colab": {
     "base_uri": "https://localhost:8080/",
     "height": 34
    },
    "colab_type": "code",
    "id": "N_7rcMOqeIVz",
    "outputId": "7816bd28-5b2f-4975-de4a-03c5ac649f57"
   },
   "outputs": [
    {
     "name": "stderr",
     "output_type": "stream",
     "text": [
      "Using TensorFlow backend.\n"
     ]
    }
   ],
   "source": [
    "# Load all necessary libaries, including keras and tensorflow. \n",
    "import keras\n",
    "import tensorflow as tf\n",
    "import os\n",
    "import pandas as pd\n",
    "import numpy as np\n",
    "\n",
    "from tensorflow.keras.models import Sequential\n",
    "from tensorflow.keras.layers import Dense\n",
    "from tensorflow.keras.layers import LSTM\n",
    "\n",
    "from tensorflow.keras.optimizers import Adam\n",
    "from tensorflow.keras.models import load_model\n",
    "from tensorflow.keras.callbacks import ModelCheckpoint"
   ]
  },
  {
   "cell_type": "markdown",
   "metadata": {
    "colab_type": "text",
    "id": "iOpfwWtEeA0k"
   },
   "source": [
    "# Load data\n",
    "\n"
   ]
  },
  {
   "cell_type": "code",
   "execution_count": 5,
   "metadata": {
    "colab": {
     "base_uri": "https://localhost:8080/",
     "height": 1000,
     "resources": {
      "http://localhost:8080/nbextensions/google.colab/files.js": {
       "data": "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",
       "headers": [
        [
         "content-type",
         "application/javascript"
        ]
       ],
       "ok": true,
       "status": 200,
       "status_text": ""
      }
     }
    },
    "colab_type": "code",
    "id": "sK06tuQlZTXk",
    "outputId": "dd1b6090-976e-4c98-8cfe-3d072d3c0842"
   },
   "outputs": [
    {
     "data": {
      "text/html": [
       "\n",
       "     <input type=\"file\" id=\"files-708244de-325b-4e77-9f36-0ce799bb0555\" name=\"files[]\" multiple disabled />\n",
       "     <output id=\"result-708244de-325b-4e77-9f36-0ce799bb0555\">\n",
       "      Upload widget is only available when the cell has been executed in the\n",
       "      current browser session. Please rerun this cell to enable.\n",
       "      </output>\n",
       "      <script src=\"/nbextensions/google.colab/files.js\"></script> "
      ],
      "text/plain": [
       "<IPython.core.display.HTML object>"
      ]
     },
     "metadata": {
      "tags": []
     },
     "output_type": "display_data"
    },
    {
     "name": "stdout",
     "output_type": "stream",
     "text": [
      "Saving Wireless_Telecom_1.csv to Wireless_Telecom_1.csv\n",
      "Saving Wireless_Telecom_2.csv to Wireless_Telecom_2.csv\n",
      "Saving Wireless_Telecom_3.csv to Wireless_Telecom_3.csv\n",
      "Saving Wireless_Telecom_4.csv to Wireless_Telecom_4.csv\n",
      "Saving Wireless_Telecom_5.csv to Wireless_Telecom_5.csv\n",
      "Saving Wireless_Telecom_6.csv to Wireless_Telecom_6.csv\n",
      "Saving Wireless_Telecom_7.csv to Wireless_Telecom_7.csv\n",
      "Saving Wireless_Telecom_8.csv to Wireless_Telecom_8.csv\n",
      "Saving Wireless_Telecom_9.csv to Wireless_Telecom_9.csv\n",
      "Saving Wireless_Telecom_10.csv to Wireless_Telecom_10.csv\n",
      "Saving Wireless_Telecom_11.csv to Wireless_Telecom_11.csv\n",
      "Saving Wireless_Telecom_12.csv to Wireless_Telecom_12.csv\n",
      "Saving Wireless_Telecom_13.csv to Wireless_Telecom_13.csv\n",
      "Saving Wireless_Telecom_14.csv to Wireless_Telecom_14.csv\n",
      "Saving Wireless_Telecom_15.csv to Wireless_Telecom_15.csv\n",
      "Saving Wireless_Telecom_16.csv to Wireless_Telecom_16.csv\n",
      "Saving Wireless_Telecom_17.csv to Wireless_Telecom_17.csv\n",
      "Saving Wireless_Telecom_18.csv to Wireless_Telecom_18.csv\n",
      "Saving Wireless_Telecom_19.csv to Wireless_Telecom_19.csv\n",
      "Saving Wireless_Telecom_20.csv to Wireless_Telecom_20.csv\n",
      "Saving Wireless_Telecom_21.csv to Wireless_Telecom_21.csv\n",
      "Saving Wireless_Telecom_22.csv to Wireless_Telecom_22.csv\n",
      "Saving Wireless_Telecom_target.csv to Wireless_Telecom_target.csv\n"
     ]
    },
    {
     "data": {
      "text/plain": [
       "{'Wireless_Telecom_1.csv': b'Sensor 1,Sensor 2,Sensor 3,Sensor 4\\r\\n-0.85714,-0.52,0.95238,0.35\\r\\n-1,-0.76,0.71429,0.35\\r\\n-1,-0.8,0.85714,0.35\\r\\n-1,-0.44,0.71429,0.55\\r\\n-1,-0.32,0.7619,0.65\\r\\n-1,-0.56,0.95238,0.65\\r\\n-1,-0.6,0.90476,0.8\\r\\n-1,-0.72,0.80952,0.9\\r\\n-0.80952,-0.52,0.47619,0.8\\r\\n-0.66667,-0.6,0.42857,0.8\\r\\n-1,-0.28,0.14286,0.5\\r\\n-0.71429,-0.2,0.095238,0.45\\r\\n-0.52381,-0.08,0.095238,0.65\\r\\n-0.47619,-0.44,0.28571,0.55\\r\\n-0.28571,-0.44,0.095238,0.15\\r\\n-0.2381,-0.08,-0.19048,-0.15\\r\\n-0.2381,-0.12,0.14286,0.2\\r\\n-0.28571,-0.44,-0.14286,0.35\\r\\n-0.28571,-0.44,-0.095238,0\\r\\n-0.19048,-0.44,0.19048,0.15\\r\\n-0.14286,-0.16,-0.14286,0.2\\r\\n-0.28571,-0.04,0,0.2\\r\\n-0.095238,0.04,0.14286,-0.4\\r\\n0,-0.08,0,0.05',\n",
       " 'Wireless_Telecom_10.csv': b'Sensor 1,Sensor 2,Sensor 3,Sensor 4\\r\\n-0.57143,-0.36,0.57143,0.8\\r\\n-0.7619,-0.24,0.42857,0.65\\r\\n-0.95238,-0.2,0.14286,0.8\\r\\n-0.85714,-0.16,0.14286,0.55\\r\\n-0.66667,-0.2,0.38095,0.35\\r\\n-0.57143,-0.48,0.2381,0.5\\r\\n-0.47619,-0.4,0.14286,0.15\\r\\n-0.28571,-0.08,-0.2381,0.15\\r\\n-0.28571,-0.08,0,0.3\\r\\n-0.28571,-0.12,0.14286,0.35\\r\\n-0.28571,-0.48,0,0.25\\r\\n-0.2381,-0.48,0,0.2\\r\\n-0.2381,-0.2,0.14286,0.1\\r\\n-0.2381,0,-0.047619,0\\r\\n-0.33333,-0.04,0.14286,0.15\\r\\n-0.047619,-0.08,-0.047619,-0.2\\r\\n-0.14286,-0.28,0,-0.2\\r\\n-0.42857,-0.32,0.047619,0\\r\\n-0.2381,-0.36,0.047619,-0.45\\r\\n-0.19048,0,-0.14286,0.05\\r\\n-0.14286,0.04,0.047619,0.05\\r\\n0,0.04,-0.42857,0.05\\r\\n0.047619,-0.08,-0.047619,0.2\\r\\n0.047619,-0.68,-0.14286,-0.05',\n",
       " 'Wireless_Telecom_11.csv': b'Sensor 1,Sensor 2,Sensor 3,Sensor 4\\r\\n-1,-0.4,0.7619,0.35\\r\\n-1,-0.36,0.71429,0.55\\r\\n-1,-0.76,0.71429,0.4\\r\\n-0.80952,-0.64,0.85714,0.55\\r\\n-1,-0.56,0.7619,0.65\\r\\n-0.57143,-0.44,0.57143,0.75\\r\\n-0.66667,-0.28,0.52381,0.8\\r\\n-0.85714,-0.36,0.19048,0.55\\r\\n-0.52381,-0.24,-0.14286,0.65\\r\\n-0.52381,-0.4,0.28571,0.35\\r\\n-0.33333,-0.32,0.28571,0.2\\r\\n-0.47619,-0.2,0.2381,0.35\\r\\n-0.57143,-0.32,0.14286,0.15\\r\\n-0.28571,-0.16,-0.7619,0.35\\r\\n-0.28571,-0.12,0,0.35\\r\\n-0.28571,-0.2,0.095238,-0.1\\r\\n-0.19048,-0.4,-0.047619,0.2\\r\\n-0.19048,-0.08,0.14286,0.15\\r\\n-0.19048,0,-0.14286,0.05\\r\\n-0.33333,0.04,0.14286,0.1\\r\\n-0.047619,0.04,0.095238,-0.25\\r\\n-0.2381,-0.08,-0.14286,-0.15\\r\\n-0.33333,-0.2,-0.14286,0.05\\r\\n-0.42857,-0.52,-0.33333,0.05\\r\\n-0.2381,0,0,0\\r\\n-0.14286,0.04,0,0.1',\n",
       " 'Wireless_Telecom_12.csv': b'Sensor 1,Sensor 2,Sensor 3,Sensor 4\\r\\n-0.57143,-0.12,-0.28571,-0.05\\r\\n-0.57143,-0.16,0.14286,-0.15\\r\\n-0.57143,-0.2,-0.19048,0.05\\r\\n-0.52381,-0.2,0,-0.1\\r\\n-0.90476,-0.08,-0.66667,0.3\\r\\n-0.85714,0,0.14286,0.25\\r\\n-0.66667,-0.32,0.047619,0.25\\r\\n-0.42857,-0.56,-0.28571,0.35\\r\\n-0.28571,-0.2,-0.14286,0\\r\\n-0.2381,-0.2,0.14286,0.3\\r\\n-0.52381,-0.2,0.047619,0.5\\r\\n-0.61905,-0.08,-0.047619,0.6\\r\\n-0.52381,0.04,0.2381,0.1\\r\\n-0.28571,0.04,-0.14286,-0.05\\r\\n-0.38095,0.16,-0.33333,0\\r\\n-0.57143,0.16,0.14286,-0.25\\r\\n-0.80952,0.12,-0.38095,-0.6\\r\\n-0.52381,0.32,0,0.15\\r\\n-0.57143,0.16,-0.52381,-0.15\\r\\n-1,0.16,-0.19048,0.6\\r\\n-0.47619,0.12,0.28571,-0.05\\r\\n-0.95238,0,-0.2381,0.2\\r\\n-0.33333,0.08,0.14286,0.05\\r\\n-1,-0.16,0.047619,0.35\\r\\n-0.28571,0.04,0,-0.4\\r\\n-0.095238,0.04,-0.19048,-0.4\\r\\n-0.2381,-0.76,0.047619,-0.15\\r\\n-0.42857,0.08,0.14286,0.05\\r\\n-0.38095,-0.04,0.14286,0.05',\n",
       " 'Wireless_Telecom_13.csv': b'Sensor 1,Sensor 2,Sensor 3,Sensor 4\\r\\n-1,-0.44,-0.38095,0.4\\r\\n-1,-0.48,0.14286,0.25\\r\\n-1,-0.48,-0.38095,-0.2\\r\\n-1,-0.48,-0.14286,0.45\\r\\n-0.66667,-0.08,0,0.1\\r\\n-0.71429,-0.04,0,0.05\\r\\n-0.80952,-0.32,0.095238,0.2\\r\\n-0.90476,-0.2,-0.42857,-0.05\\r\\n-0.66667,-0.32,-0.28571,0.15\\r\\n-0.57143,-0.24,-0.14286,0.3\\r\\n-0.57143,-0.28,-0.33333,0\\r\\n-0.71429,-0.36,0,0.25\\r\\n-1,-0.56,0.14286,0.35\\r\\n-1,-0.6,-0.2381,0.45\\r\\n-1,-0.32,-0.14286,0.45\\r\\n-1,-0.12,-0.71429,0.35\\r\\n-0.95238,-0.08,-0.42857,0\\r\\n-0.42857,0.04,-0.095238,0\\r\\n-0.57143,-0.08,0.047619,0.35\\r\\n-0.47619,-0.2,-0.14286,0.2\\r\\n-0.42857,-0.08,-0.42857,0.35\\r\\n-0.19048,-0.24,0,-0.1\\r\\n-0.28571,-0.36,-0.14286,0.5\\r\\n-0.7619,-0.08,-0.28571,0.65\\r\\n-0.28571,0.04,0.14286,0.65\\r\\n-0.71429,0.04,0.28571,0.2\\r\\n-0.57143,-0.12,0.14286,-0.35\\r\\n-0.47619,0,-0.19048,0.25\\r\\n-0.47619,0.04,-0.047619,0.3',\n",
       " 'Wireless_Telecom_14.csv': b'Sensor 1,Sensor 2,Sensor 3,Sensor 4\\r\\n-1,-0.2,0.19048,0.3\\r\\n-0.66667,-0.36,0.19048,0.3\\r\\n-0.66667,-0.2,-0.14286,0.35\\r\\n-0.85714,-0.12,-0.14286,0.35\\r\\n-0.71429,-0.2,0.14286,0.2\\r\\n-0.71429,-0.24,0,0.05\\r\\n-0.61905,-0.36,0,-0.5\\r\\n-0.52381,-0.4,0.047619,-0.3\\r\\n-0.57143,-0.4,0.2381,-0.3\\r\\n-0.57143,-0.28,0.28571,0.05\\r\\n-0.85714,-0.48,0.2381,0.35\\r\\n-0.95238,-0.32,-0.095238,0.3\\r\\n-1,-0.32,-0.38095,0.15\\r\\n-1,-0.36,0.14286,0.2\\r\\n-0.85714,-0.64,-0.095238,0.5\\r\\n-0.85714,-0.28,0.14286,0.35\\r\\n-0.66667,-0.12,0,0.35\\r\\n-0.52381,-0.12,0.047619,-0.3\\r\\n-0.57143,-0.12,-0.14286,0.2\\r\\n-0.85714,-0.08,-0.19048,0.25\\r\\n-0.47619,-0.2,-0.14286,0.2\\r\\n-0.42857,-0.44,-0.28571,0.2\\r\\n-0.28571,-0.32,0.14286,-0.1\\r\\n-0.28571,-0.52,-0.14286,0.35\\r\\n-0.71429,-0.08,0,0.55',\n",
       " 'Wireless_Telecom_15.csv': b'Sensor 1,Sensor 2,Sensor 3,Sensor 4\\r\\n-0.95238,-0.48,0.33333,0.65\\r\\n-0.90476,-0.28,-0.047619,0.55\\r\\n-0.61905,-0.28,0.28571,0.35\\r\\n-0.61905,-0.36,0.28571,0.5\\r\\n-0.80952,-0.36,0.14286,0.2\\r\\n-0.57143,-0.2,0,0.6\\r\\n-0.80952,-0.12,-0.19048,0.35\\r\\n-1,-0.52,0.095238,0.6\\r\\n-1,-0.64,-0.14286,0.4\\r\\n-1,-0.44,-0.095238,0.35\\r\\n-0.71429,-0.24,-0.42857,0.3\\r\\n-0.61905,-0.2,0,0.35\\r\\n-0.95238,-0.44,0.14286,-0.25\\r\\n-1,-0.6,0,-0.2\\r\\n-1,-0.56,0,0\\r\\n-0.80952,-0.6,-0.38095,-0.9\\r\\n-0.71429,-0.6,-0.095238,0.25\\r\\n-1,-0.8,0,0.35\\r\\n-1,-0.56,-0.38095,0.35\\r\\n-1,-0.24,-0.52381,0.35\\r\\n-1,-0.08,-0.42857,0.1\\r\\n-0.61905,0,-0.047619,0\\r\\n-0.61905,-0.04,-0.14286,-0.15\\r\\n-0.61905,-0.08,0.2381,0.25\\r\\n-0.71429,-0.32,-0.28571,0.15\\r\\n-0.42857,-0.08,-0.42857,0.1\\r\\n-0.28571,-0.28,-0.2381,0.2\\r\\n-0.33333,-0.32,-0.14286,0.65\\r\\n-0.85714,-0.12,0,0.55\\r\\n-0.33333,0.04,-0.14286,0.35',\n",
       " 'Wireless_Telecom_16.csv': b'Sensor 1,Sensor 2,Sensor 3,Sensor 4\\r\\n-0.47619,-0.28,0.28571,0.4\\r\\n-0.7619,-0.76,0.14286,0.55\\r\\n-0.7619,-0.52,0.42857,0.5\\r\\n-0.71429,-0.48,0.14286,0.4\\r\\n-1,-0.64,0.33333,0.1\\r\\n-1,-0.64,0.047619,-0.1\\r\\n-0.66667,-0.44,-0.28571,-0.15\\r\\n-0.66667,-0.12,0.14286,0.2\\r\\n-0.80952,-0.24,0,0.15\\r\\n-0.85714,-0.04,-0.28571,0.5\\r\\n-1,-0.32,0.095238,-0.6\\r\\n-0.57143,-0.56,-0.047619,-0.25\\r\\n-1,-0.56,0,-0.1\\r\\n-1,-0.24,-0.095238,-0.25\\r\\n-0.57143,-0.32,-0.28571,0.05\\r\\n-0.71429,-0.64,-0.28571,0.2\\r\\n-0.90476,-0.36,-0.2381,0.35\\r\\n-0.90476,-0.48,-0.28571,0.35\\r\\n-0.80952,-0.6,-0.28571,0.4\\r\\n-0.7619,-0.32,0.047619,0.45\\r\\n-0.7619,-0.2,0,0.25\\r\\n-0.71429,-0.2,-0.28571,0.1\\r\\n-0.57143,-0.04,0,-0.35\\r\\n-0.42857,-0.08,0,0.1\\r\\n-0.7619,-0.08,-0.33333,0.05\\r\\n-0.33333,-0.36,0.28571,0.35\\r\\n-0.33333,-0.76,0,0.15',\n",
       " 'Wireless_Telecom_17.csv': b'Sensor 1,Sensor 2,Sensor 3,Sensor 4\\r\\n-0.61905,-0.84,0.14286,0.05\\r\\n-0.71429,-0.6,0.14286,0.45\\r\\n-0.66667,-0.4,0.28571,0.35\\r\\n-0.57143,-0.84,0.42857,0.35\\r\\n-0.66667,-0.36,0.47619,0.65\\r\\n-0.66667,-0.36,0.14286,0.65\\r\\n-0.52381,-0.32,0.19048,0.8\\r\\n-0.42857,-0.24,0.28571,0.65\\r\\n-0.61905,-0.24,0,0.6\\r\\n-0.71429,-0.2,-0.71429,0.65\\r\\n-0.57143,0.04,0.14286,0.65\\r\\n-0.95238,-0.2,-0.28571,0.65\\r\\n-0.95238,-0.84,-0.19048,0.5\\r\\n-0.80952,-0.32,0,0.2\\r\\n-0.90476,-0.36,0.14286,0\\r\\n-0.71429,-0.16,0.14286,0.2\\r\\n-0.71429,-0.2,-0.33333,0.2\\r\\n-0.80952,-0.28,0.047619,0.3\\r\\n-1,-0.56,0.14286,0.05\\r\\n-0.90476,-0.48,0.14286,0.05\\r\\n-0.66667,-0.28,0.14286,0.05\\r\\n-0.57143,-0.32,-0.095238,0.05\\r\\n-0.66667,-0.36,-0.19048,0.2\\r\\n-0.85714,-0.4,-0.42857,0.2\\r\\n-0.90476,-0.08,0,0.2\\r\\n-0.90476,-0.04,-0.14286,0.2\\r\\n-1,-0.12,-0.2381,-0.95\\r\\n-0.71429,-0.08,0.14286,0.25\\r\\n-0.71429,-0.16,-0.095238,0.35',\n",
       " 'Wireless_Telecom_18.csv': b'Sensor 1,Sensor 2,Sensor 3,Sensor 4\\r\\n-1,-0.56,0,0.15\\r\\n-1,-0.52,0.14286,0.2\\r\\n-0.80952,-0.6,0.14286,0.4\\r\\n-0.95238,-0.56,0.19048,0.65\\r\\n-1,-0.76,0.19048,0.65\\r\\n-0.71429,-0.6,-0.7619,0.15\\r\\n-0.90476,-0.32,-0.14286,0.4\\r\\n-1,-0.4,0.047619,0.35\\r\\n-0.66667,-0.56,0,0.4\\r\\n-1,-0.48,0.14286,-0.1\\r\\n-0.66667,-0.32,-0.7619,-0.05\\r\\n-0.66667,-0.32,0.14286,0.2\\r\\n-0.57143,-0.2,-0.14286,0.05\\r\\n-0.47619,-0.36,-0.14286,0.3\\r\\n-0.57143,-0.72,0.095238,0.15\\r\\n-1,-0.28,-0.047619,-0.25\\r\\n-1,-0.52,0.2381,0.25\\r\\n-0.7619,-0.68,0.095238,0.2\\r\\n-0.80952,-0.64,-0.047619,-0.25\\r\\n-0.80952,-0.64,-0.19048,0.35\\r\\n-1,-0.52,0,0.5\\r\\n-0.71429,-0.16,0,0.2\\r\\n-0.71429,-0.08,-0.33333,0.1',\n",
       " 'Wireless_Telecom_19.csv': b'Sensor 1,Sensor 2,Sensor 3,Sensor 4\\r\\n-0.61905,-0.32,-0.38095,0.25\\r\\n-0.95238,-0.6,-0.14286,0.35\\r\\n-1,-0.52,-0.14286,0.3\\r\\n-0.71429,-0.8,0,0.2\\r\\n-0.71429,-0.32,0.19048,0.35\\r\\n-1,-0.32,-0.85714,0.55\\r\\n-0.85714,-0.68,0.047619,0.65\\r\\n-1,-0.6,0,0.4\\r\\n-0.57143,-0.52,-0.14286,0.4\\r\\n-0.85714,-0.32,-0.42857,0.5\\r\\n-0.57143,-0.24,-0.28571,0.2\\r\\n-0.57143,0,0,0.05\\r\\n-1,0.04,-0.095238,-0.15\\r\\n-1,-0.08,-0.19048,0.35\\r\\n-0.85714,-0.24,-0.047619,0.05\\r\\n-0.85714,-0.68,-0.7619,0.05\\r\\n-0.71429,-0.32,-0.14286,-0.1\\r\\n-0.71429,-0.24,0.14286,-0.4\\r\\n-0.7619,-0.2,0.047619,0.1\\r\\n-0.52381,-0.56,-0.42857,0.25\\r\\n-0.52381,-0.4,-0.19048,0.3\\r\\n-0.57143,-0.28,-0.28571,0.2\\r\\n-0.57143,-0.24,-0.2381,-0.05\\r\\n-0.71429,-0.24,-0.047619,-0.3\\r\\n-0.66667,-0.44,0.14286,-0.25',\n",
       " 'Wireless_Telecom_2.csv': b'Sensor 1,Sensor 2,Sensor 3,Sensor 4\\r\\n-0.57143,-0.68,0.85714,0.25\\r\\n-1,-0.44,0.57143,0.5\\r\\n-0.61905,-0.68,0.90476,0.5\\r\\n-0.61905,-0.52,0.85714,0.3\\r\\n-0.61905,-0.72,0.7619,0.4\\r\\n-1,-0.56,0.71429,0.65\\r\\n-1,-0.36,0.7619,0.35\\r\\n-1,-0.48,0.80952,0.5\\r\\n-0.95238,-0.36,1,0.75\\r\\n-0.95238,-0.32,0.85714,0.85\\r\\n-0.71429,-0.8,0.71429,0.8\\r\\n-0.71429,-0.8,-0.33333,0.8\\r\\n-0.71429,-0.56,0.28571,0.8\\r\\n-0.71429,-0.44,0.2381,0.75\\r\\n-0.7619,-0.36,0.14286,0.65\\r\\n-0.52381,-0.52,0,0.65\\r\\n-0.52381,-0.36,0.19048,0.5\\r\\n-0.42857,-0.24,0.14286,0.45\\r\\n-0.14286,-0.2,-0.047619,0.2\\r\\n-0.28571,-0.24,0,0.35\\r\\n-0.52381,-0.24,0.047619,-0.2\\r\\n-0.80952,-0.28,-0.14286,0\\r\\n-0.57143,-0.32,-0.61905,0.2\\r\\n-0.33333,-0.32,-0.28571,-0.25',\n",
       " 'Wireless_Telecom_20.csv': b'Sensor 1,Sensor 2,Sensor 3,Sensor 4\\r\\n-0.66667,-0.32,0.42857,0.1\\r\\n-1,-0.08,0.28571,0.35\\r\\n-0.66667,-0.24,-0.14286,0.2\\r\\n-0.80952,-0.68,0.28571,0.65\\r\\n-0.80952,-0.2,0.28571,0.55\\r\\n-0.80952,-0.52,-0.28571,0.1\\r\\n-1,-0.44,-0.33333,0.35\\r\\n-0.90476,-0.4,0.14286,0.4\\r\\n-1,-0.4,0.047619,-0.05\\r\\n-0.57143,-0.64,0.095238,0.65\\r\\n-0.95238,-0.56,-0.19048,0.75\\r\\n-1,-0.48,0,0.65\\r\\n-0.85714,-0.36,-0.19048,0.35\\r\\n-0.80952,-0.48,-0.14286,0.5\\r\\n-0.61905,-0.36,-0.28571,0.35\\r\\n-1,-0.44,-0.28571,-0.25\\r\\n-0.90476,-0.2,-0.2381,0.35\\r\\n-0.90476,-0.32,0,0.45\\r\\n-0.61905,-0.28,0.14286,0.05\\r\\n-0.7619,-0.36,0,-0.5\\r\\n-0.7619,-0.44,-0.14286,0.05\\r\\n-0.57143,-0.16,-0.095238,0.35\\r\\n-1,-0.32,-0.095238,0\\r\\n-1,-0.4,0.14286,-0.1\\r\\n-0.90476,-0.52,0.19048,-0.1\\r\\n-0.90476,-0.6,0.14286,0.2\\r\\n-1,-0.64,-0.28571,0.35',\n",
       " 'Wireless_Telecom_21.csv': b'Sensor 1,Sensor 2,Sensor 3,Sensor 4\\r\\n-0.7619,-0.12,0.57143,0.25\\r\\n-0.7619,-0.28,0.28571,0.35\\r\\n-0.52381,-0.08,0,0.35\\r\\n-0.52381,-0.72,0.095238,0.45\\r\\n-0.52381,-0.32,0.047619,0.25\\r\\n-0.7619,-0.32,0.14286,0.6\\r\\n-1,-0.84,0.19048,0.75\\r\\n-0.85714,-0.68,0.57143,-0.6\\r\\n-0.80952,-0.56,0.28571,0.4\\r\\n-0.71429,-0.52,0.047619,0.5\\r\\n-0.90476,-0.72,0,0.55\\r\\n-1,-0.36,0,0.3\\r\\n-1,-0.76,-0.19048,0.2\\r\\n-0.80952,-0.52,0,0.65\\r\\n-0.80952,-0.76,-0.28571,0.3\\r\\n-0.66667,-0.28,0,0.1\\r\\n-0.90476,-0.16,-0.28571,0.35\\r\\n-0.47619,-0.04,-0.19048,0.3\\r\\n-0.61905,-0.12,-0.42857,0.1\\r\\n-1,-0.12,-0.095238,0.2\\r\\n-0.71429,-0.28,-0.61905,-0.4\\r\\n-0.57143,-0.72,-0.42857,0.35\\r\\n-0.7619,-0.28,0.28571,0.05\\r\\n-0.90476,-0.28,0.14286,-0.1\\r\\n-1,-0.32,0.14286,0.15\\r\\n-1,-0.32,0.14286,0.15',\n",
       " 'Wireless_Telecom_22.csv': b'Sensor 1,Sensor 2,Sensor 3,Sensor 4\\r\\n-0.95238,-0.64,0.42857,0.05\\r\\n-0.90476,-0.32,0.42857,0.1\\r\\n-0.7619,-0.48,0.28571,0.45\\r\\n-0.71429,-0.52,0.47619,0.55\\r\\n-0.66667,-0.12,0.42857,0.35\\r\\n-0.7619,-0.08,-0.19048,0.55\\r\\n-0.57143,-0.6,0.095238,0.55\\r\\n-0.80952,-0.52,0.19048,0.65\\r\\n-0.80952,-0.64,0.095238,-0.05\\r\\n-1,-0.28,0.33333,0.25\\r\\n-1,-0.52,0.047619,0.35\\r\\n-1,-0.84,-0.047619,0.1\\r\\n-0.95238,-0.84,0.14286,0.35\\r\\n-0.85714,-0.36,0,0.8\\r\\n-1,-0.52,-0.47619,0.55\\r\\n-0.71429,-0.52,-0.14286,0.55\\r\\n-0.80952,-0.68,0.2381,0.45\\r\\n-0.80952,-0.32,-0.33333,0.35\\r\\n-1,-0.64,-0.047619,-0.2\\r\\n-1,-0.12,-0.57143,0.2\\r\\n-0.95238,-0.08,-1,0.2\\r\\n-0.95238,-0.04,0,0.05\\r\\n-0.66667,-0.28,0.14286,-0.25\\r\\n-1,-0.64,0,0.05\\r\\n-0.61905,-0.36,0.14286,0.2\\r\\n-1,-0.2,-0.047619,0.35',\n",
       " 'Wireless_Telecom_3.csv': b'Sensor 1,Sensor 2,Sensor 3,Sensor 4\\r\\n-1,-0.64,0.28571,0.35\\r\\n-0.61905,-0.2,0.71429,0.3\\r\\n-0.7619,-0.32,0.42857,0.25\\r\\n-0.85714,-0.36,0.85714,0.2\\r\\n-0.57143,-0.64,0.85714,0.35\\r\\n-0.80952,-0.52,0.71429,0.65\\r\\n-0.85714,-0.6,0.90476,0.5\\r\\n-0.95238,-0.6,0.85714,0.5\\r\\n-0.95238,-0.6,0.85714,0.5\\r\\n-0.85714,-0.44,0.85714,0.35\\r\\n-0.85714,-0.56,0.7619,0.65\\r\\n-0.7619,-0.44,0.85714,0.65\\r\\n-1,-0.44,0.95238,0.8\\r\\n-0.71429,-0.52,0.57143,0.8\\r\\n-0.61905,-0.72,0.42857,0.75\\r\\n-0.71429,-0.32,-0.14286,0.8\\r\\n-0.42857,-0.28,0.28571,0.25\\r\\n-0.42857,-0.32,0.14286,0.15\\r\\n-0.57143,-0.08,0.2381,0.5\\r\\n-0.42857,-0.32,0.2381,0.4\\r\\n-0.42857,-0.56,0.095238,-0.05\\r\\n-0.14286,-0.08,-0.047619,0.1\\r\\n-0.2381,-0.16,-0.095238,0.35\\r\\n-0.19048,-0.08,0.14286,0.2',\n",
       " 'Wireless_Telecom_4.csv': b'Sensor 1,Sensor 2,Sensor 3,Sensor 4\\r\\n-0.85714,-0.48,0.71429,0.2\\r\\n-0.57143,-0.36,0.52381,0.8\\r\\n-0.71429,-0.24,0.71429,0.8\\r\\n-0.57143,-0.32,0.7619,0.55\\r\\n-0.71429,-0.6,0.71429,0.65\\r\\n-0.28571,-0.16,0.57143,0.8\\r\\n-0.38095,-0.36,0,0.5\\r\\n-1,-0.48,0.38095,0.05\\r\\n-0.90476,-0.6,0.7619,-0.25\\r\\n-0.71429,-0.16,0.71429,0.2\\r\\n-0.71429,-0.4,0.85714,0.2\\r\\n-0.7619,-0.72,0.85714,0.35\\r\\n-0.7619,-0.48,0.7619,0.8\\r\\n-1,-0.56,0.90476,-0.1\\r\\n-1,-0.36,0.85714,-0.1\\r\\n-1,-0.32,0.71429,0.55\\r\\n-1,-0.44,0.7619,0.3\\r\\n-1,-0.56,0.90476,0.5\\r\\n-1,-0.6,0.95238,0.75\\r\\n-1,-0.6,0.85714,0.8\\r\\n-0.90476,-0.6,0.80952,0.8\\r\\n-1,-0.52,0.28571,0.5\\r\\n-0.95238,-0.44,0,0.65\\r\\n-0.80952,-0.2,0.14286,0.65',\n",
       " 'Wireless_Telecom_5.csv': b'Sensor 1,Sensor 2,Sensor 3,Sensor 4\\r\\n-0.80952,-0.24,0.14286,-0.15\\r\\n-0.90476,-0.36,0.71429,-0.25\\r\\n-0.71429,-0.68,0.71429,0.35\\r\\n-0.80952,-0.8,0.57143,0.8\\r\\n-0.95238,-0.48,0.71429,0.8\\r\\n-0.90476,-0.28,0.71429,0.65\\r\\n-0.85714,-0.76,0.38095,-0.2\\r\\n-0.71429,-0.56,0.57143,0.35\\r\\n-0.7619,-0.44,0.38095,0.65\\r\\n-0.57143,-0.32,0.71429,0.65\\r\\n-0.66667,-0.16,0.71429,0.55\\r\\n-0.95238,-0.8,0.71429,0.4\\r\\n-0.71429,-0.28,0.85714,0.5\\r\\n-0.7619,-0.28,0.7619,0.35\\r\\n-1,-0.32,0.7619,0.5\\r\\n-1,-0.8,0.71429,0.5\\r\\n-0.57143,-0.4,0.85714,0.65\\r\\n-0.71429,-0.52,0.71429,-0.25\\r\\n-1,-0.36,0.7619,-0.05\\r\\n-0.7619,-0.64,0.71429,0.1\\r\\n-0.57143,-0.28,0.7619,0.6\\r\\n-0.57143,-0.36,0.80952,0.65\\r\\n-0.7619,-0.6,0.71429,0.8\\r\\n-1,-0.44,0.47619,0.45',\n",
       " 'Wireless_Telecom_6.csv': b'Sensor 1,Sensor 2,Sensor 3,Sensor 4\\r\\n-0.42857,-0.36,0.28571,0.45\\r\\n-0.14286,-0.2,0.52381,0.8\\r\\n-0.61905,-0.08,0.14286,0.8\\r\\n-0.66667,-0.32,0,0.5\\r\\n-0.85714,-0.32,0.14286,0.35\\r\\n-0.71429,-0.6,0.14286,0.15\\r\\n-0.66667,-0.8,0.14286,0.5\\r\\n-0.52381,-0.32,-0.38095,0.5\\r\\n-0.57143,-0.76,0.33333,0.35\\r\\n-1,-0.32,0.28571,0.4\\r\\n-0.85714,-0.68,0.42857,0.45\\r\\n-0.71429,-0.28,0.57143,0.05\\r\\n-1,-0.36,0.52381,0.35\\r\\n-0.57143,-0.64,0.71429,-0.1\\r\\n-1,-0.72,0.42857,0.6\\r\\n-1,-0.64,0.42857,0.5\\r\\n-0.61905,-0.16,0.42857,0.65\\r\\n-0.7619,-0.68,0.7619,0.5\\r\\n-0.80952,-0.48,0.71429,0.45\\r\\n-0.90476,-0.32,0.85714,0.55\\r\\n-1,-0.4,0.85714,0.3\\r\\n-1,-0.4,0.71429,0.35\\r\\n-0.57143,-0.32,0.71429,0.35\\r\\n-0.57143,-0.32,0.85714,-0.1',\n",
       " 'Wireless_Telecom_7.csv': b'Sensor 1,Sensor 2,Sensor 3,Sensor 4\\r\\n-0.33333,-0.68,0.14286,0.05\\r\\n-0.66667,-0.32,0.33333,0.65\\r\\n-0.33333,-0.4,0.42857,0.8\\r\\n-0.42857,-0.12,0.28571,0.95\\r\\n-0.80952,-0.52,0.47619,0.55\\r\\n-1,-0.8,0.42857,0.65\\r\\n-1,-0.32,0.57143,0.05\\r\\n-1,-0.36,0.19048,0.35\\r\\n-0.42857,-0.32,0.42857,0.3\\r\\n-0.57143,-0.32,0.71429,0.35\\r\\n-0.57143,-0.28,0.71429,0.35\\r\\n-0.80952,-0.68,0.47619,0.55\\r\\n-0.95238,-0.48,0.7619,1\\r\\n-0.80952,-0.64,0.52381,0.8\\r\\n-0.90476,-0.8,0.57143,0.6\\r\\n-0.66667,-0.68,0.52381,0\\r\\n-0.95238,-0.4,0.52381,0.2\\r\\n-0.80952,-0.28,0.71429,-0.25\\r\\n-0.7619,-0.32,0.71429,0.5\\r\\n-0.95238,-0.4,0.80952,0\\r\\n-0.85714,-0.4,0.71429,0.3\\r\\n-0.71429,-0.44,0.7619,0.45\\r\\n-1,-0.84,0.71429,0.4',\n",
       " 'Wireless_Telecom_8.csv': b'Sensor 1,Sensor 2,Sensor 3,Sensor 4\\r\\n-0.90476,-0.64,0.14286,0.65\\r\\n-0.57143,-0.8,-0.42857,0.5\\r\\n-0.38095,-0.36,0.14286,0.6\\r\\n-0.28571,-0.16,-0.14286,0.45\\r\\n-0.28571,-0.72,-0.42857,0.35\\r\\n-0.42857,-0.16,-0.7619,0.3\\r\\n-0.47619,-0.2,-0.42857,0.1\\r\\n-0.47619,-0.24,-0.28571,0.05\\r\\n-0.42857,-0.32,-0.38095,0.05\\r\\n-0.28571,-0.48,-0.80952,0.15\\r\\n-0.2381,-0.36,0,-0.4\\r\\n-0.14286,-0.2,-0.047619,0.25\\r\\n-0.19048,-0.04,0,-0.1\\r\\n-0.14286,0.04,0,-0.1\\r\\n-0.19048,0.04,0,-0.1\\r\\n-0.28571,0.04,-0.33333,-0.05\\r\\n-0.14286,0.04,-0.2381,0.05\\r\\n-0.14286,0.04,-0.47619,0.2\\r\\n-0.28571,0.04,0.095238,-0.4\\r\\n-0.14286,-0.08,-0.28571,0\\r\\n0.047619,-0.24,-0.57143,0.25\\r\\n0.095238,-0.08,-0.52381,-0.4\\r\\n0,-0.36,-0.047619,0.25\\r\\n-0.095238,-0.12,0,-0.1\\r\\n-0.14286,0.04,-0.42857,-0.35\\r\\n-0.28571,0.16,0,-0.15\\r\\n-0.38095,0.08,-0.47619,-0.4',\n",
       " 'Wireless_Telecom_9.csv': b'Sensor 1,Sensor 2,Sensor 3,Sensor 4\\r\\n-0.61905,-0.36,0.2381,0.35\\r\\n-0.95238,-0.68,0.42857,0.45\\r\\n-0.47619,-0.32,0.57143,0.5\\r\\n-0.52381,-0.64,0.38095,0.5\\r\\n-1,-0.64,0.2381,0.35\\r\\n-0.52381,-0.8,-0.095238,0.25\\r\\n-0.38095,-0.2,-0.095238,-0.15\\r\\n-0.57143,-0.4,0.38095,0.35\\r\\n-0.42857,-0.4,0.28571,0.35\\r\\n-0.33333,-0.64,0.14286,0.75\\r\\n-0.2381,-0.4,0.42857,0.8\\r\\n-0.38095,-0.12,0.42857,0.95\\r\\n-0.66667,-0.48,0.42857,0.65\\r\\n-1,-0.52,0.42857,0.35\\r\\n-0.85714,-0.36,0.71429,0.35\\r\\n-0.7619,-0.6,0.28571,0.35\\r\\n-0.38095,-0.48,0.38095,0.45\\r\\n-0.52381,-0.52,0.71429,0.35\\r\\n-0.57143,-0.32,0.52381,-0.6\\r\\n-1,-0.32,0.71429,0.45\\r\\n-1,-0.32,0.47619,0.65\\r\\n-0.71429,-0.72,0.57143,0.5\\r\\n-0.95238,-0.72,0.42857,0.5\\r\\n-0.57143,-0.36,0.42857,0.65\\r\\n-0.90476,-0.4,0.57143,0.5\\r\\n-1,-0.16,0.57143,0.8\\r\\n-0.57143,-0.08,0.52381,0.55\\r\\n-0.90476,-0.36,0.85714,0.45',\n",
       " 'Wireless_Telecom_target.csv': b'sequence_ID, class_labels\\r\\n1,1\\r\\n2,1\\r\\n3,1\\r\\n4,1\\r\\n5,1\\r\\n6,1\\r\\n7,1\\r\\n8,1\\r\\n9,1\\r\\n10,1\\r\\n11,1\\r\\n12,-1\\r\\n13,-1\\r\\n14,-1\\r\\n15,-1\\r\\n16,-1\\r\\n17,-1\\r\\n18,-1\\r\\n19,-1\\r\\n20,-1\\r\\n21,-1\\r\\n22,-1'}"
      ]
     },
     "execution_count": 5,
     "metadata": {
      "tags": []
     },
     "output_type": "execute_result"
    }
   ],
   "source": [
    "from google.colab import files\n",
    "files.upload() #upload the files needed with this command if you'd like. There are about 20 csv files and one for the target labels"
   ]
  },
  {
   "cell_type": "code",
   "execution_count": 6,
   "metadata": {
    "colab": {
     "base_uri": "https://localhost:8080/",
     "height": 151
    },
    "colab_type": "code",
    "id": "oS3kwS4vs1Wf",
    "outputId": "198ef400-6d4a-4670-8fdb-9379147791fb"
   },
   "outputs": [
    {
     "name": "stdout",
     "output_type": "stream",
     "text": [
      "sample_data\t\t Wireless_Telecom_17.csv  Wireless_Telecom_3.csv\n",
      "Wireless_Telecom_10.csv  Wireless_Telecom_18.csv  Wireless_Telecom_4.csv\n",
      "Wireless_Telecom_11.csv  Wireless_Telecom_19.csv  Wireless_Telecom_5.csv\n",
      "Wireless_Telecom_12.csv  Wireless_Telecom_1.csv   Wireless_Telecom_6.csv\n",
      "Wireless_Telecom_13.csv  Wireless_Telecom_20.csv  Wireless_Telecom_7.csv\n",
      "Wireless_Telecom_14.csv  Wireless_Telecom_21.csv  Wireless_Telecom_8.csv\n",
      "Wireless_Telecom_15.csv  Wireless_Telecom_22.csv  Wireless_Telecom_9.csv\n",
      "Wireless_Telecom_16.csv  Wireless_Telecom_2.csv   Wireless_Telecom_target.csv\n"
     ]
    }
   ],
   "source": [
    "!ls"
   ]
  },
  {
   "cell_type": "code",
   "execution_count": 0,
   "metadata": {
    "colab": {},
    "colab_type": "code",
    "id": "c4v5RQDns5Is"
   },
   "outputs": [],
   "source": [
    "data_files = [f for f in os.listdir() if f.endswith('csv')]"
   ]
  },
  {
   "cell_type": "code",
   "execution_count": 8,
   "metadata": {
    "colab": {
     "base_uri": "https://localhost:8080/",
     "height": 195
    },
    "colab_type": "code",
    "id": "s8PGEvTcZVp3",
    "outputId": "2ae5e287-e785-406a-bd03-719b67e21367"
   },
   "outputs": [
    {
     "data": {
      "text/html": [
       "<div>\n",
       "<style scoped>\n",
       "    .dataframe tbody tr th:only-of-type {\n",
       "        vertical-align: middle;\n",
       "    }\n",
       "\n",
       "    .dataframe tbody tr th {\n",
       "        vertical-align: top;\n",
       "    }\n",
       "\n",
       "    .dataframe thead th {\n",
       "        text-align: right;\n",
       "    }\n",
       "</style>\n",
       "<table border=\"1\" class=\"dataframe\">\n",
       "  <thead>\n",
       "    <tr style=\"text-align: right;\">\n",
       "      <th></th>\n",
       "      <th>Sensor 1</th>\n",
       "      <th>Sensor 2</th>\n",
       "      <th>Sensor 3</th>\n",
       "      <th>Sensor 4</th>\n",
       "    </tr>\n",
       "  </thead>\n",
       "  <tbody>\n",
       "    <tr>\n",
       "      <th>0</th>\n",
       "      <td>-0.85714</td>\n",
       "      <td>-0.48</td>\n",
       "      <td>0.71429</td>\n",
       "      <td>0.20</td>\n",
       "    </tr>\n",
       "    <tr>\n",
       "      <th>1</th>\n",
       "      <td>-0.57143</td>\n",
       "      <td>-0.36</td>\n",
       "      <td>0.52381</td>\n",
       "      <td>0.80</td>\n",
       "    </tr>\n",
       "    <tr>\n",
       "      <th>2</th>\n",
       "      <td>-0.71429</td>\n",
       "      <td>-0.24</td>\n",
       "      <td>0.71429</td>\n",
       "      <td>0.80</td>\n",
       "    </tr>\n",
       "    <tr>\n",
       "      <th>3</th>\n",
       "      <td>-0.57143</td>\n",
       "      <td>-0.32</td>\n",
       "      <td>0.76190</td>\n",
       "      <td>0.55</td>\n",
       "    </tr>\n",
       "    <tr>\n",
       "      <th>4</th>\n",
       "      <td>-0.71429</td>\n",
       "      <td>-0.60</td>\n",
       "      <td>0.71429</td>\n",
       "      <td>0.65</td>\n",
       "    </tr>\n",
       "  </tbody>\n",
       "</table>\n",
       "</div>"
      ],
      "text/plain": [
       "   Sensor 1  Sensor 2  Sensor 3  Sensor 4\n",
       "0  -0.85714     -0.48   0.71429      0.20\n",
       "1  -0.57143     -0.36   0.52381      0.80\n",
       "2  -0.71429     -0.24   0.71429      0.80\n",
       "3  -0.57143     -0.32   0.76190      0.55\n",
       "4  -0.71429     -0.60   0.71429      0.65"
      ]
     },
     "execution_count": 8,
     "metadata": {
      "tags": []
     },
     "output_type": "execute_result"
    }
   ],
   "source": [
    "#Read one of the files and printi out with name.head(). Also try to return its shape with name.shape\n",
    "df = pd.read_csv(data_files[0])\n",
    "df.head()"
   ]
  },
  {
   "cell_type": "code",
   "execution_count": 9,
   "metadata": {
    "colab": {
     "base_uri": "https://localhost:8080/",
     "height": 34
    },
    "colab_type": "code",
    "id": "rjNJTWMitZFB",
    "outputId": "94d4742f-ecf3-431c-9f2d-d8dde50afa4d"
   },
   "outputs": [
    {
     "data": {
      "text/plain": [
       "(24, 4)"
      ]
     },
     "execution_count": 9,
     "metadata": {
      "tags": []
     },
     "output_type": "execute_result"
    }
   ],
   "source": [
    "df.shape"
   ]
  },
  {
   "cell_type": "code",
   "execution_count": 10,
   "metadata": {
    "colab": {
     "base_uri": "https://localhost:8080/",
     "height": 386
    },
    "colab_type": "code",
    "id": "O2rDJpjxb7vh",
    "outputId": "30206f0d-1ae1-43e5-b534-d053640971cc"
   },
   "outputs": [
    {
     "name": "stdout",
     "output_type": "stream",
     "text": [
      "Wireless_Telecom_1.csv\n",
      "Wireless_Telecom_2.csv\n",
      "Wireless_Telecom_3.csv\n",
      "Wireless_Telecom_4.csv\n",
      "Wireless_Telecom_5.csv\n",
      "Wireless_Telecom_6.csv\n",
      "Wireless_Telecom_7.csv\n",
      "Wireless_Telecom_8.csv\n",
      "Wireless_Telecom_9.csv\n",
      "Wireless_Telecom_10.csv\n",
      "Wireless_Telecom_11.csv\n",
      "Wireless_Telecom_12.csv\n",
      "Wireless_Telecom_13.csv\n",
      "Wireless_Telecom_14.csv\n",
      "Wireless_Telecom_15.csv\n",
      "Wireless_Telecom_16.csv\n",
      "Wireless_Telecom_17.csv\n",
      "Wireless_Telecom_18.csv\n",
      "Wireless_Telecom_19.csv\n",
      "Wireless_Telecom_20.csv\n",
      "Wireless_Telecom_21.csv\n",
      "Wireless_Telecom_22.csv\n"
     ]
    }
   ],
   "source": [
    "# Load all data files\n",
    "sequences = []\n",
    "path = 'Wireless_Telecom'\n",
    "\n",
    "for i in range(1, len(data_files)):\n",
    "    file_path = f'{path}_{i}.csv'\n",
    "    print(file_path)\n",
    "    df = pd.read_csv(file_path, header=0)\n",
    "    values = df.values\n",
    "    sequences.append(values)"
   ]
  },
  {
   "cell_type": "code",
   "execution_count": 11,
   "metadata": {
    "colab": {
     "base_uri": "https://localhost:8080/",
     "height": 50
    },
    "colab_type": "code",
    "id": "QuDC4aJccWeE",
    "outputId": "1ea05370-6662-43b1-a418-6f914a2ae579"
   },
   "outputs": [
    {
     "data": {
      "text/plain": [
       "array([ 1,  1,  1,  1,  1,  1,  1,  1,  1,  1,  1, -1, -1, -1, -1, -1, -1,\n",
       "       -1, -1, -1, -1, -1])"
      ]
     },
     "execution_count": 11,
     "metadata": {
      "tags": []
     },
     "output_type": "execute_result"
    }
   ],
   "source": [
    "targets = pd.read_csv(f'{path}_target.csv').values[:,1]\n",
    "targets"
   ]
  },
  {
   "cell_type": "code",
   "execution_count": 12,
   "metadata": {
    "colab": {
     "base_uri": "https://localhost:8080/",
     "height": 168
    },
    "colab_type": "code",
    "id": "zZnlcHwdc5wa",
    "outputId": "50b4cd17-5219-47d4-b303-3d9fdd772b50"
   },
   "outputs": [
    {
     "data": {
      "text/plain": [
       "count    22.000000\n",
       "mean     25.818182\n",
       "std       2.152216\n",
       "min      23.000000\n",
       "25%      24.000000\n",
       "50%      25.500000\n",
       "75%      27.000000\n",
       "max      30.000000\n",
       "dtype: float64"
      ]
     },
     "execution_count": 12,
     "metadata": {
      "tags": []
     },
     "output_type": "execute_result"
    }
   ],
   "source": [
    "# Sequences have different lengths. So we need to make that uniform based on some statistics.\n",
    "# You need to provide some statistics with regards to the each sequence lengths, i.e. some sequences are longer than others.\n",
    "# use .describe() to get an idea of what the spread of the sequence lengths is\n",
    "len_sequences = [len(s) for s in sequences]\n",
    "pd.Series(len_sequences).describe()"
   ]
  },
  {
   "cell_type": "code",
   "execution_count": 13,
   "metadata": {
    "colab": {
     "base_uri": "https://localhost:8080/",
     "height": 34
    },
    "colab_type": "code",
    "id": "SpdNC2vzkzaX",
    "outputId": "b8c5774d-2c75-4a80-ee63-e0cc5245e2d6"
   },
   "outputs": [
    {
     "name": "stdout",
     "output_type": "stream",
     "text": [
      "[24, 24, 24, 24, 24, 24, 23, 27, 28, 24, 26, 29, 29, 25, 30, 27, 29, 23, 25, 27, 26, 26]\n"
     ]
    }
   ],
   "source": [
    "print(len_sequences)"
   ]
  },
  {
   "cell_type": "code",
   "execution_count": 14,
   "metadata": {
    "colab": {
     "base_uri": "https://localhost:8080/",
     "height": 34
    },
    "colab_type": "code",
    "id": "qvYVhCCak3TB",
    "outputId": "750bb682-b4c3-4476-925e-835c278dde30"
   },
   "outputs": [
    {
     "data": {
      "text/plain": [
       "(22, 30, 4)"
      ]
     },
     "execution_count": 14,
     "metadata": {
      "tags": []
     },
     "output_type": "execute_result"
    }
   ],
   "source": [
    "#add padding to the max length based on the value you got from .describe()\n",
    "to_pad = max(len_sequences)\n",
    "new_seq = []\n",
    "for i, seq in enumerate(sequences):\n",
    "    n = to_pad - len_sequences[i]\n",
    "    to_concat = np.repeat(seq[-1], n).reshape(4, n).T\n",
    "    new_seq.append(np.concatenate([seq, to_concat]))\n",
    "current_seq = np.stack(new_seq)\n",
    "current_seq.shape"
   ]
  },
  {
   "cell_type": "code",
   "execution_count": 15,
   "metadata": {
    "colab": {
     "base_uri": "https://localhost:8080/",
     "height": 34
    },
    "colab_type": "code",
    "id": "C5JGBV2xlHyz",
    "outputId": "cef97a97-86ca-485f-e9a5-94860eed9d0c"
   },
   "outputs": [
    {
     "data": {
      "text/plain": [
       "(22, 24, 4)"
      ]
     },
     "execution_count": 15,
     "metadata": {
      "tags": []
     },
     "output_type": "execute_result"
    }
   ],
   "source": [
    "#truncate the sequences to having 24 values\n",
    "from keras.preprocessing import sequence\n",
    "seq_len = 24\n",
    "final_seq = current_seq[:, :24, :]\n",
    "final_seq.shape"
   ]
  },
  {
   "cell_type": "code",
   "execution_count": 0,
   "metadata": {
    "colab": {},
    "colab_type": "code",
    "id": "G65lx3mrlOl1"
   },
   "outputs": [],
   "source": [
    "# now create train and test sets.....\n",
    "# for the sake of this example we will consider the test set as being both a test and validation set,\n",
    "# but you can just adjust it accordingly if you want to create a validation set as well\n",
    "split = 17\n",
    "\n",
    "train = final_seq[:split]\n",
    "test = final_seq[split:]\n",
    "\n",
    "train_target = targets[:split]\n",
    "test_target = targets[split:]"
   ]
  },
  {
   "cell_type": "code",
   "execution_count": 17,
   "metadata": {
    "colab": {
     "base_uri": "https://localhost:8080/",
     "height": 34
    },
    "colab_type": "code",
    "id": "nyyQSB2tlqPN",
    "outputId": "516c4aa3-31b7-4c44-a8d1-444ba8174077"
   },
   "outputs": [
    {
     "data": {
      "text/plain": [
       "array([1., 1., 1., 1., 1., 1., 1., 1., 1., 1., 1., 0., 0., 0., 0., 0., 0.])"
      ]
     },
     "execution_count": 17,
     "metadata": {
      "tags": []
     },
     "output_type": "execute_result"
    }
   ],
   "source": [
    "train_target = (train_target+1)/2\n",
    "test_target = (test_target+1)/2\n",
    "train_target"
   ]
  },
  {
   "cell_type": "markdown",
   "metadata": {
    "colab_type": "text",
    "id": "mHvgi0uNzT36"
   },
   "source": [
    "# LSTM"
   ]
  },
  {
   "cell_type": "code",
   "execution_count": 18,
   "metadata": {
    "colab": {
     "base_uri": "https://localhost:8080/",
     "height": 34
    },
    "colab_type": "code",
    "id": "pBHTw64FluBQ",
    "outputId": "bf40aa91-75f8-496d-bd25-b982e9d746c0"
   },
   "outputs": [
    {
     "data": {
      "text/plain": [
       "<tensorflow.python.keras.engine.sequential.Sequential at 0x7fbd0612f8d0>"
      ]
     },
     "execution_count": 18,
     "metadata": {
      "tags": []
     },
     "output_type": "execute_result"
    }
   ],
   "source": [
    "# create an LSTM model having 512 units. It is a binary problem so you can use a dense layer with value 1 and activation sigmoid\n",
    "model = Sequential()\n",
    "model.add(LSTM(256, input_shape=(seq_len, 4)))\n",
    "model.add(Dense(1, activation='sigmoid'))\n",
    "model"
   ]
  },
  {
   "cell_type": "code",
   "execution_count": 19,
   "metadata": {
    "colab": {
     "base_uri": "https://localhost:8080/",
     "height": 1000
    },
    "colab_type": "code",
    "id": "9-z4GdObmDBk",
    "outputId": "ab953306-c948-4229-8edc-f914d8e699d2"
   },
   "outputs": [
    {
     "name": "stdout",
     "output_type": "stream",
     "text": [
      "Epoch 1/200\n",
      "1/1 [==============================] - ETA: 0s - loss: 0.7095 - accuracy: 0.3529WARNING:tensorflow:Can save best model only with val_acc available, skipping.\n",
      "1/1 [==============================] - 0s 404ms/step - loss: 0.7095 - accuracy: 0.3529 - val_loss: 0.6730 - val_accuracy: 1.0000\n",
      "Epoch 2/200\n",
      "1/1 [==============================] - ETA: 0s - loss: 0.6687 - accuracy: 0.9412WARNING:tensorflow:Can save best model only with val_acc available, skipping.\n",
      "1/1 [==============================] - 0s 33ms/step - loss: 0.6687 - accuracy: 0.9412 - val_loss: 0.7343 - val_accuracy: 0.0000e+00\n",
      "Epoch 3/200\n",
      "1/1 [==============================] - ETA: 0s - loss: 0.6346 - accuracy: 0.5882WARNING:tensorflow:Can save best model only with val_acc available, skipping.\n",
      "1/1 [==============================] - 0s 37ms/step - loss: 0.6346 - accuracy: 0.5882 - val_loss: 0.8099 - val_accuracy: 0.0000e+00\n",
      "Epoch 4/200\n",
      "1/1 [==============================] - ETA: 0s - loss: 0.6013 - accuracy: 0.5882WARNING:tensorflow:Can save best model only with val_acc available, skipping.\n",
      "1/1 [==============================] - 0s 33ms/step - loss: 0.6013 - accuracy: 0.5882 - val_loss: 0.9191 - val_accuracy: 0.0000e+00\n",
      "Epoch 5/200\n",
      "1/1 [==============================] - ETA: 0s - loss: 0.5665 - accuracy: 0.6471WARNING:tensorflow:Can save best model only with val_acc available, skipping.\n",
      "1/1 [==============================] - 0s 29ms/step - loss: 0.5665 - accuracy: 0.6471 - val_loss: 1.0814 - val_accuracy: 0.0000e+00\n",
      "Epoch 6/200\n",
      "1/1 [==============================] - ETA: 0s - loss: 0.5344 - accuracy: 0.6471WARNING:tensorflow:Can save best model only with val_acc available, skipping.\n",
      "1/1 [==============================] - 0s 29ms/step - loss: 0.5344 - accuracy: 0.6471 - val_loss: 1.1840 - val_accuracy: 0.0000e+00\n",
      "Epoch 7/200\n",
      "1/1 [==============================] - ETA: 0s - loss: 0.5009 - accuracy: 0.5882WARNING:tensorflow:Can save best model only with val_acc available, skipping.\n",
      "1/1 [==============================] - 0s 28ms/step - loss: 0.5009 - accuracy: 0.5882 - val_loss: 1.0163 - val_accuracy: 0.0000e+00\n",
      "Epoch 8/200\n",
      "1/1 [==============================] - ETA: 0s - loss: 0.4348 - accuracy: 0.7059WARNING:tensorflow:Can save best model only with val_acc available, skipping.\n",
      "1/1 [==============================] - 0s 37ms/step - loss: 0.4348 - accuracy: 0.7059 - val_loss: 0.7012 - val_accuracy: 0.6000\n",
      "Epoch 9/200\n",
      "1/1 [==============================] - ETA: 0s - loss: 0.3541 - accuracy: 0.8235WARNING:tensorflow:Can save best model only with val_acc available, skipping.\n",
      "1/1 [==============================] - 0s 30ms/step - loss: 0.3541 - accuracy: 0.8235 - val_loss: 0.4335 - val_accuracy: 1.0000\n",
      "Epoch 10/200\n",
      "1/1 [==============================] - ETA: 0s - loss: 0.2899 - accuracy: 0.9412WARNING:tensorflow:Can save best model only with val_acc available, skipping.\n",
      "1/1 [==============================] - 0s 29ms/step - loss: 0.2899 - accuracy: 0.9412 - val_loss: 0.2684 - val_accuracy: 1.0000\n",
      "Epoch 11/200\n",
      "1/1 [==============================] - ETA: 0s - loss: 0.2387 - accuracy: 0.9412WARNING:tensorflow:Can save best model only with val_acc available, skipping.\n",
      "1/1 [==============================] - 0s 29ms/step - loss: 0.2387 - accuracy: 0.9412 - val_loss: 0.1716 - val_accuracy: 1.0000\n",
      "Epoch 12/200\n",
      "1/1 [==============================] - ETA: 0s - loss: 0.2085 - accuracy: 0.9412WARNING:tensorflow:Can save best model only with val_acc available, skipping.\n",
      "1/1 [==============================] - 0s 29ms/step - loss: 0.2085 - accuracy: 0.9412 - val_loss: 0.1208 - val_accuracy: 1.0000\n",
      "Epoch 13/200\n",
      "1/1 [==============================] - ETA: 0s - loss: 0.1928 - accuracy: 0.9412WARNING:tensorflow:Can save best model only with val_acc available, skipping.\n",
      "1/1 [==============================] - 0s 30ms/step - loss: 0.1928 - accuracy: 0.9412 - val_loss: 0.1139 - val_accuracy: 1.0000\n",
      "Epoch 14/200\n",
      "1/1 [==============================] - ETA: 0s - loss: 0.2257 - accuracy: 0.8824WARNING:tensorflow:Can save best model only with val_acc available, skipping.\n",
      "1/1 [==============================] - 0s 33ms/step - loss: 0.2257 - accuracy: 0.8824 - val_loss: 0.0626 - val_accuracy: 1.0000\n",
      "Epoch 15/200\n",
      "1/1 [==============================] - ETA: 0s - loss: 0.2074 - accuracy: 0.9412WARNING:tensorflow:Can save best model only with val_acc available, skipping.\n",
      "1/1 [==============================] - 0s 30ms/step - loss: 0.2074 - accuracy: 0.9412 - val_loss: 0.0624 - val_accuracy: 1.0000\n",
      "Epoch 16/200\n",
      "1/1 [==============================] - ETA: 0s - loss: 0.2567 - accuracy: 0.8824WARNING:tensorflow:Can save best model only with val_acc available, skipping.\n",
      "1/1 [==============================] - 0s 29ms/step - loss: 0.2567 - accuracy: 0.8824 - val_loss: 0.0733 - val_accuracy: 1.0000\n",
      "Epoch 17/200\n",
      "1/1 [==============================] - ETA: 0s - loss: 0.2248 - accuracy: 0.8824WARNING:tensorflow:Can save best model only with val_acc available, skipping.\n",
      "1/1 [==============================] - 0s 28ms/step - loss: 0.2248 - accuracy: 0.8824 - val_loss: 0.0886 - val_accuracy: 1.0000\n",
      "Epoch 18/200\n",
      "1/1 [==============================] - ETA: 0s - loss: 0.1599 - accuracy: 0.9412WARNING:tensorflow:Can save best model only with val_acc available, skipping.\n",
      "1/1 [==============================] - 0s 35ms/step - loss: 0.1599 - accuracy: 0.9412 - val_loss: 0.1074 - val_accuracy: 1.0000\n",
      "Epoch 19/200\n",
      "1/1 [==============================] - ETA: 0s - loss: 0.1624 - accuracy: 0.9412WARNING:tensorflow:Can save best model only with val_acc available, skipping.\n",
      "1/1 [==============================] - 0s 32ms/step - loss: 0.1624 - accuracy: 0.9412 - val_loss: 0.1325 - val_accuracy: 1.0000\n",
      "Epoch 20/200\n",
      "1/1 [==============================] - ETA: 0s - loss: 0.2727 - accuracy: 0.8824WARNING:tensorflow:Can save best model only with val_acc available, skipping.\n",
      "1/1 [==============================] - 0s 32ms/step - loss: 0.2727 - accuracy: 0.8824 - val_loss: 0.1284 - val_accuracy: 1.0000\n",
      "Epoch 21/200\n",
      "1/1 [==============================] - ETA: 0s - loss: 0.1521 - accuracy: 0.9412WARNING:tensorflow:Can save best model only with val_acc available, skipping.\n",
      "1/1 [==============================] - 0s 30ms/step - loss: 0.1521 - accuracy: 0.9412 - val_loss: 0.1409 - val_accuracy: 1.0000\n",
      "Epoch 22/200\n",
      "1/1 [==============================] - ETA: 0s - loss: 0.2523 - accuracy: 0.8824WARNING:tensorflow:Can save best model only with val_acc available, skipping.\n",
      "1/1 [==============================] - 0s 29ms/step - loss: 0.2523 - accuracy: 0.8824 - val_loss: 0.1554 - val_accuracy: 1.0000\n",
      "Epoch 23/200\n",
      "1/1 [==============================] - ETA: 0s - loss: 0.3331 - accuracy: 0.7647WARNING:tensorflow:Can save best model only with val_acc available, skipping.\n",
      "1/1 [==============================] - 0s 29ms/step - loss: 0.3331 - accuracy: 0.7647 - val_loss: 0.1737 - val_accuracy: 1.0000\n",
      "Epoch 24/200\n",
      "1/1 [==============================] - ETA: 0s - loss: 0.3488 - accuracy: 0.7647WARNING:tensorflow:Can save best model only with val_acc available, skipping.\n",
      "1/1 [==============================] - 0s 29ms/step - loss: 0.3488 - accuracy: 0.7647 - val_loss: 0.1959 - val_accuracy: 1.0000\n",
      "Epoch 25/200\n",
      "1/1 [==============================] - ETA: 0s - loss: 0.4062 - accuracy: 0.7059WARNING:tensorflow:Can save best model only with val_acc available, skipping.\n",
      "1/1 [==============================] - 0s 30ms/step - loss: 0.4062 - accuracy: 0.7059 - val_loss: 0.2170 - val_accuracy: 1.0000\n",
      "Epoch 26/200\n",
      "1/1 [==============================] - ETA: 0s - loss: 0.4004 - accuracy: 0.7059WARNING:tensorflow:Can save best model only with val_acc available, skipping.\n",
      "1/1 [==============================] - 0s 31ms/step - loss: 0.4004 - accuracy: 0.7059 - val_loss: 0.2371 - val_accuracy: 1.0000\n",
      "Epoch 27/200\n",
      "1/1 [==============================] - ETA: 0s - loss: 0.3637 - accuracy: 0.7059WARNING:tensorflow:Can save best model only with val_acc available, skipping.\n",
      "1/1 [==============================] - 0s 33ms/step - loss: 0.3637 - accuracy: 0.7059 - val_loss: 0.2542 - val_accuracy: 1.0000\n",
      "Epoch 28/200\n",
      "1/1 [==============================] - ETA: 0s - loss: 0.3121 - accuracy: 0.8235WARNING:tensorflow:Can save best model only with val_acc available, skipping.\n",
      "1/1 [==============================] - 0s 36ms/step - loss: 0.3121 - accuracy: 0.8235 - val_loss: 0.2672 - val_accuracy: 1.0000\n",
      "Epoch 29/200\n",
      "1/1 [==============================] - ETA: 0s - loss: 0.2720 - accuracy: 0.8824WARNING:tensorflow:Can save best model only with val_acc available, skipping.\n",
      "1/1 [==============================] - 0s 30ms/step - loss: 0.2720 - accuracy: 0.8824 - val_loss: 0.2782 - val_accuracy: 1.0000\n",
      "Epoch 30/200\n",
      "1/1 [==============================] - ETA: 0s - loss: 0.2457 - accuracy: 0.8824WARNING:tensorflow:Can save best model only with val_acc available, skipping.\n",
      "1/1 [==============================] - 0s 31ms/step - loss: 0.2457 - accuracy: 0.8824 - val_loss: 0.2872 - val_accuracy: 1.0000\n",
      "Epoch 31/200\n",
      "1/1 [==============================] - ETA: 0s - loss: 0.2234 - accuracy: 0.9412WARNING:tensorflow:Can save best model only with val_acc available, skipping.\n",
      "1/1 [==============================] - 0s 31ms/step - loss: 0.2234 - accuracy: 0.9412 - val_loss: 0.2940 - val_accuracy: 1.0000\n",
      "Epoch 32/200\n",
      "1/1 [==============================] - ETA: 0s - loss: 0.2067 - accuracy: 0.9412WARNING:tensorflow:Can save best model only with val_acc available, skipping.\n",
      "1/1 [==============================] - 0s 29ms/step - loss: 0.2067 - accuracy: 0.9412 - val_loss: 0.2995 - val_accuracy: 1.0000\n",
      "Epoch 33/200\n",
      "1/1 [==============================] - ETA: 0s - loss: 0.1910 - accuracy: 0.9412WARNING:tensorflow:Can save best model only with val_acc available, skipping.\n",
      "1/1 [==============================] - 0s 33ms/step - loss: 0.1910 - accuracy: 0.9412 - val_loss: 0.3055 - val_accuracy: 1.0000\n",
      "Epoch 34/200\n",
      "1/1 [==============================] - ETA: 0s - loss: 0.1863 - accuracy: 0.9412WARNING:tensorflow:Can save best model only with val_acc available, skipping.\n",
      "1/1 [==============================] - 0s 29ms/step - loss: 0.1863 - accuracy: 0.9412 - val_loss: 0.3147 - val_accuracy: 1.0000\n",
      "Epoch 35/200\n",
      "1/1 [==============================] - ETA: 0s - loss: 0.1931 - accuracy: 0.9412WARNING:tensorflow:Can save best model only with val_acc available, skipping.\n",
      "1/1 [==============================] - 0s 31ms/step - loss: 0.1931 - accuracy: 0.9412 - val_loss: 0.3283 - val_accuracy: 1.0000\n",
      "Epoch 36/200\n",
      "1/1 [==============================] - ETA: 0s - loss: 0.2039 - accuracy: 0.8824WARNING:tensorflow:Can save best model only with val_acc available, skipping.\n",
      "1/1 [==============================] - 0s 29ms/step - loss: 0.2039 - accuracy: 0.8824 - val_loss: 0.3376 - val_accuracy: 1.0000\n",
      "Epoch 37/200\n",
      "1/1 [==============================] - ETA: 0s - loss: 0.2130 - accuracy: 0.8824WARNING:tensorflow:Can save best model only with val_acc available, skipping.\n",
      "1/1 [==============================] - 0s 33ms/step - loss: 0.2130 - accuracy: 0.8824 - val_loss: 0.3208 - val_accuracy: 1.0000\n",
      "Epoch 38/200\n",
      "1/1 [==============================] - ETA: 0s - loss: 0.2076 - accuracy: 0.8824WARNING:tensorflow:Can save best model only with val_acc available, skipping.\n",
      "1/1 [==============================] - 0s 29ms/step - loss: 0.2076 - accuracy: 0.8824 - val_loss: 0.2824 - val_accuracy: 1.0000\n",
      "Epoch 39/200\n",
      "1/1 [==============================] - ETA: 0s - loss: 0.1922 - accuracy: 0.8824WARNING:tensorflow:Can save best model only with val_acc available, skipping.\n",
      "1/1 [==============================] - 0s 34ms/step - loss: 0.1922 - accuracy: 0.8824 - val_loss: 0.2441 - val_accuracy: 1.0000\n",
      "Epoch 40/200\n",
      "1/1 [==============================] - ETA: 0s - loss: 0.1787 - accuracy: 0.9412WARNING:tensorflow:Can save best model only with val_acc available, skipping.\n",
      "1/1 [==============================] - 0s 33ms/step - loss: 0.1787 - accuracy: 0.9412 - val_loss: 0.2127 - val_accuracy: 1.0000\n",
      "Epoch 41/200\n",
      "1/1 [==============================] - ETA: 0s - loss: 0.1694 - accuracy: 0.9412WARNING:tensorflow:Can save best model only with val_acc available, skipping.\n",
      "1/1 [==============================] - 0s 32ms/step - loss: 0.1694 - accuracy: 0.9412 - val_loss: 0.1871 - val_accuracy: 1.0000\n",
      "Epoch 42/200\n",
      "1/1 [==============================] - ETA: 0s - loss: 0.1632 - accuracy: 0.9412WARNING:tensorflow:Can save best model only with val_acc available, skipping.\n",
      "1/1 [==============================] - 0s 30ms/step - loss: 0.1632 - accuracy: 0.9412 - val_loss: 0.1659 - val_accuracy: 1.0000\n",
      "Epoch 43/200\n",
      "1/1 [==============================] - ETA: 0s - loss: 0.1589 - accuracy: 0.9412WARNING:tensorflow:Can save best model only with val_acc available, skipping.\n",
      "1/1 [==============================] - 0s 31ms/step - loss: 0.1589 - accuracy: 0.9412 - val_loss: 0.1478 - val_accuracy: 1.0000\n",
      "Epoch 44/200\n",
      "1/1 [==============================] - ETA: 0s - loss: 0.1560 - accuracy: 0.9412WARNING:tensorflow:Can save best model only with val_acc available, skipping.\n",
      "1/1 [==============================] - 0s 31ms/step - loss: 0.1560 - accuracy: 0.9412 - val_loss: 0.1324 - val_accuracy: 1.0000\n",
      "Epoch 45/200\n",
      "1/1 [==============================] - ETA: 0s - loss: 0.1543 - accuracy: 0.9412WARNING:tensorflow:Can save best model only with val_acc available, skipping.\n",
      "1/1 [==============================] - 0s 30ms/step - loss: 0.1543 - accuracy: 0.9412 - val_loss: 0.1192 - val_accuracy: 1.0000\n",
      "Epoch 46/200\n",
      "1/1 [==============================] - ETA: 0s - loss: 0.1542 - accuracy: 0.9412WARNING:tensorflow:Can save best model only with val_acc available, skipping.\n",
      "1/1 [==============================] - 0s 28ms/step - loss: 0.1542 - accuracy: 0.9412 - val_loss: 0.1081 - val_accuracy: 1.0000\n",
      "Epoch 47/200\n",
      "1/1 [==============================] - ETA: 0s - loss: 0.1558 - accuracy: 0.9412WARNING:tensorflow:Can save best model only with val_acc available, skipping.\n",
      "1/1 [==============================] - 0s 40ms/step - loss: 0.1558 - accuracy: 0.9412 - val_loss: 0.0991 - val_accuracy: 1.0000\n",
      "Epoch 48/200\n",
      "1/1 [==============================] - ETA: 0s - loss: 0.1573 - accuracy: 0.9412WARNING:tensorflow:Can save best model only with val_acc available, skipping.\n",
      "1/1 [==============================] - 0s 32ms/step - loss: 0.1573 - accuracy: 0.9412 - val_loss: 0.0920 - val_accuracy: 1.0000\n",
      "Epoch 49/200\n",
      "1/1 [==============================] - ETA: 0s - loss: 0.1567 - accuracy: 0.9412WARNING:tensorflow:Can save best model only with val_acc available, skipping.\n",
      "1/1 [==============================] - 0s 29ms/step - loss: 0.1567 - accuracy: 0.9412 - val_loss: 0.0869 - val_accuracy: 1.0000\n",
      "Epoch 50/200\n",
      "1/1 [==============================] - ETA: 0s - loss: 0.1543 - accuracy: 0.9412WARNING:tensorflow:Can save best model only with val_acc available, skipping.\n",
      "1/1 [==============================] - 0s 30ms/step - loss: 0.1543 - accuracy: 0.9412 - val_loss: 0.0838 - val_accuracy: 1.0000\n",
      "Epoch 51/200\n",
      "1/1 [==============================] - ETA: 0s - loss: 0.1525 - accuracy: 0.9412WARNING:tensorflow:Can save best model only with val_acc available, skipping.\n",
      "1/1 [==============================] - 0s 31ms/step - loss: 0.1525 - accuracy: 0.9412 - val_loss: 0.0825 - val_accuracy: 1.0000\n",
      "Epoch 52/200\n",
      "1/1 [==============================] - ETA: 0s - loss: 0.1515 - accuracy: 0.9412WARNING:tensorflow:Can save best model only with val_acc available, skipping.\n",
      "1/1 [==============================] - 0s 35ms/step - loss: 0.1515 - accuracy: 0.9412 - val_loss: 0.0829 - val_accuracy: 1.0000\n",
      "Epoch 53/200\n",
      "1/1 [==============================] - ETA: 0s - loss: 0.1504 - accuracy: 0.9412WARNING:tensorflow:Can save best model only with val_acc available, skipping.\n",
      "1/1 [==============================] - 0s 30ms/step - loss: 0.1504 - accuracy: 0.9412 - val_loss: 0.0849 - val_accuracy: 1.0000\n",
      "Epoch 54/200\n",
      "1/1 [==============================] - ETA: 0s - loss: 0.1491 - accuracy: 0.9412WARNING:tensorflow:Can save best model only with val_acc available, skipping.\n",
      "1/1 [==============================] - 0s 29ms/step - loss: 0.1491 - accuracy: 0.9412 - val_loss: 0.0882 - val_accuracy: 1.0000\n",
      "Epoch 55/200\n",
      "1/1 [==============================] - ETA: 0s - loss: 0.1476 - accuracy: 0.9412WARNING:tensorflow:Can save best model only with val_acc available, skipping.\n",
      "1/1 [==============================] - 0s 31ms/step - loss: 0.1476 - accuracy: 0.9412 - val_loss: 0.0926 - val_accuracy: 1.0000\n",
      "Epoch 56/200\n",
      "1/1 [==============================] - ETA: 0s - loss: 0.1460 - accuracy: 0.9412WARNING:tensorflow:Can save best model only with val_acc available, skipping.\n",
      "1/1 [==============================] - 0s 33ms/step - loss: 0.1460 - accuracy: 0.9412 - val_loss: 0.0979 - val_accuracy: 1.0000\n",
      "Epoch 57/200\n",
      "1/1 [==============================] - ETA: 0s - loss: 0.1444 - accuracy: 0.9412WARNING:tensorflow:Can save best model only with val_acc available, skipping.\n",
      "1/1 [==============================] - 0s 36ms/step - loss: 0.1444 - accuracy: 0.9412 - val_loss: 0.1037 - val_accuracy: 1.0000\n",
      "Epoch 58/200\n",
      "1/1 [==============================] - ETA: 0s - loss: 0.1429 - accuracy: 0.9412WARNING:tensorflow:Can save best model only with val_acc available, skipping.\n",
      "1/1 [==============================] - 0s 30ms/step - loss: 0.1429 - accuracy: 0.9412 - val_loss: 0.1097 - val_accuracy: 1.0000\n",
      "Epoch 59/200\n",
      "1/1 [==============================] - ETA: 0s - loss: 0.1415 - accuracy: 0.9412WARNING:tensorflow:Can save best model only with val_acc available, skipping.\n",
      "1/1 [==============================] - 0s 29ms/step - loss: 0.1415 - accuracy: 0.9412 - val_loss: 0.1155 - val_accuracy: 1.0000\n",
      "Epoch 60/200\n",
      "1/1 [==============================] - ETA: 0s - loss: 0.1402 - accuracy: 0.9412WARNING:tensorflow:Can save best model only with val_acc available, skipping.\n",
      "1/1 [==============================] - 0s 28ms/step - loss: 0.1402 - accuracy: 0.9412 - val_loss: 0.1206 - val_accuracy: 1.0000\n",
      "Epoch 61/200\n",
      "1/1 [==============================] - ETA: 0s - loss: 0.1390 - accuracy: 0.9412WARNING:tensorflow:Can save best model only with val_acc available, skipping.\n",
      "1/1 [==============================] - 0s 27ms/step - loss: 0.1390 - accuracy: 0.9412 - val_loss: 0.1245 - val_accuracy: 1.0000\n",
      "Epoch 62/200\n",
      "1/1 [==============================] - ETA: 0s - loss: 0.1377 - accuracy: 0.9412WARNING:tensorflow:Can save best model only with val_acc available, skipping.\n",
      "1/1 [==============================] - 0s 30ms/step - loss: 0.1377 - accuracy: 0.9412 - val_loss: 0.1266 - val_accuracy: 1.0000\n",
      "Epoch 63/200\n",
      "1/1 [==============================] - ETA: 0s - loss: 0.1361 - accuracy: 0.9412WARNING:tensorflow:Can save best model only with val_acc available, skipping.\n",
      "1/1 [==============================] - 0s 29ms/step - loss: 0.1361 - accuracy: 0.9412 - val_loss: 0.1262 - val_accuracy: 1.0000\n",
      "Epoch 64/200\n",
      "1/1 [==============================] - ETA: 0s - loss: 0.1341 - accuracy: 0.9412WARNING:tensorflow:Can save best model only with val_acc available, skipping.\n",
      "1/1 [==============================] - 0s 30ms/step - loss: 0.1341 - accuracy: 0.9412 - val_loss: 0.1226 - val_accuracy: 1.0000\n",
      "Epoch 65/200\n",
      "1/1 [==============================] - ETA: 0s - loss: 0.1314 - accuracy: 0.9412WARNING:tensorflow:Can save best model only with val_acc available, skipping.\n",
      "1/1 [==============================] - 0s 28ms/step - loss: 0.1314 - accuracy: 0.9412 - val_loss: 0.1151 - val_accuracy: 1.0000\n",
      "Epoch 66/200\n",
      "1/1 [==============================] - ETA: 0s - loss: 0.1279 - accuracy: 0.9412WARNING:tensorflow:Can save best model only with val_acc available, skipping.\n",
      "1/1 [==============================] - 0s 33ms/step - loss: 0.1279 - accuracy: 0.9412 - val_loss: 0.1028 - val_accuracy: 1.0000\n",
      "Epoch 67/200\n",
      "1/1 [==============================] - ETA: 0s - loss: 0.1233 - accuracy: 0.9412WARNING:tensorflow:Can save best model only with val_acc available, skipping.\n",
      "1/1 [==============================] - 0s 30ms/step - loss: 0.1233 - accuracy: 0.9412 - val_loss: 0.0852 - val_accuracy: 1.0000\n",
      "Epoch 68/200\n",
      "1/1 [==============================] - ETA: 0s - loss: 0.1178 - accuracy: 0.9412WARNING:tensorflow:Can save best model only with val_acc available, skipping.\n",
      "1/1 [==============================] - 0s 31ms/step - loss: 0.1178 - accuracy: 0.9412 - val_loss: 0.0640 - val_accuracy: 1.0000\n",
      "Epoch 69/200\n",
      "1/1 [==============================] - ETA: 0s - loss: 0.1117 - accuracy: 0.9412WARNING:tensorflow:Can save best model only with val_acc available, skipping.\n",
      "1/1 [==============================] - 0s 30ms/step - loss: 0.1117 - accuracy: 0.9412 - val_loss: 0.0441 - val_accuracy: 1.0000\n",
      "Epoch 70/200\n",
      "1/1 [==============================] - ETA: 0s - loss: 0.1059 - accuracy: 0.9412WARNING:tensorflow:Can save best model only with val_acc available, skipping.\n",
      "1/1 [==============================] - 0s 29ms/step - loss: 0.1059 - accuracy: 0.9412 - val_loss: 0.0316 - val_accuracy: 1.0000\n",
      "Epoch 71/200\n",
      "1/1 [==============================] - ETA: 0s - loss: 0.0986 - accuracy: 0.9412WARNING:tensorflow:Can save best model only with val_acc available, skipping.\n",
      "1/1 [==============================] - 0s 28ms/step - loss: 0.0986 - accuracy: 0.9412 - val_loss: 0.0265 - val_accuracy: 1.0000\n",
      "Epoch 72/200\n",
      "1/1 [==============================] - ETA: 0s - loss: 0.0871 - accuracy: 0.9412WARNING:tensorflow:Can save best model only with val_acc available, skipping.\n",
      "1/1 [==============================] - 0s 27ms/step - loss: 0.0871 - accuracy: 0.9412 - val_loss: 0.0270 - val_accuracy: 1.0000\n",
      "Epoch 73/200\n",
      "1/1 [==============================] - ETA: 0s - loss: 0.0740 - accuracy: 0.9412WARNING:tensorflow:Can save best model only with val_acc available, skipping.\n",
      "1/1 [==============================] - 0s 28ms/step - loss: 0.0740 - accuracy: 0.9412 - val_loss: 0.0283 - val_accuracy: 1.0000\n",
      "Epoch 74/200\n",
      "1/1 [==============================] - ETA: 0s - loss: 0.0632 - accuracy: 0.9412WARNING:tensorflow:Can save best model only with val_acc available, skipping.\n",
      "1/1 [==============================] - 0s 32ms/step - loss: 0.0632 - accuracy: 0.9412 - val_loss: 0.0140 - val_accuracy: 1.0000\n",
      "Epoch 75/200\n",
      "1/1 [==============================] - ETA: 0s - loss: 0.0507 - accuracy: 1.0000WARNING:tensorflow:Can save best model only with val_acc available, skipping.\n",
      "1/1 [==============================] - 0s 30ms/step - loss: 0.0507 - accuracy: 1.0000 - val_loss: 0.0036 - val_accuracy: 1.0000\n",
      "Epoch 76/200\n",
      "1/1 [==============================] - ETA: 0s - loss: 0.0366 - accuracy: 1.0000WARNING:tensorflow:Can save best model only with val_acc available, skipping.\n",
      "1/1 [==============================] - 0s 32ms/step - loss: 0.0366 - accuracy: 1.0000 - val_loss: 0.0012 - val_accuracy: 1.0000\n",
      "Epoch 77/200\n",
      "1/1 [==============================] - ETA: 0s - loss: 0.0277 - accuracy: 1.0000WARNING:tensorflow:Can save best model only with val_acc available, skipping.\n",
      "1/1 [==============================] - 0s 36ms/step - loss: 0.0277 - accuracy: 1.0000 - val_loss: 5.3186e-04 - val_accuracy: 1.0000\n",
      "Epoch 78/200\n",
      "1/1 [==============================] - ETA: 0s - loss: 0.0202 - accuracy: 1.0000WARNING:tensorflow:Can save best model only with val_acc available, skipping.\n",
      "1/1 [==============================] - 0s 32ms/step - loss: 0.0202 - accuracy: 1.0000 - val_loss: 3.1152e-04 - val_accuracy: 1.0000\n",
      "Epoch 79/200\n",
      "1/1 [==============================] - ETA: 0s - loss: 0.0135 - accuracy: 1.0000WARNING:tensorflow:Can save best model only with val_acc available, skipping.\n",
      "1/1 [==============================] - 0s 30ms/step - loss: 0.0135 - accuracy: 1.0000 - val_loss: 2.1054e-04 - val_accuracy: 1.0000\n",
      "Epoch 80/200\n",
      "1/1 [==============================] - ETA: 0s - loss: 0.0091 - accuracy: 1.0000WARNING:tensorflow:Can save best model only with val_acc available, skipping.\n",
      "1/1 [==============================] - 0s 28ms/step - loss: 0.0091 - accuracy: 1.0000 - val_loss: 1.5589e-04 - val_accuracy: 1.0000\n",
      "Epoch 81/200\n",
      "1/1 [==============================] - ETA: 0s - loss: 0.0065 - accuracy: 1.0000WARNING:tensorflow:Can save best model only with val_acc available, skipping.\n",
      "1/1 [==============================] - 0s 33ms/step - loss: 0.0065 - accuracy: 1.0000 - val_loss: 1.2318e-04 - val_accuracy: 1.0000\n",
      "Epoch 82/200\n",
      "1/1 [==============================] - ETA: 0s - loss: 0.0050 - accuracy: 1.0000WARNING:tensorflow:Can save best model only with val_acc available, skipping.\n",
      "1/1 [==============================] - 0s 34ms/step - loss: 0.0050 - accuracy: 1.0000 - val_loss: 1.0225e-04 - val_accuracy: 1.0000\n",
      "Epoch 83/200\n",
      "1/1 [==============================] - ETA: 0s - loss: 0.0039 - accuracy: 1.0000WARNING:tensorflow:Can save best model only with val_acc available, skipping.\n",
      "1/1 [==============================] - 0s 29ms/step - loss: 0.0039 - accuracy: 1.0000 - val_loss: 8.8047e-05 - val_accuracy: 1.0000\n",
      "Epoch 84/200\n",
      "1/1 [==============================] - ETA: 0s - loss: 0.0029 - accuracy: 1.0000WARNING:tensorflow:Can save best model only with val_acc available, skipping.\n",
      "1/1 [==============================] - 0s 31ms/step - loss: 0.0029 - accuracy: 1.0000 - val_loss: 7.7365e-05 - val_accuracy: 1.0000\n",
      "Epoch 85/200\n",
      "1/1 [==============================] - ETA: 0s - loss: 0.0030 - accuracy: 1.0000WARNING:tensorflow:Can save best model only with val_acc available, skipping.\n",
      "1/1 [==============================] - 0s 35ms/step - loss: 0.0030 - accuracy: 1.0000 - val_loss: 5.2660e-05 - val_accuracy: 1.0000\n",
      "Epoch 86/200\n",
      "1/1 [==============================] - ETA: 0s - loss: 0.0018 - accuracy: 1.0000WARNING:tensorflow:Can save best model only with val_acc available, skipping.\n",
      "1/1 [==============================] - 0s 153ms/step - loss: 0.0018 - accuracy: 1.0000 - val_loss: 4.2731e-05 - val_accuracy: 1.0000\n",
      "Epoch 87/200\n",
      "1/1 [==============================] - ETA: 0s - loss: 0.0016 - accuracy: 1.0000WARNING:tensorflow:Can save best model only with val_acc available, skipping.\n",
      "1/1 [==============================] - 0s 30ms/step - loss: 0.0016 - accuracy: 1.0000 - val_loss: 3.8253e-05 - val_accuracy: 1.0000\n",
      "Epoch 88/200\n",
      "1/1 [==============================] - ETA: 0s - loss: 0.0024 - accuracy: 1.0000WARNING:tensorflow:Can save best model only with val_acc available, skipping.\n",
      "1/1 [==============================] - 0s 32ms/step - loss: 0.0024 - accuracy: 1.0000 - val_loss: 3.5551e-05 - val_accuracy: 1.0000\n",
      "Epoch 89/200\n",
      "1/1 [==============================] - ETA: 0s - loss: 0.5858 - accuracy: 0.9412WARNING:tensorflow:Can save best model only with val_acc available, skipping.\n",
      "1/1 [==============================] - 0s 35ms/step - loss: 0.5858 - accuracy: 0.9412 - val_loss: 4.8006e-05 - val_accuracy: 1.0000\n",
      "Epoch 90/200\n",
      "1/1 [==============================] - ETA: 0s - loss: 0.0012 - accuracy: 1.0000WARNING:tensorflow:Can save best model only with val_acc available, skipping.\n",
      "1/1 [==============================] - 0s 32ms/step - loss: 0.0012 - accuracy: 1.0000 - val_loss: 6.3903e-05 - val_accuracy: 1.0000\n",
      "Epoch 91/200\n",
      "1/1 [==============================] - ETA: 0s - loss: 8.3185e-04 - accuracy: 1.0000WARNING:tensorflow:Can save best model only with val_acc available, skipping.\n",
      "1/1 [==============================] - 0s 33ms/step - loss: 8.3185e-04 - accuracy: 1.0000 - val_loss: 8.6016e-05 - val_accuracy: 1.0000\n",
      "Epoch 92/200\n",
      "1/1 [==============================] - ETA: 0s - loss: 7.0119e-04 - accuracy: 1.0000WARNING:tensorflow:Can save best model only with val_acc available, skipping.\n",
      "1/1 [==============================] - 0s 29ms/step - loss: 7.0119e-04 - accuracy: 1.0000 - val_loss: 1.1403e-04 - val_accuracy: 1.0000\n",
      "Epoch 93/200\n",
      "1/1 [==============================] - ETA: 0s - loss: 6.2415e-04 - accuracy: 1.0000WARNING:tensorflow:Can save best model only with val_acc available, skipping.\n",
      "1/1 [==============================] - 0s 29ms/step - loss: 6.2415e-04 - accuracy: 1.0000 - val_loss: 1.4578e-04 - val_accuracy: 1.0000\n",
      "Epoch 94/200\n",
      "1/1 [==============================] - ETA: 0s - loss: 5.7224e-04 - accuracy: 1.0000WARNING:tensorflow:Can save best model only with val_acc available, skipping.\n",
      "1/1 [==============================] - 0s 32ms/step - loss: 5.7224e-04 - accuracy: 1.0000 - val_loss: 1.8215e-04 - val_accuracy: 1.0000\n",
      "Epoch 95/200\n",
      "1/1 [==============================] - ETA: 0s - loss: 5.3761e-04 - accuracy: 1.0000WARNING:tensorflow:Can save best model only with val_acc available, skipping.\n",
      "1/1 [==============================] - 0s 37ms/step - loss: 5.3761e-04 - accuracy: 1.0000 - val_loss: 2.2669e-04 - val_accuracy: 1.0000\n",
      "Epoch 96/200\n",
      "1/1 [==============================] - ETA: 0s - loss: 5.2039e-04 - accuracy: 1.0000WARNING:tensorflow:Can save best model only with val_acc available, skipping.\n",
      "1/1 [==============================] - 0s 29ms/step - loss: 5.2039e-04 - accuracy: 1.0000 - val_loss: 2.8994e-04 - val_accuracy: 1.0000\n",
      "Epoch 97/200\n",
      "1/1 [==============================] - ETA: 0s - loss: 5.3958e-04 - accuracy: 1.0000WARNING:tensorflow:Can save best model only with val_acc available, skipping.\n",
      "1/1 [==============================] - 0s 30ms/step - loss: 5.3958e-04 - accuracy: 1.0000 - val_loss: 4.2296e-04 - val_accuracy: 1.0000\n",
      "Epoch 98/200\n",
      "1/1 [==============================] - ETA: 0s - loss: 0.1999 - accuracy: 0.9412WARNING:tensorflow:Can save best model only with val_acc available, skipping.\n",
      "1/1 [==============================] - 0s 31ms/step - loss: 0.1999 - accuracy: 0.9412 - val_loss: 2.4978e-04 - val_accuracy: 1.0000\n",
      "Epoch 99/200\n",
      "1/1 [==============================] - ETA: 0s - loss: 4.8027e-04 - accuracy: 1.0000WARNING:tensorflow:Can save best model only with val_acc available, skipping.\n",
      "1/1 [==============================] - 0s 36ms/step - loss: 4.8027e-04 - accuracy: 1.0000 - val_loss: 2.2098e-04 - val_accuracy: 1.0000\n",
      "Epoch 100/200\n",
      "1/1 [==============================] - ETA: 0s - loss: 0.4810 - accuracy: 0.9412WARNING:tensorflow:Can save best model only with val_acc available, skipping.\n",
      "1/1 [==============================] - 0s 31ms/step - loss: 0.4810 - accuracy: 0.9412 - val_loss: 2.4672e-04 - val_accuracy: 1.0000\n",
      "Epoch 101/200\n",
      "1/1 [==============================] - ETA: 0s - loss: 0.4811 - accuracy: 0.9412WARNING:tensorflow:Can save best model only with val_acc available, skipping.\n",
      "1/1 [==============================] - 0s 32ms/step - loss: 0.4811 - accuracy: 0.9412 - val_loss: 3.2098e-04 - val_accuracy: 1.0000\n",
      "Epoch 102/200\n",
      "1/1 [==============================] - ETA: 0s - loss: 0.4696 - accuracy: 0.9412WARNING:tensorflow:Can save best model only with val_acc available, skipping.\n",
      "1/1 [==============================] - 0s 29ms/step - loss: 0.4696 - accuracy: 0.9412 - val_loss: 4.5074e-04 - val_accuracy: 1.0000\n",
      "Epoch 103/200\n",
      "1/1 [==============================] - ETA: 0s - loss: 0.4502 - accuracy: 0.9412WARNING:tensorflow:Can save best model only with val_acc available, skipping.\n",
      "1/1 [==============================] - 0s 35ms/step - loss: 0.4502 - accuracy: 0.9412 - val_loss: 6.6338e-04 - val_accuracy: 1.0000\n",
      "Epoch 104/200\n",
      "1/1 [==============================] - ETA: 0s - loss: 0.4277 - accuracy: 0.9412WARNING:tensorflow:Can save best model only with val_acc available, skipping.\n",
      "1/1 [==============================] - 0s 35ms/step - loss: 0.4277 - accuracy: 0.9412 - val_loss: 0.0010 - val_accuracy: 1.0000\n",
      "Epoch 105/200\n",
      "1/1 [==============================] - ETA: 0s - loss: 0.4036 - accuracy: 0.9412WARNING:tensorflow:Can save best model only with val_acc available, skipping.\n",
      "1/1 [==============================] - 0s 41ms/step - loss: 0.4036 - accuracy: 0.9412 - val_loss: 0.0015 - val_accuracy: 1.0000\n",
      "Epoch 106/200\n",
      "1/1 [==============================] - ETA: 0s - loss: 0.3787 - accuracy: 0.9412WARNING:tensorflow:Can save best model only with val_acc available, skipping.\n",
      "1/1 [==============================] - 0s 30ms/step - loss: 0.3787 - accuracy: 0.9412 - val_loss: 0.0024 - val_accuracy: 1.0000\n",
      "Epoch 107/200\n",
      "1/1 [==============================] - ETA: 0s - loss: 0.3535 - accuracy: 0.9412WARNING:tensorflow:Can save best model only with val_acc available, skipping.\n",
      "1/1 [==============================] - 0s 30ms/step - loss: 0.3535 - accuracy: 0.9412 - val_loss: 0.0037 - val_accuracy: 1.0000\n",
      "Epoch 108/200\n",
      "1/1 [==============================] - ETA: 0s - loss: 0.3285 - accuracy: 0.9412WARNING:tensorflow:Can save best model only with val_acc available, skipping.\n",
      "1/1 [==============================] - 0s 30ms/step - loss: 0.3285 - accuracy: 0.9412 - val_loss: 0.0057 - val_accuracy: 1.0000\n",
      "Epoch 109/200\n",
      "1/1 [==============================] - ETA: 0s - loss: 0.3038 - accuracy: 0.9412WARNING:tensorflow:Can save best model only with val_acc available, skipping.\n",
      "1/1 [==============================] - 0s 33ms/step - loss: 0.3038 - accuracy: 0.9412 - val_loss: 0.0087 - val_accuracy: 1.0000\n",
      "Epoch 110/200\n",
      "1/1 [==============================] - ETA: 0s - loss: 0.2797 - accuracy: 0.9412WARNING:tensorflow:Can save best model only with val_acc available, skipping.\n",
      "1/1 [==============================] - 0s 31ms/step - loss: 0.2797 - accuracy: 0.9412 - val_loss: 0.0133 - val_accuracy: 1.0000\n",
      "Epoch 111/200\n",
      "1/1 [==============================] - ETA: 0s - loss: 0.2565 - accuracy: 0.9412WARNING:tensorflow:Can save best model only with val_acc available, skipping.\n",
      "1/1 [==============================] - 0s 29ms/step - loss: 0.2565 - accuracy: 0.9412 - val_loss: 0.0203 - val_accuracy: 1.0000\n",
      "Epoch 112/200\n",
      "1/1 [==============================] - ETA: 0s - loss: 0.2347 - accuracy: 0.9412WARNING:tensorflow:Can save best model only with val_acc available, skipping.\n",
      "1/1 [==============================] - 0s 31ms/step - loss: 0.2347 - accuracy: 0.9412 - val_loss: 0.0304 - val_accuracy: 1.0000\n",
      "Epoch 113/200\n",
      "1/1 [==============================] - ETA: 0s - loss: 0.2147 - accuracy: 0.9412WARNING:tensorflow:Can save best model only with val_acc available, skipping.\n",
      "1/1 [==============================] - 0s 31ms/step - loss: 0.2147 - accuracy: 0.9412 - val_loss: 0.0448 - val_accuracy: 1.0000\n",
      "Epoch 114/200\n",
      "1/1 [==============================] - ETA: 0s - loss: 0.1975 - accuracy: 0.9412WARNING:tensorflow:Can save best model only with val_acc available, skipping.\n",
      "1/1 [==============================] - 0s 33ms/step - loss: 0.1975 - accuracy: 0.9412 - val_loss: 0.0647 - val_accuracy: 1.0000\n",
      "Epoch 115/200\n",
      "1/1 [==============================] - ETA: 0s - loss: 0.1835 - accuracy: 0.9412WARNING:tensorflow:Can save best model only with val_acc available, skipping.\n",
      "1/1 [==============================] - 0s 31ms/step - loss: 0.1835 - accuracy: 0.9412 - val_loss: 0.0914 - val_accuracy: 1.0000\n",
      "Epoch 116/200\n",
      "1/1 [==============================] - ETA: 0s - loss: 0.1735 - accuracy: 0.9412WARNING:tensorflow:Can save best model only with val_acc available, skipping.\n",
      "1/1 [==============================] - 0s 28ms/step - loss: 0.1735 - accuracy: 0.9412 - val_loss: 0.1254 - val_accuracy: 1.0000\n",
      "Epoch 117/200\n",
      "1/1 [==============================] - ETA: 0s - loss: 0.1680 - accuracy: 0.9412WARNING:tensorflow:Can save best model only with val_acc available, skipping.\n",
      "1/1 [==============================] - 0s 32ms/step - loss: 0.1680 - accuracy: 0.9412 - val_loss: 0.1663 - val_accuracy: 1.0000\n",
      "Epoch 118/200\n",
      "1/1 [==============================] - ETA: 0s - loss: 0.1672 - accuracy: 0.9412WARNING:tensorflow:Can save best model only with val_acc available, skipping.\n",
      "1/1 [==============================] - 0s 31ms/step - loss: 0.1672 - accuracy: 0.9412 - val_loss: 0.2112 - val_accuracy: 1.0000\n",
      "Epoch 119/200\n",
      "1/1 [==============================] - ETA: 0s - loss: 0.1704 - accuracy: 0.9412WARNING:tensorflow:Can save best model only with val_acc available, skipping.\n",
      "1/1 [==============================] - 0s 32ms/step - loss: 0.1704 - accuracy: 0.9412 - val_loss: 0.2546 - val_accuracy: 1.0000\n",
      "Epoch 120/200\n",
      "1/1 [==============================] - ETA: 0s - loss: 0.1760 - accuracy: 0.9412WARNING:tensorflow:Can save best model only with val_acc available, skipping.\n",
      "1/1 [==============================] - 0s 30ms/step - loss: 0.1760 - accuracy: 0.9412 - val_loss: 0.2895 - val_accuracy: 1.0000\n",
      "Epoch 121/200\n",
      "1/1 [==============================] - ETA: 0s - loss: 0.1818 - accuracy: 0.9412WARNING:tensorflow:Can save best model only with val_acc available, skipping.\n",
      "1/1 [==============================] - 0s 29ms/step - loss: 0.1818 - accuracy: 0.9412 - val_loss: 0.3110 - val_accuracy: 1.0000\n",
      "Epoch 122/200\n",
      "1/1 [==============================] - ETA: 0s - loss: 0.1858 - accuracy: 0.9412WARNING:tensorflow:Can save best model only with val_acc available, skipping.\n",
      "1/1 [==============================] - 0s 31ms/step - loss: 0.1858 - accuracy: 0.9412 - val_loss: 0.3177 - val_accuracy: 1.0000\n",
      "Epoch 123/200\n",
      "1/1 [==============================] - ETA: 0s - loss: 0.1871 - accuracy: 0.9412WARNING:tensorflow:Can save best model only with val_acc available, skipping.\n",
      "1/1 [==============================] - 0s 35ms/step - loss: 0.1871 - accuracy: 0.9412 - val_loss: 0.3117 - val_accuracy: 1.0000\n",
      "Epoch 124/200\n",
      "1/1 [==============================] - ETA: 0s - loss: 0.1858 - accuracy: 0.9412WARNING:tensorflow:Can save best model only with val_acc available, skipping.\n",
      "1/1 [==============================] - 0s 36ms/step - loss: 0.1858 - accuracy: 0.9412 - val_loss: 0.2962 - val_accuracy: 1.0000\n",
      "Epoch 125/200\n",
      "1/1 [==============================] - ETA: 0s - loss: 0.1829 - accuracy: 0.9412WARNING:tensorflow:Can save best model only with val_acc available, skipping.\n",
      "1/1 [==============================] - 0s 30ms/step - loss: 0.1829 - accuracy: 0.9412 - val_loss: 0.2750 - val_accuracy: 1.0000\n",
      "Epoch 126/200\n",
      "1/1 [==============================] - ETA: 0s - loss: 0.1791 - accuracy: 0.9412WARNING:tensorflow:Can save best model only with val_acc available, skipping.\n",
      "1/1 [==============================] - 0s 29ms/step - loss: 0.1791 - accuracy: 0.9412 - val_loss: 0.2513 - val_accuracy: 1.0000\n",
      "Epoch 127/200\n",
      "1/1 [==============================] - ETA: 0s - loss: 0.1752 - accuracy: 0.9412WARNING:tensorflow:Can save best model only with val_acc available, skipping.\n",
      "1/1 [==============================] - 0s 34ms/step - loss: 0.1752 - accuracy: 0.9412 - val_loss: 0.2275 - val_accuracy: 1.0000\n",
      "Epoch 128/200\n",
      "1/1 [==============================] - ETA: 0s - loss: 0.1719 - accuracy: 0.9412WARNING:tensorflow:Can save best model only with val_acc available, skipping.\n",
      "1/1 [==============================] - 0s 33ms/step - loss: 0.1719 - accuracy: 0.9412 - val_loss: 0.2050 - val_accuracy: 1.0000\n",
      "Epoch 129/200\n",
      "1/1 [==============================] - ETA: 0s - loss: 0.1694 - accuracy: 0.9412WARNING:tensorflow:Can save best model only with val_acc available, skipping.\n",
      "1/1 [==============================] - 0s 30ms/step - loss: 0.1694 - accuracy: 0.9412 - val_loss: 0.1849 - val_accuracy: 1.0000\n",
      "Epoch 130/200\n",
      "1/1 [==============================] - ETA: 0s - loss: 0.1677 - accuracy: 0.9412WARNING:tensorflow:Can save best model only with val_acc available, skipping.\n",
      "1/1 [==============================] - 0s 29ms/step - loss: 0.1677 - accuracy: 0.9412 - val_loss: 0.1674 - val_accuracy: 1.0000\n",
      "Epoch 131/200\n",
      "1/1 [==============================] - ETA: 0s - loss: 0.1668 - accuracy: 0.9412WARNING:tensorflow:Can save best model only with val_acc available, skipping.\n",
      "1/1 [==============================] - 0s 31ms/step - loss: 0.1668 - accuracy: 0.9412 - val_loss: 0.1527 - val_accuracy: 1.0000\n",
      "Epoch 132/200\n",
      "1/1 [==============================] - ETA: 0s - loss: 0.1665 - accuracy: 0.9412WARNING:tensorflow:Can save best model only with val_acc available, skipping.\n",
      "1/1 [==============================] - 0s 29ms/step - loss: 0.1665 - accuracy: 0.9412 - val_loss: 0.1407 - val_accuracy: 1.0000\n",
      "Epoch 133/200\n",
      "1/1 [==============================] - ETA: 0s - loss: 0.1667 - accuracy: 0.9412WARNING:tensorflow:Can save best model only with val_acc available, skipping.\n",
      "1/1 [==============================] - 0s 34ms/step - loss: 0.1667 - accuracy: 0.9412 - val_loss: 0.1310 - val_accuracy: 1.0000\n",
      "Epoch 134/200\n",
      "1/1 [==============================] - ETA: 0s - loss: 0.1672 - accuracy: 0.9412WARNING:tensorflow:Can save best model only with val_acc available, skipping.\n",
      "1/1 [==============================] - 0s 38ms/step - loss: 0.1672 - accuracy: 0.9412 - val_loss: 0.1235 - val_accuracy: 1.0000\n",
      "Epoch 135/200\n",
      "1/1 [==============================] - ETA: 0s - loss: 0.1677 - accuracy: 0.9412WARNING:tensorflow:Can save best model only with val_acc available, skipping.\n",
      "1/1 [==============================] - 0s 28ms/step - loss: 0.1677 - accuracy: 0.9412 - val_loss: 0.1179 - val_accuracy: 1.0000\n",
      "Epoch 136/200\n",
      "1/1 [==============================] - ETA: 0s - loss: 0.1683 - accuracy: 0.9412WARNING:tensorflow:Can save best model only with val_acc available, skipping.\n",
      "1/1 [==============================] - 0s 29ms/step - loss: 0.1683 - accuracy: 0.9412 - val_loss: 0.1140 - val_accuracy: 1.0000\n",
      "Epoch 137/200\n",
      "1/1 [==============================] - ETA: 0s - loss: 0.1687 - accuracy: 0.9412WARNING:tensorflow:Can save best model only with val_acc available, skipping.\n",
      "1/1 [==============================] - 0s 28ms/step - loss: 0.1687 - accuracy: 0.9412 - val_loss: 0.1116 - val_accuracy: 1.0000\n",
      "Epoch 138/200\n",
      "1/1 [==============================] - ETA: 0s - loss: 0.1690 - accuracy: 0.9412WARNING:tensorflow:Can save best model only with val_acc available, skipping.\n",
      "1/1 [==============================] - 0s 31ms/step - loss: 0.1690 - accuracy: 0.9412 - val_loss: 0.1104 - val_accuracy: 1.0000\n",
      "Epoch 139/200\n",
      "1/1 [==============================] - ETA: 0s - loss: 0.1692 - accuracy: 0.9412WARNING:tensorflow:Can save best model only with val_acc available, skipping.\n",
      "1/1 [==============================] - 0s 31ms/step - loss: 0.1692 - accuracy: 0.9412 - val_loss: 0.1105 - val_accuracy: 1.0000\n",
      "Epoch 140/200\n",
      "1/1 [==============================] - ETA: 0s - loss: 0.1691 - accuracy: 0.9412WARNING:tensorflow:Can save best model only with val_acc available, skipping.\n",
      "1/1 [==============================] - 0s 29ms/step - loss: 0.1691 - accuracy: 0.9412 - val_loss: 0.1115 - val_accuracy: 1.0000\n",
      "Epoch 141/200\n",
      "1/1 [==============================] - ETA: 0s - loss: 0.1690 - accuracy: 0.9412WARNING:tensorflow:Can save best model only with val_acc available, skipping.\n",
      "1/1 [==============================] - 0s 32ms/step - loss: 0.1690 - accuracy: 0.9412 - val_loss: 0.1135 - val_accuracy: 1.0000\n",
      "Epoch 142/200\n",
      "1/1 [==============================] - ETA: 0s - loss: 0.1687 - accuracy: 0.9412WARNING:tensorflow:Can save best model only with val_acc available, skipping.\n",
      "1/1 [==============================] - 0s 29ms/step - loss: 0.1687 - accuracy: 0.9412 - val_loss: 0.1163 - val_accuracy: 1.0000\n",
      "Epoch 143/200\n",
      "1/1 [==============================] - ETA: 0s - loss: 0.1683 - accuracy: 0.9412WARNING:tensorflow:Can save best model only with val_acc available, skipping.\n",
      "1/1 [==============================] - 0s 36ms/step - loss: 0.1683 - accuracy: 0.9412 - val_loss: 0.1198 - val_accuracy: 1.0000\n",
      "Epoch 144/200\n",
      "1/1 [==============================] - ETA: 0s - loss: 0.1678 - accuracy: 0.9412WARNING:tensorflow:Can save best model only with val_acc available, skipping.\n",
      "1/1 [==============================] - 0s 30ms/step - loss: 0.1678 - accuracy: 0.9412 - val_loss: 0.1239 - val_accuracy: 1.0000\n",
      "Epoch 145/200\n",
      "1/1 [==============================] - ETA: 0s - loss: 0.1674 - accuracy: 0.9412WARNING:tensorflow:Can save best model only with val_acc available, skipping.\n",
      "1/1 [==============================] - 0s 29ms/step - loss: 0.1674 - accuracy: 0.9412 - val_loss: 0.1285 - val_accuracy: 1.0000\n",
      "Epoch 146/200\n",
      "1/1 [==============================] - ETA: 0s - loss: 0.1670 - accuracy: 0.9412WARNING:tensorflow:Can save best model only with val_acc available, skipping.\n",
      "1/1 [==============================] - 0s 30ms/step - loss: 0.1670 - accuracy: 0.9412 - val_loss: 0.1335 - val_accuracy: 1.0000\n",
      "Epoch 147/200\n",
      "1/1 [==============================] - ETA: 0s - loss: 0.1666 - accuracy: 0.9412WARNING:tensorflow:Can save best model only with val_acc available, skipping.\n",
      "1/1 [==============================] - 0s 28ms/step - loss: 0.1666 - accuracy: 0.9412 - val_loss: 0.1387 - val_accuracy: 1.0000\n",
      "Epoch 148/200\n",
      "1/1 [==============================] - ETA: 0s - loss: 0.1663 - accuracy: 0.9412WARNING:tensorflow:Can save best model only with val_acc available, skipping.\n",
      "1/1 [==============================] - 0s 33ms/step - loss: 0.1663 - accuracy: 0.9412 - val_loss: 0.1440 - val_accuracy: 1.0000\n",
      "Epoch 149/200\n",
      "1/1 [==============================] - ETA: 0s - loss: 0.1661 - accuracy: 0.9412WARNING:tensorflow:Can save best model only with val_acc available, skipping.\n",
      "1/1 [==============================] - 0s 29ms/step - loss: 0.1661 - accuracy: 0.9412 - val_loss: 0.1492 - val_accuracy: 1.0000\n",
      "Epoch 150/200\n",
      "1/1 [==============================] - ETA: 0s - loss: 0.1660 - accuracy: 0.9412WARNING:tensorflow:Can save best model only with val_acc available, skipping.\n",
      "1/1 [==============================] - 0s 34ms/step - loss: 0.1660 - accuracy: 0.9412 - val_loss: 0.1541 - val_accuracy: 1.0000\n",
      "Epoch 151/200\n",
      "1/1 [==============================] - ETA: 0s - loss: 0.1659 - accuracy: 0.9412WARNING:tensorflow:Can save best model only with val_acc available, skipping.\n",
      "1/1 [==============================] - 0s 35ms/step - loss: 0.1659 - accuracy: 0.9412 - val_loss: 0.1587 - val_accuracy: 1.0000\n",
      "Epoch 152/200\n",
      "1/1 [==============================] - ETA: 0s - loss: 0.1659 - accuracy: 0.9412WARNING:tensorflow:Can save best model only with val_acc available, skipping.\n",
      "1/1 [==============================] - 0s 29ms/step - loss: 0.1659 - accuracy: 0.9412 - val_loss: 0.1628 - val_accuracy: 1.0000\n",
      "Epoch 153/200\n",
      "1/1 [==============================] - ETA: 0s - loss: 0.1660 - accuracy: 0.9412WARNING:tensorflow:Can save best model only with val_acc available, skipping.\n",
      "1/1 [==============================] - 0s 36ms/step - loss: 0.1660 - accuracy: 0.9412 - val_loss: 0.1662 - val_accuracy: 1.0000\n",
      "Epoch 154/200\n",
      "1/1 [==============================] - ETA: 0s - loss: 0.1660 - accuracy: 0.9412WARNING:tensorflow:Can save best model only with val_acc available, skipping.\n",
      "1/1 [==============================] - 0s 30ms/step - loss: 0.1660 - accuracy: 0.9412 - val_loss: 0.1688 - val_accuracy: 1.0000\n",
      "Epoch 155/200\n",
      "1/1 [==============================] - ETA: 0s - loss: 0.1661 - accuracy: 0.9412WARNING:tensorflow:Can save best model only with val_acc available, skipping.\n",
      "1/1 [==============================] - 0s 30ms/step - loss: 0.1661 - accuracy: 0.9412 - val_loss: 0.1707 - val_accuracy: 1.0000\n",
      "Epoch 156/200\n",
      "1/1 [==============================] - ETA: 0s - loss: 0.1661 - accuracy: 0.9412WARNING:tensorflow:Can save best model only with val_acc available, skipping.\n",
      "1/1 [==============================] - 0s 32ms/step - loss: 0.1661 - accuracy: 0.9412 - val_loss: 0.1718 - val_accuracy: 1.0000\n",
      "Epoch 157/200\n",
      "1/1 [==============================] - ETA: 0s - loss: 0.1661 - accuracy: 0.9412WARNING:tensorflow:Can save best model only with val_acc available, skipping.\n",
      "1/1 [==============================] - 0s 33ms/step - loss: 0.1661 - accuracy: 0.9412 - val_loss: 0.1720 - val_accuracy: 1.0000\n",
      "Epoch 158/200\n",
      "1/1 [==============================] - ETA: 0s - loss: 0.1660 - accuracy: 0.9412WARNING:tensorflow:Can save best model only with val_acc available, skipping.\n",
      "1/1 [==============================] - 0s 32ms/step - loss: 0.1660 - accuracy: 0.9412 - val_loss: 0.1716 - val_accuracy: 1.0000\n",
      "Epoch 159/200\n",
      "1/1 [==============================] - ETA: 0s - loss: 0.1660 - accuracy: 0.9412WARNING:tensorflow:Can save best model only with val_acc available, skipping.\n",
      "1/1 [==============================] - 0s 28ms/step - loss: 0.1660 - accuracy: 0.9412 - val_loss: 0.1705 - val_accuracy: 1.0000\n",
      "Epoch 160/200\n",
      "1/1 [==============================] - ETA: 0s - loss: 0.1659 - accuracy: 0.9412WARNING:tensorflow:Can save best model only with val_acc available, skipping.\n",
      "1/1 [==============================] - 0s 31ms/step - loss: 0.1659 - accuracy: 0.9412 - val_loss: 0.1689 - val_accuracy: 1.0000\n",
      "Epoch 161/200\n",
      "1/1 [==============================] - ETA: 0s - loss: 0.1657 - accuracy: 0.9412WARNING:tensorflow:Can save best model only with val_acc available, skipping.\n",
      "1/1 [==============================] - 0s 31ms/step - loss: 0.1657 - accuracy: 0.9412 - val_loss: 0.1668 - val_accuracy: 1.0000\n",
      "Epoch 162/200\n",
      "1/1 [==============================] - ETA: 0s - loss: 0.1656 - accuracy: 0.9412WARNING:tensorflow:Can save best model only with val_acc available, skipping.\n",
      "1/1 [==============================] - 0s 36ms/step - loss: 0.1656 - accuracy: 0.9412 - val_loss: 0.1645 - val_accuracy: 1.0000\n",
      "Epoch 163/200\n",
      "1/1 [==============================] - ETA: 0s - loss: 0.1655 - accuracy: 0.9412WARNING:tensorflow:Can save best model only with val_acc available, skipping.\n",
      "1/1 [==============================] - 0s 29ms/step - loss: 0.1655 - accuracy: 0.9412 - val_loss: 0.1620 - val_accuracy: 1.0000\n",
      "Epoch 164/200\n",
      "1/1 [==============================] - ETA: 0s - loss: 0.1654 - accuracy: 0.9412WARNING:tensorflow:Can save best model only with val_acc available, skipping.\n",
      "1/1 [==============================] - 0s 29ms/step - loss: 0.1654 - accuracy: 0.9412 - val_loss: 0.1594 - val_accuracy: 1.0000\n",
      "Epoch 165/200\n",
      "1/1 [==============================] - ETA: 0s - loss: 0.1652 - accuracy: 0.9412WARNING:tensorflow:Can save best model only with val_acc available, skipping.\n",
      "1/1 [==============================] - 0s 28ms/step - loss: 0.1652 - accuracy: 0.9412 - val_loss: 0.1569 - val_accuracy: 1.0000\n",
      "Epoch 166/200\n",
      "1/1 [==============================] - ETA: 0s - loss: 0.1651 - accuracy: 0.9412WARNING:tensorflow:Can save best model only with val_acc available, skipping.\n",
      "1/1 [==============================] - 0s 29ms/step - loss: 0.1651 - accuracy: 0.9412 - val_loss: 0.1545 - val_accuracy: 1.0000\n",
      "Epoch 167/200\n",
      "1/1 [==============================] - ETA: 0s - loss: 0.1651 - accuracy: 0.9412WARNING:tensorflow:Can save best model only with val_acc available, skipping.\n",
      "1/1 [==============================] - 0s 29ms/step - loss: 0.1651 - accuracy: 0.9412 - val_loss: 0.1522 - val_accuracy: 1.0000\n",
      "Epoch 168/200\n",
      "1/1 [==============================] - ETA: 0s - loss: 0.1650 - accuracy: 0.9412WARNING:tensorflow:Can save best model only with val_acc available, skipping.\n",
      "1/1 [==============================] - 0s 29ms/step - loss: 0.1650 - accuracy: 0.9412 - val_loss: 0.1503 - val_accuracy: 1.0000\n",
      "Epoch 169/200\n",
      "1/1 [==============================] - ETA: 0s - loss: 0.1649 - accuracy: 0.9412WARNING:tensorflow:Can save best model only with val_acc available, skipping.\n",
      "1/1 [==============================] - 0s 31ms/step - loss: 0.1649 - accuracy: 0.9412 - val_loss: 0.1486 - val_accuracy: 1.0000\n",
      "Epoch 170/200\n",
      "1/1 [==============================] - ETA: 0s - loss: 0.1649 - accuracy: 0.9412WARNING:tensorflow:Can save best model only with val_acc available, skipping.\n",
      "1/1 [==============================] - 0s 30ms/step - loss: 0.1649 - accuracy: 0.9412 - val_loss: 0.1472 - val_accuracy: 1.0000\n",
      "Epoch 171/200\n",
      "1/1 [==============================] - ETA: 0s - loss: 0.1648 - accuracy: 0.9412WARNING:tensorflow:Can save best model only with val_acc available, skipping.\n",
      "1/1 [==============================] - 0s 30ms/step - loss: 0.1648 - accuracy: 0.9412 - val_loss: 0.1462 - val_accuracy: 1.0000\n",
      "Epoch 172/200\n",
      "1/1 [==============================] - ETA: 0s - loss: 0.1648 - accuracy: 0.9412WARNING:tensorflow:Can save best model only with val_acc available, skipping.\n",
      "1/1 [==============================] - 0s 37ms/step - loss: 0.1648 - accuracy: 0.9412 - val_loss: 0.1455 - val_accuracy: 1.0000\n",
      "Epoch 173/200\n",
      "1/1 [==============================] - ETA: 0s - loss: 0.1647 - accuracy: 0.9412WARNING:tensorflow:Can save best model only with val_acc available, skipping.\n",
      "1/1 [==============================] - 0s 31ms/step - loss: 0.1647 - accuracy: 0.9412 - val_loss: 0.1451 - val_accuracy: 1.0000\n",
      "Epoch 174/200\n",
      "1/1 [==============================] - ETA: 0s - loss: 0.1646 - accuracy: 0.9412WARNING:tensorflow:Can save best model only with val_acc available, skipping.\n",
      "1/1 [==============================] - 0s 31ms/step - loss: 0.1646 - accuracy: 0.9412 - val_loss: 0.1450 - val_accuracy: 1.0000\n",
      "Epoch 175/200\n",
      "1/1 [==============================] - ETA: 0s - loss: 0.1645 - accuracy: 0.9412WARNING:tensorflow:Can save best model only with val_acc available, skipping.\n",
      "1/1 [==============================] - 0s 32ms/step - loss: 0.1645 - accuracy: 0.9412 - val_loss: 0.1452 - val_accuracy: 1.0000\n",
      "Epoch 176/200\n",
      "1/1 [==============================] - ETA: 0s - loss: 0.1644 - accuracy: 0.9412WARNING:tensorflow:Can save best model only with val_acc available, skipping.\n",
      "1/1 [==============================] - 0s 40ms/step - loss: 0.1644 - accuracy: 0.9412 - val_loss: 0.1457 - val_accuracy: 1.0000\n",
      "Epoch 177/200\n",
      "1/1 [==============================] - ETA: 0s - loss: 0.1643 - accuracy: 0.9412WARNING:tensorflow:Can save best model only with val_acc available, skipping.\n",
      "1/1 [==============================] - 0s 35ms/step - loss: 0.1643 - accuracy: 0.9412 - val_loss: 0.1463 - val_accuracy: 1.0000\n",
      "Epoch 178/200\n",
      "1/1 [==============================] - ETA: 0s - loss: 0.1642 - accuracy: 0.9412WARNING:tensorflow:Can save best model only with val_acc available, skipping.\n",
      "1/1 [==============================] - 0s 31ms/step - loss: 0.1642 - accuracy: 0.9412 - val_loss: 0.1472 - val_accuracy: 1.0000\n",
      "Epoch 179/200\n",
      "1/1 [==============================] - ETA: 0s - loss: 0.1641 - accuracy: 0.9412WARNING:tensorflow:Can save best model only with val_acc available, skipping.\n",
      "1/1 [==============================] - 0s 33ms/step - loss: 0.1641 - accuracy: 0.9412 - val_loss: 0.1481 - val_accuracy: 1.0000\n",
      "Epoch 180/200\n",
      "1/1 [==============================] - ETA: 0s - loss: 0.1640 - accuracy: 0.9412WARNING:tensorflow:Can save best model only with val_acc available, skipping.\n",
      "1/1 [==============================] - 0s 30ms/step - loss: 0.1640 - accuracy: 0.9412 - val_loss: 0.1491 - val_accuracy: 1.0000\n",
      "Epoch 181/200\n",
      "1/1 [==============================] - ETA: 0s - loss: 0.1639 - accuracy: 0.9412WARNING:tensorflow:Can save best model only with val_acc available, skipping.\n",
      "1/1 [==============================] - 0s 31ms/step - loss: 0.1639 - accuracy: 0.9412 - val_loss: 0.1502 - val_accuracy: 1.0000\n",
      "Epoch 182/200\n",
      "1/1 [==============================] - ETA: 0s - loss: 0.1637 - accuracy: 0.9412WARNING:tensorflow:Can save best model only with val_acc available, skipping.\n",
      "1/1 [==============================] - 0s 35ms/step - loss: 0.1637 - accuracy: 0.9412 - val_loss: 0.1511 - val_accuracy: 1.0000\n",
      "Epoch 183/200\n",
      "1/1 [==============================] - ETA: 0s - loss: 0.1636 - accuracy: 0.9412WARNING:tensorflow:Can save best model only with val_acc available, skipping.\n",
      "1/1 [==============================] - 0s 29ms/step - loss: 0.1636 - accuracy: 0.9412 - val_loss: 0.1520 - val_accuracy: 1.0000\n",
      "Epoch 184/200\n",
      "1/1 [==============================] - ETA: 0s - loss: 0.1635 - accuracy: 0.9412WARNING:tensorflow:Can save best model only with val_acc available, skipping.\n",
      "1/1 [==============================] - 0s 31ms/step - loss: 0.1635 - accuracy: 0.9412 - val_loss: 0.1527 - val_accuracy: 1.0000\n",
      "Epoch 185/200\n",
      "1/1 [==============================] - ETA: 0s - loss: 0.1633 - accuracy: 0.9412WARNING:tensorflow:Can save best model only with val_acc available, skipping.\n",
      "1/1 [==============================] - 0s 29ms/step - loss: 0.1633 - accuracy: 0.9412 - val_loss: 0.1532 - val_accuracy: 1.0000\n",
      "Epoch 186/200\n",
      "1/1 [==============================] - ETA: 0s - loss: 0.1632 - accuracy: 0.9412WARNING:tensorflow:Can save best model only with val_acc available, skipping.\n",
      "1/1 [==============================] - 0s 30ms/step - loss: 0.1632 - accuracy: 0.9412 - val_loss: 0.1534 - val_accuracy: 1.0000\n",
      "Epoch 187/200\n",
      "1/1 [==============================] - ETA: 0s - loss: 0.1630 - accuracy: 0.9412WARNING:tensorflow:Can save best model only with val_acc available, skipping.\n",
      "1/1 [==============================] - 0s 29ms/step - loss: 0.1630 - accuracy: 0.9412 - val_loss: 0.1534 - val_accuracy: 1.0000\n",
      "Epoch 188/200\n",
      "1/1 [==============================] - ETA: 0s - loss: 0.1628 - accuracy: 0.9412WARNING:tensorflow:Can save best model only with val_acc available, skipping.\n",
      "1/1 [==============================] - 0s 31ms/step - loss: 0.1628 - accuracy: 0.9412 - val_loss: 0.1530 - val_accuracy: 1.0000\n",
      "Epoch 189/200\n",
      "1/1 [==============================] - ETA: 0s - loss: 0.1626 - accuracy: 0.9412WARNING:tensorflow:Can save best model only with val_acc available, skipping.\n",
      "1/1 [==============================] - 0s 31ms/step - loss: 0.1626 - accuracy: 0.9412 - val_loss: 0.1524 - val_accuracy: 1.0000\n",
      "Epoch 190/200\n",
      "1/1 [==============================] - ETA: 0s - loss: 0.1623 - accuracy: 0.9412WARNING:tensorflow:Can save best model only with val_acc available, skipping.\n",
      "1/1 [==============================] - 0s 34ms/step - loss: 0.1623 - accuracy: 0.9412 - val_loss: 0.1516 - val_accuracy: 1.0000\n",
      "Epoch 191/200\n",
      "1/1 [==============================] - ETA: 0s - loss: 0.1621 - accuracy: 0.9412WARNING:tensorflow:Can save best model only with val_acc available, skipping.\n",
      "1/1 [==============================] - 0s 40ms/step - loss: 0.1621 - accuracy: 0.9412 - val_loss: 0.1508 - val_accuracy: 1.0000\n",
      "Epoch 192/200\n",
      "1/1 [==============================] - ETA: 0s - loss: 0.1618 - accuracy: 0.9412WARNING:tensorflow:Can save best model only with val_acc available, skipping.\n",
      "1/1 [==============================] - 0s 31ms/step - loss: 0.1618 - accuracy: 0.9412 - val_loss: 0.1499 - val_accuracy: 1.0000\n",
      "Epoch 193/200\n",
      "1/1 [==============================] - ETA: 0s - loss: 0.1615 - accuracy: 0.9412WARNING:tensorflow:Can save best model only with val_acc available, skipping.\n",
      "1/1 [==============================] - 0s 32ms/step - loss: 0.1615 - accuracy: 0.9412 - val_loss: 0.1492 - val_accuracy: 1.0000\n",
      "Epoch 194/200\n",
      "1/1 [==============================] - ETA: 0s - loss: 0.1611 - accuracy: 0.9412WARNING:tensorflow:Can save best model only with val_acc available, skipping.\n",
      "1/1 [==============================] - 0s 31ms/step - loss: 0.1611 - accuracy: 0.9412 - val_loss: 0.1487 - val_accuracy: 1.0000\n",
      "Epoch 195/200\n",
      "1/1 [==============================] - ETA: 0s - loss: 0.1606 - accuracy: 0.9412WARNING:tensorflow:Can save best model only with val_acc available, skipping.\n",
      "1/1 [==============================] - 0s 29ms/step - loss: 0.1606 - accuracy: 0.9412 - val_loss: 0.1484 - val_accuracy: 1.0000\n",
      "Epoch 196/200\n",
      "1/1 [==============================] - ETA: 0s - loss: 0.1602 - accuracy: 0.9412WARNING:tensorflow:Can save best model only with val_acc available, skipping.\n",
      "1/1 [==============================] - 0s 33ms/step - loss: 0.1602 - accuracy: 0.9412 - val_loss: 0.1481 - val_accuracy: 1.0000\n",
      "Epoch 197/200\n",
      "1/1 [==============================] - ETA: 0s - loss: 0.1596 - accuracy: 0.9412WARNING:tensorflow:Can save best model only with val_acc available, skipping.\n",
      "1/1 [==============================] - 0s 33ms/step - loss: 0.1596 - accuracy: 0.9412 - val_loss: 0.1476 - val_accuracy: 1.0000\n",
      "Epoch 198/200\n",
      "1/1 [==============================] - ETA: 0s - loss: 0.1591 - accuracy: 0.9412WARNING:tensorflow:Can save best model only with val_acc available, skipping.\n",
      "1/1 [==============================] - 0s 29ms/step - loss: 0.1591 - accuracy: 0.9412 - val_loss: 0.1468 - val_accuracy: 1.0000\n",
      "Epoch 199/200\n",
      "1/1 [==============================] - ETA: 0s - loss: 0.1584 - accuracy: 0.9412WARNING:tensorflow:Can save best model only with val_acc available, skipping.\n",
      "1/1 [==============================] - 0s 29ms/step - loss: 0.1584 - accuracy: 0.9412 - val_loss: 0.1458 - val_accuracy: 1.0000\n",
      "Epoch 200/200\n",
      "1/1 [==============================] - ETA: 0s - loss: 0.1576 - accuracy: 0.9412WARNING:tensorflow:Can save best model only with val_acc available, skipping.\n",
      "1/1 [==============================] - 0s 33ms/step - loss: 0.1576 - accuracy: 0.9412 - val_loss: 0.1454 - val_accuracy: 1.0000\n"
     ]
    },
    {
     "data": {
      "text/plain": [
       "<tensorflow.python.keras.callbacks.History at 0x7fbcf05e76a0>"
      ]
     },
     "execution_count": 19,
     "metadata": {
      "tags": []
     },
     "output_type": "execute_result"
    }
   ],
   "source": [
    "#now you need to actually define the training process for the LSTM by adding optimiser (use ADAM or any other you want) and also play with different values for learning rate\n",
    "# create a check point so that you can get an outcome for each epoch\n",
    "\n",
    "adam = Adam(lr=0.001)\n",
    "chk = ModelCheckpoint('best_model.pkl', monitor='val_acc', save_best_only=True, mode='max', verbose=1)\n",
    "model.compile(loss='binary_crossentropy', optimizer=adam, metrics=['accuracy'])\n",
    "model.fit(train, train_target, epochs=200, batch_size=128, callbacks=[chk], validation_data=(test,test_target))"
   ]
  },
  {
   "cell_type": "code",
   "execution_count": 21,
   "metadata": {
    "colab": {
     "base_uri": "https://localhost:8080/",
     "height": 151
    },
    "colab_type": "code",
    "id": "DxcRRRh_07f0",
    "outputId": "bec66081-d974-465d-faf3-e5eaacf32883"
   },
   "outputs": [
    {
     "name": "stdout",
     "output_type": "stream",
     "text": [
      "sample_data\t\t Wireless_Telecom_17.csv  Wireless_Telecom_3.csv\n",
      "Wireless_Telecom_10.csv  Wireless_Telecom_18.csv  Wireless_Telecom_4.csv\n",
      "Wireless_Telecom_11.csv  Wireless_Telecom_19.csv  Wireless_Telecom_5.csv\n",
      "Wireless_Telecom_12.csv  Wireless_Telecom_1.csv   Wireless_Telecom_6.csv\n",
      "Wireless_Telecom_13.csv  Wireless_Telecom_20.csv  Wireless_Telecom_7.csv\n",
      "Wireless_Telecom_14.csv  Wireless_Telecom_21.csv  Wireless_Telecom_8.csv\n",
      "Wireless_Telecom_15.csv  Wireless_Telecom_22.csv  Wireless_Telecom_9.csv\n",
      "Wireless_Telecom_16.csv  Wireless_Telecom_2.csv   Wireless_Telecom_target.csv\n"
     ]
    }
   ],
   "source": [
    "!ls\n"
   ]
  },
  {
   "cell_type": "code",
   "execution_count": 22,
   "metadata": {
    "colab": {
     "base_uri": "https://localhost:8080/",
     "height": 34
    },
    "colab_type": "code",
    "id": "EH17TfWh18yI",
    "outputId": "0e792880-e79a-4954-a45d-59837de73d7e"
   },
   "outputs": [
    {
     "data": {
      "text/plain": [
       "<tensorflow.python.keras.callbacks.ModelCheckpoint at 0x7fbcf06285c0>"
      ]
     },
     "execution_count": 22,
     "metadata": {
      "tags": []
     },
     "output_type": "execute_result"
    }
   ],
   "source": [
    "chk"
   ]
  },
  {
   "cell_type": "code",
   "execution_count": 24,
   "metadata": {
    "colab": {
     "base_uri": "https://localhost:8080/",
     "height": 104
    },
    "colab_type": "code",
    "id": "DmxGObnBm0kc",
    "outputId": "763ccf7c-7b76-4d8d-bb10-5bc9a69ff8b1"
   },
   "outputs": [
    {
     "name": "stdout",
     "output_type": "stream",
     "text": [
      "WARNING:tensorflow:From <ipython-input-24-d887397951aa>:5: Sequential.predict_classes (from tensorflow.python.keras.engine.sequential) is deprecated and will be removed after 2021-01-01.\n",
      "Instructions for updating:\n",
      "Please use instead:* `np.argmax(model.predict(x), axis=-1)`,   if your model does multi-class classification   (e.g. if it uses a `softmax` last-layer activation).* `(model.predict(x) > 0.5).astype(\"int32\")`,   if your model does binary classification   (e.g. if it uses a `sigmoid` last-layer activation).\n"
     ]
    },
    {
     "data": {
      "text/plain": [
       "1.0"
      ]
     },
     "execution_count": 24,
     "metadata": {
      "tags": []
     },
     "output_type": "execute_result"
    }
   ],
   "source": [
    "#load the model created in order to estimate the accuracy on the training set\n",
    "#use the model.predict_classes to get the dataset you need to make the predictions and then compare the test_predicted values against the test_target one to get the final accuracy score\n",
    "\n",
    "#loading the model and checking accuracy on the test data\n",
    "# model = load_model('best_model.pkl')\n",
    "\n",
    "model = chk.model\n",
    "\n",
    "from sklearn.metrics import accuracy_score\n",
    "test_preds = model.predict_classes(test)\n",
    "accuracy_score(test_target, test_preds)\n",
    "\n",
    "##end of exercise###"
   ]
  },
  {
   "cell_type": "code",
   "execution_count": 0,
   "metadata": {
    "colab": {},
    "colab_type": "code",
    "id": "BKFjjzwM1uDO"
   },
   "outputs": [],
   "source": []
  }
 ],
 "metadata": {
  "accelerator": "GPU",
  "colab": {
   "name": "Untitled4.ipynb",
   "provenance": []
  },
  "kernelspec": {
   "display_name": "Python 3",
   "language": "python",
   "name": "python3"
  },
  "language_info": {
   "codemirror_mode": {
    "name": "ipython",
    "version": 3
   },
   "file_extension": ".py",
   "mimetype": "text/x-python",
   "name": "python",
   "nbconvert_exporter": "python",
   "pygments_lexer": "ipython3",
   "version": "3.8.0"
  }
 },
 "nbformat": 4,
 "nbformat_minor": 1
}
